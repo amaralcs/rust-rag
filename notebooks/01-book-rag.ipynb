{
 "cells": [
  {
   "cell_type": "code",
   "execution_count": 10,
   "metadata": {},
   "outputs": [
    {
     "data": {
      "text/plain": [
       "<Experiment: artifact_location='file:///home/carlos/Documents/repos/rust-programming/rust-rag/notebooks/mlruns/923516027696088727', creation_time=1731166672733, experiment_id='923516027696088727', last_update_time=1731166672733, lifecycle_stage='active', name='rust-book-rag', tags={}>"
      ]
     },
     "execution_count": 10,
     "metadata": {},
     "output_type": "execute_result"
    }
   ],
   "source": [
    "import mlflow.experiments\n",
    "import nest_asyncio\n",
    "nest_asyncio.apply()\n",
    "import chromadb\n",
    "import pandas as pd\n",
    "\n",
    "import llama_index.core\n",
    "from llama_index.core import Settings, SimpleDirectoryReader, VectorStoreIndex, StorageContext\n",
    "from llama_index.core.node_parser import  SentenceSplitter\n",
    "from llama_index.embeddings.huggingface import HuggingFaceEmbedding\n",
    "from llama_index.vector_stores.chroma import ChromaVectorStore\n",
    "from llama_index.llms.ollama import Ollama\n",
    "from llama_index.core.schema import TextNode\n",
    "from llama_index.core.retrievers import QueryFusionRetriever\n",
    "from llama_index.retrievers.bm25 import BM25Retriever\n",
    "\n",
    "from llama_index.core.evaluation import (\n",
    "    generate_question_context_pairs,\n",
    "    EmbeddingQAFinetuneDataset,\n",
    "    RetrieverEvaluator\n",
    ")\n",
    "\n",
    "import mlflow\n",
    "\n",
    "mlflow.llama_index.autolog()\n",
    "\n",
    "mlflow.set_experiment(\"rust-book-rag\")"
   ]
  },
  {
   "cell_type": "code",
   "execution_count": 7,
   "metadata": {},
   "outputs": [],
   "source": [
    "# import phoenix as px\n",
    "\n",
    "# # Look for a URL in the output to open the App in a browser.\n",
    "# px.launch_app()\n",
    "\n",
    "# llama_index.core.set_global_handler(\"arize_phoenix\")"
   ]
  },
  {
   "cell_type": "markdown",
   "metadata": {},
   "source": [
    "# Setup"
   ]
  },
  {
   "cell_type": "code",
   "execution_count": 2,
   "metadata": {},
   "outputs": [
    {
     "name": "stderr",
     "output_type": "stream",
     "text": [
      "/home/carlos/.cache/pypoetry/virtualenvs/rust-rag-l9LsLaFj-py3.11/lib/python3.11/site-packages/transformers/tokenization_utils_base.py:1601: FutureWarning: `clean_up_tokenization_spaces` was not set. It will be set to `True` by default. This behavior will be depracted in transformers v4.45, and will be then set to `False` by default. For more details check this issue: https://github.com/huggingface/transformers/issues/31884\n",
      "  warnings.warn(\n"
     ]
    }
   ],
   "source": [
    "mpnet_embed_model = HuggingFaceEmbedding(model_name=\"sentence-transformers/all-mpnet-base-v2\", trust_remote_code=True)\n",
    "\n",
    "llm = Ollama(model=\"llama3.2:latest\", request_timeout=60, temperature=0)\n",
    "# qwen2 = Ollama(model=\"qwen2.5:latest\", request_timeout=60)\n",
    "\n",
    "Settings.embed_model = mpnet_embed_model\n",
    "Settings.llm = llm"
   ]
  },
  {
   "cell_type": "code",
   "execution_count": 3,
   "metadata": {},
   "outputs": [],
   "source": [
    "QA_GENERATE_PROMPT_TMPL = \"\"\"\\\n",
    "Context information is below.\n",
    "\n",
    "---------------------\n",
    "{context_str}\n",
    "---------------------\n",
    "\n",
    "Given the context information and not prior knowledge.\n",
    "generate only questions based on the below query.\n",
    "\n",
    "You are a Teacher/ Professor. Your task is to setup \\\n",
    "{num_questions_per_chunk} questions for an upcoming \\\n",
    "quiz/examination. The questions should be diverse in nature \\\n",
    "across the document. Restrict the questions to the \\\n",
    "context information provided. Your response should include \\\n",
    "the questions separated by a newline and nothing else.\n",
    "\"\"\""
   ]
  },
  {
   "cell_type": "code",
   "execution_count": 4,
   "metadata": {},
   "outputs": [],
   "source": [
    "def get_nodes_from_index(index):\n",
    "    \"\"\"Gets the nodes from the index\"\"\"\n",
    "    retriever = index.as_retriever(similarity_top_k=99999999999)\n",
    "    all_nodes = retriever.retrieve(\"dummy\")\n",
    "    all_nodes = [item.node for item in all_nodes]\n",
    "    return all_nodes\n",
    "\n",
    "\n",
    "def build_index(documents, embed_model=Settings.embed_model, db_path=\"../chromadb\", collection_name=\"rust_book\", rebuild=False, distance_fn=\"l2\"):\n",
    "    \"\"\"Builds the index\"\"\"\n",
    "\n",
    "    db = chromadb.PersistentClient(db_path)\n",
    "\n",
    "    if rebuild:\n",
    "        db.delete_collection(name=collection_name)\n",
    "\n",
    "    collection = db.get_or_create_collection(collection_name, metadata={\"hnsw:space\": distance_fn})\n",
    "    vector_store = ChromaVectorStore(chroma_collection=collection)\n",
    "    storage_context = StorageContext.from_defaults(vector_store=vector_store)\n",
    "\n",
    "    if collection.count() > 0 and not rebuild:\n",
    "        index = VectorStoreIndex.from_vector_store(vector_store, storage_context=storage_context, embed_model=embed_model)\n",
    "    else:\n",
    "        index = VectorStoreIndex.from_documents(documents, storage_context=storage_context, embed_model=embed_model)\n",
    "\n",
    "    return db, collection, vector_store, index\n",
    "\n",
    "\n",
    "def display_results(name, eval_results, metrics, return_agg=True):\n",
    "    \"\"\"Display results from evaluate.\"\"\"\n",
    "\n",
    "    metric_dicts = []\n",
    "    for eval_result in eval_results:\n",
    "        metric_dict = eval_result.metric_vals_dict\n",
    "        metric_dicts.append(metric_dict)\n",
    "\n",
    "    full_df = pd.DataFrame(metric_dicts)\n",
    "\n",
    "    columns = {\n",
    "        \"retrievers\": [name],\n",
    "        **{k: [full_df[k].mean()] for k in metrics},\n",
    "    }\n",
    "\n",
    "    metric_df = pd.DataFrame(columns)\n",
    "\n",
    "    if return_agg:\n",
    "        return metric_df\n",
    "    else:\n",
    "        return full_df, metric_df\n",
    "\n",
    "async def evaluate_retriever(retriever, qa_dataset, metrics = [\"hit_rate\", \"mrr\", \"precision\", \"recall\", \"ap\", \"ndcg\"]):\n",
    "    retriever_evaluator = RetrieverEvaluator.from_metric_names(\n",
    "        metrics, retriever=retriever\n",
    "    )\n",
    "    eval_results = await retriever_evaluator.aevaluate_dataset(qa_dataset)\n",
    "    return  display_results(\"baseline top-2 eval\", eval_results, metrics=metrics)\n",
    "\n",
    "\n",
    "async def log_retriever_eval(retriever, retriever_name, **kwargs):\n",
    "    with mlflow.start_run():\n",
    "        results = await evaluate_retriever(retriever, **kwargs)\n",
    "        mlflow.log_param(\"retriever\", retriever_name)\n",
    "        mlflow.log_metrics(*results.drop(columns=[\"retrievers\"]).to_dict(orient=\"records\"))\n",
    "    return results\n",
    "\n",
    "async def evaluate_embed_model(\n",
    "    dataset,\n",
    "    embed_model,\n",
    "    retriever_name=None,\n",
    "    top_k=2,\n",
    "):\n",
    "    \"\"\"Evaluates the embedding model on a given dataset.\"\"\"\n",
    "    corpus = dataset.corpus\n",
    "    queries = dataset.queries\n",
    "    relevant_docs = dataset.relevant_docs\n",
    "\n",
    "    nodes = [TextNode(id_=id_, text=text) for id_, text in corpus.items()]\n",
    "    index = VectorStoreIndex(\n",
    "        nodes, embed_model=embed_model, show_progress=False\n",
    "    )\n",
    "    retriever = index.as_retriever(similarity_top_k=top_k)\n",
    "\n",
    "    retriever_name = retriever_name or embed_model.model_name\n",
    "    results = await log_retriever_eval(retriever,  qa_dataset=dataset, retriever_name=retriever_name)\n",
    "    return results"
   ]
  },
  {
   "cell_type": "markdown",
   "metadata": {},
   "source": [
    "# Baseline Retriever"
   ]
  },
  {
   "cell_type": "markdown",
   "metadata": {},
   "source": [
    "Note: If we want to compare different storage / embedding methods, we need to rebuild the index and qa-dataset"
   ]
  },
  {
   "cell_type": "code",
   "execution_count": 5,
   "metadata": {},
   "outputs": [
    {
     "name": "stderr",
     "output_type": "stream",
     "text": [
      "Number of requested results 99999999999 is greater than number of elements in index 384, updating n_results = 384\n"
     ]
    }
   ],
   "source": [
    "documents = SimpleDirectoryReader('../txt').load_data()\n",
    "\n",
    "db, collection, vector_store, index = build_index(documents)\n",
    "nodes = get_nodes_from_index(index)\n",
    "\n",
    "retriever = index.as_retriever(similarity_top_k=2)\n",
    "query_engine = index.as_query_engine()"
   ]
  },
  {
   "cell_type": "markdown",
   "metadata": {},
   "source": [
    "### Generate qa dataset"
   ]
  },
  {
   "cell_type": "code",
   "execution_count": 6,
   "metadata": {},
   "outputs": [
    {
     "name": "stderr",
     "output_type": "stream",
     "text": [
      "100%|██████████| 384/384 [05:36<00:00,  1.14it/s]\n"
     ]
    }
   ],
   "source": [
    "qa_dataset = generate_question_context_pairs(nodes=nodes, num_questions_per_chunk=2, qa_generate_prompt_tmpl=QA_GENERATE_PROMPT_TMPL)\n",
    "qa_dataset.save_json(\"../data/qa_dataset.json\"),\n",
    "\n",
    "qa_dataset = EmbeddingQAFinetuneDataset.from_json(\"../data/qa_dataset.json\")\n",
    "\n",
    "qa_corpus = qa_dataset.corpus\n",
    "qa_nodes = [TextNode(id_=id_, text=text) for id_, text in qa_corpus.items()]"
   ]
  },
  {
   "cell_type": "code",
   "execution_count": 11,
   "metadata": {},
   "outputs": [
    {
     "data": {
      "text/html": [
       "<div>\n",
       "<style scoped>\n",
       "    .dataframe tbody tr th:only-of-type {\n",
       "        vertical-align: middle;\n",
       "    }\n",
       "\n",
       "    .dataframe tbody tr th {\n",
       "        vertical-align: top;\n",
       "    }\n",
       "\n",
       "    .dataframe thead th {\n",
       "        text-align: right;\n",
       "    }\n",
       "</style>\n",
       "<table border=\"1\" class=\"dataframe\">\n",
       "  <thead>\n",
       "    <tr style=\"text-align: right;\">\n",
       "      <th></th>\n",
       "      <th>retrievers</th>\n",
       "      <th>hit_rate</th>\n",
       "      <th>mrr</th>\n",
       "      <th>precision</th>\n",
       "      <th>recall</th>\n",
       "      <th>ap</th>\n",
       "      <th>ndcg</th>\n",
       "    </tr>\n",
       "  </thead>\n",
       "  <tbody>\n",
       "    <tr>\n",
       "      <th>0</th>\n",
       "      <td>baseline top-2 eval</td>\n",
       "      <td>0.567708</td>\n",
       "      <td>0.499349</td>\n",
       "      <td>0.283854</td>\n",
       "      <td>0.567708</td>\n",
       "      <td>0.499349</td>\n",
       "      <td>0.31715</td>\n",
       "    </tr>\n",
       "  </tbody>\n",
       "</table>\n",
       "</div>"
      ],
      "text/plain": [
       "            retrievers  hit_rate       mrr  precision    recall        ap  \\\n",
       "0  baseline top-2 eval  0.567708  0.499349   0.283854  0.567708  0.499349   \n",
       "\n",
       "      ndcg  \n",
       "0  0.31715  "
      ]
     },
     "execution_count": 11,
     "metadata": {},
     "output_type": "execute_result"
    }
   ],
   "source": [
    "await evaluate_embed_model(qa_dataset, embed_model=mpnet_embed_model, retriever_name=\"mpnet top-2 eval\", top_k=2)"
   ]
  },
  {
   "cell_type": "markdown",
   "metadata": {},
   "source": [
    "# Query Fusion Retriever"
   ]
  },
  {
   "cell_type": "code",
   "execution_count": null,
   "metadata": {},
   "outputs": [],
   "source": [
    "bm25_retriever = BM25Retriever.from_defaults(nodes=nodes, similarity_top_k=2)\n",
    "query_fusion_retriever = QueryFusionRetriever(\n",
    "    [index.as_retriever(), bm25_retriever],\n",
    "    similarity_top_k=2,\n",
    "    num_queries=1,\n",
    "    mode=\"reciprocal_rerank\",\n",
    "    verbose=False,\n",
    ")"
   ]
  },
  {
   "cell_type": "code",
   "execution_count": null,
   "metadata": {},
   "outputs": [
    {
     "data": {
      "text/html": [
       "<div>\n",
       "<style scoped>\n",
       "    .dataframe tbody tr th:only-of-type {\n",
       "        vertical-align: middle;\n",
       "    }\n",
       "\n",
       "    .dataframe tbody tr th {\n",
       "        vertical-align: top;\n",
       "    }\n",
       "\n",
       "    .dataframe thead th {\n",
       "        text-align: right;\n",
       "    }\n",
       "</style>\n",
       "<table border=\"1\" class=\"dataframe\">\n",
       "  <thead>\n",
       "    <tr style=\"text-align: right;\">\n",
       "      <th></th>\n",
       "      <th>retrievers</th>\n",
       "      <th>hit_rate</th>\n",
       "      <th>mrr</th>\n",
       "      <th>precision</th>\n",
       "      <th>recall</th>\n",
       "      <th>ap</th>\n",
       "      <th>ndcg</th>\n",
       "    </tr>\n",
       "  </thead>\n",
       "  <tbody>\n",
       "    <tr>\n",
       "      <th>0</th>\n",
       "      <td>baseline top-2 eval</td>\n",
       "      <td>0.716667</td>\n",
       "      <td>0.603333</td>\n",
       "      <td>0.358333</td>\n",
       "      <td>0.716667</td>\n",
       "      <td>0.603333</td>\n",
       "      <td>0.388129</td>\n",
       "    </tr>\n",
       "  </tbody>\n",
       "</table>\n",
       "</div>"
      ],
      "text/plain": [
       "            retrievers  hit_rate       mrr  precision    recall        ap  \\\n",
       "0  baseline top-2 eval  0.716667  0.603333   0.358333  0.716667  0.603333   \n",
       "\n",
       "       ndcg  \n",
       "0  0.388129  "
      ]
     },
     "execution_count": 14,
     "metadata": {},
     "output_type": "execute_result"
    }
   ],
   "source": [
    "await log_retriever_eval(query_fusion_retriever, retriever_name=\"baseline query fusion\", qa_dataset=qa_dataset)"
   ]
  },
  {
   "cell_type": "markdown",
   "metadata": {},
   "source": [
    "Results are better! Note that the precision will be at most 0.5 because we're always retrieving 2 documents while the qa-dataset has only 1 expected results per question."
   ]
  },
  {
   "cell_type": "markdown",
   "metadata": {},
   "source": [
    "# Testing a different embedding model"
   ]
  },
  {
   "cell_type": "markdown",
   "metadata": {},
   "source": [
    "### All-MiniLM-L12-v2"
   ]
  },
  {
   "cell_type": "code",
   "execution_count": 12,
   "metadata": {},
   "outputs": [
    {
     "name": "stderr",
     "output_type": "stream",
     "text": [
      "/home/carlos/.cache/pypoetry/virtualenvs/rust-rag-l9LsLaFj-py3.11/lib/python3.11/site-packages/transformers/tokenization_utils_base.py:1601: FutureWarning: `clean_up_tokenization_spaces` was not set. It will be set to `True` by default. This behavior will be depracted in transformers v4.45, and will be then set to `False` by default. For more details check this issue: https://github.com/huggingface/transformers/issues/31884\n",
      "  warnings.warn(\n"
     ]
    }
   ],
   "source": [
    "mini_lm_embed = HuggingFaceEmbedding(model_name=\"sentence-transformers/all-MiniLM-L12-v2\")"
   ]
  },
  {
   "cell_type": "markdown",
   "metadata": {},
   "source": [
    "Evaluation on the same dataset"
   ]
  },
  {
   "cell_type": "code",
   "execution_count": null,
   "metadata": {},
   "outputs": [],
   "source": [
    "mini_lm_results = await evaluate_embed_model(qa_dataset, embed_model=mini_lm_embed, retriever_name=\"miniLM top-2 eval\", top_k=2)\n",
    "mini_lm_results"
   ]
  },
  {
   "cell_type": "markdown",
   "metadata": {},
   "source": [
    "Changing the embedding model makes a big difference! Let's try a couple more:"
   ]
  },
  {
   "cell_type": "markdown",
   "metadata": {},
   "source": [
    "### Stella EN 400m"
   ]
  },
  {
   "cell_type": "code",
   "execution_count": null,
   "metadata": {},
   "outputs": [
    {
     "name": "stdout",
     "output_type": "stream",
     "text": [
      "INFO:sentence_transformers.SentenceTransformer:Load pretrained SentenceTransformer: dunzhang/stella_en_400M_v5\n",
      "Load pretrained SentenceTransformer: dunzhang/stella_en_400M_v5\n"
     ]
    },
    {
     "name": "stderr",
     "output_type": "stream",
     "text": [
      "Some weights of the model checkpoint at dunzhang/stella_en_400M_v5 were not used when initializing NewModel: ['new.pooler.dense.bias', 'new.pooler.dense.weight']\n",
      "- This IS expected if you are initializing NewModel from the checkpoint of a model trained on another task or with another architecture (e.g. initializing a BertForSequenceClassification model from a BertForPreTraining model).\n",
      "- This IS NOT expected if you are initializing NewModel from the checkpoint of a model that you expect to be exactly identical (initializing a BertForSequenceClassification model from a BertForSequenceClassification model).\n"
     ]
    },
    {
     "name": "stdout",
     "output_type": "stream",
     "text": [
      "INFO:sentence_transformers.SentenceTransformer:2 prompts are loaded, with the keys: ['query', 'text']\n",
      "2 prompts are loaded, with the keys: ['query', 'text']\n"
     ]
    },
    {
     "data": {
      "application/vnd.jupyter.widget-view+json": {
       "model_id": "645ba71cf2ae42c3bd8586c269b0f0bd",
       "version_major": 2,
       "version_minor": 0
      },
      "text/plain": [
       "Batches:   0%|          | 0/1 [00:00<?, ?it/s]"
      ]
     },
     "metadata": {},
     "output_type": "display_data"
    },
    {
     "data": {
      "application/vnd.jupyter.widget-view+json": {
       "model_id": "52a421d257434e4a907524df94fb36fe",
       "version_major": 2,
       "version_minor": 0
      },
      "text/plain": [
       "Batches:   0%|          | 0/1 [00:00<?, ?it/s]"
      ]
     },
     "metadata": {},
     "output_type": "display_data"
    },
    {
     "data": {
      "application/vnd.jupyter.widget-view+json": {
       "model_id": "2ba00a437b8a4bc19337afa3c7e35139",
       "version_major": 2,
       "version_minor": 0
      },
      "text/plain": [
       "Batches:   0%|          | 0/1 [00:00<?, ?it/s]"
      ]
     },
     "metadata": {},
     "output_type": "display_data"
    },
    {
     "data": {
      "application/vnd.jupyter.widget-view+json": {
       "model_id": "d36a3779c6b04929bce9e7b0a767a754",
       "version_major": 2,
       "version_minor": 0
      },
      "text/plain": [
       "Batches:   0%|          | 0/1 [00:00<?, ?it/s]"
      ]
     },
     "metadata": {},
     "output_type": "display_data"
    },
    {
     "data": {
      "application/vnd.jupyter.widget-view+json": {
       "model_id": "fb81dd283d734f168e878264065774d6",
       "version_major": 2,
       "version_minor": 0
      },
      "text/plain": [
       "Batches:   0%|          | 0/1 [00:00<?, ?it/s]"
      ]
     },
     "metadata": {},
     "output_type": "display_data"
    },
    {
     "data": {
      "application/vnd.jupyter.widget-view+json": {
       "model_id": "0cc8b4cb2ead4d3086bbbaeea3640969",
       "version_major": 2,
       "version_minor": 0
      },
      "text/plain": [
       "Batches:   0%|          | 0/1 [00:00<?, ?it/s]"
      ]
     },
     "metadata": {},
     "output_type": "display_data"
    },
    {
     "data": {
      "application/vnd.jupyter.widget-view+json": {
       "model_id": "2359561b93ba4fe4a80778300ab9f6d7",
       "version_major": 2,
       "version_minor": 0
      },
      "text/plain": [
       "Batches:   0%|          | 0/1 [00:00<?, ?it/s]"
      ]
     },
     "metadata": {},
     "output_type": "display_data"
    },
    {
     "data": {
      "application/vnd.jupyter.widget-view+json": {
       "model_id": "3df650df27684fa6be7e9361ba34bc7a",
       "version_major": 2,
       "version_minor": 0
      },
      "text/plain": [
       "Batches:   0%|          | 0/1 [00:00<?, ?it/s]"
      ]
     },
     "metadata": {},
     "output_type": "display_data"
    },
    {
     "data": {
      "application/vnd.jupyter.widget-view+json": {
       "model_id": "95de511b9ff14e48a6a9ba0a3c7db9b0",
       "version_major": 2,
       "version_minor": 0
      },
      "text/plain": [
       "Batches:   0%|          | 0/1 [00:00<?, ?it/s]"
      ]
     },
     "metadata": {},
     "output_type": "display_data"
    },
    {
     "data": {
      "application/vnd.jupyter.widget-view+json": {
       "model_id": "be5ba3efdfaf4dc581e4eaf61a506121",
       "version_major": 2,
       "version_minor": 0
      },
      "text/plain": [
       "Batches:   0%|          | 0/1 [00:00<?, ?it/s]"
      ]
     },
     "metadata": {},
     "output_type": "display_data"
    },
    {
     "data": {
      "application/vnd.jupyter.widget-view+json": {
       "model_id": "92954771b7f24a08b08d432f67622e33",
       "version_major": 2,
       "version_minor": 0
      },
      "text/plain": [
       "Batches:   0%|          | 0/1 [00:00<?, ?it/s]"
      ]
     },
     "metadata": {},
     "output_type": "display_data"
    },
    {
     "data": {
      "application/vnd.jupyter.widget-view+json": {
       "model_id": "1e31c916ba8f4a10859429488e73d7b7",
       "version_major": 2,
       "version_minor": 0
      },
      "text/plain": [
       "Batches:   0%|          | 0/1 [00:00<?, ?it/s]"
      ]
     },
     "metadata": {},
     "output_type": "display_data"
    },
    {
     "data": {
      "application/vnd.jupyter.widget-view+json": {
       "model_id": "a00a1de5337c4dfd82e4acd4e4f11948",
       "version_major": 2,
       "version_minor": 0
      },
      "text/plain": [
       "Batches:   0%|          | 0/1 [00:00<?, ?it/s]"
      ]
     },
     "metadata": {},
     "output_type": "display_data"
    },
    {
     "data": {
      "application/vnd.jupyter.widget-view+json": {
       "model_id": "1f2b4164a9e94b56ab51e6f4402e1164",
       "version_major": 2,
       "version_minor": 0
      },
      "text/plain": [
       "Batches:   0%|          | 0/1 [00:00<?, ?it/s]"
      ]
     },
     "metadata": {},
     "output_type": "display_data"
    },
    {
     "data": {
      "application/vnd.jupyter.widget-view+json": {
       "model_id": "6734a950556e4a32a17021eb268a2ea5",
       "version_major": 2,
       "version_minor": 0
      },
      "text/plain": [
       "Batches:   0%|          | 0/1 [00:00<?, ?it/s]"
      ]
     },
     "metadata": {},
     "output_type": "display_data"
    },
    {
     "data": {
      "application/vnd.jupyter.widget-view+json": {
       "model_id": "141a19b502064839a4618bf6e9a68969",
       "version_major": 2,
       "version_minor": 0
      },
      "text/plain": [
       "Batches:   0%|          | 0/1 [00:00<?, ?it/s]"
      ]
     },
     "metadata": {},
     "output_type": "display_data"
    },
    {
     "data": {
      "application/vnd.jupyter.widget-view+json": {
       "model_id": "3efb1d8cc8da408d935e60fff637100d",
       "version_major": 2,
       "version_minor": 0
      },
      "text/plain": [
       "Batches:   0%|          | 0/1 [00:00<?, ?it/s]"
      ]
     },
     "metadata": {},
     "output_type": "display_data"
    },
    {
     "data": {
      "application/vnd.jupyter.widget-view+json": {
       "model_id": "7fdb21278e40460683c3d729553cc336",
       "version_major": 2,
       "version_minor": 0
      },
      "text/plain": [
       "Batches:   0%|          | 0/1 [00:00<?, ?it/s]"
      ]
     },
     "metadata": {},
     "output_type": "display_data"
    },
    {
     "data": {
      "application/vnd.jupyter.widget-view+json": {
       "model_id": "9a4ae8917ccb4a84a30e35d235cb4ea0",
       "version_major": 2,
       "version_minor": 0
      },
      "text/plain": [
       "Batches:   0%|          | 0/1 [00:00<?, ?it/s]"
      ]
     },
     "metadata": {},
     "output_type": "display_data"
    },
    {
     "data": {
      "application/vnd.jupyter.widget-view+json": {
       "model_id": "15498279197245b08df9645332531669",
       "version_major": 2,
       "version_minor": 0
      },
      "text/plain": [
       "Batches:   0%|          | 0/1 [00:00<?, ?it/s]"
      ]
     },
     "metadata": {},
     "output_type": "display_data"
    },
    {
     "data": {
      "application/vnd.jupyter.widget-view+json": {
       "model_id": "fbddc4e411b94d1097443f09d22590a8",
       "version_major": 2,
       "version_minor": 0
      },
      "text/plain": [
       "Batches:   0%|          | 0/1 [00:00<?, ?it/s]"
      ]
     },
     "metadata": {},
     "output_type": "display_data"
    },
    {
     "data": {
      "application/vnd.jupyter.widget-view+json": {
       "model_id": "f4cbad7c58c6457b845e5a24de6a6282",
       "version_major": 2,
       "version_minor": 0
      },
      "text/plain": [
       "Batches:   0%|          | 0/1 [00:00<?, ?it/s]"
      ]
     },
     "metadata": {},
     "output_type": "display_data"
    },
    {
     "data": {
      "application/vnd.jupyter.widget-view+json": {
       "model_id": "5ddcf74148c54d588b3132c6f59721e0",
       "version_major": 2,
       "version_minor": 0
      },
      "text/plain": [
       "Batches:   0%|          | 0/1 [00:00<?, ?it/s]"
      ]
     },
     "metadata": {},
     "output_type": "display_data"
    },
    {
     "data": {
      "application/vnd.jupyter.widget-view+json": {
       "model_id": "050089b04708456ba65a3dde13f9eea6",
       "version_major": 2,
       "version_minor": 0
      },
      "text/plain": [
       "Batches:   0%|          | 0/1 [00:00<?, ?it/s]"
      ]
     },
     "metadata": {},
     "output_type": "display_data"
    },
    {
     "data": {
      "application/vnd.jupyter.widget-view+json": {
       "model_id": "21fbd874367643d8a63eafb5f72171ea",
       "version_major": 2,
       "version_minor": 0
      },
      "text/plain": [
       "Batches:   0%|          | 0/1 [00:00<?, ?it/s]"
      ]
     },
     "metadata": {},
     "output_type": "display_data"
    },
    {
     "data": {
      "application/vnd.jupyter.widget-view+json": {
       "model_id": "b55640314bd140df88712b9a9a396c56",
       "version_major": 2,
       "version_minor": 0
      },
      "text/plain": [
       "Batches:   0%|          | 0/1 [00:00<?, ?it/s]"
      ]
     },
     "metadata": {},
     "output_type": "display_data"
    },
    {
     "data": {
      "application/vnd.jupyter.widget-view+json": {
       "model_id": "3927181d8034460095765142c3d87805",
       "version_major": 2,
       "version_minor": 0
      },
      "text/plain": [
       "Batches:   0%|          | 0/1 [00:00<?, ?it/s]"
      ]
     },
     "metadata": {},
     "output_type": "display_data"
    },
    {
     "data": {
      "application/vnd.jupyter.widget-view+json": {
       "model_id": "74dfc6a25de048028bf2cce29282e961",
       "version_major": 2,
       "version_minor": 0
      },
      "text/plain": [
       "Batches:   0%|          | 0/1 [00:00<?, ?it/s]"
      ]
     },
     "metadata": {},
     "output_type": "display_data"
    },
    {
     "data": {
      "application/vnd.jupyter.widget-view+json": {
       "model_id": "1136f8da07824de8bff48939cf8b5bc9",
       "version_major": 2,
       "version_minor": 0
      },
      "text/plain": [
       "Batches:   0%|          | 0/1 [00:00<?, ?it/s]"
      ]
     },
     "metadata": {},
     "output_type": "display_data"
    },
    {
     "data": {
      "application/vnd.jupyter.widget-view+json": {
       "model_id": "6734415fe4e24120ad1e5ffa9c73beb2",
       "version_major": 2,
       "version_minor": 0
      },
      "text/plain": [
       "Batches:   0%|          | 0/1 [00:00<?, ?it/s]"
      ]
     },
     "metadata": {},
     "output_type": "display_data"
    },
    {
     "data": {
      "application/vnd.jupyter.widget-view+json": {
       "model_id": "a3c4115005d54d2aa216fa3086675cd8",
       "version_major": 2,
       "version_minor": 0
      },
      "text/plain": [
       "Batches:   0%|          | 0/1 [00:00<?, ?it/s]"
      ]
     },
     "metadata": {},
     "output_type": "display_data"
    },
    {
     "data": {
      "application/vnd.jupyter.widget-view+json": {
       "model_id": "9570f80e60324eb9b76af4c14b4b5a40",
       "version_major": 2,
       "version_minor": 0
      },
      "text/plain": [
       "Batches:   0%|          | 0/1 [00:00<?, ?it/s]"
      ]
     },
     "metadata": {},
     "output_type": "display_data"
    },
    {
     "data": {
      "application/vnd.jupyter.widget-view+json": {
       "model_id": "3a9affb76e0b404ba7c227ec36adefc7",
       "version_major": 2,
       "version_minor": 0
      },
      "text/plain": [
       "Batches:   0%|          | 0/1 [00:00<?, ?it/s]"
      ]
     },
     "metadata": {},
     "output_type": "display_data"
    },
    {
     "data": {
      "application/vnd.jupyter.widget-view+json": {
       "model_id": "ade24df9f39642dcb548c3c32d5d10fe",
       "version_major": 2,
       "version_minor": 0
      },
      "text/plain": [
       "Batches:   0%|          | 0/1 [00:00<?, ?it/s]"
      ]
     },
     "metadata": {},
     "output_type": "display_data"
    },
    {
     "data": {
      "application/vnd.jupyter.widget-view+json": {
       "model_id": "8c3eba6f4fe745bc86b2cc958f0497a0",
       "version_major": 2,
       "version_minor": 0
      },
      "text/plain": [
       "Batches:   0%|          | 0/1 [00:00<?, ?it/s]"
      ]
     },
     "metadata": {},
     "output_type": "display_data"
    },
    {
     "data": {
      "application/vnd.jupyter.widget-view+json": {
       "model_id": "8f76d28f7d2b4bf5ae9ac98a85977f01",
       "version_major": 2,
       "version_minor": 0
      },
      "text/plain": [
       "Batches:   0%|          | 0/1 [00:00<?, ?it/s]"
      ]
     },
     "metadata": {},
     "output_type": "display_data"
    },
    {
     "data": {
      "application/vnd.jupyter.widget-view+json": {
       "model_id": "793f608dfa834cf1a1895f612562c519",
       "version_major": 2,
       "version_minor": 0
      },
      "text/plain": [
       "Batches:   0%|          | 0/1 [00:00<?, ?it/s]"
      ]
     },
     "metadata": {},
     "output_type": "display_data"
    },
    {
     "data": {
      "application/vnd.jupyter.widget-view+json": {
       "model_id": "6e6e849c1d144b56994dd2e8ebe6ba8b",
       "version_major": 2,
       "version_minor": 0
      },
      "text/plain": [
       "Batches:   0%|          | 0/1 [00:00<?, ?it/s]"
      ]
     },
     "metadata": {},
     "output_type": "display_data"
    },
    {
     "data": {
      "application/vnd.jupyter.widget-view+json": {
       "model_id": "43ab5e7c7e154eb48118b96797aa457d",
       "version_major": 2,
       "version_minor": 0
      },
      "text/plain": [
       "Batches:   0%|          | 0/1 [00:00<?, ?it/s]"
      ]
     },
     "metadata": {},
     "output_type": "display_data"
    },
    {
     "data": {
      "application/vnd.jupyter.widget-view+json": {
       "model_id": "9f4f124c926741d9a61e405c289e8ae2",
       "version_major": 2,
       "version_minor": 0
      },
      "text/plain": [
       "Batches:   0%|          | 0/1 [00:00<?, ?it/s]"
      ]
     },
     "metadata": {},
     "output_type": "display_data"
    },
    {
     "data": {
      "application/vnd.jupyter.widget-view+json": {
       "model_id": "459bebff5ce1434ab783fc7939bff984",
       "version_major": 2,
       "version_minor": 0
      },
      "text/plain": [
       "Batches:   0%|          | 0/1 [00:00<?, ?it/s]"
      ]
     },
     "metadata": {},
     "output_type": "display_data"
    },
    {
     "data": {
      "application/vnd.jupyter.widget-view+json": {
       "model_id": "0a38976f5d74486a853f3f5a9f56c433",
       "version_major": 2,
       "version_minor": 0
      },
      "text/plain": [
       "Batches:   0%|          | 0/1 [00:00<?, ?it/s]"
      ]
     },
     "metadata": {},
     "output_type": "display_data"
    },
    {
     "data": {
      "application/vnd.jupyter.widget-view+json": {
       "model_id": "29fb0a00ff734231adb6ca782ca21449",
       "version_major": 2,
       "version_minor": 0
      },
      "text/plain": [
       "Batches:   0%|          | 0/1 [00:00<?, ?it/s]"
      ]
     },
     "metadata": {},
     "output_type": "display_data"
    },
    {
     "data": {
      "application/vnd.jupyter.widget-view+json": {
       "model_id": "04beeade4d4c4ff7a96f54e20f78452a",
       "version_major": 2,
       "version_minor": 0
      },
      "text/plain": [
       "Batches:   0%|          | 0/1 [00:00<?, ?it/s]"
      ]
     },
     "metadata": {},
     "output_type": "display_data"
    },
    {
     "data": {
      "application/vnd.jupyter.widget-view+json": {
       "model_id": "238cbabd7dd1408aa6c7ead4e2ea0e1b",
       "version_major": 2,
       "version_minor": 0
      },
      "text/plain": [
       "Batches:   0%|          | 0/1 [00:00<?, ?it/s]"
      ]
     },
     "metadata": {},
     "output_type": "display_data"
    },
    {
     "data": {
      "application/vnd.jupyter.widget-view+json": {
       "model_id": "100a7288c9984fb6952dea8708cb4a20",
       "version_major": 2,
       "version_minor": 0
      },
      "text/plain": [
       "Batches:   0%|          | 0/1 [00:00<?, ?it/s]"
      ]
     },
     "metadata": {},
     "output_type": "display_data"
    },
    {
     "data": {
      "application/vnd.jupyter.widget-view+json": {
       "model_id": "8b013bbfbe6a492b9961d22aa3469a6a",
       "version_major": 2,
       "version_minor": 0
      },
      "text/plain": [
       "Batches:   0%|          | 0/1 [00:00<?, ?it/s]"
      ]
     },
     "metadata": {},
     "output_type": "display_data"
    },
    {
     "data": {
      "application/vnd.jupyter.widget-view+json": {
       "model_id": "c3cf27b63cab42a3a2db4441e7d4ebea",
       "version_major": 2,
       "version_minor": 0
      },
      "text/plain": [
       "Batches:   0%|          | 0/1 [00:00<?, ?it/s]"
      ]
     },
     "metadata": {},
     "output_type": "display_data"
    },
    {
     "data": {
      "application/vnd.jupyter.widget-view+json": {
       "model_id": "dd2707ccf7754e838b5838d6a51bdb1f",
       "version_major": 2,
       "version_minor": 0
      },
      "text/plain": [
       "Batches:   0%|          | 0/1 [00:00<?, ?it/s]"
      ]
     },
     "metadata": {},
     "output_type": "display_data"
    },
    {
     "data": {
      "application/vnd.jupyter.widget-view+json": {
       "model_id": "c2f03957cdb1417ab8e4482145c5e1a3",
       "version_major": 2,
       "version_minor": 0
      },
      "text/plain": [
       "Batches:   0%|          | 0/1 [00:00<?, ?it/s]"
      ]
     },
     "metadata": {},
     "output_type": "display_data"
    },
    {
     "data": {
      "application/vnd.jupyter.widget-view+json": {
       "model_id": "b9af5daeb0a643b585ac3673be0cb10a",
       "version_major": 2,
       "version_minor": 0
      },
      "text/plain": [
       "Batches:   0%|          | 0/1 [00:00<?, ?it/s]"
      ]
     },
     "metadata": {},
     "output_type": "display_data"
    },
    {
     "data": {
      "application/vnd.jupyter.widget-view+json": {
       "model_id": "78f7c3aa69b2464d9a77c892ad97ce78",
       "version_major": 2,
       "version_minor": 0
      },
      "text/plain": [
       "Batches:   0%|          | 0/1 [00:00<?, ?it/s]"
      ]
     },
     "metadata": {},
     "output_type": "display_data"
    },
    {
     "data": {
      "application/vnd.jupyter.widget-view+json": {
       "model_id": "314c6f1cd7ba45f98d4bfd44e512f9f8",
       "version_major": 2,
       "version_minor": 0
      },
      "text/plain": [
       "Batches:   0%|          | 0/1 [00:00<?, ?it/s]"
      ]
     },
     "metadata": {},
     "output_type": "display_data"
    },
    {
     "data": {
      "application/vnd.jupyter.widget-view+json": {
       "model_id": "3001f418d537473ea9707a4f250fbeca",
       "version_major": 2,
       "version_minor": 0
      },
      "text/plain": [
       "Batches:   0%|          | 0/1 [00:00<?, ?it/s]"
      ]
     },
     "metadata": {},
     "output_type": "display_data"
    },
    {
     "data": {
      "application/vnd.jupyter.widget-view+json": {
       "model_id": "376b502712944fe5a7d45e9d9a80103f",
       "version_major": 2,
       "version_minor": 0
      },
      "text/plain": [
       "Batches:   0%|          | 0/1 [00:00<?, ?it/s]"
      ]
     },
     "metadata": {},
     "output_type": "display_data"
    },
    {
     "data": {
      "application/vnd.jupyter.widget-view+json": {
       "model_id": "959911c78d45449f87cf054a30e51eef",
       "version_major": 2,
       "version_minor": 0
      },
      "text/plain": [
       "Batches:   0%|          | 0/1 [00:00<?, ?it/s]"
      ]
     },
     "metadata": {},
     "output_type": "display_data"
    },
    {
     "data": {
      "application/vnd.jupyter.widget-view+json": {
       "model_id": "0066d6841a684934a49ce7e96b8c3167",
       "version_major": 2,
       "version_minor": 0
      },
      "text/plain": [
       "Batches:   0%|          | 0/1 [00:00<?, ?it/s]"
      ]
     },
     "metadata": {},
     "output_type": "display_data"
    },
    {
     "data": {
      "application/vnd.jupyter.widget-view+json": {
       "model_id": "d035d74e50324f0b986492a15fdbcba3",
       "version_major": 2,
       "version_minor": 0
      },
      "text/plain": [
       "Batches:   0%|          | 0/1 [00:00<?, ?it/s]"
      ]
     },
     "metadata": {},
     "output_type": "display_data"
    },
    {
     "data": {
      "application/vnd.jupyter.widget-view+json": {
       "model_id": "1dec94d92f58452db3cf5db3f6e55adb",
       "version_major": 2,
       "version_minor": 0
      },
      "text/plain": [
       "Batches:   0%|          | 0/1 [00:00<?, ?it/s]"
      ]
     },
     "metadata": {},
     "output_type": "display_data"
    },
    {
     "data": {
      "application/vnd.jupyter.widget-view+json": {
       "model_id": "7036604b1b9449a885d46114060fa767",
       "version_major": 2,
       "version_minor": 0
      },
      "text/plain": [
       "Batches:   0%|          | 0/1 [00:00<?, ?it/s]"
      ]
     },
     "metadata": {},
     "output_type": "display_data"
    },
    {
     "data": {
      "application/vnd.jupyter.widget-view+json": {
       "model_id": "50f4b8c2f1914edca5d2278ea3a308ce",
       "version_major": 2,
       "version_minor": 0
      },
      "text/plain": [
       "Batches:   0%|          | 0/1 [00:00<?, ?it/s]"
      ]
     },
     "metadata": {},
     "output_type": "display_data"
    },
    {
     "data": {
      "application/vnd.jupyter.widget-view+json": {
       "model_id": "ae5a0d2fe2304c28a926c92fffa9db2d",
       "version_major": 2,
       "version_minor": 0
      },
      "text/plain": [
       "Batches:   0%|          | 0/1 [00:00<?, ?it/s]"
      ]
     },
     "metadata": {},
     "output_type": "display_data"
    },
    {
     "data": {
      "application/vnd.jupyter.widget-view+json": {
       "model_id": "3f92315141064e7ca41900a4a15c2e0b",
       "version_major": 2,
       "version_minor": 0
      },
      "text/plain": [
       "Batches:   0%|          | 0/1 [00:00<?, ?it/s]"
      ]
     },
     "metadata": {},
     "output_type": "display_data"
    },
    {
     "data": {
      "application/vnd.jupyter.widget-view+json": {
       "model_id": "a24353d8bbad43ddba6197e4127a6740",
       "version_major": 2,
       "version_minor": 0
      },
      "text/plain": [
       "Batches:   0%|          | 0/1 [00:00<?, ?it/s]"
      ]
     },
     "metadata": {},
     "output_type": "display_data"
    },
    {
     "data": {
      "application/vnd.jupyter.widget-view+json": {
       "model_id": "4575f5be9e6b467d834c0f219ce59181",
       "version_major": 2,
       "version_minor": 0
      },
      "text/plain": [
       "Batches:   0%|          | 0/1 [00:00<?, ?it/s]"
      ]
     },
     "metadata": {},
     "output_type": "display_data"
    },
    {
     "data": {
      "application/vnd.jupyter.widget-view+json": {
       "model_id": "bfe9b679fe6b41c48c594d7ce221e7e4",
       "version_major": 2,
       "version_minor": 0
      },
      "text/plain": [
       "Batches:   0%|          | 0/1 [00:00<?, ?it/s]"
      ]
     },
     "metadata": {},
     "output_type": "display_data"
    },
    {
     "data": {
      "application/vnd.jupyter.widget-view+json": {
       "model_id": "67ed7c8cd4044930a30a6823b5ce0712",
       "version_major": 2,
       "version_minor": 0
      },
      "text/plain": [
       "Batches:   0%|          | 0/1 [00:00<?, ?it/s]"
      ]
     },
     "metadata": {},
     "output_type": "display_data"
    },
    {
     "data": {
      "application/vnd.jupyter.widget-view+json": {
       "model_id": "a99f8923515d446eb2fb59f9e4c2d775",
       "version_major": 2,
       "version_minor": 0
      },
      "text/plain": [
       "Batches:   0%|          | 0/1 [00:00<?, ?it/s]"
      ]
     },
     "metadata": {},
     "output_type": "display_data"
    },
    {
     "data": {
      "application/vnd.jupyter.widget-view+json": {
       "model_id": "ee1ab2fd19fa473a8b6d2554cea1b8de",
       "version_major": 2,
       "version_minor": 0
      },
      "text/plain": [
       "Batches:   0%|          | 0/1 [00:00<?, ?it/s]"
      ]
     },
     "metadata": {},
     "output_type": "display_data"
    },
    {
     "data": {
      "application/vnd.jupyter.widget-view+json": {
       "model_id": "4fdb8dfe0577434082e5bf6e95a7653f",
       "version_major": 2,
       "version_minor": 0
      },
      "text/plain": [
       "Batches:   0%|          | 0/1 [00:00<?, ?it/s]"
      ]
     },
     "metadata": {},
     "output_type": "display_data"
    },
    {
     "data": {
      "application/vnd.jupyter.widget-view+json": {
       "model_id": "2a40cf9ff7924d1c9cf598becddb0efe",
       "version_major": 2,
       "version_minor": 0
      },
      "text/plain": [
       "Batches:   0%|          | 0/1 [00:00<?, ?it/s]"
      ]
     },
     "metadata": {},
     "output_type": "display_data"
    },
    {
     "data": {
      "application/vnd.jupyter.widget-view+json": {
       "model_id": "d3eb1f417bd84bc598d3b0ce8467e76b",
       "version_major": 2,
       "version_minor": 0
      },
      "text/plain": [
       "Batches:   0%|          | 0/1 [00:00<?, ?it/s]"
      ]
     },
     "metadata": {},
     "output_type": "display_data"
    },
    {
     "data": {
      "application/vnd.jupyter.widget-view+json": {
       "model_id": "2fcab709dd2a4e23b68a070f1574be6d",
       "version_major": 2,
       "version_minor": 0
      },
      "text/plain": [
       "Batches:   0%|          | 0/1 [00:00<?, ?it/s]"
      ]
     },
     "metadata": {},
     "output_type": "display_data"
    },
    {
     "data": {
      "application/vnd.jupyter.widget-view+json": {
       "model_id": "5ca975a112764aca9732da561e5f8cf4",
       "version_major": 2,
       "version_minor": 0
      },
      "text/plain": [
       "Batches:   0%|          | 0/1 [00:00<?, ?it/s]"
      ]
     },
     "metadata": {},
     "output_type": "display_data"
    },
    {
     "data": {
      "application/vnd.jupyter.widget-view+json": {
       "model_id": "8026b2c6e9af4d66ac8a39cd57c2d2d2",
       "version_major": 2,
       "version_minor": 0
      },
      "text/plain": [
       "Batches:   0%|          | 0/1 [00:00<?, ?it/s]"
      ]
     },
     "metadata": {},
     "output_type": "display_data"
    },
    {
     "data": {
      "application/vnd.jupyter.widget-view+json": {
       "model_id": "810a331341d7423aa582836a3e161012",
       "version_major": 2,
       "version_minor": 0
      },
      "text/plain": [
       "Batches:   0%|          | 0/1 [00:00<?, ?it/s]"
      ]
     },
     "metadata": {},
     "output_type": "display_data"
    },
    {
     "data": {
      "application/vnd.jupyter.widget-view+json": {
       "model_id": "463294de6ce1496d9760e4ed42e6ceee",
       "version_major": 2,
       "version_minor": 0
      },
      "text/plain": [
       "Batches:   0%|          | 0/1 [00:00<?, ?it/s]"
      ]
     },
     "metadata": {},
     "output_type": "display_data"
    },
    {
     "data": {
      "application/vnd.jupyter.widget-view+json": {
       "model_id": "1b85d679c04e4dc4b4545212cab6418a",
       "version_major": 2,
       "version_minor": 0
      },
      "text/plain": [
       "Batches:   0%|          | 0/1 [00:00<?, ?it/s]"
      ]
     },
     "metadata": {},
     "output_type": "display_data"
    },
    {
     "data": {
      "application/vnd.jupyter.widget-view+json": {
       "model_id": "d6d4aa5c22ae41d5b6910ccb43ea13b9",
       "version_major": 2,
       "version_minor": 0
      },
      "text/plain": [
       "Batches:   0%|          | 0/1 [00:00<?, ?it/s]"
      ]
     },
     "metadata": {},
     "output_type": "display_data"
    },
    {
     "data": {
      "application/vnd.jupyter.widget-view+json": {
       "model_id": "8be1ef6d61cc481db51fae073137bd78",
       "version_major": 2,
       "version_minor": 0
      },
      "text/plain": [
       "Batches:   0%|          | 0/1 [00:00<?, ?it/s]"
      ]
     },
     "metadata": {},
     "output_type": "display_data"
    },
    {
     "data": {
      "application/vnd.jupyter.widget-view+json": {
       "model_id": "35d890ca3998464196e915925b87e3a9",
       "version_major": 2,
       "version_minor": 0
      },
      "text/plain": [
       "Batches:   0%|          | 0/1 [00:00<?, ?it/s]"
      ]
     },
     "metadata": {},
     "output_type": "display_data"
    },
    {
     "data": {
      "application/vnd.jupyter.widget-view+json": {
       "model_id": "ca4152ea8f6044318a12e5df2f12fafb",
       "version_major": 2,
       "version_minor": 0
      },
      "text/plain": [
       "Batches:   0%|          | 0/1 [00:00<?, ?it/s]"
      ]
     },
     "metadata": {},
     "output_type": "display_data"
    },
    {
     "data": {
      "application/vnd.jupyter.widget-view+json": {
       "model_id": "6af36f76e1af4873b005f6029474c1a6",
       "version_major": 2,
       "version_minor": 0
      },
      "text/plain": [
       "Batches:   0%|          | 0/1 [00:00<?, ?it/s]"
      ]
     },
     "metadata": {},
     "output_type": "display_data"
    },
    {
     "data": {
      "application/vnd.jupyter.widget-view+json": {
       "model_id": "ba846456ec784a2f94f2c9a3b67729fa",
       "version_major": 2,
       "version_minor": 0
      },
      "text/plain": [
       "Batches:   0%|          | 0/1 [00:00<?, ?it/s]"
      ]
     },
     "metadata": {},
     "output_type": "display_data"
    },
    {
     "data": {
      "application/vnd.jupyter.widget-view+json": {
       "model_id": "5ad3d7b788ba4cdb8643076f46b8e745",
       "version_major": 2,
       "version_minor": 0
      },
      "text/plain": [
       "Batches:   0%|          | 0/1 [00:00<?, ?it/s]"
      ]
     },
     "metadata": {},
     "output_type": "display_data"
    },
    {
     "data": {
      "application/vnd.jupyter.widget-view+json": {
       "model_id": "9eaa7e36fec244ab89d10d7f6053f891",
       "version_major": 2,
       "version_minor": 0
      },
      "text/plain": [
       "Batches:   0%|          | 0/1 [00:00<?, ?it/s]"
      ]
     },
     "metadata": {},
     "output_type": "display_data"
    },
    {
     "data": {
      "application/vnd.jupyter.widget-view+json": {
       "model_id": "18c9c96d5b7c4e5eb7bffd2bd7b1313f",
       "version_major": 2,
       "version_minor": 0
      },
      "text/plain": [
       "Batches:   0%|          | 0/1 [00:00<?, ?it/s]"
      ]
     },
     "metadata": {},
     "output_type": "display_data"
    },
    {
     "data": {
      "application/vnd.jupyter.widget-view+json": {
       "model_id": "52263c343db64d5a998a4e3e2f634782",
       "version_major": 2,
       "version_minor": 0
      },
      "text/plain": [
       "Batches:   0%|          | 0/1 [00:00<?, ?it/s]"
      ]
     },
     "metadata": {},
     "output_type": "display_data"
    },
    {
     "data": {
      "application/vnd.jupyter.widget-view+json": {
       "model_id": "98212a84ac3c430b9c612cf2e3e02f8a",
       "version_major": 2,
       "version_minor": 0
      },
      "text/plain": [
       "Batches:   0%|          | 0/1 [00:00<?, ?it/s]"
      ]
     },
     "metadata": {},
     "output_type": "display_data"
    },
    {
     "data": {
      "application/vnd.jupyter.widget-view+json": {
       "model_id": "ffffd35e0d114f3692c98e2b16fff45b",
       "version_major": 2,
       "version_minor": 0
      },
      "text/plain": [
       "Batches:   0%|          | 0/1 [00:00<?, ?it/s]"
      ]
     },
     "metadata": {},
     "output_type": "display_data"
    },
    {
     "data": {
      "application/vnd.jupyter.widget-view+json": {
       "model_id": "fc3e0e1117654dc49f94287c1721d0c8",
       "version_major": 2,
       "version_minor": 0
      },
      "text/plain": [
       "Batches:   0%|          | 0/1 [00:00<?, ?it/s]"
      ]
     },
     "metadata": {},
     "output_type": "display_data"
    },
    {
     "data": {
      "application/vnd.jupyter.widget-view+json": {
       "model_id": "009a727aa4ea4b648614c8e77de1f701",
       "version_major": 2,
       "version_minor": 0
      },
      "text/plain": [
       "Batches:   0%|          | 0/1 [00:00<?, ?it/s]"
      ]
     },
     "metadata": {},
     "output_type": "display_data"
    },
    {
     "data": {
      "application/vnd.jupyter.widget-view+json": {
       "model_id": "83b5e54d446748168a89e681c15cddf6",
       "version_major": 2,
       "version_minor": 0
      },
      "text/plain": [
       "Batches:   0%|          | 0/1 [00:00<?, ?it/s]"
      ]
     },
     "metadata": {},
     "output_type": "display_data"
    },
    {
     "data": {
      "application/vnd.jupyter.widget-view+json": {
       "model_id": "406ed676a3a140d1913d6b177f0881cc",
       "version_major": 2,
       "version_minor": 0
      },
      "text/plain": [
       "Batches:   0%|          | 0/1 [00:00<?, ?it/s]"
      ]
     },
     "metadata": {},
     "output_type": "display_data"
    },
    {
     "data": {
      "application/vnd.jupyter.widget-view+json": {
       "model_id": "9fb272496ae44d17aab76bc70cc0c3ab",
       "version_major": 2,
       "version_minor": 0
      },
      "text/plain": [
       "Batches:   0%|          | 0/1 [00:00<?, ?it/s]"
      ]
     },
     "metadata": {},
     "output_type": "display_data"
    },
    {
     "data": {
      "application/vnd.jupyter.widget-view+json": {
       "model_id": "3cce6007b2db43ae87b9242e12647132",
       "version_major": 2,
       "version_minor": 0
      },
      "text/plain": [
       "Batches:   0%|          | 0/1 [00:00<?, ?it/s]"
      ]
     },
     "metadata": {},
     "output_type": "display_data"
    },
    {
     "data": {
      "application/vnd.jupyter.widget-view+json": {
       "model_id": "17c1e6bda6c34c58ba9d03f234549d66",
       "version_major": 2,
       "version_minor": 0
      },
      "text/plain": [
       "Batches:   0%|          | 0/1 [00:00<?, ?it/s]"
      ]
     },
     "metadata": {},
     "output_type": "display_data"
    },
    {
     "data": {
      "application/vnd.jupyter.widget-view+json": {
       "model_id": "2c9bffb6f8aa4ea58626e16fafeabed1",
       "version_major": 2,
       "version_minor": 0
      },
      "text/plain": [
       "Batches:   0%|          | 0/1 [00:00<?, ?it/s]"
      ]
     },
     "metadata": {},
     "output_type": "display_data"
    },
    {
     "data": {
      "application/vnd.jupyter.widget-view+json": {
       "model_id": "fdbdc7c98e1b4faa9e89acd972d5afb1",
       "version_major": 2,
       "version_minor": 0
      },
      "text/plain": [
       "Batches:   0%|          | 0/1 [00:00<?, ?it/s]"
      ]
     },
     "metadata": {},
     "output_type": "display_data"
    },
    {
     "data": {
      "application/vnd.jupyter.widget-view+json": {
       "model_id": "655ffa4184fa4bde9b036e774522aef6",
       "version_major": 2,
       "version_minor": 0
      },
      "text/plain": [
       "Batches:   0%|          | 0/1 [00:00<?, ?it/s]"
      ]
     },
     "metadata": {},
     "output_type": "display_data"
    },
    {
     "data": {
      "application/vnd.jupyter.widget-view+json": {
       "model_id": "be8545e1728442adb808c1cbe15d38a8",
       "version_major": 2,
       "version_minor": 0
      },
      "text/plain": [
       "Batches:   0%|          | 0/1 [00:00<?, ?it/s]"
      ]
     },
     "metadata": {},
     "output_type": "display_data"
    },
    {
     "data": {
      "application/vnd.jupyter.widget-view+json": {
       "model_id": "331fd75047d44ccc92b54358587d04b5",
       "version_major": 2,
       "version_minor": 0
      },
      "text/plain": [
       "Batches:   0%|          | 0/1 [00:00<?, ?it/s]"
      ]
     },
     "metadata": {},
     "output_type": "display_data"
    },
    {
     "data": {
      "application/vnd.jupyter.widget-view+json": {
       "model_id": "dfa87ea3b2a841eda923b13759ebcd93",
       "version_major": 2,
       "version_minor": 0
      },
      "text/plain": [
       "Batches:   0%|          | 0/1 [00:00<?, ?it/s]"
      ]
     },
     "metadata": {},
     "output_type": "display_data"
    },
    {
     "data": {
      "application/vnd.jupyter.widget-view+json": {
       "model_id": "870d21fe9e2f4f29b93ee69e458fff09",
       "version_major": 2,
       "version_minor": 0
      },
      "text/plain": [
       "Batches:   0%|          | 0/1 [00:00<?, ?it/s]"
      ]
     },
     "metadata": {},
     "output_type": "display_data"
    },
    {
     "data": {
      "application/vnd.jupyter.widget-view+json": {
       "model_id": "ef480380645740ac85aae0fd8abebbe6",
       "version_major": 2,
       "version_minor": 0
      },
      "text/plain": [
       "Batches:   0%|          | 0/1 [00:00<?, ?it/s]"
      ]
     },
     "metadata": {},
     "output_type": "display_data"
    },
    {
     "data": {
      "application/vnd.jupyter.widget-view+json": {
       "model_id": "3ad9e0a8382648c6a0ff857e17846fb9",
       "version_major": 2,
       "version_minor": 0
      },
      "text/plain": [
       "Batches:   0%|          | 0/1 [00:00<?, ?it/s]"
      ]
     },
     "metadata": {},
     "output_type": "display_data"
    },
    {
     "data": {
      "application/vnd.jupyter.widget-view+json": {
       "model_id": "4a50cf82de714b02848b5358dd9e4d92",
       "version_major": 2,
       "version_minor": 0
      },
      "text/plain": [
       "Batches:   0%|          | 0/1 [00:00<?, ?it/s]"
      ]
     },
     "metadata": {},
     "output_type": "display_data"
    },
    {
     "data": {
      "application/vnd.jupyter.widget-view+json": {
       "model_id": "4dfca38d99974a12a821ed0065f1c443",
       "version_major": 2,
       "version_minor": 0
      },
      "text/plain": [
       "Batches:   0%|          | 0/1 [00:00<?, ?it/s]"
      ]
     },
     "metadata": {},
     "output_type": "display_data"
    },
    {
     "data": {
      "application/vnd.jupyter.widget-view+json": {
       "model_id": "cba387ec8d7648429d35cc01b8f947dc",
       "version_major": 2,
       "version_minor": 0
      },
      "text/plain": [
       "Batches:   0%|          | 0/1 [00:00<?, ?it/s]"
      ]
     },
     "metadata": {},
     "output_type": "display_data"
    },
    {
     "data": {
      "application/vnd.jupyter.widget-view+json": {
       "model_id": "a23ff1e347eb4fe6b4c8c2a106f582c0",
       "version_major": 2,
       "version_minor": 0
      },
      "text/plain": [
       "Batches:   0%|          | 0/1 [00:00<?, ?it/s]"
      ]
     },
     "metadata": {},
     "output_type": "display_data"
    },
    {
     "data": {
      "application/vnd.jupyter.widget-view+json": {
       "model_id": "168c98b44223407c8be3113e8d501466",
       "version_major": 2,
       "version_minor": 0
      },
      "text/plain": [
       "Batches:   0%|          | 0/1 [00:00<?, ?it/s]"
      ]
     },
     "metadata": {},
     "output_type": "display_data"
    },
    {
     "data": {
      "application/vnd.jupyter.widget-view+json": {
       "model_id": "92eaaf9d8de74017be7f8ae31c9791ba",
       "version_major": 2,
       "version_minor": 0
      },
      "text/plain": [
       "Batches:   0%|          | 0/1 [00:00<?, ?it/s]"
      ]
     },
     "metadata": {},
     "output_type": "display_data"
    },
    {
     "data": {
      "application/vnd.jupyter.widget-view+json": {
       "model_id": "c91197c2cf214de592ccc900f0dae212",
       "version_major": 2,
       "version_minor": 0
      },
      "text/plain": [
       "Batches:   0%|          | 0/1 [00:00<?, ?it/s]"
      ]
     },
     "metadata": {},
     "output_type": "display_data"
    },
    {
     "data": {
      "application/vnd.jupyter.widget-view+json": {
       "model_id": "1cc8aaf0777244f2aae02fb02f67bfff",
       "version_major": 2,
       "version_minor": 0
      },
      "text/plain": [
       "Batches:   0%|          | 0/1 [00:00<?, ?it/s]"
      ]
     },
     "metadata": {},
     "output_type": "display_data"
    },
    {
     "data": {
      "application/vnd.jupyter.widget-view+json": {
       "model_id": "169a19769deb44df82104dc39d2cbedb",
       "version_major": 2,
       "version_minor": 0
      },
      "text/plain": [
       "Batches:   0%|          | 0/1 [00:00<?, ?it/s]"
      ]
     },
     "metadata": {},
     "output_type": "display_data"
    },
    {
     "data": {
      "application/vnd.jupyter.widget-view+json": {
       "model_id": "a5ab29d24e084a80b8170bbf6d882b4d",
       "version_major": 2,
       "version_minor": 0
      },
      "text/plain": [
       "Batches:   0%|          | 0/1 [00:00<?, ?it/s]"
      ]
     },
     "metadata": {},
     "output_type": "display_data"
    },
    {
     "data": {
      "application/vnd.jupyter.widget-view+json": {
       "model_id": "f88f419306424fb78fd49ae8e1a7c25c",
       "version_major": 2,
       "version_minor": 0
      },
      "text/plain": [
       "Batches:   0%|          | 0/1 [00:00<?, ?it/s]"
      ]
     },
     "metadata": {},
     "output_type": "display_data"
    },
    {
     "data": {
      "application/vnd.jupyter.widget-view+json": {
       "model_id": "b16fc1828da7485d89110b740ed228b5",
       "version_major": 2,
       "version_minor": 0
      },
      "text/plain": [
       "Batches:   0%|          | 0/1 [00:00<?, ?it/s]"
      ]
     },
     "metadata": {},
     "output_type": "display_data"
    },
    {
     "data": {
      "application/vnd.jupyter.widget-view+json": {
       "model_id": "3fa54b2c47c3418e8b936ede5f3cfb76",
       "version_major": 2,
       "version_minor": 0
      },
      "text/plain": [
       "Batches:   0%|          | 0/1 [00:00<?, ?it/s]"
      ]
     },
     "metadata": {},
     "output_type": "display_data"
    },
    {
     "data": {
      "application/vnd.jupyter.widget-view+json": {
       "model_id": "f636d42e8be048a68a55eaee9a75d153",
       "version_major": 2,
       "version_minor": 0
      },
      "text/plain": [
       "Batches:   0%|          | 0/1 [00:00<?, ?it/s]"
      ]
     },
     "metadata": {},
     "output_type": "display_data"
    },
    {
     "data": {
      "application/vnd.jupyter.widget-view+json": {
       "model_id": "cbd63c2fc6b94fc2ba12d4cd71414023",
       "version_major": 2,
       "version_minor": 0
      },
      "text/plain": [
       "Batches:   0%|          | 0/1 [00:00<?, ?it/s]"
      ]
     },
     "metadata": {},
     "output_type": "display_data"
    },
    {
     "data": {
      "application/vnd.jupyter.widget-view+json": {
       "model_id": "8fbef4275ef848198479fa44363d48c8",
       "version_major": 2,
       "version_minor": 0
      },
      "text/plain": [
       "Batches:   0%|          | 0/1 [00:00<?, ?it/s]"
      ]
     },
     "metadata": {},
     "output_type": "display_data"
    },
    {
     "data": {
      "application/vnd.jupyter.widget-view+json": {
       "model_id": "0db423eee735401e83911f57c8f8cd05",
       "version_major": 2,
       "version_minor": 0
      },
      "text/plain": [
       "Batches:   0%|          | 0/1 [00:00<?, ?it/s]"
      ]
     },
     "metadata": {},
     "output_type": "display_data"
    },
    {
     "data": {
      "application/vnd.jupyter.widget-view+json": {
       "model_id": "60813a86cbe74bd3b944536396604e18",
       "version_major": 2,
       "version_minor": 0
      },
      "text/plain": [
       "Batches:   0%|          | 0/1 [00:00<?, ?it/s]"
      ]
     },
     "metadata": {},
     "output_type": "display_data"
    },
    {
     "data": {
      "application/vnd.jupyter.widget-view+json": {
       "model_id": "63e46f1add3f460d859768168c672996",
       "version_major": 2,
       "version_minor": 0
      },
      "text/plain": [
       "Batches:   0%|          | 0/1 [00:00<?, ?it/s]"
      ]
     },
     "metadata": {},
     "output_type": "display_data"
    },
    {
     "data": {
      "application/vnd.jupyter.widget-view+json": {
       "model_id": "33a9a7c25b8a4af7abd99d4de6417692",
       "version_major": 2,
       "version_minor": 0
      },
      "text/plain": [
       "Batches:   0%|          | 0/1 [00:00<?, ?it/s]"
      ]
     },
     "metadata": {},
     "output_type": "display_data"
    },
    {
     "data": {
      "application/vnd.jupyter.widget-view+json": {
       "model_id": "c2f210f431db4fc79a6490c4440bc893",
       "version_major": 2,
       "version_minor": 0
      },
      "text/plain": [
       "Batches:   0%|          | 0/1 [00:00<?, ?it/s]"
      ]
     },
     "metadata": {},
     "output_type": "display_data"
    },
    {
     "data": {
      "application/vnd.jupyter.widget-view+json": {
       "model_id": "53273255c5da49c2a537d4cc7e490004",
       "version_major": 2,
       "version_minor": 0
      },
      "text/plain": [
       "Batches:   0%|          | 0/1 [00:00<?, ?it/s]"
      ]
     },
     "metadata": {},
     "output_type": "display_data"
    },
    {
     "data": {
      "application/vnd.jupyter.widget-view+json": {
       "model_id": "35af4fb55a1a414b8143b1381b0035ee",
       "version_major": 2,
       "version_minor": 0
      },
      "text/plain": [
       "Batches:   0%|          | 0/1 [00:00<?, ?it/s]"
      ]
     },
     "metadata": {},
     "output_type": "display_data"
    },
    {
     "data": {
      "application/vnd.jupyter.widget-view+json": {
       "model_id": "94e539d8ea094a249ed675aa7ffe6f5a",
       "version_major": 2,
       "version_minor": 0
      },
      "text/plain": [
       "Batches:   0%|          | 0/1 [00:00<?, ?it/s]"
      ]
     },
     "metadata": {},
     "output_type": "display_data"
    },
    {
     "data": {
      "application/vnd.jupyter.widget-view+json": {
       "model_id": "60c74440738c4e8fa627f519231393e0",
       "version_major": 2,
       "version_minor": 0
      },
      "text/plain": [
       "Batches:   0%|          | 0/1 [00:00<?, ?it/s]"
      ]
     },
     "metadata": {},
     "output_type": "display_data"
    },
    {
     "data": {
      "application/vnd.jupyter.widget-view+json": {
       "model_id": "bdd9659843a842079715442456fe1220",
       "version_major": 2,
       "version_minor": 0
      },
      "text/plain": [
       "Batches:   0%|          | 0/1 [00:00<?, ?it/s]"
      ]
     },
     "metadata": {},
     "output_type": "display_data"
    },
    {
     "data": {
      "application/vnd.jupyter.widget-view+json": {
       "model_id": "11339b5954f7476390fda3895d423aa8",
       "version_major": 2,
       "version_minor": 0
      },
      "text/plain": [
       "Batches:   0%|          | 0/1 [00:00<?, ?it/s]"
      ]
     },
     "metadata": {},
     "output_type": "display_data"
    },
    {
     "data": {
      "application/vnd.jupyter.widget-view+json": {
       "model_id": "faabf413bb6347ce9750f1d405c2e5d4",
       "version_major": 2,
       "version_minor": 0
      },
      "text/plain": [
       "Batches:   0%|          | 0/1 [00:00<?, ?it/s]"
      ]
     },
     "metadata": {},
     "output_type": "display_data"
    },
    {
     "data": {
      "application/vnd.jupyter.widget-view+json": {
       "model_id": "e60ae6b2cbd246cf8214524bc6582734",
       "version_major": 2,
       "version_minor": 0
      },
      "text/plain": [
       "Batches:   0%|          | 0/1 [00:00<?, ?it/s]"
      ]
     },
     "metadata": {},
     "output_type": "display_data"
    },
    {
     "data": {
      "application/vnd.jupyter.widget-view+json": {
       "model_id": "1b51af5bb6ac4103ab0cdc38a3a81f6d",
       "version_major": 2,
       "version_minor": 0
      },
      "text/plain": [
       "Batches:   0%|          | 0/1 [00:00<?, ?it/s]"
      ]
     },
     "metadata": {},
     "output_type": "display_data"
    },
    {
     "data": {
      "application/vnd.jupyter.widget-view+json": {
       "model_id": "5b421c9116c54c41804f04237d315bfc",
       "version_major": 2,
       "version_minor": 0
      },
      "text/plain": [
       "Batches:   0%|          | 0/1 [00:00<?, ?it/s]"
      ]
     },
     "metadata": {},
     "output_type": "display_data"
    },
    {
     "data": {
      "application/vnd.jupyter.widget-view+json": {
       "model_id": "a94424dd0d5240929d781b02e36efec8",
       "version_major": 2,
       "version_minor": 0
      },
      "text/plain": [
       "Batches:   0%|          | 0/1 [00:00<?, ?it/s]"
      ]
     },
     "metadata": {},
     "output_type": "display_data"
    },
    {
     "data": {
      "application/vnd.jupyter.widget-view+json": {
       "model_id": "831b4c541389494196d0a93b1fd32b49",
       "version_major": 2,
       "version_minor": 0
      },
      "text/plain": [
       "Batches:   0%|          | 0/1 [00:00<?, ?it/s]"
      ]
     },
     "metadata": {},
     "output_type": "display_data"
    },
    {
     "data": {
      "application/vnd.jupyter.widget-view+json": {
       "model_id": "5620b562cb9e4a40ab35027a7c4ee1b2",
       "version_major": 2,
       "version_minor": 0
      },
      "text/plain": [
       "Batches:   0%|          | 0/1 [00:00<?, ?it/s]"
      ]
     },
     "metadata": {},
     "output_type": "display_data"
    },
    {
     "data": {
      "application/vnd.jupyter.widget-view+json": {
       "model_id": "1a76f9d42ef24c00bc1ca341521c55ad",
       "version_major": 2,
       "version_minor": 0
      },
      "text/plain": [
       "Batches:   0%|          | 0/1 [00:00<?, ?it/s]"
      ]
     },
     "metadata": {},
     "output_type": "display_data"
    },
    {
     "data": {
      "application/vnd.jupyter.widget-view+json": {
       "model_id": "bcae90366c0d4a5a9a198e02da7632a7",
       "version_major": 2,
       "version_minor": 0
      },
      "text/plain": [
       "Batches:   0%|          | 0/1 [00:00<?, ?it/s]"
      ]
     },
     "metadata": {},
     "output_type": "display_data"
    },
    {
     "data": {
      "application/vnd.jupyter.widget-view+json": {
       "model_id": "7a07cc0280414922ace8e90a96ac5fa0",
       "version_major": 2,
       "version_minor": 0
      },
      "text/plain": [
       "Batches:   0%|          | 0/1 [00:00<?, ?it/s]"
      ]
     },
     "metadata": {},
     "output_type": "display_data"
    },
    {
     "data": {
      "application/vnd.jupyter.widget-view+json": {
       "model_id": "de1dacf5559c4a0187188185ea13df3c",
       "version_major": 2,
       "version_minor": 0
      },
      "text/plain": [
       "Batches:   0%|          | 0/1 [00:00<?, ?it/s]"
      ]
     },
     "metadata": {},
     "output_type": "display_data"
    },
    {
     "data": {
      "application/vnd.jupyter.widget-view+json": {
       "model_id": "3545b97e9af24ec0a7202aa48825fc73",
       "version_major": 2,
       "version_minor": 0
      },
      "text/plain": [
       "Batches:   0%|          | 0/1 [00:00<?, ?it/s]"
      ]
     },
     "metadata": {},
     "output_type": "display_data"
    },
    {
     "data": {
      "application/vnd.jupyter.widget-view+json": {
       "model_id": "ab62d30d669440ab92a4221d2c779b8b",
       "version_major": 2,
       "version_minor": 0
      },
      "text/plain": [
       "Batches:   0%|          | 0/1 [00:00<?, ?it/s]"
      ]
     },
     "metadata": {},
     "output_type": "display_data"
    },
    {
     "data": {
      "application/vnd.jupyter.widget-view+json": {
       "model_id": "c22d968e839e444f821040187a153bcb",
       "version_major": 2,
       "version_minor": 0
      },
      "text/plain": [
       "Batches:   0%|          | 0/1 [00:00<?, ?it/s]"
      ]
     },
     "metadata": {},
     "output_type": "display_data"
    },
    {
     "data": {
      "application/vnd.jupyter.widget-view+json": {
       "model_id": "0ba6b70b660147cca0caacd4a48014fa",
       "version_major": 2,
       "version_minor": 0
      },
      "text/plain": [
       "Batches:   0%|          | 0/1 [00:00<?, ?it/s]"
      ]
     },
     "metadata": {},
     "output_type": "display_data"
    },
    {
     "data": {
      "application/vnd.jupyter.widget-view+json": {
       "model_id": "74152b183e2a4f428e12fc3b6bcff91e",
       "version_major": 2,
       "version_minor": 0
      },
      "text/plain": [
       "Batches:   0%|          | 0/1 [00:00<?, ?it/s]"
      ]
     },
     "metadata": {},
     "output_type": "display_data"
    },
    {
     "data": {
      "application/vnd.jupyter.widget-view+json": {
       "model_id": "eefbf87025974ec98b0af779fc1139e6",
       "version_major": 2,
       "version_minor": 0
      },
      "text/plain": [
       "Batches:   0%|          | 0/1 [00:00<?, ?it/s]"
      ]
     },
     "metadata": {},
     "output_type": "display_data"
    },
    {
     "data": {
      "application/vnd.jupyter.widget-view+json": {
       "model_id": "a25c1a01cfee49278a5d4158c3e9cba8",
       "version_major": 2,
       "version_minor": 0
      },
      "text/plain": [
       "Batches:   0%|          | 0/1 [00:00<?, ?it/s]"
      ]
     },
     "metadata": {},
     "output_type": "display_data"
    },
    {
     "data": {
      "application/vnd.jupyter.widget-view+json": {
       "model_id": "244491484ff34ea091887bcc7bb473ef",
       "version_major": 2,
       "version_minor": 0
      },
      "text/plain": [
       "Batches:   0%|          | 0/1 [00:00<?, ?it/s]"
      ]
     },
     "metadata": {},
     "output_type": "display_data"
    },
    {
     "data": {
      "application/vnd.jupyter.widget-view+json": {
       "model_id": "2731c06d7c6a4e77af7950eb1a2f3ec8",
       "version_major": 2,
       "version_minor": 0
      },
      "text/plain": [
       "Batches:   0%|          | 0/1 [00:00<?, ?it/s]"
      ]
     },
     "metadata": {},
     "output_type": "display_data"
    },
    {
     "data": {
      "application/vnd.jupyter.widget-view+json": {
       "model_id": "3f837a96b6ba4470a9d89106ddff121d",
       "version_major": 2,
       "version_minor": 0
      },
      "text/plain": [
       "Batches:   0%|          | 0/1 [00:00<?, ?it/s]"
      ]
     },
     "metadata": {},
     "output_type": "display_data"
    },
    {
     "data": {
      "application/vnd.jupyter.widget-view+json": {
       "model_id": "5857f36ce6af43bcb6b71e03247f45a8",
       "version_major": 2,
       "version_minor": 0
      },
      "text/plain": [
       "Batches:   0%|          | 0/1 [00:00<?, ?it/s]"
      ]
     },
     "metadata": {},
     "output_type": "display_data"
    },
    {
     "data": {
      "application/vnd.jupyter.widget-view+json": {
       "model_id": "e05db2f23c77438db0d068b7de178843",
       "version_major": 2,
       "version_minor": 0
      },
      "text/plain": [
       "Batches:   0%|          | 0/1 [00:00<?, ?it/s]"
      ]
     },
     "metadata": {},
     "output_type": "display_data"
    },
    {
     "data": {
      "application/vnd.jupyter.widget-view+json": {
       "model_id": "1a59f64f6d7647cca23b4962e0cefcb0",
       "version_major": 2,
       "version_minor": 0
      },
      "text/plain": [
       "Batches:   0%|          | 0/1 [00:00<?, ?it/s]"
      ]
     },
     "metadata": {},
     "output_type": "display_data"
    },
    {
     "data": {
      "application/vnd.jupyter.widget-view+json": {
       "model_id": "da3212ce37c049088346d79ddd0c17be",
       "version_major": 2,
       "version_minor": 0
      },
      "text/plain": [
       "Batches:   0%|          | 0/1 [00:00<?, ?it/s]"
      ]
     },
     "metadata": {},
     "output_type": "display_data"
    },
    {
     "data": {
      "application/vnd.jupyter.widget-view+json": {
       "model_id": "0b789e59957e45f89012d2d9108b43b8",
       "version_major": 2,
       "version_minor": 0
      },
      "text/plain": [
       "Batches:   0%|          | 0/1 [00:00<?, ?it/s]"
      ]
     },
     "metadata": {},
     "output_type": "display_data"
    },
    {
     "data": {
      "application/vnd.jupyter.widget-view+json": {
       "model_id": "cbb01b2f4444453491a01780b01f2a6c",
       "version_major": 2,
       "version_minor": 0
      },
      "text/plain": [
       "Batches:   0%|          | 0/1 [00:00<?, ?it/s]"
      ]
     },
     "metadata": {},
     "output_type": "display_data"
    },
    {
     "data": {
      "application/vnd.jupyter.widget-view+json": {
       "model_id": "29b872f2e8584bdaafaf4722ed2a50f7",
       "version_major": 2,
       "version_minor": 0
      },
      "text/plain": [
       "Batches:   0%|          | 0/1 [00:00<?, ?it/s]"
      ]
     },
     "metadata": {},
     "output_type": "display_data"
    },
    {
     "data": {
      "application/vnd.jupyter.widget-view+json": {
       "model_id": "ff7f4cddc21f4ae2bc6c05055a4c2c50",
       "version_major": 2,
       "version_minor": 0
      },
      "text/plain": [
       "Batches:   0%|          | 0/1 [00:00<?, ?it/s]"
      ]
     },
     "metadata": {},
     "output_type": "display_data"
    },
    {
     "data": {
      "application/vnd.jupyter.widget-view+json": {
       "model_id": "ae58c3b7a61f4ddb8dbd1f41fdc44ff4",
       "version_major": 2,
       "version_minor": 0
      },
      "text/plain": [
       "Batches:   0%|          | 0/1 [00:00<?, ?it/s]"
      ]
     },
     "metadata": {},
     "output_type": "display_data"
    },
    {
     "data": {
      "application/vnd.jupyter.widget-view+json": {
       "model_id": "625907fbc89746738b688f7bd1ed4f16",
       "version_major": 2,
       "version_minor": 0
      },
      "text/plain": [
       "Batches:   0%|          | 0/1 [00:00<?, ?it/s]"
      ]
     },
     "metadata": {},
     "output_type": "display_data"
    },
    {
     "data": {
      "application/vnd.jupyter.widget-view+json": {
       "model_id": "857a82a0c5a84a5f8992580005e507f0",
       "version_major": 2,
       "version_minor": 0
      },
      "text/plain": [
       "Batches:   0%|          | 0/1 [00:00<?, ?it/s]"
      ]
     },
     "metadata": {},
     "output_type": "display_data"
    },
    {
     "data": {
      "application/vnd.jupyter.widget-view+json": {
       "model_id": "9dffb723bd3b4f6e8de97742dfab58a2",
       "version_major": 2,
       "version_minor": 0
      },
      "text/plain": [
       "Batches:   0%|          | 0/1 [00:00<?, ?it/s]"
      ]
     },
     "metadata": {},
     "output_type": "display_data"
    },
    {
     "data": {
      "application/vnd.jupyter.widget-view+json": {
       "model_id": "5d315ff3a4a943b7910ee43c1b3b72ed",
       "version_major": 2,
       "version_minor": 0
      },
      "text/plain": [
       "Batches:   0%|          | 0/1 [00:00<?, ?it/s]"
      ]
     },
     "metadata": {},
     "output_type": "display_data"
    },
    {
     "data": {
      "application/vnd.jupyter.widget-view+json": {
       "model_id": "ea5e69c220b04382930eb54875407433",
       "version_major": 2,
       "version_minor": 0
      },
      "text/plain": [
       "Batches:   0%|          | 0/1 [00:00<?, ?it/s]"
      ]
     },
     "metadata": {},
     "output_type": "display_data"
    },
    {
     "data": {
      "application/vnd.jupyter.widget-view+json": {
       "model_id": "c004a77ed4044ac78fed2be364925e0b",
       "version_major": 2,
       "version_minor": 0
      },
      "text/plain": [
       "Batches:   0%|          | 0/1 [00:00<?, ?it/s]"
      ]
     },
     "metadata": {},
     "output_type": "display_data"
    },
    {
     "data": {
      "application/vnd.jupyter.widget-view+json": {
       "model_id": "c5fe4778f6754fc38b94fe6fc2bdbb02",
       "version_major": 2,
       "version_minor": 0
      },
      "text/plain": [
       "Batches:   0%|          | 0/1 [00:00<?, ?it/s]"
      ]
     },
     "metadata": {},
     "output_type": "display_data"
    },
    {
     "data": {
      "application/vnd.jupyter.widget-view+json": {
       "model_id": "c503a43450724b9b89fabee49c78a3c8",
       "version_major": 2,
       "version_minor": 0
      },
      "text/plain": [
       "Batches:   0%|          | 0/1 [00:00<?, ?it/s]"
      ]
     },
     "metadata": {},
     "output_type": "display_data"
    },
    {
     "data": {
      "application/vnd.jupyter.widget-view+json": {
       "model_id": "6466ce3fa9df4721b4eef6d92ec6367f",
       "version_major": 2,
       "version_minor": 0
      },
      "text/plain": [
       "Batches:   0%|          | 0/1 [00:00<?, ?it/s]"
      ]
     },
     "metadata": {},
     "output_type": "display_data"
    },
    {
     "data": {
      "application/vnd.jupyter.widget-view+json": {
       "model_id": "e0f1649883484637b919c60e92c46506",
       "version_major": 2,
       "version_minor": 0
      },
      "text/plain": [
       "Batches:   0%|          | 0/1 [00:00<?, ?it/s]"
      ]
     },
     "metadata": {},
     "output_type": "display_data"
    },
    {
     "data": {
      "application/vnd.jupyter.widget-view+json": {
       "model_id": "01165a1298724dd6abc864fb36088399",
       "version_major": 2,
       "version_minor": 0
      },
      "text/plain": [
       "Batches:   0%|          | 0/1 [00:00<?, ?it/s]"
      ]
     },
     "metadata": {},
     "output_type": "display_data"
    },
    {
     "data": {
      "application/vnd.jupyter.widget-view+json": {
       "model_id": "2467f71c97c4439dab46ef333f2dc970",
       "version_major": 2,
       "version_minor": 0
      },
      "text/plain": [
       "Batches:   0%|          | 0/1 [00:00<?, ?it/s]"
      ]
     },
     "metadata": {},
     "output_type": "display_data"
    },
    {
     "data": {
      "application/vnd.jupyter.widget-view+json": {
       "model_id": "2914948261a7423eaa20cb11c0b831f4",
       "version_major": 2,
       "version_minor": 0
      },
      "text/plain": [
       "Batches:   0%|          | 0/1 [00:00<?, ?it/s]"
      ]
     },
     "metadata": {},
     "output_type": "display_data"
    },
    {
     "data": {
      "application/vnd.jupyter.widget-view+json": {
       "model_id": "8887048e538c4e138588445106172c84",
       "version_major": 2,
       "version_minor": 0
      },
      "text/plain": [
       "Batches:   0%|          | 0/1 [00:00<?, ?it/s]"
      ]
     },
     "metadata": {},
     "output_type": "display_data"
    },
    {
     "data": {
      "application/vnd.jupyter.widget-view+json": {
       "model_id": "40bf50854f124e5d9e8a8c46494f1b5a",
       "version_major": 2,
       "version_minor": 0
      },
      "text/plain": [
       "Batches:   0%|          | 0/1 [00:00<?, ?it/s]"
      ]
     },
     "metadata": {},
     "output_type": "display_data"
    },
    {
     "data": {
      "application/vnd.jupyter.widget-view+json": {
       "model_id": "529b7315a8a749bfb81d7dd8c4d4c499",
       "version_major": 2,
       "version_minor": 0
      },
      "text/plain": [
       "Batches:   0%|          | 0/1 [00:00<?, ?it/s]"
      ]
     },
     "metadata": {},
     "output_type": "display_data"
    },
    {
     "data": {
      "application/vnd.jupyter.widget-view+json": {
       "model_id": "44337b97cfaf481d8bea856edd3ce03a",
       "version_major": 2,
       "version_minor": 0
      },
      "text/plain": [
       "Batches:   0%|          | 0/1 [00:00<?, ?it/s]"
      ]
     },
     "metadata": {},
     "output_type": "display_data"
    },
    {
     "data": {
      "application/vnd.jupyter.widget-view+json": {
       "model_id": "ed355a4a1a68498ebe441fda66804db8",
       "version_major": 2,
       "version_minor": 0
      },
      "text/plain": [
       "Batches:   0%|          | 0/1 [00:00<?, ?it/s]"
      ]
     },
     "metadata": {},
     "output_type": "display_data"
    },
    {
     "data": {
      "application/vnd.jupyter.widget-view+json": {
       "model_id": "3977f307e8214c0593edf8b51f21a40a",
       "version_major": 2,
       "version_minor": 0
      },
      "text/plain": [
       "Batches:   0%|          | 0/1 [00:00<?, ?it/s]"
      ]
     },
     "metadata": {},
     "output_type": "display_data"
    },
    {
     "data": {
      "application/vnd.jupyter.widget-view+json": {
       "model_id": "405cb534d6394f03badedf4aea9f61ef",
       "version_major": 2,
       "version_minor": 0
      },
      "text/plain": [
       "Batches:   0%|          | 0/1 [00:00<?, ?it/s]"
      ]
     },
     "metadata": {},
     "output_type": "display_data"
    },
    {
     "data": {
      "application/vnd.jupyter.widget-view+json": {
       "model_id": "6b0930fa18414de1bc6a51f0714ab814",
       "version_major": 2,
       "version_minor": 0
      },
      "text/plain": [
       "Batches:   0%|          | 0/1 [00:00<?, ?it/s]"
      ]
     },
     "metadata": {},
     "output_type": "display_data"
    },
    {
     "data": {
      "application/vnd.jupyter.widget-view+json": {
       "model_id": "e58109dca1ee4333b96569d85a2cc823",
       "version_major": 2,
       "version_minor": 0
      },
      "text/plain": [
       "Batches:   0%|          | 0/1 [00:00<?, ?it/s]"
      ]
     },
     "metadata": {},
     "output_type": "display_data"
    },
    {
     "data": {
      "application/vnd.jupyter.widget-view+json": {
       "model_id": "73d6d6ead68b42a4a40ebe3b5e95e6e0",
       "version_major": 2,
       "version_minor": 0
      },
      "text/plain": [
       "Batches:   0%|          | 0/1 [00:00<?, ?it/s]"
      ]
     },
     "metadata": {},
     "output_type": "display_data"
    },
    {
     "data": {
      "application/vnd.jupyter.widget-view+json": {
       "model_id": "54d51868417f408a93484be8afbbcd74",
       "version_major": 2,
       "version_minor": 0
      },
      "text/plain": [
       "Batches:   0%|          | 0/1 [00:00<?, ?it/s]"
      ]
     },
     "metadata": {},
     "output_type": "display_data"
    },
    {
     "data": {
      "application/vnd.jupyter.widget-view+json": {
       "model_id": "2f06b991ca8a421e86b0fb530516e05a",
       "version_major": 2,
       "version_minor": 0
      },
      "text/plain": [
       "Batches:   0%|          | 0/1 [00:00<?, ?it/s]"
      ]
     },
     "metadata": {},
     "output_type": "display_data"
    },
    {
     "data": {
      "application/vnd.jupyter.widget-view+json": {
       "model_id": "2906becfb81b4da2919d889bca97479d",
       "version_major": 2,
       "version_minor": 0
      },
      "text/plain": [
       "Batches:   0%|          | 0/1 [00:00<?, ?it/s]"
      ]
     },
     "metadata": {},
     "output_type": "display_data"
    },
    {
     "data": {
      "application/vnd.jupyter.widget-view+json": {
       "model_id": "41036d2dd5f34a88a4f936a1fae82673",
       "version_major": 2,
       "version_minor": 0
      },
      "text/plain": [
       "Batches:   0%|          | 0/1 [00:00<?, ?it/s]"
      ]
     },
     "metadata": {},
     "output_type": "display_data"
    },
    {
     "data": {
      "application/vnd.jupyter.widget-view+json": {
       "model_id": "2276bfc38b7e45bfa1e043a2e7aad973",
       "version_major": 2,
       "version_minor": 0
      },
      "text/plain": [
       "Batches:   0%|          | 0/1 [00:00<?, ?it/s]"
      ]
     },
     "metadata": {},
     "output_type": "display_data"
    },
    {
     "data": {
      "application/vnd.jupyter.widget-view+json": {
       "model_id": "77939d455b4144c7ba594a2a4af28450",
       "version_major": 2,
       "version_minor": 0
      },
      "text/plain": [
       "Batches:   0%|          | 0/1 [00:00<?, ?it/s]"
      ]
     },
     "metadata": {},
     "output_type": "display_data"
    },
    {
     "data": {
      "application/vnd.jupyter.widget-view+json": {
       "model_id": "c0f8e5786bc744b39e4b4c8aee7f135f",
       "version_major": 2,
       "version_minor": 0
      },
      "text/plain": [
       "Batches:   0%|          | 0/1 [00:00<?, ?it/s]"
      ]
     },
     "metadata": {},
     "output_type": "display_data"
    },
    {
     "data": {
      "application/vnd.jupyter.widget-view+json": {
       "model_id": "9ee2a137e345453bb16a0736a630dab9",
       "version_major": 2,
       "version_minor": 0
      },
      "text/plain": [
       "Batches:   0%|          | 0/1 [00:00<?, ?it/s]"
      ]
     },
     "metadata": {},
     "output_type": "display_data"
    },
    {
     "data": {
      "application/vnd.jupyter.widget-view+json": {
       "model_id": "e57021da835f4a3088360208ceae1d93",
       "version_major": 2,
       "version_minor": 0
      },
      "text/plain": [
       "Batches:   0%|          | 0/1 [00:00<?, ?it/s]"
      ]
     },
     "metadata": {},
     "output_type": "display_data"
    },
    {
     "data": {
      "application/vnd.jupyter.widget-view+json": {
       "model_id": "39c2dd80cfa241b8b0fa52a501e232d7",
       "version_major": 2,
       "version_minor": 0
      },
      "text/plain": [
       "Batches:   0%|          | 0/1 [00:00<?, ?it/s]"
      ]
     },
     "metadata": {},
     "output_type": "display_data"
    },
    {
     "data": {
      "application/vnd.jupyter.widget-view+json": {
       "model_id": "a71a6ce1407245e29c8a92fb053f478f",
       "version_major": 2,
       "version_minor": 0
      },
      "text/plain": [
       "Batches:   0%|          | 0/1 [00:00<?, ?it/s]"
      ]
     },
     "metadata": {},
     "output_type": "display_data"
    },
    {
     "data": {
      "application/vnd.jupyter.widget-view+json": {
       "model_id": "1c0eae8143ca40ee88eb7c2821993d54",
       "version_major": 2,
       "version_minor": 0
      },
      "text/plain": [
       "Batches:   0%|          | 0/1 [00:00<?, ?it/s]"
      ]
     },
     "metadata": {},
     "output_type": "display_data"
    },
    {
     "data": {
      "application/vnd.jupyter.widget-view+json": {
       "model_id": "205507c5c4e144ccbfa7062294fcc369",
       "version_major": 2,
       "version_minor": 0
      },
      "text/plain": [
       "Batches:   0%|          | 0/1 [00:00<?, ?it/s]"
      ]
     },
     "metadata": {},
     "output_type": "display_data"
    },
    {
     "data": {
      "application/vnd.jupyter.widget-view+json": {
       "model_id": "7762d1d35de34d7bbf42ba540a816063",
       "version_major": 2,
       "version_minor": 0
      },
      "text/plain": [
       "Batches:   0%|          | 0/1 [00:00<?, ?it/s]"
      ]
     },
     "metadata": {},
     "output_type": "display_data"
    },
    {
     "data": {
      "application/vnd.jupyter.widget-view+json": {
       "model_id": "b2c7293e7ac648a6b11fe328d7a72537",
       "version_major": 2,
       "version_minor": 0
      },
      "text/plain": [
       "Batches:   0%|          | 0/1 [00:00<?, ?it/s]"
      ]
     },
     "metadata": {},
     "output_type": "display_data"
    },
    {
     "data": {
      "application/vnd.jupyter.widget-view+json": {
       "model_id": "f65f9f3524ae4d708efe81e26ef290cd",
       "version_major": 2,
       "version_minor": 0
      },
      "text/plain": [
       "Batches:   0%|          | 0/1 [00:00<?, ?it/s]"
      ]
     },
     "metadata": {},
     "output_type": "display_data"
    },
    {
     "data": {
      "application/vnd.jupyter.widget-view+json": {
       "model_id": "3cd5cababa3c4d728cfc3a801e54676b",
       "version_major": 2,
       "version_minor": 0
      },
      "text/plain": [
       "Batches:   0%|          | 0/1 [00:00<?, ?it/s]"
      ]
     },
     "metadata": {},
     "output_type": "display_data"
    },
    {
     "data": {
      "application/vnd.jupyter.widget-view+json": {
       "model_id": "7731c589dbf94fc6bc6809c1a33e9f76",
       "version_major": 2,
       "version_minor": 0
      },
      "text/plain": [
       "Batches:   0%|          | 0/1 [00:00<?, ?it/s]"
      ]
     },
     "metadata": {},
     "output_type": "display_data"
    },
    {
     "data": {
      "application/vnd.jupyter.widget-view+json": {
       "model_id": "752df36a2e7e4fcb9d504745cc6cfdde",
       "version_major": 2,
       "version_minor": 0
      },
      "text/plain": [
       "Batches:   0%|          | 0/1 [00:00<?, ?it/s]"
      ]
     },
     "metadata": {},
     "output_type": "display_data"
    },
    {
     "data": {
      "application/vnd.jupyter.widget-view+json": {
       "model_id": "6b4725e642884f04a2a22bd3eac74433",
       "version_major": 2,
       "version_minor": 0
      },
      "text/plain": [
       "Batches:   0%|          | 0/1 [00:00<?, ?it/s]"
      ]
     },
     "metadata": {},
     "output_type": "display_data"
    },
    {
     "data": {
      "application/vnd.jupyter.widget-view+json": {
       "model_id": "325058db709a4ac6bc77db5016408ab7",
       "version_major": 2,
       "version_minor": 0
      },
      "text/plain": [
       "Batches:   0%|          | 0/1 [00:00<?, ?it/s]"
      ]
     },
     "metadata": {},
     "output_type": "display_data"
    },
    {
     "data": {
      "application/vnd.jupyter.widget-view+json": {
       "model_id": "9f4fca21c7f84e1ba8c7b982e05f1ea5",
       "version_major": 2,
       "version_minor": 0
      },
      "text/plain": [
       "Batches:   0%|          | 0/1 [00:00<?, ?it/s]"
      ]
     },
     "metadata": {},
     "output_type": "display_data"
    },
    {
     "data": {
      "application/vnd.jupyter.widget-view+json": {
       "model_id": "33b4b3d498e14502b8fffc69f2e20aa3",
       "version_major": 2,
       "version_minor": 0
      },
      "text/plain": [
       "Batches:   0%|          | 0/1 [00:00<?, ?it/s]"
      ]
     },
     "metadata": {},
     "output_type": "display_data"
    },
    {
     "data": {
      "application/vnd.jupyter.widget-view+json": {
       "model_id": "99c293b644a04a73a8382bb655636a67",
       "version_major": 2,
       "version_minor": 0
      },
      "text/plain": [
       "Batches:   0%|          | 0/1 [00:00<?, ?it/s]"
      ]
     },
     "metadata": {},
     "output_type": "display_data"
    },
    {
     "data": {
      "application/vnd.jupyter.widget-view+json": {
       "model_id": "e2c0f4c3b542414bb460c5d6410c3db7",
       "version_major": 2,
       "version_minor": 0
      },
      "text/plain": [
       "Batches:   0%|          | 0/1 [00:00<?, ?it/s]"
      ]
     },
     "metadata": {},
     "output_type": "display_data"
    },
    {
     "data": {
      "application/vnd.jupyter.widget-view+json": {
       "model_id": "511f6fcda0724e718c3044f6765d8a23",
       "version_major": 2,
       "version_minor": 0
      },
      "text/plain": [
       "Batches:   0%|          | 0/1 [00:00<?, ?it/s]"
      ]
     },
     "metadata": {},
     "output_type": "display_data"
    },
    {
     "data": {
      "application/vnd.jupyter.widget-view+json": {
       "model_id": "40cbd23e42f64a4cb0869253dccfcdba",
       "version_major": 2,
       "version_minor": 0
      },
      "text/plain": [
       "Batches:   0%|          | 0/1 [00:00<?, ?it/s]"
      ]
     },
     "metadata": {},
     "output_type": "display_data"
    },
    {
     "data": {
      "application/vnd.jupyter.widget-view+json": {
       "model_id": "f37f06e650c24e99ad029ded5045e888",
       "version_major": 2,
       "version_minor": 0
      },
      "text/plain": [
       "Batches:   0%|          | 0/1 [00:00<?, ?it/s]"
      ]
     },
     "metadata": {},
     "output_type": "display_data"
    },
    {
     "data": {
      "application/vnd.jupyter.widget-view+json": {
       "model_id": "7d90b474556c445ab6988acc72a10c44",
       "version_major": 2,
       "version_minor": 0
      },
      "text/plain": [
       "Batches:   0%|          | 0/1 [00:00<?, ?it/s]"
      ]
     },
     "metadata": {},
     "output_type": "display_data"
    },
    {
     "data": {
      "application/vnd.jupyter.widget-view+json": {
       "model_id": "ac5bc30a344a4592a58cce268dd5def8",
       "version_major": 2,
       "version_minor": 0
      },
      "text/plain": [
       "Batches:   0%|          | 0/1 [00:00<?, ?it/s]"
      ]
     },
     "metadata": {},
     "output_type": "display_data"
    },
    {
     "data": {
      "application/vnd.jupyter.widget-view+json": {
       "model_id": "de066010c35e47f094432543fc648b31",
       "version_major": 2,
       "version_minor": 0
      },
      "text/plain": [
       "Batches:   0%|          | 0/1 [00:00<?, ?it/s]"
      ]
     },
     "metadata": {},
     "output_type": "display_data"
    },
    {
     "data": {
      "application/vnd.jupyter.widget-view+json": {
       "model_id": "e7d51de437344a16bed8661dda39ebcf",
       "version_major": 2,
       "version_minor": 0
      },
      "text/plain": [
       "Batches:   0%|          | 0/1 [00:00<?, ?it/s]"
      ]
     },
     "metadata": {},
     "output_type": "display_data"
    },
    {
     "data": {
      "application/vnd.jupyter.widget-view+json": {
       "model_id": "b23cd30adc7f475bb2f31f1b1ee60ff6",
       "version_major": 2,
       "version_minor": 0
      },
      "text/plain": [
       "Batches:   0%|          | 0/1 [00:00<?, ?it/s]"
      ]
     },
     "metadata": {},
     "output_type": "display_data"
    },
    {
     "data": {
      "application/vnd.jupyter.widget-view+json": {
       "model_id": "70354d8183f748d186288ebaff48a04b",
       "version_major": 2,
       "version_minor": 0
      },
      "text/plain": [
       "Batches:   0%|          | 0/1 [00:00<?, ?it/s]"
      ]
     },
     "metadata": {},
     "output_type": "display_data"
    },
    {
     "data": {
      "application/vnd.jupyter.widget-view+json": {
       "model_id": "041db7f37ef6450e905de475fa1994c1",
       "version_major": 2,
       "version_minor": 0
      },
      "text/plain": [
       "Batches:   0%|          | 0/1 [00:00<?, ?it/s]"
      ]
     },
     "metadata": {},
     "output_type": "display_data"
    },
    {
     "data": {
      "application/vnd.jupyter.widget-view+json": {
       "model_id": "028b7c0a48da43128527a0788f0a402d",
       "version_major": 2,
       "version_minor": 0
      },
      "text/plain": [
       "Batches:   0%|          | 0/1 [00:00<?, ?it/s]"
      ]
     },
     "metadata": {},
     "output_type": "display_data"
    },
    {
     "data": {
      "application/vnd.jupyter.widget-view+json": {
       "model_id": "21910310977b4ba89ad13bb24f846dfc",
       "version_major": 2,
       "version_minor": 0
      },
      "text/plain": [
       "Batches:   0%|          | 0/1 [00:00<?, ?it/s]"
      ]
     },
     "metadata": {},
     "output_type": "display_data"
    },
    {
     "data": {
      "application/vnd.jupyter.widget-view+json": {
       "model_id": "e374f34293174b7595d8e91c1afef363",
       "version_major": 2,
       "version_minor": 0
      },
      "text/plain": [
       "Batches:   0%|          | 0/1 [00:00<?, ?it/s]"
      ]
     },
     "metadata": {},
     "output_type": "display_data"
    },
    {
     "data": {
      "application/vnd.jupyter.widget-view+json": {
       "model_id": "a3168c2fc6f146b5975fc379b19533dc",
       "version_major": 2,
       "version_minor": 0
      },
      "text/plain": [
       "Batches:   0%|          | 0/1 [00:00<?, ?it/s]"
      ]
     },
     "metadata": {},
     "output_type": "display_data"
    },
    {
     "data": {
      "application/vnd.jupyter.widget-view+json": {
       "model_id": "0a2f20b3092b4dccafe16d3558537d17",
       "version_major": 2,
       "version_minor": 0
      },
      "text/plain": [
       "Batches:   0%|          | 0/1 [00:00<?, ?it/s]"
      ]
     },
     "metadata": {},
     "output_type": "display_data"
    },
    {
     "data": {
      "application/vnd.jupyter.widget-view+json": {
       "model_id": "727442e97d95412aa63b5228254e4ef2",
       "version_major": 2,
       "version_minor": 0
      },
      "text/plain": [
       "Batches:   0%|          | 0/1 [00:00<?, ?it/s]"
      ]
     },
     "metadata": {},
     "output_type": "display_data"
    },
    {
     "data": {
      "application/vnd.jupyter.widget-view+json": {
       "model_id": "b20b2354d1d9448391cb1063c99975ec",
       "version_major": 2,
       "version_minor": 0
      },
      "text/plain": [
       "Batches:   0%|          | 0/1 [00:00<?, ?it/s]"
      ]
     },
     "metadata": {},
     "output_type": "display_data"
    },
    {
     "data": {
      "application/vnd.jupyter.widget-view+json": {
       "model_id": "d1fbbe686a4247e583366cef1da939b0",
       "version_major": 2,
       "version_minor": 0
      },
      "text/plain": [
       "Batches:   0%|          | 0/1 [00:00<?, ?it/s]"
      ]
     },
     "metadata": {},
     "output_type": "display_data"
    },
    {
     "data": {
      "application/vnd.jupyter.widget-view+json": {
       "model_id": "b976e49281104784aa76727cbe7bb323",
       "version_major": 2,
       "version_minor": 0
      },
      "text/plain": [
       "Batches:   0%|          | 0/1 [00:00<?, ?it/s]"
      ]
     },
     "metadata": {},
     "output_type": "display_data"
    },
    {
     "data": {
      "application/vnd.jupyter.widget-view+json": {
       "model_id": "145a52a673614e62a10e95e8d8695807",
       "version_major": 2,
       "version_minor": 0
      },
      "text/plain": [
       "Batches:   0%|          | 0/1 [00:00<?, ?it/s]"
      ]
     },
     "metadata": {},
     "output_type": "display_data"
    },
    {
     "data": {
      "application/vnd.jupyter.widget-view+json": {
       "model_id": "98cb884c98c246129aedfbc65214aa06",
       "version_major": 2,
       "version_minor": 0
      },
      "text/plain": [
       "Batches:   0%|          | 0/1 [00:00<?, ?it/s]"
      ]
     },
     "metadata": {},
     "output_type": "display_data"
    },
    {
     "data": {
      "application/vnd.jupyter.widget-view+json": {
       "model_id": "5b1eceec72634724b382ea4aadfa1008",
       "version_major": 2,
       "version_minor": 0
      },
      "text/plain": [
       "Batches:   0%|          | 0/1 [00:00<?, ?it/s]"
      ]
     },
     "metadata": {},
     "output_type": "display_data"
    },
    {
     "data": {
      "application/vnd.jupyter.widget-view+json": {
       "model_id": "92436580e89b43eeaf1757a927389efa",
       "version_major": 2,
       "version_minor": 0
      },
      "text/plain": [
       "Batches:   0%|          | 0/1 [00:00<?, ?it/s]"
      ]
     },
     "metadata": {},
     "output_type": "display_data"
    },
    {
     "data": {
      "application/vnd.jupyter.widget-view+json": {
       "model_id": "436580ac6fcb4c82a7ade70d63ab2537",
       "version_major": 2,
       "version_minor": 0
      },
      "text/plain": [
       "Batches:   0%|          | 0/1 [00:00<?, ?it/s]"
      ]
     },
     "metadata": {},
     "output_type": "display_data"
    },
    {
     "data": {
      "application/vnd.jupyter.widget-view+json": {
       "model_id": "1539593b71974356a5908c4453b604a8",
       "version_major": 2,
       "version_minor": 0
      },
      "text/plain": [
       "Batches:   0%|          | 0/1 [00:00<?, ?it/s]"
      ]
     },
     "metadata": {},
     "output_type": "display_data"
    },
    {
     "data": {
      "application/vnd.jupyter.widget-view+json": {
       "model_id": "6da25d93a1384ec3a646d904a9bd260d",
       "version_major": 2,
       "version_minor": 0
      },
      "text/plain": [
       "Batches:   0%|          | 0/1 [00:00<?, ?it/s]"
      ]
     },
     "metadata": {},
     "output_type": "display_data"
    },
    {
     "data": {
      "application/vnd.jupyter.widget-view+json": {
       "model_id": "b7b4db54fb004a819ad6ae1ce2e0b959",
       "version_major": 2,
       "version_minor": 0
      },
      "text/plain": [
       "Batches:   0%|          | 0/1 [00:00<?, ?it/s]"
      ]
     },
     "metadata": {},
     "output_type": "display_data"
    },
    {
     "data": {
      "application/vnd.jupyter.widget-view+json": {
       "model_id": "918f9cc57f274896897347727f299c25",
       "version_major": 2,
       "version_minor": 0
      },
      "text/plain": [
       "Batches:   0%|          | 0/1 [00:00<?, ?it/s]"
      ]
     },
     "metadata": {},
     "output_type": "display_data"
    },
    {
     "data": {
      "application/vnd.jupyter.widget-view+json": {
       "model_id": "5c9878ba0e14428a9cf062f3a345bf13",
       "version_major": 2,
       "version_minor": 0
      },
      "text/plain": [
       "Batches:   0%|          | 0/1 [00:00<?, ?it/s]"
      ]
     },
     "metadata": {},
     "output_type": "display_data"
    },
    {
     "data": {
      "application/vnd.jupyter.widget-view+json": {
       "model_id": "7c56e8e6d69f4419b4eb0fe2c3a0bf7b",
       "version_major": 2,
       "version_minor": 0
      },
      "text/plain": [
       "Batches:   0%|          | 0/1 [00:00<?, ?it/s]"
      ]
     },
     "metadata": {},
     "output_type": "display_data"
    },
    {
     "data": {
      "application/vnd.jupyter.widget-view+json": {
       "model_id": "e58e3579ff6a4700a31d3cccc88bdca9",
       "version_major": 2,
       "version_minor": 0
      },
      "text/plain": [
       "Batches:   0%|          | 0/1 [00:00<?, ?it/s]"
      ]
     },
     "metadata": {},
     "output_type": "display_data"
    },
    {
     "data": {
      "application/vnd.jupyter.widget-view+json": {
       "model_id": "2eb69cba507b4efea9275b0b0e2b8fbd",
       "version_major": 2,
       "version_minor": 0
      },
      "text/plain": [
       "Batches:   0%|          | 0/1 [00:00<?, ?it/s]"
      ]
     },
     "metadata": {},
     "output_type": "display_data"
    },
    {
     "data": {
      "application/vnd.jupyter.widget-view+json": {
       "model_id": "549722e792e24938bc4d8309bb3bedda",
       "version_major": 2,
       "version_minor": 0
      },
      "text/plain": [
       "Batches:   0%|          | 0/1 [00:00<?, ?it/s]"
      ]
     },
     "metadata": {},
     "output_type": "display_data"
    },
    {
     "data": {
      "application/vnd.jupyter.widget-view+json": {
       "model_id": "c9eaf74ab338423c8ec2663a4baa3c20",
       "version_major": 2,
       "version_minor": 0
      },
      "text/plain": [
       "Batches:   0%|          | 0/1 [00:00<?, ?it/s]"
      ]
     },
     "metadata": {},
     "output_type": "display_data"
    },
    {
     "data": {
      "application/vnd.jupyter.widget-view+json": {
       "model_id": "cdae4e35263c40a096193162ea37b6c6",
       "version_major": 2,
       "version_minor": 0
      },
      "text/plain": [
       "Batches:   0%|          | 0/1 [00:00<?, ?it/s]"
      ]
     },
     "metadata": {},
     "output_type": "display_data"
    },
    {
     "data": {
      "application/vnd.jupyter.widget-view+json": {
       "model_id": "d5e03e41182944e5baaf5c31fafbd118",
       "version_major": 2,
       "version_minor": 0
      },
      "text/plain": [
       "Batches:   0%|          | 0/1 [00:00<?, ?it/s]"
      ]
     },
     "metadata": {},
     "output_type": "display_data"
    },
    {
     "data": {
      "application/vnd.jupyter.widget-view+json": {
       "model_id": "64948a879d1248b38dcb3045de0b4451",
       "version_major": 2,
       "version_minor": 0
      },
      "text/plain": [
       "Batches:   0%|          | 0/1 [00:00<?, ?it/s]"
      ]
     },
     "metadata": {},
     "output_type": "display_data"
    },
    {
     "data": {
      "application/vnd.jupyter.widget-view+json": {
       "model_id": "46a6fb7bf1de4961bd666ab8f2d59587",
       "version_major": 2,
       "version_minor": 0
      },
      "text/plain": [
       "Batches:   0%|          | 0/1 [00:00<?, ?it/s]"
      ]
     },
     "metadata": {},
     "output_type": "display_data"
    },
    {
     "data": {
      "application/vnd.jupyter.widget-view+json": {
       "model_id": "2f5908ae091e4e5ebaadf61c69cabe2f",
       "version_major": 2,
       "version_minor": 0
      },
      "text/plain": [
       "Batches:   0%|          | 0/1 [00:00<?, ?it/s]"
      ]
     },
     "metadata": {},
     "output_type": "display_data"
    },
    {
     "data": {
      "application/vnd.jupyter.widget-view+json": {
       "model_id": "09ec42f26d574142ab5ea6ce280e84b8",
       "version_major": 2,
       "version_minor": 0
      },
      "text/plain": [
       "Batches:   0%|          | 0/1 [00:00<?, ?it/s]"
      ]
     },
     "metadata": {},
     "output_type": "display_data"
    },
    {
     "data": {
      "application/vnd.jupyter.widget-view+json": {
       "model_id": "508871537d29499fae30dd6b4e2ab1d9",
       "version_major": 2,
       "version_minor": 0
      },
      "text/plain": [
       "Batches:   0%|          | 0/1 [00:00<?, ?it/s]"
      ]
     },
     "metadata": {},
     "output_type": "display_data"
    },
    {
     "data": {
      "application/vnd.jupyter.widget-view+json": {
       "model_id": "a7cd9f126da141b1ba07377ebdf0ff41",
       "version_major": 2,
       "version_minor": 0
      },
      "text/plain": [
       "Batches:   0%|          | 0/1 [00:00<?, ?it/s]"
      ]
     },
     "metadata": {},
     "output_type": "display_data"
    },
    {
     "data": {
      "application/vnd.jupyter.widget-view+json": {
       "model_id": "16bf4941cdee461d8cc4860aba471c2d",
       "version_major": 2,
       "version_minor": 0
      },
      "text/plain": [
       "Batches:   0%|          | 0/1 [00:00<?, ?it/s]"
      ]
     },
     "metadata": {},
     "output_type": "display_data"
    },
    {
     "data": {
      "application/vnd.jupyter.widget-view+json": {
       "model_id": "009c2bccbc4247c3958d88e0b8ed34e8",
       "version_major": 2,
       "version_minor": 0
      },
      "text/plain": [
       "Batches:   0%|          | 0/1 [00:00<?, ?it/s]"
      ]
     },
     "metadata": {},
     "output_type": "display_data"
    },
    {
     "data": {
      "application/vnd.jupyter.widget-view+json": {
       "model_id": "746aa4f35f144e60a9d70d368acc2ae9",
       "version_major": 2,
       "version_minor": 0
      },
      "text/plain": [
       "Batches:   0%|          | 0/1 [00:00<?, ?it/s]"
      ]
     },
     "metadata": {},
     "output_type": "display_data"
    },
    {
     "data": {
      "application/vnd.jupyter.widget-view+json": {
       "model_id": "ed2ae4be333f4929b0cd9a7aa9f06c54",
       "version_major": 2,
       "version_minor": 0
      },
      "text/plain": [
       "Batches:   0%|          | 0/1 [00:00<?, ?it/s]"
      ]
     },
     "metadata": {},
     "output_type": "display_data"
    },
    {
     "data": {
      "application/vnd.jupyter.widget-view+json": {
       "model_id": "c7766b49461e458cb98dcbe4f06aca0d",
       "version_major": 2,
       "version_minor": 0
      },
      "text/plain": [
       "Batches:   0%|          | 0/1 [00:00<?, ?it/s]"
      ]
     },
     "metadata": {},
     "output_type": "display_data"
    },
    {
     "data": {
      "application/vnd.jupyter.widget-view+json": {
       "model_id": "2cf9c3beffcb409a9fdbe74906fe871c",
       "version_major": 2,
       "version_minor": 0
      },
      "text/plain": [
       "Batches:   0%|          | 0/1 [00:00<?, ?it/s]"
      ]
     },
     "metadata": {},
     "output_type": "display_data"
    },
    {
     "data": {
      "application/vnd.jupyter.widget-view+json": {
       "model_id": "c088c1000025480798fa15cab7b9c7f1",
       "version_major": 2,
       "version_minor": 0
      },
      "text/plain": [
       "Batches:   0%|          | 0/1 [00:00<?, ?it/s]"
      ]
     },
     "metadata": {},
     "output_type": "display_data"
    },
    {
     "data": {
      "application/vnd.jupyter.widget-view+json": {
       "model_id": "5de509400bff4ee3a5c7f83be74c571d",
       "version_major": 2,
       "version_minor": 0
      },
      "text/plain": [
       "Batches:   0%|          | 0/1 [00:00<?, ?it/s]"
      ]
     },
     "metadata": {},
     "output_type": "display_data"
    },
    {
     "data": {
      "application/vnd.jupyter.widget-view+json": {
       "model_id": "cc01e07c18894c5cb9682303216bd4d8",
       "version_major": 2,
       "version_minor": 0
      },
      "text/plain": [
       "Batches:   0%|          | 0/1 [00:00<?, ?it/s]"
      ]
     },
     "metadata": {},
     "output_type": "display_data"
    },
    {
     "data": {
      "application/vnd.jupyter.widget-view+json": {
       "model_id": "e3b44aac34e54e4884e39697aaf7310b",
       "version_major": 2,
       "version_minor": 0
      },
      "text/plain": [
       "Batches:   0%|          | 0/1 [00:00<?, ?it/s]"
      ]
     },
     "metadata": {},
     "output_type": "display_data"
    },
    {
     "data": {
      "application/vnd.jupyter.widget-view+json": {
       "model_id": "eeaa58109a6c4554ba8e5c5fad5dabf9",
       "version_major": 2,
       "version_minor": 0
      },
      "text/plain": [
       "Batches:   0%|          | 0/1 [00:00<?, ?it/s]"
      ]
     },
     "metadata": {},
     "output_type": "display_data"
    },
    {
     "data": {
      "application/vnd.jupyter.widget-view+json": {
       "model_id": "f5ba472bddc149d58a07feb51224beb4",
       "version_major": 2,
       "version_minor": 0
      },
      "text/plain": [
       "Batches:   0%|          | 0/1 [00:00<?, ?it/s]"
      ]
     },
     "metadata": {},
     "output_type": "display_data"
    },
    {
     "data": {
      "application/vnd.jupyter.widget-view+json": {
       "model_id": "1f439e015a5543baa6bf6932f2d623b7",
       "version_major": 2,
       "version_minor": 0
      },
      "text/plain": [
       "Batches:   0%|          | 0/1 [00:00<?, ?it/s]"
      ]
     },
     "metadata": {},
     "output_type": "display_data"
    },
    {
     "data": {
      "application/vnd.jupyter.widget-view+json": {
       "model_id": "db9bdd6d414f4bf0be369de0774201f6",
       "version_major": 2,
       "version_minor": 0
      },
      "text/plain": [
       "Batches:   0%|          | 0/1 [00:00<?, ?it/s]"
      ]
     },
     "metadata": {},
     "output_type": "display_data"
    },
    {
     "data": {
      "application/vnd.jupyter.widget-view+json": {
       "model_id": "1f616e336d964d22a0fa36ac5e7c9366",
       "version_major": 2,
       "version_minor": 0
      },
      "text/plain": [
       "Batches:   0%|          | 0/1 [00:00<?, ?it/s]"
      ]
     },
     "metadata": {},
     "output_type": "display_data"
    },
    {
     "data": {
      "application/vnd.jupyter.widget-view+json": {
       "model_id": "8bdcdddb885040f1bf5fb2dcfb006376",
       "version_major": 2,
       "version_minor": 0
      },
      "text/plain": [
       "Batches:   0%|          | 0/1 [00:00<?, ?it/s]"
      ]
     },
     "metadata": {},
     "output_type": "display_data"
    },
    {
     "data": {
      "application/vnd.jupyter.widget-view+json": {
       "model_id": "99fd6b0507b94901b38058a08c981868",
       "version_major": 2,
       "version_minor": 0
      },
      "text/plain": [
       "Batches:   0%|          | 0/1 [00:00<?, ?it/s]"
      ]
     },
     "metadata": {},
     "output_type": "display_data"
    },
    {
     "data": {
      "application/vnd.jupyter.widget-view+json": {
       "model_id": "a001d73195e14fc6a4131ab00ebc6631",
       "version_major": 2,
       "version_minor": 0
      },
      "text/plain": [
       "Batches:   0%|          | 0/1 [00:00<?, ?it/s]"
      ]
     },
     "metadata": {},
     "output_type": "display_data"
    },
    {
     "data": {
      "application/vnd.jupyter.widget-view+json": {
       "model_id": "308f19c6cda14ea19419bc175a6e7b37",
       "version_major": 2,
       "version_minor": 0
      },
      "text/plain": [
       "Batches:   0%|          | 0/1 [00:00<?, ?it/s]"
      ]
     },
     "metadata": {},
     "output_type": "display_data"
    },
    {
     "data": {
      "application/vnd.jupyter.widget-view+json": {
       "model_id": "80c45bd56f3a46b78ff58277c4bb74c1",
       "version_major": 2,
       "version_minor": 0
      },
      "text/plain": [
       "Batches:   0%|          | 0/1 [00:00<?, ?it/s]"
      ]
     },
     "metadata": {},
     "output_type": "display_data"
    },
    {
     "data": {
      "application/vnd.jupyter.widget-view+json": {
       "model_id": "689c5f133a2a451f9844b2428f15b896",
       "version_major": 2,
       "version_minor": 0
      },
      "text/plain": [
       "Batches:   0%|          | 0/1 [00:00<?, ?it/s]"
      ]
     },
     "metadata": {},
     "output_type": "display_data"
    },
    {
     "data": {
      "application/vnd.jupyter.widget-view+json": {
       "model_id": "6166b4ee40064c61a28479f603f30c09",
       "version_major": 2,
       "version_minor": 0
      },
      "text/plain": [
       "Batches:   0%|          | 0/1 [00:00<?, ?it/s]"
      ]
     },
     "metadata": {},
     "output_type": "display_data"
    },
    {
     "data": {
      "application/vnd.jupyter.widget-view+json": {
       "model_id": "9d92ebe3a6864d129ee93252412bcfd9",
       "version_major": 2,
       "version_minor": 0
      },
      "text/plain": [
       "Batches:   0%|          | 0/1 [00:00<?, ?it/s]"
      ]
     },
     "metadata": {},
     "output_type": "display_data"
    },
    {
     "data": {
      "application/vnd.jupyter.widget-view+json": {
       "model_id": "cf58ba2741134c3f97587383299447d6",
       "version_major": 2,
       "version_minor": 0
      },
      "text/plain": [
       "Batches:   0%|          | 0/1 [00:00<?, ?it/s]"
      ]
     },
     "metadata": {},
     "output_type": "display_data"
    },
    {
     "data": {
      "application/vnd.jupyter.widget-view+json": {
       "model_id": "e28ecd79de3144abb3f78e482402a4ef",
       "version_major": 2,
       "version_minor": 0
      },
      "text/plain": [
       "Batches:   0%|          | 0/1 [00:00<?, ?it/s]"
      ]
     },
     "metadata": {},
     "output_type": "display_data"
    },
    {
     "data": {
      "application/vnd.jupyter.widget-view+json": {
       "model_id": "b27a09642e514222a1edab171802d3db",
       "version_major": 2,
       "version_minor": 0
      },
      "text/plain": [
       "Batches:   0%|          | 0/1 [00:00<?, ?it/s]"
      ]
     },
     "metadata": {},
     "output_type": "display_data"
    },
    {
     "data": {
      "application/vnd.jupyter.widget-view+json": {
       "model_id": "e312c64d5caf4b7dbaa9c949adbb1f86",
       "version_major": 2,
       "version_minor": 0
      },
      "text/plain": [
       "Batches:   0%|          | 0/1 [00:00<?, ?it/s]"
      ]
     },
     "metadata": {},
     "output_type": "display_data"
    },
    {
     "data": {
      "application/vnd.jupyter.widget-view+json": {
       "model_id": "6a97707203b74267b133a6f5d3ca511b",
       "version_major": 2,
       "version_minor": 0
      },
      "text/plain": [
       "Batches:   0%|          | 0/1 [00:00<?, ?it/s]"
      ]
     },
     "metadata": {},
     "output_type": "display_data"
    },
    {
     "data": {
      "application/vnd.jupyter.widget-view+json": {
       "model_id": "efe75383a0a84ce38fc5441c5f106dd7",
       "version_major": 2,
       "version_minor": 0
      },
      "text/plain": [
       "Batches:   0%|          | 0/1 [00:00<?, ?it/s]"
      ]
     },
     "metadata": {},
     "output_type": "display_data"
    },
    {
     "data": {
      "application/vnd.jupyter.widget-view+json": {
       "model_id": "1b9b897764f64aab82d14134de8ba024",
       "version_major": 2,
       "version_minor": 0
      },
      "text/plain": [
       "Batches:   0%|          | 0/1 [00:00<?, ?it/s]"
      ]
     },
     "metadata": {},
     "output_type": "display_data"
    },
    {
     "data": {
      "application/vnd.jupyter.widget-view+json": {
       "model_id": "9ae797450cd5477293b7375350e7bcb6",
       "version_major": 2,
       "version_minor": 0
      },
      "text/plain": [
       "Batches:   0%|          | 0/1 [00:00<?, ?it/s]"
      ]
     },
     "metadata": {},
     "output_type": "display_data"
    },
    {
     "data": {
      "application/vnd.jupyter.widget-view+json": {
       "model_id": "0248e1ed329a4b6082a0dfdd9a9c7768",
       "version_major": 2,
       "version_minor": 0
      },
      "text/plain": [
       "Batches:   0%|          | 0/1 [00:00<?, ?it/s]"
      ]
     },
     "metadata": {},
     "output_type": "display_data"
    },
    {
     "data": {
      "application/vnd.jupyter.widget-view+json": {
       "model_id": "0e086db8979b464791fb34efa994fa33",
       "version_major": 2,
       "version_minor": 0
      },
      "text/plain": [
       "Batches:   0%|          | 0/1 [00:00<?, ?it/s]"
      ]
     },
     "metadata": {},
     "output_type": "display_data"
    },
    {
     "data": {
      "application/vnd.jupyter.widget-view+json": {
       "model_id": "04f0a441860347f59bac3fb52173b575",
       "version_major": 2,
       "version_minor": 0
      },
      "text/plain": [
       "Batches:   0%|          | 0/1 [00:00<?, ?it/s]"
      ]
     },
     "metadata": {},
     "output_type": "display_data"
    },
    {
     "data": {
      "application/vnd.jupyter.widget-view+json": {
       "model_id": "3e1be2b5053f4fd29e5892da2c1504d2",
       "version_major": 2,
       "version_minor": 0
      },
      "text/plain": [
       "Batches:   0%|          | 0/1 [00:00<?, ?it/s]"
      ]
     },
     "metadata": {},
     "output_type": "display_data"
    },
    {
     "data": {
      "application/vnd.jupyter.widget-view+json": {
       "model_id": "1ba06cf020064921853605f12c274fe2",
       "version_major": 2,
       "version_minor": 0
      },
      "text/plain": [
       "Batches:   0%|          | 0/1 [00:00<?, ?it/s]"
      ]
     },
     "metadata": {},
     "output_type": "display_data"
    },
    {
     "data": {
      "application/vnd.jupyter.widget-view+json": {
       "model_id": "59cc7e551696402da95030d2407a445f",
       "version_major": 2,
       "version_minor": 0
      },
      "text/plain": [
       "Batches:   0%|          | 0/1 [00:00<?, ?it/s]"
      ]
     },
     "metadata": {},
     "output_type": "display_data"
    },
    {
     "data": {
      "application/vnd.jupyter.widget-view+json": {
       "model_id": "5dac1de984f8496d8ef362d48d3a7a12",
       "version_major": 2,
       "version_minor": 0
      },
      "text/plain": [
       "Batches:   0%|          | 0/1 [00:00<?, ?it/s]"
      ]
     },
     "metadata": {},
     "output_type": "display_data"
    },
    {
     "data": {
      "application/vnd.jupyter.widget-view+json": {
       "model_id": "8d0f449112b64ba5b030f8e8d99975cd",
       "version_major": 2,
       "version_minor": 0
      },
      "text/plain": [
       "Batches:   0%|          | 0/1 [00:00<?, ?it/s]"
      ]
     },
     "metadata": {},
     "output_type": "display_data"
    },
    {
     "data": {
      "application/vnd.jupyter.widget-view+json": {
       "model_id": "36b3d6dc3f6a43fc95ae95e9d431295b",
       "version_major": 2,
       "version_minor": 0
      },
      "text/plain": [
       "Batches:   0%|          | 0/1 [00:00<?, ?it/s]"
      ]
     },
     "metadata": {},
     "output_type": "display_data"
    },
    {
     "data": {
      "application/vnd.jupyter.widget-view+json": {
       "model_id": "1be2e6843d0842bbad9f5d568b9b740a",
       "version_major": 2,
       "version_minor": 0
      },
      "text/plain": [
       "Batches:   0%|          | 0/1 [00:00<?, ?it/s]"
      ]
     },
     "metadata": {},
     "output_type": "display_data"
    },
    {
     "data": {
      "application/vnd.jupyter.widget-view+json": {
       "model_id": "27a96ae30ca4473e9f471e175cedd05c",
       "version_major": 2,
       "version_minor": 0
      },
      "text/plain": [
       "Batches:   0%|          | 0/1 [00:00<?, ?it/s]"
      ]
     },
     "metadata": {},
     "output_type": "display_data"
    },
    {
     "data": {
      "application/vnd.jupyter.widget-view+json": {
       "model_id": "dd1df0a24afa4929b02b065425aa7dc2",
       "version_major": 2,
       "version_minor": 0
      },
      "text/plain": [
       "Batches:   0%|          | 0/1 [00:00<?, ?it/s]"
      ]
     },
     "metadata": {},
     "output_type": "display_data"
    },
    {
     "data": {
      "application/vnd.jupyter.widget-view+json": {
       "model_id": "8993a1feb40641039f700fe8eed28596",
       "version_major": 2,
       "version_minor": 0
      },
      "text/plain": [
       "Batches:   0%|          | 0/1 [00:00<?, ?it/s]"
      ]
     },
     "metadata": {},
     "output_type": "display_data"
    },
    {
     "data": {
      "application/vnd.jupyter.widget-view+json": {
       "model_id": "ea329c2e35394cdaaa50569475b60d90",
       "version_major": 2,
       "version_minor": 0
      },
      "text/plain": [
       "Batches:   0%|          | 0/1 [00:00<?, ?it/s]"
      ]
     },
     "metadata": {},
     "output_type": "display_data"
    },
    {
     "data": {
      "application/vnd.jupyter.widget-view+json": {
       "model_id": "2142da2ec59f4c25a873cc4bab69786b",
       "version_major": 2,
       "version_minor": 0
      },
      "text/plain": [
       "Batches:   0%|          | 0/1 [00:00<?, ?it/s]"
      ]
     },
     "metadata": {},
     "output_type": "display_data"
    },
    {
     "data": {
      "application/vnd.jupyter.widget-view+json": {
       "model_id": "78a7c19090844065b69c4a1f081be305",
       "version_major": 2,
       "version_minor": 0
      },
      "text/plain": [
       "Batches:   0%|          | 0/1 [00:00<?, ?it/s]"
      ]
     },
     "metadata": {},
     "output_type": "display_data"
    },
    {
     "data": {
      "application/vnd.jupyter.widget-view+json": {
       "model_id": "8b3c907480b54053889a7805555b6b41",
       "version_major": 2,
       "version_minor": 0
      },
      "text/plain": [
       "Batches:   0%|          | 0/1 [00:00<?, ?it/s]"
      ]
     },
     "metadata": {},
     "output_type": "display_data"
    },
    {
     "data": {
      "application/vnd.jupyter.widget-view+json": {
       "model_id": "0eff1358768f4f18bfed61e9221ca355",
       "version_major": 2,
       "version_minor": 0
      },
      "text/plain": [
       "Batches:   0%|          | 0/1 [00:00<?, ?it/s]"
      ]
     },
     "metadata": {},
     "output_type": "display_data"
    },
    {
     "data": {
      "application/vnd.jupyter.widget-view+json": {
       "model_id": "2e12c9028ec44a16aa2b9fb6114916b6",
       "version_major": 2,
       "version_minor": 0
      },
      "text/plain": [
       "Batches:   0%|          | 0/1 [00:00<?, ?it/s]"
      ]
     },
     "metadata": {},
     "output_type": "display_data"
    },
    {
     "data": {
      "application/vnd.jupyter.widget-view+json": {
       "model_id": "e2c26750cf7442dbb575c7e5483bc0ae",
       "version_major": 2,
       "version_minor": 0
      },
      "text/plain": [
       "Batches:   0%|          | 0/1 [00:00<?, ?it/s]"
      ]
     },
     "metadata": {},
     "output_type": "display_data"
    },
    {
     "data": {
      "application/vnd.jupyter.widget-view+json": {
       "model_id": "989fd04c2ba44190b3d8a40e24e0e7be",
       "version_major": 2,
       "version_minor": 0
      },
      "text/plain": [
       "Batches:   0%|          | 0/1 [00:00<?, ?it/s]"
      ]
     },
     "metadata": {},
     "output_type": "display_data"
    },
    {
     "data": {
      "application/vnd.jupyter.widget-view+json": {
       "model_id": "00135d96651a49b48a96ccadf3201d8a",
       "version_major": 2,
       "version_minor": 0
      },
      "text/plain": [
       "Batches:   0%|          | 0/1 [00:00<?, ?it/s]"
      ]
     },
     "metadata": {},
     "output_type": "display_data"
    },
    {
     "data": {
      "application/vnd.jupyter.widget-view+json": {
       "model_id": "1997982dd5764be8b5f6cdfcd4599991",
       "version_major": 2,
       "version_minor": 0
      },
      "text/plain": [
       "Batches:   0%|          | 0/1 [00:00<?, ?it/s]"
      ]
     },
     "metadata": {},
     "output_type": "display_data"
    },
    {
     "data": {
      "application/vnd.jupyter.widget-view+json": {
       "model_id": "4f5a3145a78445eab234ab766c5e92ab",
       "version_major": 2,
       "version_minor": 0
      },
      "text/plain": [
       "Batches:   0%|          | 0/1 [00:00<?, ?it/s]"
      ]
     },
     "metadata": {},
     "output_type": "display_data"
    },
    {
     "data": {
      "application/vnd.jupyter.widget-view+json": {
       "model_id": "648149659cc4461dbecb7e5e3ae968a0",
       "version_major": 2,
       "version_minor": 0
      },
      "text/plain": [
       "Batches:   0%|          | 0/1 [00:00<?, ?it/s]"
      ]
     },
     "metadata": {},
     "output_type": "display_data"
    },
    {
     "data": {
      "application/vnd.jupyter.widget-view+json": {
       "model_id": "1250aef17d494e4badcbbf1c1be15b20",
       "version_major": 2,
       "version_minor": 0
      },
      "text/plain": [
       "Batches:   0%|          | 0/1 [00:00<?, ?it/s]"
      ]
     },
     "metadata": {},
     "output_type": "display_data"
    },
    {
     "data": {
      "application/vnd.jupyter.widget-view+json": {
       "model_id": "11beff5c1b154c308d1462ecb1e1ab7b",
       "version_major": 2,
       "version_minor": 0
      },
      "text/plain": [
       "Batches:   0%|          | 0/1 [00:00<?, ?it/s]"
      ]
     },
     "metadata": {},
     "output_type": "display_data"
    },
    {
     "data": {
      "application/vnd.jupyter.widget-view+json": {
       "model_id": "e6b33f4602f243f3a121814b39b1c7bf",
       "version_major": 2,
       "version_minor": 0
      },
      "text/plain": [
       "Batches:   0%|          | 0/1 [00:00<?, ?it/s]"
      ]
     },
     "metadata": {},
     "output_type": "display_data"
    },
    {
     "data": {
      "application/vnd.jupyter.widget-view+json": {
       "model_id": "e17c6a4ee105479698a82996b6c2f775",
       "version_major": 2,
       "version_minor": 0
      },
      "text/plain": [
       "Batches:   0%|          | 0/1 [00:00<?, ?it/s]"
      ]
     },
     "metadata": {},
     "output_type": "display_data"
    },
    {
     "data": {
      "application/vnd.jupyter.widget-view+json": {
       "model_id": "5957bb3bfbf242378bc02aba34d86d02",
       "version_major": 2,
       "version_minor": 0
      },
      "text/plain": [
       "Batches:   0%|          | 0/1 [00:00<?, ?it/s]"
      ]
     },
     "metadata": {},
     "output_type": "display_data"
    },
    {
     "data": {
      "application/vnd.jupyter.widget-view+json": {
       "model_id": "8318792c585b441ca2f40faf8dffe52d",
       "version_major": 2,
       "version_minor": 0
      },
      "text/plain": [
       "Batches:   0%|          | 0/1 [00:00<?, ?it/s]"
      ]
     },
     "metadata": {},
     "output_type": "display_data"
    },
    {
     "data": {
      "text/html": [
       "<div>\n",
       "<style scoped>\n",
       "    .dataframe tbody tr th:only-of-type {\n",
       "        vertical-align: middle;\n",
       "    }\n",
       "\n",
       "    .dataframe tbody tr th {\n",
       "        vertical-align: top;\n",
       "    }\n",
       "\n",
       "    .dataframe thead th {\n",
       "        text-align: right;\n",
       "    }\n",
       "</style>\n",
       "<table border=\"1\" class=\"dataframe\">\n",
       "  <thead>\n",
       "    <tr style=\"text-align: right;\">\n",
       "      <th></th>\n",
       "      <th>retrievers</th>\n",
       "      <th>hit_rate</th>\n",
       "      <th>mrr</th>\n",
       "      <th>precision</th>\n",
       "      <th>recall</th>\n",
       "      <th>ap</th>\n",
       "      <th>ndcg</th>\n",
       "    </tr>\n",
       "  </thead>\n",
       "  <tbody>\n",
       "    <tr>\n",
       "      <th>0</th>\n",
       "      <td>baseline top-2 eval</td>\n",
       "      <td>0.75</td>\n",
       "      <td>0.686667</td>\n",
       "      <td>0.375</td>\n",
       "      <td>0.75</td>\n",
       "      <td>0.686667</td>\n",
       "      <td>0.431196</td>\n",
       "    </tr>\n",
       "  </tbody>\n",
       "</table>\n",
       "</div>"
      ],
      "text/plain": [
       "            retrievers  hit_rate       mrr  precision  recall        ap  \\\n",
       "0  baseline top-2 eval      0.75  0.686667      0.375    0.75  0.686667   \n",
       "\n",
       "       ndcg  \n",
       "0  0.431196  "
      ]
     },
     "execution_count": 15,
     "metadata": {},
     "output_type": "execute_result"
    }
   ],
   "source": [
    "stella_small_embed = HuggingFaceEmbedding(model_name=\"dunzhang/stella_en_400M_v5\", trust_remote_code=True)\n",
    "\n",
    "stella_results = await evaluate_embed_model(qa_dataset, embed_model=stella_small_embed, retriever_name=\"stella top-2 eval\", top_k=2)\n",
    "stella_results"
   ]
  },
  {
   "cell_type": "markdown",
   "metadata": {},
   "source": [
    "Out of curiosity, let's see how stella performs with a fusion query retriever:"
   ]
  },
  {
   "cell_type": "code",
   "execution_count": null,
   "metadata": {},
   "outputs": [
    {
     "data": {
      "text/html": [
       "<div>\n",
       "<style scoped>\n",
       "    .dataframe tbody tr th:only-of-type {\n",
       "        vertical-align: middle;\n",
       "    }\n",
       "\n",
       "    .dataframe tbody tr th {\n",
       "        vertical-align: top;\n",
       "    }\n",
       "\n",
       "    .dataframe thead th {\n",
       "        text-align: right;\n",
       "    }\n",
       "</style>\n",
       "<table border=\"1\" class=\"dataframe\">\n",
       "  <thead>\n",
       "    <tr style=\"text-align: right;\">\n",
       "      <th></th>\n",
       "      <th>retrievers</th>\n",
       "      <th>hit_rate</th>\n",
       "      <th>mrr</th>\n",
       "      <th>precision</th>\n",
       "      <th>recall</th>\n",
       "      <th>ap</th>\n",
       "      <th>ndcg</th>\n",
       "    </tr>\n",
       "  </thead>\n",
       "  <tbody>\n",
       "    <tr>\n",
       "      <th>0</th>\n",
       "      <td>baseline top-2 eval</td>\n",
       "      <td>0.85</td>\n",
       "      <td>0.74</td>\n",
       "      <td>0.425</td>\n",
       "      <td>0.85</td>\n",
       "      <td>0.74</td>\n",
       "      <td>0.47139</td>\n",
       "    </tr>\n",
       "  </tbody>\n",
       "</table>\n",
       "</div>"
      ],
      "text/plain": [
       "            retrievers  hit_rate   mrr  precision  recall    ap     ndcg\n",
       "0  baseline top-2 eval      0.85  0.74      0.425    0.85  0.74  0.47139"
      ]
     },
     "execution_count": 15,
     "metadata": {},
     "output_type": "execute_result"
    }
   ],
   "source": [
    "\n",
    "index = VectorStoreIndex(\n",
    "    qa_nodes, embed_model=stella_small_embed, show_progress=False\n",
    ")\n",
    "\n",
    "bm25_retriever = BM25Retriever.from_defaults(nodes=qa_nodes, similarity_top_k=2)\n",
    "stella_query_fusion_retriever = QueryFusionRetriever(\n",
    "    [index.as_retriever(), bm25_retriever],\n",
    "    similarity_top_k=2,\n",
    "    num_queries=1,\n",
    "    mode=\"reciprocal_rerank\",\n",
    "    verbose=False,\n",
    ")\n",
    "\n",
    "results = await log_retriever_eval(stella_query_fusion_retriever,  qa_dataset=qa_dataset, retriever_name=\"stella query-fusion top-2\")\n",
    "results"
   ]
  },
  {
   "cell_type": "markdown",
   "metadata": {},
   "source": [
    "And let's test one more embedding model"
   ]
  },
  {
   "cell_type": "markdown",
   "metadata": {},
   "source": [
    "### bge-large"
   ]
  },
  {
   "cell_type": "code",
   "execution_count": null,
   "metadata": {},
   "outputs": [
    {
     "data": {
      "text/html": [
       "<div>\n",
       "<style scoped>\n",
       "    .dataframe tbody tr th:only-of-type {\n",
       "        vertical-align: middle;\n",
       "    }\n",
       "\n",
       "    .dataframe tbody tr th {\n",
       "        vertical-align: top;\n",
       "    }\n",
       "\n",
       "    .dataframe thead th {\n",
       "        text-align: right;\n",
       "    }\n",
       "</style>\n",
       "<table border=\"1\" class=\"dataframe\">\n",
       "  <thead>\n",
       "    <tr style=\"text-align: right;\">\n",
       "      <th></th>\n",
       "      <th>retrievers</th>\n",
       "      <th>hit_rate</th>\n",
       "      <th>mrr</th>\n",
       "      <th>precision</th>\n",
       "      <th>recall</th>\n",
       "      <th>ap</th>\n",
       "      <th>ndcg</th>\n",
       "    </tr>\n",
       "  </thead>\n",
       "  <tbody>\n",
       "    <tr>\n",
       "      <th>0</th>\n",
       "      <td>baseline top-2 eval</td>\n",
       "      <td>0.756667</td>\n",
       "      <td>0.691667</td>\n",
       "      <td>0.378333</td>\n",
       "      <td>0.756667</td>\n",
       "      <td>0.691667</td>\n",
       "      <td>0.43453</td>\n",
       "    </tr>\n",
       "  </tbody>\n",
       "</table>\n",
       "</div>"
      ],
      "text/plain": [
       "            retrievers  hit_rate       mrr  precision    recall        ap  \\\n",
       "0  baseline top-2 eval  0.756667  0.691667   0.378333  0.756667  0.691667   \n",
       "\n",
       "      ndcg  \n",
       "0  0.43453  "
      ]
     },
     "execution_count": 10,
     "metadata": {},
     "output_type": "execute_result"
    }
   ],
   "source": [
    "bge_large_embed = HuggingFaceEmbedding(model_name=\"BAAI/bge-large-en-v1.5\", trust_remote_code=False)\n",
    "\n",
    "bge_large_results = await evaluate_embed_model(qa_dataset, embed_model=bge_large_embed, retriever_name=\"bge-large top-2 eval\", top_k=2)\n",
    "bge_large_results"
   ]
  },
  {
   "cell_type": "markdown",
   "metadata": {},
   "source": [
    "# Embedding fine tuning"
   ]
  },
  {
   "cell_type": "markdown",
   "metadata": {},
   "source": [
    "Let's fine tune these models and see which one gives better performance. Let's try first with MiniLM as it is a small model and should be 'quick enough'"
   ]
  },
  {
   "cell_type": "code",
   "execution_count": 14,
   "metadata": {},
   "outputs": [
    {
     "name": "stdout",
     "output_type": "stream",
     "text": [
      "Train size:  268\n",
      "Valid size:  58\n",
      "Test size:  58\n"
     ]
    }
   ],
   "source": [
    "from sklearn.model_selection import train_test_split\n",
    "\n",
    "train_nodes, all_test_nodes = train_test_split(qa_nodes, test_size=0.3)\n",
    "eval_nodes, test_nodes = train_test_split(all_test_nodes, test_size=0.5)\n",
    "\n",
    "print(f\"Train size: \", len(train_nodes))\n",
    "print(f\"Valid size: \", len(eval_nodes))\n",
    "print(f\"Test size: \", len(test_nodes))"
   ]
  },
  {
   "cell_type": "code",
   "execution_count": null,
   "metadata": {},
   "outputs": [
    {
     "name": "stderr",
     "output_type": "stream",
     "text": [
      "307it [00:00, ?it/s]\n",
      "  0%|          | 0/58 [00:00<?, ?it/s]"
     ]
    }
   ],
   "source": [
    "from llama_index.finetuning import generate_qa_embedding_pairs\n",
    "\n",
    "train_dataset = generate_qa_embedding_pairs(\n",
    "    llm=Settings.llm,\n",
    "    nodes=train_nodes,\n",
    "    output_path=\"../data/ft_train_dataset.json\",\n",
    "    qa_generate_prompt_tmpl=QA_GENERATE_PROMPT_TMPL,\n",
    "    num_questions_per_chunk=2,\n",
    "    verbose=False,\n",
    "    save_every=50\n",
    ")\n",
    "\n",
    "eval_dataset = generate_qa_embedding_pairs(\n",
    "    llm=Settings.llm,\n",
    "    nodes=eval_nodes,\n",
    "    output_path=\"../data/ft_eval_dataset.json\",\n",
    "    qa_generate_prompt_tmpl=QA_GENERATE_PROMPT_TMPL,\n",
    "    num_questions_per_chunk=2,\n",
    "    verbose=False\n",
    ")\n",
    "\n",
    "test_dataset = generate_qa_embedding_pairs(\n",
    "    llm=Settings.llm,\n",
    "    nodes=test_nodes,\n",
    "    output_path=\"../data/ft_test_dataset.json\",\n",
    "    qa_generate_prompt_tmpl=QA_GENERATE_PROMPT_TMPL,\n",
    "    num_questions_per_chunk=2,\n",
    "    verbose=False\n",
    ")\n",
    "\n",
    "train_dataset = EmbeddingQAFinetuneDataset.from_json(\"../data/ft_train_dataset.json\")\n",
    "eval_dataset = EmbeddingQAFinetuneDataset.from_json(\"../data/ft_eval_dataset.json\")\n",
    "test_dataset = EmbeddingQAFinetuneDataset.from_json(\"../data/ft_test_dataset.json\")"
   ]
  },
  {
   "cell_type": "markdown",
   "metadata": {},
   "source": [
    "### Using llama-index"
   ]
  },
  {
   "cell_type": "code",
   "execution_count": null,
   "metadata": {},
   "outputs": [
    {
     "name": "stdout",
     "output_type": "stream",
     "text": [
      "INFO:sentence_transformers.SentenceTransformer:Use pytorch device_name: cuda\n",
      "Use pytorch device_name: cuda\n",
      "INFO:sentence_transformers.SentenceTransformer:Load pretrained SentenceTransformer: all-MiniLM-L12-v2\n",
      "Load pretrained SentenceTransformer: all-MiniLM-L12-v2\n"
     ]
    },
    {
     "ename": "NameError",
     "evalue": "name 'Dataset' is not defined",
     "output_type": "error",
     "traceback": [
      "\u001b[0;31m---------------------------------------------------------------------------\u001b[0m",
      "\u001b[0;31mNameError\u001b[0m                                 Traceback (most recent call last)",
      "Cell \u001b[0;32mIn[15], line 11\u001b[0m\n\u001b[1;32m      1\u001b[0m \u001b[38;5;28;01mfrom\u001b[39;00m \u001b[38;5;21;01mllama_index\u001b[39;00m\u001b[38;5;21;01m.\u001b[39;00m\u001b[38;5;21;01mfinetuning\u001b[39;00m \u001b[38;5;28;01mimport\u001b[39;00m SentenceTransformersFinetuneEngine\n\u001b[1;32m      3\u001b[0m ft_engine \u001b[38;5;241m=\u001b[39m SentenceTransformersFinetuneEngine(\n\u001b[1;32m      4\u001b[0m     dataset\u001b[38;5;241m=\u001b[39mtrain_dataset,\n\u001b[1;32m      5\u001b[0m     model_id\u001b[38;5;241m=\u001b[39m\u001b[38;5;124m\"\u001b[39m\u001b[38;5;124mall-MiniLM-L12-v2\u001b[39m\u001b[38;5;124m\"\u001b[39m,\n\u001b[0;32m   (...)\u001b[0m\n\u001b[1;32m      8\u001b[0m     epochs\u001b[38;5;241m=\u001b[39m\u001b[38;5;241m2\u001b[39m\n\u001b[1;32m      9\u001b[0m )\n\u001b[0;32m---> 11\u001b[0m \u001b[43mft_engine\u001b[49m\u001b[38;5;241;43m.\u001b[39;49m\u001b[43mfinetune\u001b[49m\u001b[43m(\u001b[49m\u001b[43m)\u001b[49m\n",
      "File \u001b[0;32m~/.cache/pypoetry/virtualenvs/rust-rag-l9LsLaFj-py3.11/lib/python3.11/site-packages/llama_index/finetuning/embeddings/sentence_transformer.py:82\u001b[0m, in \u001b[0;36mSentenceTransformersFinetuneEngine.finetune\u001b[0;34m(self, **train_kwargs)\u001b[0m\n\u001b[1;32m     80\u001b[0m \u001b[38;5;28;01mdef\u001b[39;00m \u001b[38;5;21mfinetune\u001b[39m(\u001b[38;5;28mself\u001b[39m, \u001b[38;5;241m*\u001b[39m\u001b[38;5;241m*\u001b[39mtrain_kwargs: Any) \u001b[38;5;241m-\u001b[39m\u001b[38;5;241m>\u001b[39m \u001b[38;5;28;01mNone\u001b[39;00m:\n\u001b[1;32m     81\u001b[0m \u001b[38;5;250m    \u001b[39m\u001b[38;5;124;03m\"\"\"Finetune model.\"\"\"\u001b[39;00m\n\u001b[0;32m---> 82\u001b[0m     \u001b[38;5;28;43mself\u001b[39;49m\u001b[38;5;241;43m.\u001b[39;49m\u001b[43mmodel\u001b[49m\u001b[38;5;241;43m.\u001b[39;49m\u001b[43mfit\u001b[49m\u001b[43m(\u001b[49m\n\u001b[1;32m     83\u001b[0m \u001b[43m        \u001b[49m\u001b[43mtrain_objectives\u001b[49m\u001b[38;5;241;43m=\u001b[39;49m\u001b[43m[\u001b[49m\u001b[43m(\u001b[49m\u001b[38;5;28;43mself\u001b[39;49m\u001b[38;5;241;43m.\u001b[39;49m\u001b[43mloader\u001b[49m\u001b[43m,\u001b[49m\u001b[43m \u001b[49m\u001b[38;5;28;43mself\u001b[39;49m\u001b[38;5;241;43m.\u001b[39;49m\u001b[43mloss\u001b[49m\u001b[43m)\u001b[49m\u001b[43m]\u001b[49m\u001b[43m,\u001b[49m\n\u001b[1;32m     84\u001b[0m \u001b[43m        \u001b[49m\u001b[43mepochs\u001b[49m\u001b[38;5;241;43m=\u001b[39;49m\u001b[38;5;28;43mself\u001b[39;49m\u001b[38;5;241;43m.\u001b[39;49m\u001b[43mepochs\u001b[49m\u001b[43m,\u001b[49m\n\u001b[1;32m     85\u001b[0m \u001b[43m        \u001b[49m\u001b[43mwarmup_steps\u001b[49m\u001b[38;5;241;43m=\u001b[39;49m\u001b[38;5;28;43mself\u001b[39;49m\u001b[38;5;241;43m.\u001b[39;49m\u001b[43mwarmup_steps\u001b[49m\u001b[43m,\u001b[49m\n\u001b[1;32m     86\u001b[0m \u001b[43m        \u001b[49m\u001b[43moutput_path\u001b[49m\u001b[38;5;241;43m=\u001b[39;49m\u001b[38;5;28;43mself\u001b[39;49m\u001b[38;5;241;43m.\u001b[39;49m\u001b[43mmodel_output_path\u001b[49m\u001b[43m,\u001b[49m\n\u001b[1;32m     87\u001b[0m \u001b[43m        \u001b[49m\u001b[43mshow_progress_bar\u001b[49m\u001b[38;5;241;43m=\u001b[39;49m\u001b[38;5;28;43mself\u001b[39;49m\u001b[38;5;241;43m.\u001b[39;49m\u001b[43mshow_progress_bar\u001b[49m\u001b[43m,\u001b[49m\n\u001b[1;32m     88\u001b[0m \u001b[43m        \u001b[49m\u001b[43mevaluator\u001b[49m\u001b[38;5;241;43m=\u001b[39;49m\u001b[38;5;28;43mself\u001b[39;49m\u001b[38;5;241;43m.\u001b[39;49m\u001b[43mevaluator\u001b[49m\u001b[43m,\u001b[49m\n\u001b[1;32m     89\u001b[0m \u001b[43m        \u001b[49m\u001b[43mevaluation_steps\u001b[49m\u001b[38;5;241;43m=\u001b[39;49m\u001b[38;5;28;43mself\u001b[39;49m\u001b[38;5;241;43m.\u001b[39;49m\u001b[43mevaluation_steps\u001b[49m\u001b[43m,\u001b[49m\n\u001b[1;32m     90\u001b[0m \u001b[43m    \u001b[49m\u001b[43m)\u001b[49m\n",
      "File \u001b[0;32m~/.cache/pypoetry/virtualenvs/rust-rag-l9LsLaFj-py3.11/lib/python3.11/site-packages/sentence_transformers/fit_mixin.py:262\u001b[0m, in \u001b[0;36mFitMixin.fit\u001b[0;34m(self, train_objectives, evaluator, epochs, steps_per_epoch, scheduler, warmup_steps, optimizer_class, optimizer_params, weight_decay, evaluation_steps, output_path, save_best_model, max_grad_norm, use_amp, callback, show_progress_bar, checkpoint_path, checkpoint_save_steps, checkpoint_save_total_limit)\u001b[0m\n\u001b[1;32m    260\u001b[0m     texts \u001b[38;5;241m+\u001b[39m\u001b[38;5;241m=\u001b[39m batch_texts\n\u001b[1;32m    261\u001b[0m     labels \u001b[38;5;241m+\u001b[39m\u001b[38;5;241m=\u001b[39m batch_labels\n\u001b[0;32m--> 262\u001b[0m dataset \u001b[38;5;241m=\u001b[39m \u001b[43mDataset\u001b[49m\u001b[38;5;241m.\u001b[39mfrom_dict({\u001b[38;5;124mf\u001b[39m\u001b[38;5;124m\"\u001b[39m\u001b[38;5;124msentence_\u001b[39m\u001b[38;5;132;01m{\u001b[39;00midx\u001b[38;5;132;01m}\u001b[39;00m\u001b[38;5;124m\"\u001b[39m: text \u001b[38;5;28;01mfor\u001b[39;00m idx, text \u001b[38;5;129;01min\u001b[39;00m \u001b[38;5;28menumerate\u001b[39m(\u001b[38;5;28mzip\u001b[39m(\u001b[38;5;241m*\u001b[39mtexts))})\n\u001b[1;32m    263\u001b[0m \u001b[38;5;66;03m# Add label column, unless all labels are 0 (the default value for `labels` in InputExample)\u001b[39;00m\n\u001b[1;32m    264\u001b[0m add_label_column \u001b[38;5;241m=\u001b[39m \u001b[38;5;28;01mTrue\u001b[39;00m\n",
      "\u001b[0;31mNameError\u001b[0m: name 'Dataset' is not defined"
     ]
    }
   ],
   "source": [
    "from llama_index.finetuning import SentenceTransformersFinetuneEngine\n",
    "\n",
    "ft_engine = SentenceTransformersFinetuneEngine(\n",
    "    dataset=train_dataset,\n",
    "    model_id=\"all-MiniLM-L12-v2\",\n",
    "    model_output_path=\"mini_lm_ft\",\n",
    "    # val_dataset=test_dataset,\n",
    "    epochs=2\n",
    ")\n",
    "\n",
    "ft_engine.finetune()"
   ]
  },
  {
   "cell_type": "code",
   "execution_count": null,
   "metadata": {},
   "outputs": [],
   "source": []
  },
  {
   "cell_type": "code",
   "execution_count": null,
   "metadata": {},
   "outputs": [],
   "source": []
  },
  {
   "cell_type": "markdown",
   "metadata": {},
   "source": [
    "### Using SentenceTransformers directly"
   ]
  },
  {
   "cell_type": "code",
   "execution_count": 10,
   "metadata": {},
   "outputs": [],
   "source": [
    "from sentence_transformers import InputExample, SentenceTransformer, losses\n",
    "from torch.utils.data import DataLoader\n",
    "from sentence_transformers.evaluation import InformationRetrievalEvaluator\n",
    "from datasets import Dataset, DatasetBuilder, load_dataset"
   ]
  },
  {
   "cell_type": "code",
   "execution_count": 11,
   "metadata": {},
   "outputs": [],
   "source": [
    "def build_st_dataset(dataset):\n",
    "    anchors = [q for _, q in dataset.queries.items()]\n",
    "    positives = [q[0] for _, q in dataset.relevant_docs.items()]\n",
    "    return Dataset.from_dict({\"anchor\": anchors, \"positive\": positives})"
   ]
  },
  {
   "cell_type": "code",
   "execution_count": null,
   "metadata": {},
   "outputs": [
    {
     "name": "stdout",
     "output_type": "stream",
     "text": [
      "INFO:sentence_transformers.SentenceTransformer:Use pytorch device_name: cuda\n",
      "Use pytorch device_name: cuda\n",
      "INFO:sentence_transformers.SentenceTransformer:Load pretrained SentenceTransformer: all-MiniLM-L12-v2\n",
      "Load pretrained SentenceTransformer: all-MiniLM-L12-v2\n"
     ]
    },
    {
     "name": "stderr",
     "output_type": "stream",
     "text": [
      "/home/carlos/.cache/pypoetry/virtualenvs/rust-rag-l9LsLaFj-py3.11/lib/python3.11/site-packages/transformers/tokenization_utils_base.py:1601: FutureWarning: `clean_up_tokenization_spaces` was not set. It will be set to `True` by default. This behavior will be depracted in transformers v4.45, and will be then set to `False` by default. For more details check this issue: https://github.com/huggingface/transformers/issues/31884\n",
      "  warnings.warn(\n"
     ]
    }
   ],
   "source": [
    "from sentence_transformers import (\n",
    "    SentenceTransformer,\n",
    "    SentenceTransformerTrainer,\n",
    "    SentenceTransformerTrainingArguments,\n",
    "    SentenceTransformerModelCardData,\n",
    ")\n",
    "\n",
    "from sentence_transformers.training_args import BatchSamplers\n",
    "\n",
    "\n",
    "train_ds = build_st_dataset(train_dataset)\n",
    "test_ds = build_st_dataset(test_dataset)\n",
    "\n",
    "evaluator = InformationRetrievalEvaluator(queries=test_dataset.queries, corpus=test_dataset.corpus, relevant_docs=test_dataset.relevant_docs)\n",
    "\n",
    "ft_model = SentenceTransformer(\"all-MiniLM-L12-v2\")\n",
    "loss = losses.MultipleNegativesRankingLoss(model=ft_model)\n",
    "\n",
    "\n",
    "args = SentenceTransformerTrainingArguments(\n",
    "    # Required parameter:\n",
    "    output_dir=\"../models/ft_mini_lm\",\n",
    "    # Optional training parameters:\n",
    "    num_train_epochs=10,\n",
    "    per_device_train_batch_size=16,\n",
    "    per_device_eval_batch_size=16,\n",
    "    learning_rate=2e-5,\n",
    "    warmup_ratio=0.1,\n",
    "    fp16=True,  # Set to False if you get an error that your GPU can't run on FP16\n",
    "    bf16=False,  # Set to True if you have a GPU that supports BF16\n",
    "    batch_sampler=BatchSamplers.NO_DUPLICATES,  # MultipleNegativesRankingLoss benefits from no duplicate samples in a batch\n",
    "    # Optional tracking/debugging parameters:\n",
    "    eval_strategy=\"steps\",\n",
    "    eval_steps=10,\n",
    "    save_strategy=\"steps\",\n",
    "    save_steps=100,\n",
    "    save_total_limit=2,\n",
    "    logging_steps=50,\n",
    "    run_name=\"mini-lm-test-run\",  # Will be used in W&B if `wandb` is installed\n",
    ")\n"
   ]
  },
  {
   "cell_type": "code",
   "execution_count": 16,
   "metadata": {},
   "outputs": [
    {
     "name": "stderr",
     "output_type": "stream",
     "text": [
      "  2%|▏         | 9/390 [00:00<00:26, 14.54it/s]"
     ]
    },
    {
     "name": "stdout",
     "output_type": "stream",
     "text": [
      "INFO:sentence_transformers.evaluation.InformationRetrievalEvaluator:Information Retrieval Evaluation of the model on the  dataset:\n",
      "Information Retrieval Evaluation of the model on the  dataset:\n",
      "INFO:sentence_transformers.evaluation.InformationRetrievalEvaluator:Queries: 154\n",
      "Queries: 154\n",
      "INFO:sentence_transformers.evaluation.InformationRetrievalEvaluator:Corpus: 77\n",
      "\n",
      "Corpus: 77\n",
      "\n",
      "INFO:sentence_transformers.evaluation.InformationRetrievalEvaluator:Score-Function: cosine\n",
      "Score-Function: cosine\n",
      "INFO:sentence_transformers.evaluation.InformationRetrievalEvaluator:Accuracy@1: 51.30%\n",
      "Accuracy@1: 51.30%\n",
      "INFO:sentence_transformers.evaluation.InformationRetrievalEvaluator:Accuracy@3: 73.38%\n",
      "Accuracy@3: 73.38%\n",
      "INFO:sentence_transformers.evaluation.InformationRetrievalEvaluator:Accuracy@5: 79.87%\n",
      "Accuracy@5: 79.87%\n",
      "INFO:sentence_transformers.evaluation.InformationRetrievalEvaluator:Accuracy@10: 87.66%\n",
      "Accuracy@10: 87.66%\n",
      "INFO:sentence_transformers.evaluation.InformationRetrievalEvaluator:Precision@1: 51.30%\n",
      "Precision@1: 51.30%\n",
      "INFO:sentence_transformers.evaluation.InformationRetrievalEvaluator:Precision@3: 24.46%\n",
      "Precision@3: 24.46%\n",
      "INFO:sentence_transformers.evaluation.InformationRetrievalEvaluator:Precision@5: 15.97%\n",
      "Precision@5: 15.97%\n",
      "INFO:sentence_transformers.evaluation.InformationRetrievalEvaluator:Precision@10: 8.77%\n",
      "Precision@10: 8.77%\n",
      "INFO:sentence_transformers.evaluation.InformationRetrievalEvaluator:Recall@1: 51.30%\n",
      "Recall@1: 51.30%\n",
      "INFO:sentence_transformers.evaluation.InformationRetrievalEvaluator:Recall@3: 73.38%\n",
      "Recall@3: 73.38%\n",
      "INFO:sentence_transformers.evaluation.InformationRetrievalEvaluator:Recall@5: 79.87%\n",
      "Recall@5: 79.87%\n",
      "INFO:sentence_transformers.evaluation.InformationRetrievalEvaluator:Recall@10: 87.66%\n",
      "Recall@10: 87.66%\n",
      "INFO:sentence_transformers.evaluation.InformationRetrievalEvaluator:MRR@10: 0.6337\n",
      "MRR@10: 0.6337\n",
      "INFO:sentence_transformers.evaluation.InformationRetrievalEvaluator:NDCG@10: 0.6925\n",
      "NDCG@10: 0.6925\n",
      "INFO:sentence_transformers.evaluation.InformationRetrievalEvaluator:MAP@100: 0.6396\n",
      "MAP@100: 0.6396\n",
      "INFO:sentence_transformers.evaluation.InformationRetrievalEvaluator:Score-Function: dot\n",
      "Score-Function: dot\n",
      "INFO:sentence_transformers.evaluation.InformationRetrievalEvaluator:Accuracy@1: 51.30%\n",
      "Accuracy@1: 51.30%\n",
      "INFO:sentence_transformers.evaluation.InformationRetrievalEvaluator:Accuracy@3: 73.38%\n",
      "Accuracy@3: 73.38%\n",
      "INFO:sentence_transformers.evaluation.InformationRetrievalEvaluator:Accuracy@5: 79.87%\n",
      "Accuracy@5: 79.87%\n",
      "INFO:sentence_transformers.evaluation.InformationRetrievalEvaluator:Accuracy@10: 87.66%\n",
      "Accuracy@10: 87.66%\n",
      "INFO:sentence_transformers.evaluation.InformationRetrievalEvaluator:Precision@1: 51.30%\n",
      "Precision@1: 51.30%\n",
      "INFO:sentence_transformers.evaluation.InformationRetrievalEvaluator:Precision@3: 24.46%\n",
      "Precision@3: 24.46%\n",
      "INFO:sentence_transformers.evaluation.InformationRetrievalEvaluator:Precision@5: 15.97%\n",
      "Precision@5: 15.97%\n",
      "INFO:sentence_transformers.evaluation.InformationRetrievalEvaluator:Precision@10: 8.77%\n",
      "Precision@10: 8.77%\n",
      "INFO:sentence_transformers.evaluation.InformationRetrievalEvaluator:Recall@1: 51.30%\n",
      "Recall@1: 51.30%\n",
      "INFO:sentence_transformers.evaluation.InformationRetrievalEvaluator:Recall@3: 73.38%\n",
      "Recall@3: 73.38%\n",
      "INFO:sentence_transformers.evaluation.InformationRetrievalEvaluator:Recall@5: 79.87%\n",
      "Recall@5: 79.87%\n",
      "INFO:sentence_transformers.evaluation.InformationRetrievalEvaluator:Recall@10: 87.66%\n",
      "Recall@10: 87.66%\n",
      "INFO:sentence_transformers.evaluation.InformationRetrievalEvaluator:MRR@10: 0.6337\n",
      "MRR@10: 0.6337\n",
      "INFO:sentence_transformers.evaluation.InformationRetrievalEvaluator:NDCG@10: 0.6925\n",
      "NDCG@10: 0.6925\n",
      "INFO:sentence_transformers.evaluation.InformationRetrievalEvaluator:MAP@100: 0.6396\n",
      "MAP@100: 0.6396\n"
     ]
    },
    {
     "name": "stderr",
     "output_type": "stream",
     "text": [
      "2024/11/10 21:51:46 ERROR mlflow.utils.async_logging.async_logging_queue: Run Id 6c2bb6a0921e476a96e7bce39ce659bc: Failed to log run data: Exception: Invalid value \"eval_cosine_accuracy@1\" for parameter 'metrics[1].name' supplied: Names may only contain alphanumerics, underscores (_), dashes (-), periods (.), spaces ( ), colon(:) and slashes (/).\n",
      "                                               \n",
      "  3%|▎         | 11/390 [00:01<00:54,  6.94it/s]"
     ]
    },
    {
     "name": "stdout",
     "output_type": "stream",
     "text": [
      "{'eval_loss': 2.8725061416625977, 'eval_cosine_accuracy@1': 0.512987012987013, 'eval_cosine_accuracy@3': 0.7337662337662337, 'eval_cosine_accuracy@5': 0.7987012987012987, 'eval_cosine_accuracy@10': 0.8766233766233766, 'eval_cosine_precision@1': 0.512987012987013, 'eval_cosine_precision@3': 0.24458874458874458, 'eval_cosine_precision@5': 0.15974025974025974, 'eval_cosine_precision@10': 0.08766233766233765, 'eval_cosine_recall@1': 0.512987012987013, 'eval_cosine_recall@3': 0.7337662337662337, 'eval_cosine_recall@5': 0.7987012987012987, 'eval_cosine_recall@10': 0.8766233766233766, 'eval_cosine_ndcg@10': 0.6925498731262444, 'eval_cosine_mrr@10': 0.6337095444238301, 'eval_cosine_map@100': 0.6395641408873151, 'eval_dot_accuracy@1': 0.512987012987013, 'eval_dot_accuracy@3': 0.7337662337662337, 'eval_dot_accuracy@5': 0.7987012987012987, 'eval_dot_accuracy@10': 0.8766233766233766, 'eval_dot_precision@1': 0.512987012987013, 'eval_dot_precision@3': 0.24458874458874458, 'eval_dot_precision@5': 0.15974025974025974, 'eval_dot_precision@10': 0.08766233766233765, 'eval_dot_recall@1': 0.512987012987013, 'eval_dot_recall@3': 0.7337662337662337, 'eval_dot_recall@5': 0.7987012987012987, 'eval_dot_recall@10': 0.8766233766233766, 'eval_dot_ndcg@10': 0.6925498731262444, 'eval_dot_mrr@10': 0.6337095444238301, 'eval_dot_map@100': 0.6395641408873151, 'eval_runtime': 0.4361, 'eval_samples_per_second': 353.147, 'eval_steps_per_second': 22.932, 'epoch': 0.26}\n"
     ]
    },
    {
     "name": "stderr",
     "output_type": "stream",
     "text": [
      "  5%|▍         | 19/390 [00:01<00:27, 13.27it/s]"
     ]
    },
    {
     "name": "stdout",
     "output_type": "stream",
     "text": [
      "INFO:sentence_transformers.evaluation.InformationRetrievalEvaluator:Information Retrieval Evaluation of the model on the  dataset:\n",
      "Information Retrieval Evaluation of the model on the  dataset:\n",
      "INFO:sentence_transformers.evaluation.InformationRetrievalEvaluator:Queries: 154\n",
      "Queries: 154\n",
      "INFO:sentence_transformers.evaluation.InformationRetrievalEvaluator:Corpus: 77\n",
      "\n",
      "Corpus: 77\n",
      "\n",
      "INFO:sentence_transformers.evaluation.InformationRetrievalEvaluator:Score-Function: cosine\n",
      "Score-Function: cosine\n",
      "INFO:sentence_transformers.evaluation.InformationRetrievalEvaluator:Accuracy@1: 51.30%\n",
      "Accuracy@1: 51.30%\n",
      "INFO:sentence_transformers.evaluation.InformationRetrievalEvaluator:Accuracy@3: 73.38%\n",
      "Accuracy@3: 73.38%\n",
      "INFO:sentence_transformers.evaluation.InformationRetrievalEvaluator:Accuracy@5: 79.87%\n",
      "Accuracy@5: 79.87%\n",
      "INFO:sentence_transformers.evaluation.InformationRetrievalEvaluator:Accuracy@10: 87.66%\n",
      "Accuracy@10: 87.66%\n",
      "INFO:sentence_transformers.evaluation.InformationRetrievalEvaluator:Precision@1: 51.30%\n",
      "Precision@1: 51.30%\n",
      "INFO:sentence_transformers.evaluation.InformationRetrievalEvaluator:Precision@3: 24.46%\n",
      "Precision@3: 24.46%\n",
      "INFO:sentence_transformers.evaluation.InformationRetrievalEvaluator:Precision@5: 15.97%\n",
      "Precision@5: 15.97%\n",
      "INFO:sentence_transformers.evaluation.InformationRetrievalEvaluator:Precision@10: 8.77%\n",
      "Precision@10: 8.77%\n",
      "INFO:sentence_transformers.evaluation.InformationRetrievalEvaluator:Recall@1: 51.30%\n",
      "Recall@1: 51.30%\n",
      "INFO:sentence_transformers.evaluation.InformationRetrievalEvaluator:Recall@3: 73.38%\n",
      "Recall@3: 73.38%\n",
      "INFO:sentence_transformers.evaluation.InformationRetrievalEvaluator:Recall@5: 79.87%\n",
      "Recall@5: 79.87%\n",
      "INFO:sentence_transformers.evaluation.InformationRetrievalEvaluator:Recall@10: 87.66%\n",
      "Recall@10: 87.66%\n",
      "INFO:sentence_transformers.evaluation.InformationRetrievalEvaluator:MRR@10: 0.6339\n",
      "MRR@10: 0.6339\n",
      "INFO:sentence_transformers.evaluation.InformationRetrievalEvaluator:NDCG@10: 0.6927\n",
      "NDCG@10: 0.6927\n",
      "INFO:sentence_transformers.evaluation.InformationRetrievalEvaluator:MAP@100: 0.6397\n",
      "MAP@100: 0.6397\n",
      "INFO:sentence_transformers.evaluation.InformationRetrievalEvaluator:Score-Function: dot\n",
      "Score-Function: dot\n",
      "INFO:sentence_transformers.evaluation.InformationRetrievalEvaluator:Accuracy@1: 51.30%\n",
      "Accuracy@1: 51.30%\n",
      "INFO:sentence_transformers.evaluation.InformationRetrievalEvaluator:Accuracy@3: 73.38%\n",
      "Accuracy@3: 73.38%\n",
      "INFO:sentence_transformers.evaluation.InformationRetrievalEvaluator:Accuracy@5: 79.87%\n",
      "Accuracy@5: 79.87%\n",
      "INFO:sentence_transformers.evaluation.InformationRetrievalEvaluator:Accuracy@10: 87.66%\n",
      "Accuracy@10: 87.66%\n",
      "INFO:sentence_transformers.evaluation.InformationRetrievalEvaluator:Precision@1: 51.30%\n",
      "Precision@1: 51.30%\n",
      "INFO:sentence_transformers.evaluation.InformationRetrievalEvaluator:Precision@3: 24.46%\n",
      "Precision@3: 24.46%\n",
      "INFO:sentence_transformers.evaluation.InformationRetrievalEvaluator:Precision@5: 15.97%\n",
      "Precision@5: 15.97%\n",
      "INFO:sentence_transformers.evaluation.InformationRetrievalEvaluator:Precision@10: 8.77%\n",
      "Precision@10: 8.77%\n",
      "INFO:sentence_transformers.evaluation.InformationRetrievalEvaluator:Recall@1: 51.30%\n",
      "Recall@1: 51.30%\n",
      "INFO:sentence_transformers.evaluation.InformationRetrievalEvaluator:Recall@3: 73.38%\n",
      "Recall@3: 73.38%\n",
      "INFO:sentence_transformers.evaluation.InformationRetrievalEvaluator:Recall@5: 79.87%\n",
      "Recall@5: 79.87%\n",
      "INFO:sentence_transformers.evaluation.InformationRetrievalEvaluator:Recall@10: 87.66%\n",
      "Recall@10: 87.66%\n",
      "INFO:sentence_transformers.evaluation.InformationRetrievalEvaluator:MRR@10: 0.6339\n",
      "MRR@10: 0.6339\n",
      "INFO:sentence_transformers.evaluation.InformationRetrievalEvaluator:NDCG@10: 0.6927\n",
      "NDCG@10: 0.6927\n",
      "INFO:sentence_transformers.evaluation.InformationRetrievalEvaluator:MAP@100: 0.6397\n",
      "MAP@100: 0.6397\n"
     ]
    },
    {
     "name": "stderr",
     "output_type": "stream",
     "text": [
      "                                                2024/11/10 21:51:47 ERROR mlflow.utils.async_logging.async_logging_queue: Run Id 6c2bb6a0921e476a96e7bce39ce659bc: Failed to log run data: Exception: Invalid value \"eval_cosine_accuracy@1\" for parameter 'metrics[1].name' supplied: Names may only contain alphanumerics, underscores (_), dashes (-), periods (.), spaces ( ), colon(:) and slashes (/).\n",
      "\n",
      "  5%|▌         | 20/390 [00:02<00:27, 13.27it/s]\n",
      "                                               "
     ]
    },
    {
     "name": "stdout",
     "output_type": "stream",
     "text": [
      "{'eval_loss': 2.816436290740967, 'eval_cosine_accuracy@1': 0.512987012987013, 'eval_cosine_accuracy@3': 0.7337662337662337, 'eval_cosine_accuracy@5': 0.7987012987012987, 'eval_cosine_accuracy@10': 0.8766233766233766, 'eval_cosine_precision@1': 0.512987012987013, 'eval_cosine_precision@3': 0.24458874458874458, 'eval_cosine_precision@5': 0.15974025974025974, 'eval_cosine_precision@10': 0.08766233766233765, 'eval_cosine_recall@1': 0.512987012987013, 'eval_cosine_recall@3': 0.7337662337662337, 'eval_cosine_recall@5': 0.7987012987012987, 'eval_cosine_recall@10': 0.8766233766233766, 'eval_cosine_ndcg@10': 0.6926859114188688, 'eval_cosine_mrr@10': 0.6338796124510409, 'eval_cosine_map@100': 0.6397401676293054, 'eval_dot_accuracy@1': 0.512987012987013, 'eval_dot_accuracy@3': 0.7337662337662337, 'eval_dot_accuracy@5': 0.7987012987012987, 'eval_dot_accuracy@10': 0.8766233766233766, 'eval_dot_precision@1': 0.512987012987013, 'eval_dot_precision@3': 0.24458874458874458, 'eval_dot_precision@5': 0.15974025974025974, 'eval_dot_precision@10': 0.08766233766233765, 'eval_dot_recall@1': 0.512987012987013, 'eval_dot_recall@3': 0.7337662337662337, 'eval_dot_recall@5': 0.7987012987012987, 'eval_dot_recall@10': 0.8766233766233766, 'eval_dot_ndcg@10': 0.6926859114188688, 'eval_dot_mrr@10': 0.6338796124510409, 'eval_dot_map@100': 0.6397401676293054, 'eval_runtime': 0.4011, 'eval_samples_per_second': 383.912, 'eval_steps_per_second': 24.929, 'epoch': 0.51}\n"
     ]
    },
    {
     "name": "stderr",
     "output_type": "stream",
     "text": [
      "  7%|▋         | 29/390 [00:02<00:26, 13.39it/s]"
     ]
    },
    {
     "name": "stdout",
     "output_type": "stream",
     "text": [
      "INFO:sentence_transformers.evaluation.InformationRetrievalEvaluator:Information Retrieval Evaluation of the model on the  dataset:\n",
      "Information Retrieval Evaluation of the model on the  dataset:\n",
      "INFO:sentence_transformers.evaluation.InformationRetrievalEvaluator:Queries: 154\n",
      "Queries: 154\n",
      "INFO:sentence_transformers.evaluation.InformationRetrievalEvaluator:Corpus: 77\n",
      "\n",
      "Corpus: 77\n",
      "\n",
      "INFO:sentence_transformers.evaluation.InformationRetrievalEvaluator:Score-Function: cosine\n",
      "Score-Function: cosine\n",
      "INFO:sentence_transformers.evaluation.InformationRetrievalEvaluator:Accuracy@1: 51.30%\n",
      "Accuracy@1: 51.30%\n",
      "INFO:sentence_transformers.evaluation.InformationRetrievalEvaluator:Accuracy@3: 74.03%\n",
      "Accuracy@3: 74.03%\n",
      "INFO:sentence_transformers.evaluation.InformationRetrievalEvaluator:Accuracy@5: 79.87%\n",
      "Accuracy@5: 79.87%\n",
      "INFO:sentence_transformers.evaluation.InformationRetrievalEvaluator:Accuracy@10: 87.66%\n",
      "Accuracy@10: 87.66%\n",
      "INFO:sentence_transformers.evaluation.InformationRetrievalEvaluator:Precision@1: 51.30%\n",
      "Precision@1: 51.30%\n",
      "INFO:sentence_transformers.evaluation.InformationRetrievalEvaluator:Precision@3: 24.68%\n",
      "Precision@3: 24.68%\n",
      "INFO:sentence_transformers.evaluation.InformationRetrievalEvaluator:Precision@5: 15.97%\n",
      "Precision@5: 15.97%\n",
      "INFO:sentence_transformers.evaluation.InformationRetrievalEvaluator:Precision@10: 8.77%\n",
      "Precision@10: 8.77%\n",
      "INFO:sentence_transformers.evaluation.InformationRetrievalEvaluator:Recall@1: 51.30%\n",
      "Recall@1: 51.30%\n",
      "INFO:sentence_transformers.evaluation.InformationRetrievalEvaluator:Recall@3: 74.03%\n",
      "Recall@3: 74.03%\n",
      "INFO:sentence_transformers.evaluation.InformationRetrievalEvaluator:Recall@5: 79.87%\n",
      "Recall@5: 79.87%\n",
      "INFO:sentence_transformers.evaluation.InformationRetrievalEvaluator:Recall@10: 87.66%\n",
      "Recall@10: 87.66%\n",
      "INFO:sentence_transformers.evaluation.InformationRetrievalEvaluator:MRR@10: 0.6347\n",
      "MRR@10: 0.6347\n",
      "INFO:sentence_transformers.evaluation.InformationRetrievalEvaluator:NDCG@10: 0.6932\n",
      "NDCG@10: 0.6932\n",
      "INFO:sentence_transformers.evaluation.InformationRetrievalEvaluator:MAP@100: 0.6406\n",
      "MAP@100: 0.6406\n",
      "INFO:sentence_transformers.evaluation.InformationRetrievalEvaluator:Score-Function: dot\n",
      "Score-Function: dot\n",
      "INFO:sentence_transformers.evaluation.InformationRetrievalEvaluator:Accuracy@1: 51.30%\n",
      "Accuracy@1: 51.30%\n",
      "INFO:sentence_transformers.evaluation.InformationRetrievalEvaluator:Accuracy@3: 74.03%\n",
      "Accuracy@3: 74.03%\n",
      "INFO:sentence_transformers.evaluation.InformationRetrievalEvaluator:Accuracy@5: 79.87%\n",
      "Accuracy@5: 79.87%\n",
      "INFO:sentence_transformers.evaluation.InformationRetrievalEvaluator:Accuracy@10: 87.66%\n",
      "Accuracy@10: 87.66%\n",
      "INFO:sentence_transformers.evaluation.InformationRetrievalEvaluator:Precision@1: 51.30%\n",
      "Precision@1: 51.30%\n",
      "INFO:sentence_transformers.evaluation.InformationRetrievalEvaluator:Precision@3: 24.68%\n",
      "Precision@3: 24.68%\n",
      "INFO:sentence_transformers.evaluation.InformationRetrievalEvaluator:Precision@5: 15.97%\n",
      "Precision@5: 15.97%\n",
      "INFO:sentence_transformers.evaluation.InformationRetrievalEvaluator:Precision@10: 8.77%\n",
      "Precision@10: 8.77%\n",
      "INFO:sentence_transformers.evaluation.InformationRetrievalEvaluator:Recall@1: 51.30%\n",
      "Recall@1: 51.30%\n",
      "INFO:sentence_transformers.evaluation.InformationRetrievalEvaluator:Recall@3: 74.03%\n",
      "Recall@3: 74.03%\n",
      "INFO:sentence_transformers.evaluation.InformationRetrievalEvaluator:Recall@5: 79.87%\n",
      "Recall@5: 79.87%\n",
      "INFO:sentence_transformers.evaluation.InformationRetrievalEvaluator:Recall@10: 87.66%\n",
      "Recall@10: 87.66%\n",
      "INFO:sentence_transformers.evaluation.InformationRetrievalEvaluator:MRR@10: 0.6347\n",
      "MRR@10: 0.6347\n",
      "INFO:sentence_transformers.evaluation.InformationRetrievalEvaluator:NDCG@10: 0.6932\n",
      "NDCG@10: 0.6932\n",
      "INFO:sentence_transformers.evaluation.InformationRetrievalEvaluator:MAP@100: 0.6406\n",
      "MAP@100: 0.6406\n"
     ]
    },
    {
     "name": "stderr",
     "output_type": "stream",
     "text": [
      "                                                2024/11/10 21:51:48 ERROR mlflow.utils.async_logging.async_logging_queue: Run Id 6c2bb6a0921e476a96e7bce39ce659bc: Failed to log run data: Exception: Invalid value \"eval_cosine_accuracy@1\" for parameter 'metrics[1].name' supplied: Names may only contain alphanumerics, underscores (_), dashes (-), periods (.), spaces ( ), colon(:) and slashes (/).\n",
      "\n",
      "  8%|▊         | 30/390 [00:03<00:26, 13.39it/s]\n"
     ]
    },
    {
     "name": "stdout",
     "output_type": "stream",
     "text": [
      "{'eval_loss': 2.7723135948181152, 'eval_cosine_accuracy@1': 0.512987012987013, 'eval_cosine_accuracy@3': 0.7402597402597403, 'eval_cosine_accuracy@5': 0.7987012987012987, 'eval_cosine_accuracy@10': 0.8766233766233766, 'eval_cosine_precision@1': 0.512987012987013, 'eval_cosine_precision@3': 0.24675324675324675, 'eval_cosine_precision@5': 0.15974025974025974, 'eval_cosine_precision@10': 0.08766233766233765, 'eval_cosine_recall@1': 0.512987012987013, 'eval_cosine_recall@3': 0.7402597402597403, 'eval_cosine_recall@5': 0.7987012987012987, 'eval_cosine_recall@10': 0.8766233766233766, 'eval_cosine_ndcg@10': 0.6932273646439828, 'eval_cosine_mrr@10': 0.6347016079158936, 'eval_cosine_map@100': 0.6406176846748721, 'eval_dot_accuracy@1': 0.512987012987013, 'eval_dot_accuracy@3': 0.7402597402597403, 'eval_dot_accuracy@5': 0.7987012987012987, 'eval_dot_accuracy@10': 0.8766233766233766, 'eval_dot_precision@1': 0.512987012987013, 'eval_dot_precision@3': 0.24675324675324675, 'eval_dot_precision@5': 0.15974025974025974, 'eval_dot_precision@10': 0.08766233766233765, 'eval_dot_recall@1': 0.512987012987013, 'eval_dot_recall@3': 0.7402597402597403, 'eval_dot_recall@5': 0.7987012987012987, 'eval_dot_recall@10': 0.8766233766233766, 'eval_dot_ndcg@10': 0.6932273646439828, 'eval_dot_mrr@10': 0.6347016079158936, 'eval_dot_map@100': 0.6406176846748721, 'eval_runtime': 0.3893, 'eval_samples_per_second': 395.56, 'eval_steps_per_second': 25.686, 'epoch': 0.77}\n"
     ]
    },
    {
     "name": "stderr",
     "output_type": "stream",
     "text": [
      " 10%|█         | 39/390 [00:03<00:26, 13.10it/s][A"
     ]
    },
    {
     "name": "stdout",
     "output_type": "stream",
     "text": [
      "INFO:sentence_transformers.evaluation.InformationRetrievalEvaluator:Information Retrieval Evaluation of the model on the  dataset:\n",
      "Information Retrieval Evaluation of the model on the  dataset:\n",
      "INFO:sentence_transformers.evaluation.InformationRetrievalEvaluator:Queries: 154\n",
      "Queries: 154\n",
      "INFO:sentence_transformers.evaluation.InformationRetrievalEvaluator:Corpus: 77\n",
      "\n",
      "Corpus: 77\n",
      "\n",
      "INFO:sentence_transformers.evaluation.InformationRetrievalEvaluator:Score-Function: cosine\n",
      "Score-Function: cosine\n",
      "INFO:sentence_transformers.evaluation.InformationRetrievalEvaluator:Accuracy@1: 51.95%\n",
      "Accuracy@1: 51.95%\n",
      "INFO:sentence_transformers.evaluation.InformationRetrievalEvaluator:Accuracy@3: 74.68%\n",
      "Accuracy@3: 74.68%\n",
      "INFO:sentence_transformers.evaluation.InformationRetrievalEvaluator:Accuracy@5: 80.52%\n",
      "Accuracy@5: 80.52%\n",
      "INFO:sentence_transformers.evaluation.InformationRetrievalEvaluator:Accuracy@10: 87.01%\n",
      "Accuracy@10: 87.01%\n",
      "INFO:sentence_transformers.evaluation.InformationRetrievalEvaluator:Precision@1: 51.95%\n",
      "Precision@1: 51.95%\n",
      "INFO:sentence_transformers.evaluation.InformationRetrievalEvaluator:Precision@3: 24.89%\n",
      "Precision@3: 24.89%\n",
      "INFO:sentence_transformers.evaluation.InformationRetrievalEvaluator:Precision@5: 16.10%\n",
      "Precision@5: 16.10%\n",
      "INFO:sentence_transformers.evaluation.InformationRetrievalEvaluator:Precision@10: 8.70%\n",
      "Precision@10: 8.70%\n",
      "INFO:sentence_transformers.evaluation.InformationRetrievalEvaluator:Recall@1: 51.95%\n",
      "Recall@1: 51.95%\n",
      "INFO:sentence_transformers.evaluation.InformationRetrievalEvaluator:Recall@3: 74.68%\n",
      "Recall@3: 74.68%\n",
      "INFO:sentence_transformers.evaluation.InformationRetrievalEvaluator:Recall@5: 80.52%\n",
      "Recall@5: 80.52%\n",
      "INFO:sentence_transformers.evaluation.InformationRetrievalEvaluator:Recall@10: 87.01%\n",
      "Recall@10: 87.01%\n",
      "INFO:sentence_transformers.evaluation.InformationRetrievalEvaluator:MRR@10: 0.6398\n",
      "MRR@10: 0.6398\n",
      "INFO:sentence_transformers.evaluation.InformationRetrievalEvaluator:NDCG@10: 0.6957\n",
      "NDCG@10: 0.6957\n",
      "INFO:sentence_transformers.evaluation.InformationRetrievalEvaluator:MAP@100: 0.6462\n",
      "MAP@100: 0.6462\n",
      "INFO:sentence_transformers.evaluation.InformationRetrievalEvaluator:Score-Function: dot\n",
      "Score-Function: dot\n",
      "INFO:sentence_transformers.evaluation.InformationRetrievalEvaluator:Accuracy@1: 51.95%\n",
      "Accuracy@1: 51.95%\n",
      "INFO:sentence_transformers.evaluation.InformationRetrievalEvaluator:Accuracy@3: 74.68%\n",
      "Accuracy@3: 74.68%\n",
      "INFO:sentence_transformers.evaluation.InformationRetrievalEvaluator:Accuracy@5: 80.52%\n",
      "Accuracy@5: 80.52%\n",
      "INFO:sentence_transformers.evaluation.InformationRetrievalEvaluator:Accuracy@10: 87.01%\n",
      "Accuracy@10: 87.01%\n",
      "INFO:sentence_transformers.evaluation.InformationRetrievalEvaluator:Precision@1: 51.95%\n",
      "Precision@1: 51.95%\n",
      "INFO:sentence_transformers.evaluation.InformationRetrievalEvaluator:Precision@3: 24.89%\n",
      "Precision@3: 24.89%\n",
      "INFO:sentence_transformers.evaluation.InformationRetrievalEvaluator:Precision@5: 16.10%\n",
      "Precision@5: 16.10%\n",
      "INFO:sentence_transformers.evaluation.InformationRetrievalEvaluator:Precision@10: 8.70%\n",
      "Precision@10: 8.70%\n",
      "INFO:sentence_transformers.evaluation.InformationRetrievalEvaluator:Recall@1: 51.95%\n",
      "Recall@1: 51.95%\n",
      "INFO:sentence_transformers.evaluation.InformationRetrievalEvaluator:Recall@3: 74.68%\n",
      "Recall@3: 74.68%\n",
      "INFO:sentence_transformers.evaluation.InformationRetrievalEvaluator:Recall@5: 80.52%\n",
      "Recall@5: 80.52%\n",
      "INFO:sentence_transformers.evaluation.InformationRetrievalEvaluator:Recall@10: 87.01%\n",
      "Recall@10: 87.01%\n",
      "INFO:sentence_transformers.evaluation.InformationRetrievalEvaluator:MRR@10: 0.6398\n",
      "MRR@10: 0.6398\n",
      "INFO:sentence_transformers.evaluation.InformationRetrievalEvaluator:NDCG@10: 0.6957\n",
      "NDCG@10: 0.6957\n",
      "INFO:sentence_transformers.evaluation.InformationRetrievalEvaluator:MAP@100: 0.6462\n",
      "MAP@100: 0.6462\n"
     ]
    },
    {
     "name": "stderr",
     "output_type": "stream",
     "text": [
      "2024/11/10 21:51:49 ERROR mlflow.utils.async_logging.async_logging_queue: Run Id 6c2bb6a0921e476a96e7bce39ce659bc: Failed to log run data: Exception: Invalid value \"eval_cosine_accuracy@1\" for parameter 'metrics[1].name' supplied: Names may only contain alphanumerics, underscores (_), dashes (-), periods (.), spaces ( ), colon(:) and slashes (/).\n",
      "\n",
      " 10%|█         | 40/390 [00:04<00:26, 13.10it/s]"
     ]
    },
    {
     "name": "stdout",
     "output_type": "stream",
     "text": [
      "{'eval_loss': 2.751124858856201, 'eval_cosine_accuracy@1': 0.5194805194805194, 'eval_cosine_accuracy@3': 0.7467532467532467, 'eval_cosine_accuracy@5': 0.8051948051948052, 'eval_cosine_accuracy@10': 0.8701298701298701, 'eval_cosine_precision@1': 0.5194805194805194, 'eval_cosine_precision@3': 0.2489177489177489, 'eval_cosine_precision@5': 0.161038961038961, 'eval_cosine_precision@10': 0.087012987012987, 'eval_cosine_recall@1': 0.5194805194805194, 'eval_cosine_recall@3': 0.7467532467532467, 'eval_cosine_recall@5': 0.8051948051948052, 'eval_cosine_recall@10': 0.8701298701298701, 'eval_cosine_ndcg@10': 0.6956758628194694, 'eval_cosine_mrr@10': 0.6398242630385487, 'eval_cosine_map@100': 0.6462378885071618, 'eval_dot_accuracy@1': 0.5194805194805194, 'eval_dot_accuracy@3': 0.7467532467532467, 'eval_dot_accuracy@5': 0.8051948051948052, 'eval_dot_accuracy@10': 0.8701298701298701, 'eval_dot_precision@1': 0.5194805194805194, 'eval_dot_precision@3': 0.2489177489177489, 'eval_dot_precision@5': 0.161038961038961, 'eval_dot_precision@10': 0.087012987012987, 'eval_dot_recall@1': 0.5194805194805194, 'eval_dot_recall@3': 0.7467532467532467, 'eval_dot_recall@5': 0.8051948051948052, 'eval_dot_recall@10': 0.8701298701298701, 'eval_dot_ndcg@10': 0.6956758628194694, 'eval_dot_mrr@10': 0.6398242630385487, 'eval_dot_map@100': 0.6462378885071618, 'eval_runtime': 0.3924, 'eval_samples_per_second': 392.499, 'eval_steps_per_second': 25.487, 'epoch': 1.03}\n"
     ]
    },
    {
     "name": "stderr",
     "output_type": "stream",
     "text": [
      " 13%|█▎        | 49/390 [00:04<00:26, 13.00it/s]"
     ]
    },
    {
     "name": "stdout",
     "output_type": "stream",
     "text": [
      "INFO:sentence_transformers.evaluation.InformationRetrievalEvaluator:Information Retrieval Evaluation of the model on the  dataset:\n",
      "Information Retrieval Evaluation of the model on the  dataset:\n",
      "INFO:sentence_transformers.evaluation.InformationRetrievalEvaluator:Queries: 154\n",
      "Queries: 154\n",
      "INFO:sentence_transformers.evaluation.InformationRetrievalEvaluator:Corpus: 77\n",
      "\n",
      "Corpus: 77\n",
      "\n",
      "INFO:sentence_transformers.evaluation.InformationRetrievalEvaluator:Score-Function: cosine\n",
      "Score-Function: cosine\n",
      "INFO:sentence_transformers.evaluation.InformationRetrievalEvaluator:Accuracy@1: 52.60%\n",
      "Accuracy@1: 52.60%\n",
      "INFO:sentence_transformers.evaluation.InformationRetrievalEvaluator:Accuracy@3: 73.38%\n",
      "Accuracy@3: 73.38%\n",
      "INFO:sentence_transformers.evaluation.InformationRetrievalEvaluator:Accuracy@5: 80.52%\n",
      "Accuracy@5: 80.52%\n",
      "INFO:sentence_transformers.evaluation.InformationRetrievalEvaluator:Accuracy@10: 85.71%\n",
      "Accuracy@10: 85.71%\n",
      "INFO:sentence_transformers.evaluation.InformationRetrievalEvaluator:Precision@1: 52.60%\n",
      "Precision@1: 52.60%\n",
      "INFO:sentence_transformers.evaluation.InformationRetrievalEvaluator:Precision@3: 24.46%\n",
      "Precision@3: 24.46%\n",
      "INFO:sentence_transformers.evaluation.InformationRetrievalEvaluator:Precision@5: 16.10%\n",
      "Precision@5: 16.10%\n",
      "INFO:sentence_transformers.evaluation.InformationRetrievalEvaluator:Precision@10: 8.57%\n",
      "Precision@10: 8.57%\n",
      "INFO:sentence_transformers.evaluation.InformationRetrievalEvaluator:Recall@1: 52.60%\n",
      "Recall@1: 52.60%\n",
      "INFO:sentence_transformers.evaluation.InformationRetrievalEvaluator:Recall@3: 73.38%\n",
      "Recall@3: 73.38%\n",
      "INFO:sentence_transformers.evaluation.InformationRetrievalEvaluator:Recall@5: 80.52%\n",
      "Recall@5: 80.52%\n",
      "INFO:sentence_transformers.evaluation.InformationRetrievalEvaluator:Recall@10: 85.71%\n",
      "Recall@10: 85.71%\n",
      "INFO:sentence_transformers.evaluation.InformationRetrievalEvaluator:MRR@10: 0.6406\n",
      "MRR@10: 0.6406\n",
      "INFO:sentence_transformers.evaluation.InformationRetrievalEvaluator:NDCG@10: 0.6933\n",
      "NDCG@10: 0.6933\n",
      "INFO:sentence_transformers.evaluation.InformationRetrievalEvaluator:MAP@100: 0.6483\n",
      "MAP@100: 0.6483\n",
      "INFO:sentence_transformers.evaluation.InformationRetrievalEvaluator:Score-Function: dot\n",
      "Score-Function: dot\n",
      "INFO:sentence_transformers.evaluation.InformationRetrievalEvaluator:Accuracy@1: 52.60%\n",
      "Accuracy@1: 52.60%\n",
      "INFO:sentence_transformers.evaluation.InformationRetrievalEvaluator:Accuracy@3: 73.38%\n",
      "Accuracy@3: 73.38%\n",
      "INFO:sentence_transformers.evaluation.InformationRetrievalEvaluator:Accuracy@5: 80.52%\n",
      "Accuracy@5: 80.52%\n",
      "INFO:sentence_transformers.evaluation.InformationRetrievalEvaluator:Accuracy@10: 85.71%\n",
      "Accuracy@10: 85.71%\n",
      "INFO:sentence_transformers.evaluation.InformationRetrievalEvaluator:Precision@1: 52.60%\n",
      "Precision@1: 52.60%\n",
      "INFO:sentence_transformers.evaluation.InformationRetrievalEvaluator:Precision@3: 24.46%\n",
      "Precision@3: 24.46%\n",
      "INFO:sentence_transformers.evaluation.InformationRetrievalEvaluator:Precision@5: 16.10%\n",
      "Precision@5: 16.10%\n",
      "INFO:sentence_transformers.evaluation.InformationRetrievalEvaluator:Precision@10: 8.57%\n",
      "Precision@10: 8.57%\n",
      "INFO:sentence_transformers.evaluation.InformationRetrievalEvaluator:Recall@1: 52.60%\n",
      "Recall@1: 52.60%\n",
      "INFO:sentence_transformers.evaluation.InformationRetrievalEvaluator:Recall@3: 73.38%\n",
      "Recall@3: 73.38%\n",
      "INFO:sentence_transformers.evaluation.InformationRetrievalEvaluator:Recall@5: 80.52%\n",
      "Recall@5: 80.52%\n",
      "INFO:sentence_transformers.evaluation.InformationRetrievalEvaluator:Recall@10: 85.71%\n",
      "Recall@10: 85.71%\n",
      "INFO:sentence_transformers.evaluation.InformationRetrievalEvaluator:MRR@10: 0.6406\n",
      "MRR@10: 0.6406\n",
      "INFO:sentence_transformers.evaluation.InformationRetrievalEvaluator:NDCG@10: 0.6933\n",
      "NDCG@10: 0.6933\n",
      "INFO:sentence_transformers.evaluation.InformationRetrievalEvaluator:MAP@100: 0.6483\n",
      "MAP@100: 0.6483\n"
     ]
    },
    {
     "name": "stderr",
     "output_type": "stream",
     "text": [
      "2024/11/10 21:51:50 ERROR mlflow.utils.async_logging.async_logging_queue: Run Id 6c2bb6a0921e476a96e7bce39ce659bc: Failed to log run data: Exception: Invalid value \"eval_cosine_accuracy@1\" for parameter 'metrics[1].name' supplied: Names may only contain alphanumerics, underscores (_), dashes (-), periods (.), spaces ( ), colon(:) and slashes (/).\n",
      "                                                \n",
      " 13%|█▎        | 51/390 [00:05<00:45,  7.43it/s]"
     ]
    },
    {
     "name": "stdout",
     "output_type": "stream",
     "text": [
      "{'eval_loss': 2.7449545860290527, 'eval_cosine_accuracy@1': 0.525974025974026, 'eval_cosine_accuracy@3': 0.7337662337662337, 'eval_cosine_accuracy@5': 0.8051948051948052, 'eval_cosine_accuracy@10': 0.8571428571428571, 'eval_cosine_precision@1': 0.525974025974026, 'eval_cosine_precision@3': 0.24458874458874458, 'eval_cosine_precision@5': 0.161038961038961, 'eval_cosine_precision@10': 0.08571428571428572, 'eval_cosine_recall@1': 0.525974025974026, 'eval_cosine_recall@3': 0.7337662337662337, 'eval_cosine_recall@5': 0.8051948051948052, 'eval_cosine_recall@10': 0.8571428571428571, 'eval_cosine_ndcg@10': 0.6933471941539561, 'eval_cosine_mrr@10': 0.6406076066790353, 'eval_cosine_map@100': 0.6482603122087235, 'eval_dot_accuracy@1': 0.525974025974026, 'eval_dot_accuracy@3': 0.7337662337662337, 'eval_dot_accuracy@5': 0.8051948051948052, 'eval_dot_accuracy@10': 0.8571428571428571, 'eval_dot_precision@1': 0.525974025974026, 'eval_dot_precision@3': 0.24458874458874458, 'eval_dot_precision@5': 0.161038961038961, 'eval_dot_precision@10': 0.08571428571428572, 'eval_dot_recall@1': 0.525974025974026, 'eval_dot_recall@3': 0.7337662337662337, 'eval_dot_recall@5': 0.8051948051948052, 'eval_dot_recall@10': 0.8571428571428571, 'eval_dot_ndcg@10': 0.6933471941539561, 'eval_dot_mrr@10': 0.6406076066790353, 'eval_dot_map@100': 0.6482603122087235, 'eval_runtime': 0.4072, 'eval_samples_per_second': 378.202, 'eval_steps_per_second': 24.559, 'epoch': 1.26}\n"
     ]
    },
    {
     "name": "stderr",
     "output_type": "stream",
     "text": [
      " 15%|█▌        | 59/390 [00:05<00:24, 13.35it/s]"
     ]
    },
    {
     "name": "stdout",
     "output_type": "stream",
     "text": [
      "INFO:sentence_transformers.evaluation.InformationRetrievalEvaluator:Information Retrieval Evaluation of the model on the  dataset:\n",
      "Information Retrieval Evaluation of the model on the  dataset:\n",
      "INFO:sentence_transformers.evaluation.InformationRetrievalEvaluator:Queries: 154\n",
      "Queries: 154\n",
      "INFO:sentence_transformers.evaluation.InformationRetrievalEvaluator:Corpus: 77\n",
      "\n",
      "Corpus: 77\n",
      "\n",
      "INFO:sentence_transformers.evaluation.InformationRetrievalEvaluator:Score-Function: cosine\n",
      "Score-Function: cosine\n",
      "INFO:sentence_transformers.evaluation.InformationRetrievalEvaluator:Accuracy@1: 51.95%\n",
      "Accuracy@1: 51.95%\n",
      "INFO:sentence_transformers.evaluation.InformationRetrievalEvaluator:Accuracy@3: 74.03%\n",
      "Accuracy@3: 74.03%\n",
      "INFO:sentence_transformers.evaluation.InformationRetrievalEvaluator:Accuracy@5: 80.52%\n",
      "Accuracy@5: 80.52%\n",
      "INFO:sentence_transformers.evaluation.InformationRetrievalEvaluator:Accuracy@10: 86.36%\n",
      "Accuracy@10: 86.36%\n",
      "INFO:sentence_transformers.evaluation.InformationRetrievalEvaluator:Precision@1: 51.95%\n",
      "Precision@1: 51.95%\n",
      "INFO:sentence_transformers.evaluation.InformationRetrievalEvaluator:Precision@3: 24.68%\n",
      "Precision@3: 24.68%\n",
      "INFO:sentence_transformers.evaluation.InformationRetrievalEvaluator:Precision@5: 16.10%\n",
      "Precision@5: 16.10%\n",
      "INFO:sentence_transformers.evaluation.InformationRetrievalEvaluator:Precision@10: 8.64%\n",
      "Precision@10: 8.64%\n",
      "INFO:sentence_transformers.evaluation.InformationRetrievalEvaluator:Recall@1: 51.95%\n",
      "Recall@1: 51.95%\n",
      "INFO:sentence_transformers.evaluation.InformationRetrievalEvaluator:Recall@3: 74.03%\n",
      "Recall@3: 74.03%\n",
      "INFO:sentence_transformers.evaluation.InformationRetrievalEvaluator:Recall@5: 80.52%\n",
      "Recall@5: 80.52%\n",
      "INFO:sentence_transformers.evaluation.InformationRetrievalEvaluator:Recall@10: 86.36%\n",
      "Recall@10: 86.36%\n",
      "INFO:sentence_transformers.evaluation.InformationRetrievalEvaluator:MRR@10: 0.6368\n",
      "MRR@10: 0.6368\n",
      "INFO:sentence_transformers.evaluation.InformationRetrievalEvaluator:NDCG@10: 0.6920\n",
      "NDCG@10: 0.6920\n",
      "INFO:sentence_transformers.evaluation.InformationRetrievalEvaluator:MAP@100: 0.6438\n",
      "MAP@100: 0.6438\n",
      "INFO:sentence_transformers.evaluation.InformationRetrievalEvaluator:Score-Function: dot\n",
      "Score-Function: dot\n",
      "INFO:sentence_transformers.evaluation.InformationRetrievalEvaluator:Accuracy@1: 51.95%\n",
      "Accuracy@1: 51.95%\n",
      "INFO:sentence_transformers.evaluation.InformationRetrievalEvaluator:Accuracy@3: 74.03%\n",
      "Accuracy@3: 74.03%\n",
      "INFO:sentence_transformers.evaluation.InformationRetrievalEvaluator:Accuracy@5: 80.52%\n",
      "Accuracy@5: 80.52%\n",
      "INFO:sentence_transformers.evaluation.InformationRetrievalEvaluator:Accuracy@10: 86.36%\n",
      "Accuracy@10: 86.36%\n",
      "INFO:sentence_transformers.evaluation.InformationRetrievalEvaluator:Precision@1: 51.95%\n",
      "Precision@1: 51.95%\n",
      "INFO:sentence_transformers.evaluation.InformationRetrievalEvaluator:Precision@3: 24.68%\n",
      "Precision@3: 24.68%\n",
      "INFO:sentence_transformers.evaluation.InformationRetrievalEvaluator:Precision@5: 16.10%\n",
      "Precision@5: 16.10%\n",
      "INFO:sentence_transformers.evaluation.InformationRetrievalEvaluator:Precision@10: 8.64%\n",
      "Precision@10: 8.64%\n",
      "INFO:sentence_transformers.evaluation.InformationRetrievalEvaluator:Recall@1: 51.95%\n",
      "Recall@1: 51.95%\n",
      "INFO:sentence_transformers.evaluation.InformationRetrievalEvaluator:Recall@3: 74.03%\n",
      "Recall@3: 74.03%\n",
      "INFO:sentence_transformers.evaluation.InformationRetrievalEvaluator:Recall@5: 80.52%\n",
      "Recall@5: 80.52%\n",
      "INFO:sentence_transformers.evaluation.InformationRetrievalEvaluator:Recall@10: 86.36%\n",
      "Recall@10: 86.36%\n",
      "INFO:sentence_transformers.evaluation.InformationRetrievalEvaluator:MRR@10: 0.6368\n",
      "MRR@10: 0.6368\n",
      "INFO:sentence_transformers.evaluation.InformationRetrievalEvaluator:NDCG@10: 0.6920\n",
      "NDCG@10: 0.6920\n",
      "INFO:sentence_transformers.evaluation.InformationRetrievalEvaluator:MAP@100: 0.6438\n",
      "MAP@100: 0.6438\n"
     ]
    },
    {
     "name": "stderr",
     "output_type": "stream",
     "text": [
      "2024/11/10 21:51:51 ERROR mlflow.utils.async_logging.async_logging_queue: Run Id 6c2bb6a0921e476a96e7bce39ce659bc: Failed to log run data: Exception: Invalid value \"eval_cosine_accuracy@1\" for parameter 'metrics[1].name' supplied: Names may only contain alphanumerics, underscores (_), dashes (-), periods (.), spaces ( ), colon(:) and slashes (/).\n",
      "                                                \n",
      " 16%|█▌        | 61/390 [00:06<00:44,  7.32it/s]"
     ]
    },
    {
     "name": "stdout",
     "output_type": "stream",
     "text": [
      "{'eval_loss': 2.746721029281616, 'eval_cosine_accuracy@1': 0.5194805194805194, 'eval_cosine_accuracy@3': 0.7402597402597403, 'eval_cosine_accuracy@5': 0.8051948051948052, 'eval_cosine_accuracy@10': 0.8636363636363636, 'eval_cosine_precision@1': 0.5194805194805194, 'eval_cosine_precision@3': 0.24675324675324675, 'eval_cosine_precision@5': 0.161038961038961, 'eval_cosine_precision@10': 0.08636363636363635, 'eval_cosine_recall@1': 0.5194805194805194, 'eval_cosine_recall@3': 0.7402597402597403, 'eval_cosine_recall@5': 0.8051948051948052, 'eval_cosine_recall@10': 0.8636363636363636, 'eval_cosine_ndcg@10': 0.6919557470541745, 'eval_cosine_mrr@10': 0.6368016903731188, 'eval_cosine_map@100': 0.6438326912230189, 'eval_dot_accuracy@1': 0.5194805194805194, 'eval_dot_accuracy@3': 0.7402597402597403, 'eval_dot_accuracy@5': 0.8051948051948052, 'eval_dot_accuracy@10': 0.8636363636363636, 'eval_dot_precision@1': 0.5194805194805194, 'eval_dot_precision@3': 0.24675324675324675, 'eval_dot_precision@5': 0.161038961038961, 'eval_dot_precision@10': 0.08636363636363635, 'eval_dot_recall@1': 0.5194805194805194, 'eval_dot_recall@3': 0.7402597402597403, 'eval_dot_recall@5': 0.8051948051948052, 'eval_dot_recall@10': 0.8636363636363636, 'eval_dot_ndcg@10': 0.6919557470541745, 'eval_dot_mrr@10': 0.6368016903731188, 'eval_dot_map@100': 0.6438326912230189, 'eval_runtime': 0.423, 'eval_samples_per_second': 364.052, 'eval_steps_per_second': 23.64, 'epoch': 1.51}\n"
     ]
    },
    {
     "name": "stderr",
     "output_type": "stream",
     "text": [
      " 18%|█▊        | 69/390 [00:06<00:24, 13.05it/s]"
     ]
    },
    {
     "name": "stdout",
     "output_type": "stream",
     "text": [
      "INFO:sentence_transformers.evaluation.InformationRetrievalEvaluator:Information Retrieval Evaluation of the model on the  dataset:\n",
      "Information Retrieval Evaluation of the model on the  dataset:\n",
      "INFO:sentence_transformers.evaluation.InformationRetrievalEvaluator:Queries: 154\n",
      "Queries: 154\n",
      "INFO:sentence_transformers.evaluation.InformationRetrievalEvaluator:Corpus: 77\n",
      "\n",
      "Corpus: 77\n",
      "\n",
      "INFO:sentence_transformers.evaluation.InformationRetrievalEvaluator:Score-Function: cosine\n",
      "Score-Function: cosine\n",
      "INFO:sentence_transformers.evaluation.InformationRetrievalEvaluator:Accuracy@1: 51.95%\n",
      "Accuracy@1: 51.95%\n",
      "INFO:sentence_transformers.evaluation.InformationRetrievalEvaluator:Accuracy@3: 72.73%\n",
      "Accuracy@3: 72.73%\n",
      "INFO:sentence_transformers.evaluation.InformationRetrievalEvaluator:Accuracy@5: 80.52%\n",
      "Accuracy@5: 80.52%\n",
      "INFO:sentence_transformers.evaluation.InformationRetrievalEvaluator:Accuracy@10: 86.36%\n",
      "Accuracy@10: 86.36%\n",
      "INFO:sentence_transformers.evaluation.InformationRetrievalEvaluator:Precision@1: 51.95%\n",
      "Precision@1: 51.95%\n",
      "INFO:sentence_transformers.evaluation.InformationRetrievalEvaluator:Precision@3: 24.24%\n",
      "Precision@3: 24.24%\n",
      "INFO:sentence_transformers.evaluation.InformationRetrievalEvaluator:Precision@5: 16.10%\n",
      "Precision@5: 16.10%\n",
      "INFO:sentence_transformers.evaluation.InformationRetrievalEvaluator:Precision@10: 8.64%\n",
      "Precision@10: 8.64%\n",
      "INFO:sentence_transformers.evaluation.InformationRetrievalEvaluator:Recall@1: 51.95%\n",
      "Recall@1: 51.95%\n",
      "INFO:sentence_transformers.evaluation.InformationRetrievalEvaluator:Recall@3: 72.73%\n",
      "Recall@3: 72.73%\n",
      "INFO:sentence_transformers.evaluation.InformationRetrievalEvaluator:Recall@5: 80.52%\n",
      "Recall@5: 80.52%\n",
      "INFO:sentence_transformers.evaluation.InformationRetrievalEvaluator:Recall@10: 86.36%\n",
      "Recall@10: 86.36%\n",
      "INFO:sentence_transformers.evaluation.InformationRetrievalEvaluator:MRR@10: 0.6368\n",
      "MRR@10: 0.6368\n",
      "INFO:sentence_transformers.evaluation.InformationRetrievalEvaluator:NDCG@10: 0.6919\n",
      "NDCG@10: 0.6919\n",
      "INFO:sentence_transformers.evaluation.InformationRetrievalEvaluator:MAP@100: 0.6440\n",
      "MAP@100: 0.6440\n",
      "INFO:sentence_transformers.evaluation.InformationRetrievalEvaluator:Score-Function: dot\n",
      "Score-Function: dot\n",
      "INFO:sentence_transformers.evaluation.InformationRetrievalEvaluator:Accuracy@1: 51.95%\n",
      "Accuracy@1: 51.95%\n",
      "INFO:sentence_transformers.evaluation.InformationRetrievalEvaluator:Accuracy@3: 72.73%\n",
      "Accuracy@3: 72.73%\n",
      "INFO:sentence_transformers.evaluation.InformationRetrievalEvaluator:Accuracy@5: 80.52%\n",
      "Accuracy@5: 80.52%\n",
      "INFO:sentence_transformers.evaluation.InformationRetrievalEvaluator:Accuracy@10: 86.36%\n",
      "Accuracy@10: 86.36%\n",
      "INFO:sentence_transformers.evaluation.InformationRetrievalEvaluator:Precision@1: 51.95%\n",
      "Precision@1: 51.95%\n",
      "INFO:sentence_transformers.evaluation.InformationRetrievalEvaluator:Precision@3: 24.24%\n",
      "Precision@3: 24.24%\n",
      "INFO:sentence_transformers.evaluation.InformationRetrievalEvaluator:Precision@5: 16.10%\n",
      "Precision@5: 16.10%\n",
      "INFO:sentence_transformers.evaluation.InformationRetrievalEvaluator:Precision@10: 8.64%\n",
      "Precision@10: 8.64%\n",
      "INFO:sentence_transformers.evaluation.InformationRetrievalEvaluator:Recall@1: 51.95%\n",
      "Recall@1: 51.95%\n",
      "INFO:sentence_transformers.evaluation.InformationRetrievalEvaluator:Recall@3: 72.73%\n",
      "Recall@3: 72.73%\n",
      "INFO:sentence_transformers.evaluation.InformationRetrievalEvaluator:Recall@5: 80.52%\n",
      "Recall@5: 80.52%\n",
      "INFO:sentence_transformers.evaluation.InformationRetrievalEvaluator:Recall@10: 86.36%\n",
      "Recall@10: 86.36%\n",
      "INFO:sentence_transformers.evaluation.InformationRetrievalEvaluator:MRR@10: 0.6368\n",
      "MRR@10: 0.6368\n",
      "INFO:sentence_transformers.evaluation.InformationRetrievalEvaluator:NDCG@10: 0.6919\n",
      "NDCG@10: 0.6919\n",
      "INFO:sentence_transformers.evaluation.InformationRetrievalEvaluator:MAP@100: 0.6440\n",
      "MAP@100: 0.6440\n"
     ]
    },
    {
     "name": "stderr",
     "output_type": "stream",
     "text": [
      "2024/11/10 21:51:52 ERROR mlflow.utils.async_logging.async_logging_queue: Run Id 6c2bb6a0921e476a96e7bce39ce659bc: Failed to log run data: Exception: Invalid value \"eval_cosine_accuracy@1\" for parameter 'metrics[1].name' supplied: Names may only contain alphanumerics, underscores (_), dashes (-), periods (.), spaces ( ), colon(:) and slashes (/).\n",
      "                                                \n",
      " 18%|█▊        | 71/390 [00:07<00:43,  7.28it/s]"
     ]
    },
    {
     "name": "stdout",
     "output_type": "stream",
     "text": [
      "{'eval_loss': 2.7567458152770996, 'eval_cosine_accuracy@1': 0.5194805194805194, 'eval_cosine_accuracy@3': 0.7272727272727273, 'eval_cosine_accuracy@5': 0.8051948051948052, 'eval_cosine_accuracy@10': 0.8636363636363636, 'eval_cosine_precision@1': 0.5194805194805194, 'eval_cosine_precision@3': 0.2424242424242424, 'eval_cosine_precision@5': 0.161038961038961, 'eval_cosine_precision@10': 0.08636363636363635, 'eval_cosine_recall@1': 0.5194805194805194, 'eval_cosine_recall@3': 0.7272727272727273, 'eval_cosine_recall@5': 0.8051948051948052, 'eval_cosine_recall@10': 0.8636363636363636, 'eval_cosine_ndcg@10': 0.6919056358185787, 'eval_cosine_mrr@10': 0.6368016903731188, 'eval_cosine_map@100': 0.6439544272968794, 'eval_dot_accuracy@1': 0.5194805194805194, 'eval_dot_accuracy@3': 0.7272727272727273, 'eval_dot_accuracy@5': 0.8051948051948052, 'eval_dot_accuracy@10': 0.8636363636363636, 'eval_dot_precision@1': 0.5194805194805194, 'eval_dot_precision@3': 0.2424242424242424, 'eval_dot_precision@5': 0.161038961038961, 'eval_dot_precision@10': 0.08636363636363635, 'eval_dot_recall@1': 0.5194805194805194, 'eval_dot_recall@3': 0.7272727272727273, 'eval_dot_recall@5': 0.8051948051948052, 'eval_dot_recall@10': 0.8636363636363636, 'eval_dot_ndcg@10': 0.6919056358185787, 'eval_dot_mrr@10': 0.6368016903731188, 'eval_dot_map@100': 0.6439544272968794, 'eval_runtime': 0.4143, 'eval_samples_per_second': 371.706, 'eval_steps_per_second': 24.137, 'epoch': 1.77}\n"
     ]
    },
    {
     "name": "stderr",
     "output_type": "stream",
     "text": [
      " 20%|██        | 79/390 [00:07<00:23, 13.21it/s]"
     ]
    },
    {
     "name": "stdout",
     "output_type": "stream",
     "text": [
      "INFO:sentence_transformers.evaluation.InformationRetrievalEvaluator:Information Retrieval Evaluation of the model on the  dataset:\n",
      "Information Retrieval Evaluation of the model on the  dataset:\n",
      "INFO:sentence_transformers.evaluation.InformationRetrievalEvaluator:Queries: 154\n",
      "Queries: 154\n",
      "INFO:sentence_transformers.evaluation.InformationRetrievalEvaluator:Corpus: 77\n",
      "\n",
      "Corpus: 77\n",
      "\n",
      "INFO:sentence_transformers.evaluation.InformationRetrievalEvaluator:Score-Function: cosine\n",
      "Score-Function: cosine\n",
      "INFO:sentence_transformers.evaluation.InformationRetrievalEvaluator:Accuracy@1: 51.95%\n",
      "Accuracy@1: 51.95%\n",
      "INFO:sentence_transformers.evaluation.InformationRetrievalEvaluator:Accuracy@3: 72.08%\n",
      "Accuracy@3: 72.08%\n",
      "INFO:sentence_transformers.evaluation.InformationRetrievalEvaluator:Accuracy@5: 80.52%\n",
      "Accuracy@5: 80.52%\n",
      "INFO:sentence_transformers.evaluation.InformationRetrievalEvaluator:Accuracy@10: 86.36%\n",
      "Accuracy@10: 86.36%\n",
      "INFO:sentence_transformers.evaluation.InformationRetrievalEvaluator:Precision@1: 51.95%\n",
      "Precision@1: 51.95%\n",
      "INFO:sentence_transformers.evaluation.InformationRetrievalEvaluator:Precision@3: 24.03%\n",
      "Precision@3: 24.03%\n",
      "INFO:sentence_transformers.evaluation.InformationRetrievalEvaluator:Precision@5: 16.10%\n",
      "Precision@5: 16.10%\n",
      "INFO:sentence_transformers.evaluation.InformationRetrievalEvaluator:Precision@10: 8.64%\n",
      "Precision@10: 8.64%\n",
      "INFO:sentence_transformers.evaluation.InformationRetrievalEvaluator:Recall@1: 51.95%\n",
      "Recall@1: 51.95%\n",
      "INFO:sentence_transformers.evaluation.InformationRetrievalEvaluator:Recall@3: 72.08%\n",
      "Recall@3: 72.08%\n",
      "INFO:sentence_transformers.evaluation.InformationRetrievalEvaluator:Recall@5: 80.52%\n",
      "Recall@5: 80.52%\n",
      "INFO:sentence_transformers.evaluation.InformationRetrievalEvaluator:Recall@10: 86.36%\n",
      "Recall@10: 86.36%\n",
      "INFO:sentence_transformers.evaluation.InformationRetrievalEvaluator:MRR@10: 0.6375\n",
      "MRR@10: 0.6375\n",
      "INFO:sentence_transformers.evaluation.InformationRetrievalEvaluator:NDCG@10: 0.6925\n",
      "NDCG@10: 0.6925\n",
      "INFO:sentence_transformers.evaluation.InformationRetrievalEvaluator:MAP@100: 0.6447\n",
      "MAP@100: 0.6447\n",
      "INFO:sentence_transformers.evaluation.InformationRetrievalEvaluator:Score-Function: dot\n",
      "Score-Function: dot\n",
      "INFO:sentence_transformers.evaluation.InformationRetrievalEvaluator:Accuracy@1: 51.95%\n",
      "Accuracy@1: 51.95%\n",
      "INFO:sentence_transformers.evaluation.InformationRetrievalEvaluator:Accuracy@3: 72.08%\n",
      "Accuracy@3: 72.08%\n",
      "INFO:sentence_transformers.evaluation.InformationRetrievalEvaluator:Accuracy@5: 80.52%\n",
      "Accuracy@5: 80.52%\n",
      "INFO:sentence_transformers.evaluation.InformationRetrievalEvaluator:Accuracy@10: 86.36%\n",
      "Accuracy@10: 86.36%\n",
      "INFO:sentence_transformers.evaluation.InformationRetrievalEvaluator:Precision@1: 51.95%\n",
      "Precision@1: 51.95%\n",
      "INFO:sentence_transformers.evaluation.InformationRetrievalEvaluator:Precision@3: 24.03%\n",
      "Precision@3: 24.03%\n",
      "INFO:sentence_transformers.evaluation.InformationRetrievalEvaluator:Precision@5: 16.10%\n",
      "Precision@5: 16.10%\n",
      "INFO:sentence_transformers.evaluation.InformationRetrievalEvaluator:Precision@10: 8.64%\n",
      "Precision@10: 8.64%\n",
      "INFO:sentence_transformers.evaluation.InformationRetrievalEvaluator:Recall@1: 51.95%\n",
      "Recall@1: 51.95%\n",
      "INFO:sentence_transformers.evaluation.InformationRetrievalEvaluator:Recall@3: 72.08%\n",
      "Recall@3: 72.08%\n",
      "INFO:sentence_transformers.evaluation.InformationRetrievalEvaluator:Recall@5: 80.52%\n",
      "Recall@5: 80.52%\n",
      "INFO:sentence_transformers.evaluation.InformationRetrievalEvaluator:Recall@10: 86.36%\n",
      "Recall@10: 86.36%\n",
      "INFO:sentence_transformers.evaluation.InformationRetrievalEvaluator:MRR@10: 0.6375\n",
      "MRR@10: 0.6375\n",
      "INFO:sentence_transformers.evaluation.InformationRetrievalEvaluator:NDCG@10: 0.6925\n",
      "NDCG@10: 0.6925\n",
      "INFO:sentence_transformers.evaluation.InformationRetrievalEvaluator:MAP@100: 0.6447\n",
      "MAP@100: 0.6447\n"
     ]
    },
    {
     "name": "stderr",
     "output_type": "stream",
     "text": [
      "                                                2024/11/10 21:51:53 ERROR mlflow.utils.async_logging.async_logging_queue: Run Id 6c2bb6a0921e476a96e7bce39ce659bc: Failed to log run data: Exception: Invalid value \"eval_cosine_accuracy@1\" for parameter 'metrics[1].name' supplied: Names may only contain alphanumerics, underscores (_), dashes (-), periods (.), spaces ( ), colon(:) and slashes (/).\n",
      "\n",
      " 21%|██        | 80/390 [00:08<00:23, 13.21it/s]"
     ]
    },
    {
     "name": "stdout",
     "output_type": "stream",
     "text": [
      "{'eval_loss': 2.778771162033081, 'eval_cosine_accuracy@1': 0.5194805194805194, 'eval_cosine_accuracy@3': 0.7207792207792207, 'eval_cosine_accuracy@5': 0.8051948051948052, 'eval_cosine_accuracy@10': 0.8636363636363636, 'eval_cosine_precision@1': 0.5194805194805194, 'eval_cosine_precision@3': 0.24025974025974026, 'eval_cosine_precision@5': 0.161038961038961, 'eval_cosine_precision@10': 0.08636363636363635, 'eval_cosine_recall@1': 0.5194805194805194, 'eval_cosine_recall@3': 0.7207792207792207, 'eval_cosine_recall@5': 0.8051948051948052, 'eval_cosine_recall@10': 0.8636363636363636, 'eval_cosine_ndcg@10': 0.692454208321303, 'eval_cosine_mrr@10': 0.637497423211709, 'eval_cosine_map@100': 0.644705949277544, 'eval_dot_accuracy@1': 0.5194805194805194, 'eval_dot_accuracy@3': 0.7207792207792207, 'eval_dot_accuracy@5': 0.8051948051948052, 'eval_dot_accuracy@10': 0.8636363636363636, 'eval_dot_precision@1': 0.5194805194805194, 'eval_dot_precision@3': 0.24025974025974026, 'eval_dot_precision@5': 0.161038961038961, 'eval_dot_precision@10': 0.08636363636363635, 'eval_dot_recall@1': 0.5194805194805194, 'eval_dot_recall@3': 0.7207792207792207, 'eval_dot_recall@5': 0.8051948051948052, 'eval_dot_recall@10': 0.8636363636363636, 'eval_dot_ndcg@10': 0.692454208321303, 'eval_dot_mrr@10': 0.637497423211709, 'eval_dot_map@100': 0.644705949277544, 'eval_runtime': 0.4075, 'eval_samples_per_second': 377.934, 'eval_steps_per_second': 24.541, 'epoch': 2.03}\n"
     ]
    },
    {
     "name": "stderr",
     "output_type": "stream",
     "text": [
      " 23%|██▎       | 89/390 [00:08<00:22, 13.23it/s]"
     ]
    },
    {
     "name": "stdout",
     "output_type": "stream",
     "text": [
      "INFO:sentence_transformers.evaluation.InformationRetrievalEvaluator:Information Retrieval Evaluation of the model on the  dataset:\n",
      "Information Retrieval Evaluation of the model on the  dataset:\n",
      "INFO:sentence_transformers.evaluation.InformationRetrievalEvaluator:Queries: 154\n",
      "Queries: 154\n",
      "INFO:sentence_transformers.evaluation.InformationRetrievalEvaluator:Corpus: 77\n",
      "\n",
      "Corpus: 77\n",
      "\n",
      "INFO:sentence_transformers.evaluation.InformationRetrievalEvaluator:Score-Function: cosine\n",
      "Score-Function: cosine\n",
      "INFO:sentence_transformers.evaluation.InformationRetrievalEvaluator:Accuracy@1: 51.30%\n",
      "Accuracy@1: 51.30%\n",
      "INFO:sentence_transformers.evaluation.InformationRetrievalEvaluator:Accuracy@3: 72.73%\n",
      "Accuracy@3: 72.73%\n",
      "INFO:sentence_transformers.evaluation.InformationRetrievalEvaluator:Accuracy@5: 80.52%\n",
      "Accuracy@5: 80.52%\n",
      "INFO:sentence_transformers.evaluation.InformationRetrievalEvaluator:Accuracy@10: 85.71%\n",
      "Accuracy@10: 85.71%\n",
      "INFO:sentence_transformers.evaluation.InformationRetrievalEvaluator:Precision@1: 51.30%\n",
      "Precision@1: 51.30%\n",
      "INFO:sentence_transformers.evaluation.InformationRetrievalEvaluator:Precision@3: 24.24%\n",
      "Precision@3: 24.24%\n",
      "INFO:sentence_transformers.evaluation.InformationRetrievalEvaluator:Precision@5: 16.10%\n",
      "Precision@5: 16.10%\n",
      "INFO:sentence_transformers.evaluation.InformationRetrievalEvaluator:Precision@10: 8.57%\n",
      "Precision@10: 8.57%\n",
      "INFO:sentence_transformers.evaluation.InformationRetrievalEvaluator:Recall@1: 51.30%\n",
      "Recall@1: 51.30%\n",
      "INFO:sentence_transformers.evaluation.InformationRetrievalEvaluator:Recall@3: 72.73%\n",
      "Recall@3: 72.73%\n",
      "INFO:sentence_transformers.evaluation.InformationRetrievalEvaluator:Recall@5: 80.52%\n",
      "Recall@5: 80.52%\n",
      "INFO:sentence_transformers.evaluation.InformationRetrievalEvaluator:Recall@10: 85.71%\n",
      "Recall@10: 85.71%\n",
      "INFO:sentence_transformers.evaluation.InformationRetrievalEvaluator:MRR@10: 0.6340\n",
      "MRR@10: 0.6340\n",
      "INFO:sentence_transformers.evaluation.InformationRetrievalEvaluator:NDCG@10: 0.6885\n",
      "NDCG@10: 0.6885\n",
      "INFO:sentence_transformers.evaluation.InformationRetrievalEvaluator:MAP@100: 0.6419\n",
      "MAP@100: 0.6419\n",
      "INFO:sentence_transformers.evaluation.InformationRetrievalEvaluator:Score-Function: dot\n",
      "Score-Function: dot\n",
      "INFO:sentence_transformers.evaluation.InformationRetrievalEvaluator:Accuracy@1: 51.30%\n",
      "Accuracy@1: 51.30%\n",
      "INFO:sentence_transformers.evaluation.InformationRetrievalEvaluator:Accuracy@3: 72.73%\n",
      "Accuracy@3: 72.73%\n",
      "INFO:sentence_transformers.evaluation.InformationRetrievalEvaluator:Accuracy@5: 80.52%\n",
      "Accuracy@5: 80.52%\n",
      "INFO:sentence_transformers.evaluation.InformationRetrievalEvaluator:Accuracy@10: 85.71%\n",
      "Accuracy@10: 85.71%\n",
      "INFO:sentence_transformers.evaluation.InformationRetrievalEvaluator:Precision@1: 51.30%\n",
      "Precision@1: 51.30%\n",
      "INFO:sentence_transformers.evaluation.InformationRetrievalEvaluator:Precision@3: 24.24%\n",
      "Precision@3: 24.24%\n",
      "INFO:sentence_transformers.evaluation.InformationRetrievalEvaluator:Precision@5: 16.10%\n",
      "Precision@5: 16.10%\n",
      "INFO:sentence_transformers.evaluation.InformationRetrievalEvaluator:Precision@10: 8.57%\n",
      "Precision@10: 8.57%\n",
      "INFO:sentence_transformers.evaluation.InformationRetrievalEvaluator:Recall@1: 51.30%\n",
      "Recall@1: 51.30%\n",
      "INFO:sentence_transformers.evaluation.InformationRetrievalEvaluator:Recall@3: 72.73%\n",
      "Recall@3: 72.73%\n",
      "INFO:sentence_transformers.evaluation.InformationRetrievalEvaluator:Recall@5: 80.52%\n",
      "Recall@5: 80.52%\n",
      "INFO:sentence_transformers.evaluation.InformationRetrievalEvaluator:Recall@10: 85.71%\n",
      "Recall@10: 85.71%\n",
      "INFO:sentence_transformers.evaluation.InformationRetrievalEvaluator:MRR@10: 0.6340\n",
      "MRR@10: 0.6340\n",
      "INFO:sentence_transformers.evaluation.InformationRetrievalEvaluator:NDCG@10: 0.6885\n",
      "NDCG@10: 0.6885\n",
      "INFO:sentence_transformers.evaluation.InformationRetrievalEvaluator:MAP@100: 0.6419\n",
      "MAP@100: 0.6419\n"
     ]
    },
    {
     "name": "stderr",
     "output_type": "stream",
     "text": [
      "                                                2024/11/10 21:51:54 ERROR mlflow.utils.async_logging.async_logging_queue: Run Id 6c2bb6a0921e476a96e7bce39ce659bc: Failed to log run data: Exception: Invalid value \"eval_cosine_accuracy@1\" for parameter 'metrics[1].name' supplied: Names may only contain alphanumerics, underscores (_), dashes (-), periods (.), spaces ( ), colon(:) and slashes (/).\n",
      "\n",
      " 23%|██▎       | 90/390 [00:09<00:22, 13.23it/s]"
     ]
    },
    {
     "name": "stdout",
     "output_type": "stream",
     "text": [
      "{'eval_loss': 2.8185017108917236, 'eval_cosine_accuracy@1': 0.512987012987013, 'eval_cosine_accuracy@3': 0.7272727272727273, 'eval_cosine_accuracy@5': 0.8051948051948052, 'eval_cosine_accuracy@10': 0.8571428571428571, 'eval_cosine_precision@1': 0.512987012987013, 'eval_cosine_precision@3': 0.2424242424242424, 'eval_cosine_precision@5': 0.161038961038961, 'eval_cosine_precision@10': 0.08571428571428572, 'eval_cosine_recall@1': 0.512987012987013, 'eval_cosine_recall@3': 0.7272727272727273, 'eval_cosine_recall@5': 0.8051948051948052, 'eval_cosine_recall@10': 0.8571428571428571, 'eval_cosine_ndcg@10': 0.6884822246551048, 'eval_cosine_mrr@10': 0.6339878375592662, 'eval_cosine_map@100': 0.6418910310193048, 'eval_dot_accuracy@1': 0.512987012987013, 'eval_dot_accuracy@3': 0.7272727272727273, 'eval_dot_accuracy@5': 0.8051948051948052, 'eval_dot_accuracy@10': 0.8571428571428571, 'eval_dot_precision@1': 0.512987012987013, 'eval_dot_precision@3': 0.2424242424242424, 'eval_dot_precision@5': 0.161038961038961, 'eval_dot_precision@10': 0.08571428571428572, 'eval_dot_recall@1': 0.512987012987013, 'eval_dot_recall@3': 0.7272727272727273, 'eval_dot_recall@5': 0.8051948051948052, 'eval_dot_recall@10': 0.8571428571428571, 'eval_dot_ndcg@10': 0.6884822246551048, 'eval_dot_mrr@10': 0.6339878375592662, 'eval_dot_map@100': 0.6418910310193048, 'eval_runtime': 0.3896, 'eval_samples_per_second': 395.304, 'eval_steps_per_second': 25.669, 'epoch': 2.26}\n"
     ]
    },
    {
     "name": "stderr",
     "output_type": "stream",
     "text": [
      " 26%|██▌       | 100/390 [00:09<00:21, 13.38it/s]"
     ]
    },
    {
     "name": "stdout",
     "output_type": "stream",
     "text": [
      "{'loss': 2.6295, 'grad_norm': 15.836338996887207, 'learning_rate': 1.6524216524216525e-05, 'epoch': 2.51}\n"
     ]
    },
    {
     "name": "stderr",
     "output_type": "stream",
     "text": []
    },
    {
     "name": "stdout",
     "output_type": "stream",
     "text": [
      "INFO:sentence_transformers.evaluation.InformationRetrievalEvaluator:Information Retrieval Evaluation of the model on the  dataset:\n",
      "Information Retrieval Evaluation of the model on the  dataset:\n",
      "INFO:sentence_transformers.evaluation.InformationRetrievalEvaluator:Queries: 154\n",
      "Queries: 154\n",
      "INFO:sentence_transformers.evaluation.InformationRetrievalEvaluator:Corpus: 77\n",
      "\n",
      "Corpus: 77\n",
      "\n",
      "INFO:sentence_transformers.evaluation.InformationRetrievalEvaluator:Score-Function: cosine\n",
      "Score-Function: cosine\n",
      "INFO:sentence_transformers.evaluation.InformationRetrievalEvaluator:Accuracy@1: 50.65%\n",
      "Accuracy@1: 50.65%\n",
      "INFO:sentence_transformers.evaluation.InformationRetrievalEvaluator:Accuracy@3: 72.73%\n",
      "Accuracy@3: 72.73%\n",
      "INFO:sentence_transformers.evaluation.InformationRetrievalEvaluator:Accuracy@5: 80.52%\n",
      "Accuracy@5: 80.52%\n",
      "INFO:sentence_transformers.evaluation.InformationRetrievalEvaluator:Accuracy@10: 86.36%\n",
      "Accuracy@10: 86.36%\n",
      "INFO:sentence_transformers.evaluation.InformationRetrievalEvaluator:Precision@1: 50.65%\n",
      "Precision@1: 50.65%\n",
      "INFO:sentence_transformers.evaluation.InformationRetrievalEvaluator:Precision@3: 24.24%\n",
      "Precision@3: 24.24%\n",
      "INFO:sentence_transformers.evaluation.InformationRetrievalEvaluator:Precision@5: 16.10%\n",
      "Precision@5: 16.10%\n",
      "INFO:sentence_transformers.evaluation.InformationRetrievalEvaluator:Precision@10: 8.64%\n",
      "Precision@10: 8.64%\n",
      "INFO:sentence_transformers.evaluation.InformationRetrievalEvaluator:Recall@1: 50.65%\n",
      "Recall@1: 50.65%\n",
      "INFO:sentence_transformers.evaluation.InformationRetrievalEvaluator:Recall@3: 72.73%\n",
      "Recall@3: 72.73%\n",
      "INFO:sentence_transformers.evaluation.InformationRetrievalEvaluator:Recall@5: 80.52%\n",
      "Recall@5: 80.52%\n",
      "INFO:sentence_transformers.evaluation.InformationRetrievalEvaluator:Recall@10: 86.36%\n",
      "Recall@10: 86.36%\n",
      "INFO:sentence_transformers.evaluation.InformationRetrievalEvaluator:MRR@10: 0.6323\n",
      "MRR@10: 0.6323\n",
      "INFO:sentence_transformers.evaluation.InformationRetrievalEvaluator:NDCG@10: 0.6888\n",
      "NDCG@10: 0.6888\n",
      "INFO:sentence_transformers.evaluation.InformationRetrievalEvaluator:MAP@100: 0.6398\n",
      "MAP@100: 0.6398\n",
      "INFO:sentence_transformers.evaluation.InformationRetrievalEvaluator:Score-Function: dot\n",
      "Score-Function: dot\n",
      "INFO:sentence_transformers.evaluation.InformationRetrievalEvaluator:Accuracy@1: 50.65%\n",
      "Accuracy@1: 50.65%\n",
      "INFO:sentence_transformers.evaluation.InformationRetrievalEvaluator:Accuracy@3: 72.73%\n",
      "Accuracy@3: 72.73%\n",
      "INFO:sentence_transformers.evaluation.InformationRetrievalEvaluator:Accuracy@5: 80.52%\n",
      "Accuracy@5: 80.52%\n",
      "INFO:sentence_transformers.evaluation.InformationRetrievalEvaluator:Accuracy@10: 86.36%\n",
      "Accuracy@10: 86.36%\n",
      "INFO:sentence_transformers.evaluation.InformationRetrievalEvaluator:Precision@1: 50.65%\n",
      "Precision@1: 50.65%\n",
      "INFO:sentence_transformers.evaluation.InformationRetrievalEvaluator:Precision@3: 24.24%\n",
      "Precision@3: 24.24%\n",
      "INFO:sentence_transformers.evaluation.InformationRetrievalEvaluator:Precision@5: 16.10%\n",
      "Precision@5: 16.10%\n",
      "INFO:sentence_transformers.evaluation.InformationRetrievalEvaluator:Precision@10: 8.64%\n",
      "Precision@10: 8.64%\n",
      "INFO:sentence_transformers.evaluation.InformationRetrievalEvaluator:Recall@1: 50.65%\n",
      "Recall@1: 50.65%\n",
      "INFO:sentence_transformers.evaluation.InformationRetrievalEvaluator:Recall@3: 72.73%\n",
      "Recall@3: 72.73%\n",
      "INFO:sentence_transformers.evaluation.InformationRetrievalEvaluator:Recall@5: 80.52%\n",
      "Recall@5: 80.52%\n",
      "INFO:sentence_transformers.evaluation.InformationRetrievalEvaluator:Recall@10: 86.36%\n",
      "Recall@10: 86.36%\n",
      "INFO:sentence_transformers.evaluation.InformationRetrievalEvaluator:MRR@10: 0.6323\n",
      "MRR@10: 0.6323\n",
      "INFO:sentence_transformers.evaluation.InformationRetrievalEvaluator:NDCG@10: 0.6888\n",
      "NDCG@10: 0.6888\n",
      "INFO:sentence_transformers.evaluation.InformationRetrievalEvaluator:MAP@100: 0.6398\n",
      "MAP@100: 0.6398\n"
     ]
    },
    {
     "name": "stderr",
     "output_type": "stream",
     "text": [
      "2024/11/10 21:51:55 ERROR mlflow.utils.async_logging.async_logging_queue: Run Id 6c2bb6a0921e476a96e7bce39ce659bc: Failed to log run data: Exception: Invalid value \"eval_cosine_accuracy@1\" for parameter 'metrics[1].name' supplied: Names may only contain alphanumerics, underscores (_), dashes (-), periods (.), spaces ( ), colon(:) and slashes (/).\n",
      "                                                 \n",
      " 26%|██▌       | 100/390 [00:10<00:21, 13.38it/s]\n"
     ]
    },
    {
     "name": "stdout",
     "output_type": "stream",
     "text": [
      "{'eval_loss': 2.8365139961242676, 'eval_cosine_accuracy@1': 0.5064935064935064, 'eval_cosine_accuracy@3': 0.7272727272727273, 'eval_cosine_accuracy@5': 0.8051948051948052, 'eval_cosine_accuracy@10': 0.8636363636363636, 'eval_cosine_precision@1': 0.5064935064935064, 'eval_cosine_precision@3': 0.2424242424242424, 'eval_cosine_precision@5': 0.161038961038961, 'eval_cosine_precision@10': 0.08636363636363635, 'eval_cosine_recall@1': 0.5064935064935064, 'eval_cosine_recall@3': 0.7272727272727273, 'eval_cosine_recall@5': 0.8051948051948052, 'eval_cosine_recall@10': 0.8636363636363636, 'eval_cosine_ndcg@10': 0.6887970104548232, 'eval_cosine_mrr@10': 0.6322923108637395, 'eval_cosine_map@100': 0.6398283493201494, 'eval_dot_accuracy@1': 0.5064935064935064, 'eval_dot_accuracy@3': 0.7272727272727273, 'eval_dot_accuracy@5': 0.8051948051948052, 'eval_dot_accuracy@10': 0.8636363636363636, 'eval_dot_precision@1': 0.5064935064935064, 'eval_dot_precision@3': 0.2424242424242424, 'eval_dot_precision@5': 0.161038961038961, 'eval_dot_precision@10': 0.08636363636363635, 'eval_dot_recall@1': 0.5064935064935064, 'eval_dot_recall@3': 0.7272727272727273, 'eval_dot_recall@5': 0.8051948051948052, 'eval_dot_recall@10': 0.8636363636363636, 'eval_dot_ndcg@10': 0.6887970104548232, 'eval_dot_mrr@10': 0.6322923108637395, 'eval_dot_map@100': 0.6398283493201494, 'eval_runtime': 0.4127, 'eval_samples_per_second': 373.158, 'eval_steps_per_second': 24.231, 'epoch': 2.51}\n"
     ]
    },
    {
     "name": "stderr",
     "output_type": "stream",
     "text": [
      "                                               \u001b[A"
     ]
    },
    {
     "name": "stdout",
     "output_type": "stream",
     "text": [
      "INFO:sentence_transformers.trainer:Saving model checkpoint to ../models/ft_mini_lm/checkpoint-100\n",
      "Saving model checkpoint to ../models/ft_mini_lm/checkpoint-100\n",
      "INFO:sentence_transformers.SentenceTransformer:Save model to ../models/ft_mini_lm/checkpoint-100\n",
      "Save model to ../models/ft_mini_lm/checkpoint-100\n"
     ]
    },
    {
     "name": "stderr",
     "output_type": "stream",
     "text": [
      " 28%|██▊       | 109/390 [00:11<00:29,  9.55it/s]"
     ]
    },
    {
     "name": "stdout",
     "output_type": "stream",
     "text": [
      "INFO:sentence_transformers.evaluation.InformationRetrievalEvaluator:Information Retrieval Evaluation of the model on the  dataset:\n",
      "Information Retrieval Evaluation of the model on the  dataset:\n",
      "INFO:sentence_transformers.evaluation.InformationRetrievalEvaluator:Queries: 154\n",
      "Queries: 154\n",
      "INFO:sentence_transformers.evaluation.InformationRetrievalEvaluator:Corpus: 77\n",
      "\n",
      "Corpus: 77\n",
      "\n",
      "INFO:sentence_transformers.evaluation.InformationRetrievalEvaluator:Score-Function: cosine\n",
      "Score-Function: cosine\n",
      "INFO:sentence_transformers.evaluation.InformationRetrievalEvaluator:Accuracy@1: 50.65%\n",
      "Accuracy@1: 50.65%\n",
      "INFO:sentence_transformers.evaluation.InformationRetrievalEvaluator:Accuracy@3: 72.73%\n",
      "Accuracy@3: 72.73%\n",
      "INFO:sentence_transformers.evaluation.InformationRetrievalEvaluator:Accuracy@5: 80.52%\n",
      "Accuracy@5: 80.52%\n",
      "INFO:sentence_transformers.evaluation.InformationRetrievalEvaluator:Accuracy@10: 87.66%\n",
      "Accuracy@10: 87.66%\n",
      "INFO:sentence_transformers.evaluation.InformationRetrievalEvaluator:Precision@1: 50.65%\n",
      "Precision@1: 50.65%\n",
      "INFO:sentence_transformers.evaluation.InformationRetrievalEvaluator:Precision@3: 24.24%\n",
      "Precision@3: 24.24%\n",
      "INFO:sentence_transformers.evaluation.InformationRetrievalEvaluator:Precision@5: 16.10%\n",
      "Precision@5: 16.10%\n",
      "INFO:sentence_transformers.evaluation.InformationRetrievalEvaluator:Precision@10: 8.77%\n",
      "Precision@10: 8.77%\n",
      "INFO:sentence_transformers.evaluation.InformationRetrievalEvaluator:Recall@1: 50.65%\n",
      "Recall@1: 50.65%\n",
      "INFO:sentence_transformers.evaluation.InformationRetrievalEvaluator:Recall@3: 72.73%\n",
      "Recall@3: 72.73%\n",
      "INFO:sentence_transformers.evaluation.InformationRetrievalEvaluator:Recall@5: 80.52%\n",
      "Recall@5: 80.52%\n",
      "INFO:sentence_transformers.evaluation.InformationRetrievalEvaluator:Recall@10: 87.66%\n",
      "Recall@10: 87.66%\n",
      "INFO:sentence_transformers.evaluation.InformationRetrievalEvaluator:MRR@10: 0.6340\n",
      "MRR@10: 0.6340\n",
      "INFO:sentence_transformers.evaluation.InformationRetrievalEvaluator:NDCG@10: 0.6930\n",
      "NDCG@10: 0.6930\n",
      "INFO:sentence_transformers.evaluation.InformationRetrievalEvaluator:MAP@100: 0.6403\n",
      "MAP@100: 0.6403\n",
      "INFO:sentence_transformers.evaluation.InformationRetrievalEvaluator:Score-Function: dot\n",
      "Score-Function: dot\n",
      "INFO:sentence_transformers.evaluation.InformationRetrievalEvaluator:Accuracy@1: 50.65%\n",
      "Accuracy@1: 50.65%\n",
      "INFO:sentence_transformers.evaluation.InformationRetrievalEvaluator:Accuracy@3: 72.73%\n",
      "Accuracy@3: 72.73%\n",
      "INFO:sentence_transformers.evaluation.InformationRetrievalEvaluator:Accuracy@5: 80.52%\n",
      "Accuracy@5: 80.52%\n",
      "INFO:sentence_transformers.evaluation.InformationRetrievalEvaluator:Accuracy@10: 87.66%\n",
      "Accuracy@10: 87.66%\n",
      "INFO:sentence_transformers.evaluation.InformationRetrievalEvaluator:Precision@1: 50.65%\n",
      "Precision@1: 50.65%\n",
      "INFO:sentence_transformers.evaluation.InformationRetrievalEvaluator:Precision@3: 24.24%\n",
      "Precision@3: 24.24%\n",
      "INFO:sentence_transformers.evaluation.InformationRetrievalEvaluator:Precision@5: 16.10%\n",
      "Precision@5: 16.10%\n",
      "INFO:sentence_transformers.evaluation.InformationRetrievalEvaluator:Precision@10: 8.77%\n",
      "Precision@10: 8.77%\n",
      "INFO:sentence_transformers.evaluation.InformationRetrievalEvaluator:Recall@1: 50.65%\n",
      "Recall@1: 50.65%\n",
      "INFO:sentence_transformers.evaluation.InformationRetrievalEvaluator:Recall@3: 72.73%\n",
      "Recall@3: 72.73%\n",
      "INFO:sentence_transformers.evaluation.InformationRetrievalEvaluator:Recall@5: 80.52%\n",
      "Recall@5: 80.52%\n",
      "INFO:sentence_transformers.evaluation.InformationRetrievalEvaluator:Recall@10: 87.66%\n",
      "Recall@10: 87.66%\n",
      "INFO:sentence_transformers.evaluation.InformationRetrievalEvaluator:MRR@10: 0.6340\n",
      "MRR@10: 0.6340\n",
      "INFO:sentence_transformers.evaluation.InformationRetrievalEvaluator:NDCG@10: 0.6930\n",
      "NDCG@10: 0.6930\n",
      "INFO:sentence_transformers.evaluation.InformationRetrievalEvaluator:MAP@100: 0.6403\n",
      "MAP@100: 0.6403\n"
     ]
    },
    {
     "name": "stderr",
     "output_type": "stream",
     "text": [
      "2024/11/10 21:51:57 ERROR mlflow.utils.async_logging.async_logging_queue: Run Id 6c2bb6a0921e476a96e7bce39ce659bc: Failed to log run data: Exception: Invalid value \"eval_cosine_accuracy@1\" for parameter 'metrics[1].name' supplied: Names may only contain alphanumerics, underscores (_), dashes (-), periods (.), spaces ( ), colon(:) and slashes (/).\n",
      "                                                 \n",
      " 28%|██▊       | 111/390 [00:12<00:43,  6.44it/s]"
     ]
    },
    {
     "name": "stdout",
     "output_type": "stream",
     "text": [
      "{'eval_loss': 2.878204584121704, 'eval_cosine_accuracy@1': 0.5064935064935064, 'eval_cosine_accuracy@3': 0.7272727272727273, 'eval_cosine_accuracy@5': 0.8051948051948052, 'eval_cosine_accuracy@10': 0.8766233766233766, 'eval_cosine_precision@1': 0.5064935064935064, 'eval_cosine_precision@3': 0.2424242424242424, 'eval_cosine_precision@5': 0.161038961038961, 'eval_cosine_precision@10': 0.08766233766233765, 'eval_cosine_recall@1': 0.5064935064935064, 'eval_cosine_recall@3': 0.7272727272727273, 'eval_cosine_recall@5': 0.8051948051948052, 'eval_cosine_recall@10': 0.8766233766233766, 'eval_cosine_ndcg@10': 0.6929870884640824, 'eval_cosine_mrr@10': 0.6340239125953412, 'eval_cosine_map@100': 0.6403292629812604, 'eval_dot_accuracy@1': 0.5064935064935064, 'eval_dot_accuracy@3': 0.7272727272727273, 'eval_dot_accuracy@5': 0.8051948051948052, 'eval_dot_accuracy@10': 0.8766233766233766, 'eval_dot_precision@1': 0.5064935064935064, 'eval_dot_precision@3': 0.2424242424242424, 'eval_dot_precision@5': 0.161038961038961, 'eval_dot_precision@10': 0.08766233766233765, 'eval_dot_recall@1': 0.5064935064935064, 'eval_dot_recall@3': 0.7272727272727273, 'eval_dot_recall@5': 0.8051948051948052, 'eval_dot_recall@10': 0.8766233766233766, 'eval_dot_ndcg@10': 0.6929870884640824, 'eval_dot_mrr@10': 0.6340239125953412, 'eval_dot_map@100': 0.6403292629812604, 'eval_runtime': 0.4045, 'eval_samples_per_second': 380.689, 'eval_steps_per_second': 24.72, 'epoch': 2.77}\n"
     ]
    },
    {
     "name": "stderr",
     "output_type": "stream",
     "text": [
      " 31%|███       | 119/390 [00:12<00:22, 12.31it/s]"
     ]
    },
    {
     "name": "stdout",
     "output_type": "stream",
     "text": [
      "INFO:sentence_transformers.evaluation.InformationRetrievalEvaluator:Information Retrieval Evaluation of the model on the  dataset:\n",
      "Information Retrieval Evaluation of the model on the  dataset:\n",
      "INFO:sentence_transformers.evaluation.InformationRetrievalEvaluator:Queries: 154\n",
      "Queries: 154\n",
      "INFO:sentence_transformers.evaluation.InformationRetrievalEvaluator:Corpus: 77\n",
      "\n",
      "Corpus: 77\n",
      "\n",
      "INFO:sentence_transformers.evaluation.InformationRetrievalEvaluator:Score-Function: cosine\n",
      "Score-Function: cosine\n",
      "INFO:sentence_transformers.evaluation.InformationRetrievalEvaluator:Accuracy@1: 49.35%\n",
      "Accuracy@1: 49.35%\n",
      "INFO:sentence_transformers.evaluation.InformationRetrievalEvaluator:Accuracy@3: 72.73%\n",
      "Accuracy@3: 72.73%\n",
      "INFO:sentence_transformers.evaluation.InformationRetrievalEvaluator:Accuracy@5: 80.52%\n",
      "Accuracy@5: 80.52%\n",
      "INFO:sentence_transformers.evaluation.InformationRetrievalEvaluator:Accuracy@10: 88.96%\n",
      "Accuracy@10: 88.96%\n",
      "INFO:sentence_transformers.evaluation.InformationRetrievalEvaluator:Precision@1: 49.35%\n",
      "Precision@1: 49.35%\n",
      "INFO:sentence_transformers.evaluation.InformationRetrievalEvaluator:Precision@3: 24.24%\n",
      "Precision@3: 24.24%\n",
      "INFO:sentence_transformers.evaluation.InformationRetrievalEvaluator:Precision@5: 16.10%\n",
      "Precision@5: 16.10%\n",
      "INFO:sentence_transformers.evaluation.InformationRetrievalEvaluator:Precision@10: 8.90%\n",
      "Precision@10: 8.90%\n",
      "INFO:sentence_transformers.evaluation.InformationRetrievalEvaluator:Recall@1: 49.35%\n",
      "Recall@1: 49.35%\n",
      "INFO:sentence_transformers.evaluation.InformationRetrievalEvaluator:Recall@3: 72.73%\n",
      "Recall@3: 72.73%\n",
      "INFO:sentence_transformers.evaluation.InformationRetrievalEvaluator:Recall@5: 80.52%\n",
      "Recall@5: 80.52%\n",
      "INFO:sentence_transformers.evaluation.InformationRetrievalEvaluator:Recall@10: 88.96%\n",
      "Recall@10: 88.96%\n",
      "INFO:sentence_transformers.evaluation.InformationRetrievalEvaluator:MRR@10: 0.6289\n",
      "MRR@10: 0.6289\n",
      "INFO:sentence_transformers.evaluation.InformationRetrievalEvaluator:NDCG@10: 0.6921\n",
      "NDCG@10: 0.6921\n",
      "INFO:sentence_transformers.evaluation.InformationRetrievalEvaluator:MAP@100: 0.6342\n",
      "MAP@100: 0.6342\n",
      "INFO:sentence_transformers.evaluation.InformationRetrievalEvaluator:Score-Function: dot\n",
      "Score-Function: dot\n",
      "INFO:sentence_transformers.evaluation.InformationRetrievalEvaluator:Accuracy@1: 49.35%\n",
      "Accuracy@1: 49.35%\n",
      "INFO:sentence_transformers.evaluation.InformationRetrievalEvaluator:Accuracy@3: 72.73%\n",
      "Accuracy@3: 72.73%\n",
      "INFO:sentence_transformers.evaluation.InformationRetrievalEvaluator:Accuracy@5: 80.52%\n",
      "Accuracy@5: 80.52%\n",
      "INFO:sentence_transformers.evaluation.InformationRetrievalEvaluator:Accuracy@10: 88.96%\n",
      "Accuracy@10: 88.96%\n",
      "INFO:sentence_transformers.evaluation.InformationRetrievalEvaluator:Precision@1: 49.35%\n",
      "Precision@1: 49.35%\n",
      "INFO:sentence_transformers.evaluation.InformationRetrievalEvaluator:Precision@3: 24.24%\n",
      "Precision@3: 24.24%\n",
      "INFO:sentence_transformers.evaluation.InformationRetrievalEvaluator:Precision@5: 16.10%\n",
      "Precision@5: 16.10%\n",
      "INFO:sentence_transformers.evaluation.InformationRetrievalEvaluator:Precision@10: 8.90%\n",
      "Precision@10: 8.90%\n",
      "INFO:sentence_transformers.evaluation.InformationRetrievalEvaluator:Recall@1: 49.35%\n",
      "Recall@1: 49.35%\n",
      "INFO:sentence_transformers.evaluation.InformationRetrievalEvaluator:Recall@3: 72.73%\n",
      "Recall@3: 72.73%\n",
      "INFO:sentence_transformers.evaluation.InformationRetrievalEvaluator:Recall@5: 80.52%\n",
      "Recall@5: 80.52%\n",
      "INFO:sentence_transformers.evaluation.InformationRetrievalEvaluator:Recall@10: 88.96%\n",
      "Recall@10: 88.96%\n",
      "INFO:sentence_transformers.evaluation.InformationRetrievalEvaluator:MRR@10: 0.6289\n",
      "MRR@10: 0.6289\n",
      "INFO:sentence_transformers.evaluation.InformationRetrievalEvaluator:NDCG@10: 0.6921\n",
      "NDCG@10: 0.6921\n",
      "INFO:sentence_transformers.evaluation.InformationRetrievalEvaluator:MAP@100: 0.6342\n",
      "MAP@100: 0.6342\n"
     ]
    },
    {
     "name": "stderr",
     "output_type": "stream",
     "text": [
      "2024/11/10 21:51:58 ERROR mlflow.utils.async_logging.async_logging_queue: Run Id 6c2bb6a0921e476a96e7bce39ce659bc: Failed to log run data: Exception: Invalid value \"eval_cosine_accuracy@1\" for parameter 'metrics[1].name' supplied: Names may only contain alphanumerics, underscores (_), dashes (-), periods (.), spaces ( ), colon(:) and slashes (/).\n",
      "\n",
      " 31%|███       | 121/390 [00:13<00:36,  7.29it/s]"
     ]
    },
    {
     "name": "stdout",
     "output_type": "stream",
     "text": [
      "{'eval_loss': 2.8916068077087402, 'eval_cosine_accuracy@1': 0.4935064935064935, 'eval_cosine_accuracy@3': 0.7272727272727273, 'eval_cosine_accuracy@5': 0.8051948051948052, 'eval_cosine_accuracy@10': 0.8896103896103896, 'eval_cosine_precision@1': 0.4935064935064935, 'eval_cosine_precision@3': 0.2424242424242424, 'eval_cosine_precision@5': 0.161038961038961, 'eval_cosine_precision@10': 0.08896103896103896, 'eval_cosine_recall@1': 0.4935064935064935, 'eval_cosine_recall@3': 0.7272727272727273, 'eval_cosine_recall@5': 0.8051948051948052, 'eval_cosine_recall@10': 0.8896103896103896, 'eval_cosine_ndcg@10': 0.6920640859726946, 'eval_cosine_mrr@10': 0.6289450628736342, 'eval_cosine_map@100': 0.6342384703761309, 'eval_dot_accuracy@1': 0.4935064935064935, 'eval_dot_accuracy@3': 0.7272727272727273, 'eval_dot_accuracy@5': 0.8051948051948052, 'eval_dot_accuracy@10': 0.8896103896103896, 'eval_dot_precision@1': 0.4935064935064935, 'eval_dot_precision@3': 0.2424242424242424, 'eval_dot_precision@5': 0.161038961038961, 'eval_dot_precision@10': 0.08896103896103896, 'eval_dot_recall@1': 0.4935064935064935, 'eval_dot_recall@3': 0.7272727272727273, 'eval_dot_recall@5': 0.8051948051948052, 'eval_dot_recall@10': 0.8896103896103896, 'eval_dot_ndcg@10': 0.6920640859726946, 'eval_dot_mrr@10': 0.6289450628736342, 'eval_dot_map@100': 0.6342384703761309, 'eval_runtime': 0.3933, 'eval_samples_per_second': 391.515, 'eval_steps_per_second': 25.423, 'epoch': 3.03}\n"
     ]
    },
    {
     "name": "stderr",
     "output_type": "stream",
     "text": [
      " 33%|███▎      | 129/390 [00:13<00:19, 13.23it/s]"
     ]
    },
    {
     "name": "stdout",
     "output_type": "stream",
     "text": [
      "INFO:sentence_transformers.evaluation.InformationRetrievalEvaluator:Information Retrieval Evaluation of the model on the  dataset:\n",
      "Information Retrieval Evaluation of the model on the  dataset:\n",
      "INFO:sentence_transformers.evaluation.InformationRetrievalEvaluator:Queries: 154\n",
      "Queries: 154\n",
      "INFO:sentence_transformers.evaluation.InformationRetrievalEvaluator:Corpus: 77\n",
      "\n",
      "Corpus: 77\n",
      "\n",
      "INFO:sentence_transformers.evaluation.InformationRetrievalEvaluator:Score-Function: cosine\n",
      "Score-Function: cosine\n",
      "INFO:sentence_transformers.evaluation.InformationRetrievalEvaluator:Accuracy@1: 49.35%\n",
      "Accuracy@1: 49.35%\n",
      "INFO:sentence_transformers.evaluation.InformationRetrievalEvaluator:Accuracy@3: 72.08%\n",
      "Accuracy@3: 72.08%\n",
      "INFO:sentence_transformers.evaluation.InformationRetrievalEvaluator:Accuracy@5: 80.52%\n",
      "Accuracy@5: 80.52%\n",
      "INFO:sentence_transformers.evaluation.InformationRetrievalEvaluator:Accuracy@10: 88.31%\n",
      "Accuracy@10: 88.31%\n",
      "INFO:sentence_transformers.evaluation.InformationRetrievalEvaluator:Precision@1: 49.35%\n",
      "Precision@1: 49.35%\n",
      "INFO:sentence_transformers.evaluation.InformationRetrievalEvaluator:Precision@3: 24.03%\n",
      "Precision@3: 24.03%\n",
      "INFO:sentence_transformers.evaluation.InformationRetrievalEvaluator:Precision@5: 16.10%\n",
      "Precision@5: 16.10%\n",
      "INFO:sentence_transformers.evaluation.InformationRetrievalEvaluator:Precision@10: 8.83%\n",
      "Precision@10: 8.83%\n",
      "INFO:sentence_transformers.evaluation.InformationRetrievalEvaluator:Recall@1: 49.35%\n",
      "Recall@1: 49.35%\n",
      "INFO:sentence_transformers.evaluation.InformationRetrievalEvaluator:Recall@3: 72.08%\n",
      "Recall@3: 72.08%\n",
      "INFO:sentence_transformers.evaluation.InformationRetrievalEvaluator:Recall@5: 80.52%\n",
      "Recall@5: 80.52%\n",
      "INFO:sentence_transformers.evaluation.InformationRetrievalEvaluator:Recall@10: 88.31%\n",
      "Recall@10: 88.31%\n",
      "INFO:sentence_transformers.evaluation.InformationRetrievalEvaluator:MRR@10: 0.6285\n",
      "MRR@10: 0.6285\n",
      "INFO:sentence_transformers.evaluation.InformationRetrievalEvaluator:NDCG@10: 0.6903\n",
      "NDCG@10: 0.6903\n",
      "INFO:sentence_transformers.evaluation.InformationRetrievalEvaluator:MAP@100: 0.6344\n",
      "MAP@100: 0.6344\n",
      "INFO:sentence_transformers.evaluation.InformationRetrievalEvaluator:Score-Function: dot\n",
      "Score-Function: dot\n",
      "INFO:sentence_transformers.evaluation.InformationRetrievalEvaluator:Accuracy@1: 49.35%\n",
      "Accuracy@1: 49.35%\n",
      "INFO:sentence_transformers.evaluation.InformationRetrievalEvaluator:Accuracy@3: 72.08%\n",
      "Accuracy@3: 72.08%\n",
      "INFO:sentence_transformers.evaluation.InformationRetrievalEvaluator:Accuracy@5: 80.52%\n",
      "Accuracy@5: 80.52%\n",
      "INFO:sentence_transformers.evaluation.InformationRetrievalEvaluator:Accuracy@10: 88.31%\n",
      "Accuracy@10: 88.31%\n",
      "INFO:sentence_transformers.evaluation.InformationRetrievalEvaluator:Precision@1: 49.35%\n",
      "Precision@1: 49.35%\n",
      "INFO:sentence_transformers.evaluation.InformationRetrievalEvaluator:Precision@3: 24.03%\n",
      "Precision@3: 24.03%\n",
      "INFO:sentence_transformers.evaluation.InformationRetrievalEvaluator:Precision@5: 16.10%\n",
      "Precision@5: 16.10%\n",
      "INFO:sentence_transformers.evaluation.InformationRetrievalEvaluator:Precision@10: 8.83%\n",
      "Precision@10: 8.83%\n",
      "INFO:sentence_transformers.evaluation.InformationRetrievalEvaluator:Recall@1: 49.35%\n",
      "Recall@1: 49.35%\n",
      "INFO:sentence_transformers.evaluation.InformationRetrievalEvaluator:Recall@3: 72.08%\n",
      "Recall@3: 72.08%\n",
      "INFO:sentence_transformers.evaluation.InformationRetrievalEvaluator:Recall@5: 80.52%\n",
      "Recall@5: 80.52%\n",
      "INFO:sentence_transformers.evaluation.InformationRetrievalEvaluator:Recall@10: 88.31%\n",
      "Recall@10: 88.31%\n",
      "INFO:sentence_transformers.evaluation.InformationRetrievalEvaluator:MRR@10: 0.6285\n",
      "MRR@10: 0.6285\n",
      "INFO:sentence_transformers.evaluation.InformationRetrievalEvaluator:NDCG@10: 0.6903\n",
      "NDCG@10: 0.6903\n",
      "INFO:sentence_transformers.evaluation.InformationRetrievalEvaluator:MAP@100: 0.6344\n",
      "MAP@100: 0.6344\n"
     ]
    },
    {
     "name": "stderr",
     "output_type": "stream",
     "text": [
      "2024/11/10 21:51:59 ERROR mlflow.utils.async_logging.async_logging_queue: Run Id 6c2bb6a0921e476a96e7bce39ce659bc: Failed to log run data: Exception: Invalid value \"eval_cosine_accuracy@1\" for parameter 'metrics[1].name' supplied: Names may only contain alphanumerics, underscores (_), dashes (-), periods (.), spaces ( ), colon(:) and slashes (/).\n",
      "                                                 \n",
      " 33%|███▎      | 130/390 [00:14<00:19, 13.23it/s]\n",
      "100%|██████████| 10/10 [00:00<00:00, 59.27it/s]"
     ]
    },
    {
     "name": "stdout",
     "output_type": "stream",
     "text": [
      "{'eval_loss': 2.9353737831115723, 'eval_cosine_accuracy@1': 0.4935064935064935, 'eval_cosine_accuracy@3': 0.7207792207792207, 'eval_cosine_accuracy@5': 0.8051948051948052, 'eval_cosine_accuracy@10': 0.8831168831168831, 'eval_cosine_precision@1': 0.4935064935064935, 'eval_cosine_precision@3': 0.24025974025974026, 'eval_cosine_precision@5': 0.161038961038961, 'eval_cosine_precision@10': 0.0883116883116883, 'eval_cosine_recall@1': 0.4935064935064935, 'eval_cosine_recall@3': 0.7207792207792207, 'eval_cosine_recall@5': 0.8051948051948052, 'eval_cosine_recall@10': 0.8831168831168831, 'eval_cosine_ndcg@10': 0.6903385048633381, 'eval_cosine_mrr@10': 0.6284863945578232, 'eval_cosine_map@100': 0.6344322441466136, 'eval_dot_accuracy@1': 0.4935064935064935, 'eval_dot_accuracy@3': 0.7207792207792207, 'eval_dot_accuracy@5': 0.8051948051948052, 'eval_dot_accuracy@10': 0.8831168831168831, 'eval_dot_precision@1': 0.4935064935064935, 'eval_dot_precision@3': 0.24025974025974026, 'eval_dot_precision@5': 0.161038961038961, 'eval_dot_precision@10': 0.0883116883116883, 'eval_dot_recall@1': 0.4935064935064935, 'eval_dot_recall@3': 0.7207792207792207, 'eval_dot_recall@5': 0.8051948051948052, 'eval_dot_recall@10': 0.8831168831168831, 'eval_dot_ndcg@10': 0.6903385048633381, 'eval_dot_mrr@10': 0.6284863945578232, 'eval_dot_map@100': 0.6344322441466136, 'eval_runtime': 0.4002, 'eval_samples_per_second': 384.838, 'eval_steps_per_second': 24.989, 'epoch': 3.26}\n"
     ]
    },
    {
     "name": "stderr",
     "output_type": "stream",
     "text": [
      " 36%|███▌      | 139/390 [00:14<00:19, 13.15it/s]"
     ]
    },
    {
     "name": "stdout",
     "output_type": "stream",
     "text": [
      "INFO:sentence_transformers.evaluation.InformationRetrievalEvaluator:Information Retrieval Evaluation of the model on the  dataset:\n",
      "Information Retrieval Evaluation of the model on the  dataset:\n",
      "INFO:sentence_transformers.evaluation.InformationRetrievalEvaluator:Queries: 154\n",
      "Queries: 154\n",
      "INFO:sentence_transformers.evaluation.InformationRetrievalEvaluator:Corpus: 77\n",
      "\n",
      "Corpus: 77\n",
      "\n",
      "INFO:sentence_transformers.evaluation.InformationRetrievalEvaluator:Score-Function: cosine\n",
      "Score-Function: cosine\n",
      "INFO:sentence_transformers.evaluation.InformationRetrievalEvaluator:Accuracy@1: 48.70%\n",
      "Accuracy@1: 48.70%\n",
      "INFO:sentence_transformers.evaluation.InformationRetrievalEvaluator:Accuracy@3: 72.08%\n",
      "Accuracy@3: 72.08%\n",
      "INFO:sentence_transformers.evaluation.InformationRetrievalEvaluator:Accuracy@5: 81.17%\n",
      "Accuracy@5: 81.17%\n",
      "INFO:sentence_transformers.evaluation.InformationRetrievalEvaluator:Accuracy@10: 89.61%\n",
      "Accuracy@10: 89.61%\n",
      "INFO:sentence_transformers.evaluation.InformationRetrievalEvaluator:Precision@1: 48.70%\n",
      "Precision@1: 48.70%\n",
      "INFO:sentence_transformers.evaluation.InformationRetrievalEvaluator:Precision@3: 24.03%\n",
      "Precision@3: 24.03%\n",
      "INFO:sentence_transformers.evaluation.InformationRetrievalEvaluator:Precision@5: 16.23%\n",
      "Precision@5: 16.23%\n",
      "INFO:sentence_transformers.evaluation.InformationRetrievalEvaluator:Precision@10: 8.96%\n",
      "Precision@10: 8.96%\n",
      "INFO:sentence_transformers.evaluation.InformationRetrievalEvaluator:Recall@1: 48.70%\n",
      "Recall@1: 48.70%\n",
      "INFO:sentence_transformers.evaluation.InformationRetrievalEvaluator:Recall@3: 72.08%\n",
      "Recall@3: 72.08%\n",
      "INFO:sentence_transformers.evaluation.InformationRetrievalEvaluator:Recall@5: 81.17%\n",
      "Recall@5: 81.17%\n",
      "INFO:sentence_transformers.evaluation.InformationRetrievalEvaluator:Recall@10: 89.61%\n",
      "Recall@10: 89.61%\n",
      "INFO:sentence_transformers.evaluation.InformationRetrievalEvaluator:MRR@10: 0.6248\n",
      "MRR@10: 0.6248\n",
      "INFO:sentence_transformers.evaluation.InformationRetrievalEvaluator:NDCG@10: 0.6906\n",
      "NDCG@10: 0.6906\n",
      "INFO:sentence_transformers.evaluation.InformationRetrievalEvaluator:MAP@100: 0.6298\n",
      "MAP@100: 0.6298\n",
      "INFO:sentence_transformers.evaluation.InformationRetrievalEvaluator:Score-Function: dot\n",
      "Score-Function: dot\n",
      "INFO:sentence_transformers.evaluation.InformationRetrievalEvaluator:Accuracy@1: 48.70%\n",
      "Accuracy@1: 48.70%\n",
      "INFO:sentence_transformers.evaluation.InformationRetrievalEvaluator:Accuracy@3: 72.08%\n",
      "Accuracy@3: 72.08%\n",
      "INFO:sentence_transformers.evaluation.InformationRetrievalEvaluator:Accuracy@5: 81.17%\n",
      "Accuracy@5: 81.17%\n",
      "INFO:sentence_transformers.evaluation.InformationRetrievalEvaluator:Accuracy@10: 89.61%\n",
      "Accuracy@10: 89.61%\n",
      "INFO:sentence_transformers.evaluation.InformationRetrievalEvaluator:Precision@1: 48.70%\n",
      "Precision@1: 48.70%\n",
      "INFO:sentence_transformers.evaluation.InformationRetrievalEvaluator:Precision@3: 24.03%\n",
      "Precision@3: 24.03%\n",
      "INFO:sentence_transformers.evaluation.InformationRetrievalEvaluator:Precision@5: 16.23%\n",
      "Precision@5: 16.23%\n",
      "INFO:sentence_transformers.evaluation.InformationRetrievalEvaluator:Precision@10: 8.96%\n",
      "Precision@10: 8.96%\n",
      "INFO:sentence_transformers.evaluation.InformationRetrievalEvaluator:Recall@1: 48.70%\n",
      "Recall@1: 48.70%\n",
      "INFO:sentence_transformers.evaluation.InformationRetrievalEvaluator:Recall@3: 72.08%\n",
      "Recall@3: 72.08%\n",
      "INFO:sentence_transformers.evaluation.InformationRetrievalEvaluator:Recall@5: 81.17%\n",
      "Recall@5: 81.17%\n",
      "INFO:sentence_transformers.evaluation.InformationRetrievalEvaluator:Recall@10: 89.61%\n",
      "Recall@10: 89.61%\n",
      "INFO:sentence_transformers.evaluation.InformationRetrievalEvaluator:MRR@10: 0.6248\n",
      "MRR@10: 0.6248\n",
      "INFO:sentence_transformers.evaluation.InformationRetrievalEvaluator:NDCG@10: 0.6906\n",
      "NDCG@10: 0.6906\n",
      "INFO:sentence_transformers.evaluation.InformationRetrievalEvaluator:MAP@100: 0.6298\n",
      "MAP@100: 0.6298\n"
     ]
    },
    {
     "name": "stderr",
     "output_type": "stream",
     "text": [
      "2024/11/10 21:52:00 ERROR mlflow.utils.async_logging.async_logging_queue: Run Id 6c2bb6a0921e476a96e7bce39ce659bc: Failed to log run data: Exception: Invalid value \"eval_cosine_accuracy@1\" for parameter 'metrics[1].name' supplied: Names may only contain alphanumerics, underscores (_), dashes (-), periods (.), spaces ( ), colon(:) and slashes (/).\n",
      "                                                 \n",
      " 36%|███▌      | 140/390 [00:15<00:19, 13.15it/s]"
     ]
    },
    {
     "name": "stdout",
     "output_type": "stream",
     "text": [
      "{'eval_loss': 2.940985679626465, 'eval_cosine_accuracy@1': 0.487012987012987, 'eval_cosine_accuracy@3': 0.7207792207792207, 'eval_cosine_accuracy@5': 0.8116883116883117, 'eval_cosine_accuracy@10': 0.8961038961038961, 'eval_cosine_precision@1': 0.487012987012987, 'eval_cosine_precision@3': 0.24025974025974026, 'eval_cosine_precision@5': 0.16233766233766234, 'eval_cosine_precision@10': 0.0896103896103896, 'eval_cosine_recall@1': 0.487012987012987, 'eval_cosine_recall@3': 0.7207792207792207, 'eval_cosine_recall@5': 0.8116883116883117, 'eval_cosine_recall@10': 0.8961038961038961, 'eval_cosine_ndcg@10': 0.6905587408665153, 'eval_cosine_mrr@10': 0.6248144712430425, 'eval_cosine_map@100': 0.6297756810698278, 'eval_dot_accuracy@1': 0.487012987012987, 'eval_dot_accuracy@3': 0.7207792207792207, 'eval_dot_accuracy@5': 0.8116883116883117, 'eval_dot_accuracy@10': 0.8961038961038961, 'eval_dot_precision@1': 0.487012987012987, 'eval_dot_precision@3': 0.24025974025974026, 'eval_dot_precision@5': 0.16233766233766234, 'eval_dot_precision@10': 0.0896103896103896, 'eval_dot_recall@1': 0.487012987012987, 'eval_dot_recall@3': 0.7207792207792207, 'eval_dot_recall@5': 0.8116883116883117, 'eval_dot_recall@10': 0.8961038961038961, 'eval_dot_ndcg@10': 0.6905587408665153, 'eval_dot_mrr@10': 0.6248144712430425, 'eval_dot_map@100': 0.6297756810698278, 'eval_runtime': 0.3847, 'eval_samples_per_second': 400.33, 'eval_steps_per_second': 25.995, 'epoch': 3.51}\n"
     ]
    },
    {
     "name": "stderr",
     "output_type": "stream",
     "text": [
      " 38%|███▊      | 149/390 [00:15<00:18, 13.26it/s]"
     ]
    },
    {
     "name": "stdout",
     "output_type": "stream",
     "text": [
      "INFO:sentence_transformers.evaluation.InformationRetrievalEvaluator:Information Retrieval Evaluation of the model on the  dataset:\n",
      "Information Retrieval Evaluation of the model on the  dataset:\n",
      "INFO:sentence_transformers.evaluation.InformationRetrievalEvaluator:Queries: 154\n",
      "Queries: 154\n",
      "INFO:sentence_transformers.evaluation.InformationRetrievalEvaluator:Corpus: 77\n",
      "\n",
      "Corpus: 77\n",
      "\n",
      "INFO:sentence_transformers.evaluation.InformationRetrievalEvaluator:Score-Function: cosine\n",
      "Score-Function: cosine\n",
      "INFO:sentence_transformers.evaluation.InformationRetrievalEvaluator:Accuracy@1: 50.65%\n",
      "Accuracy@1: 50.65%\n",
      "INFO:sentence_transformers.evaluation.InformationRetrievalEvaluator:Accuracy@3: 73.38%\n",
      "Accuracy@3: 73.38%\n",
      "INFO:sentence_transformers.evaluation.InformationRetrievalEvaluator:Accuracy@5: 81.82%\n",
      "Accuracy@5: 81.82%\n",
      "INFO:sentence_transformers.evaluation.InformationRetrievalEvaluator:Accuracy@10: 89.61%\n",
      "Accuracy@10: 89.61%\n",
      "INFO:sentence_transformers.evaluation.InformationRetrievalEvaluator:Precision@1: 50.65%\n",
      "Precision@1: 50.65%\n",
      "INFO:sentence_transformers.evaluation.InformationRetrievalEvaluator:Precision@3: 24.46%\n",
      "Precision@3: 24.46%\n",
      "INFO:sentence_transformers.evaluation.InformationRetrievalEvaluator:Precision@5: 16.36%\n",
      "Precision@5: 16.36%\n",
      "INFO:sentence_transformers.evaluation.InformationRetrievalEvaluator:Precision@10: 8.96%\n",
      "Precision@10: 8.96%\n",
      "INFO:sentence_transformers.evaluation.InformationRetrievalEvaluator:Recall@1: 50.65%\n",
      "Recall@1: 50.65%\n",
      "INFO:sentence_transformers.evaluation.InformationRetrievalEvaluator:Recall@3: 73.38%\n",
      "Recall@3: 73.38%\n",
      "INFO:sentence_transformers.evaluation.InformationRetrievalEvaluator:Recall@5: 81.82%\n",
      "Recall@5: 81.82%\n",
      "INFO:sentence_transformers.evaluation.InformationRetrievalEvaluator:Recall@10: 89.61%\n",
      "Recall@10: 89.61%\n",
      "INFO:sentence_transformers.evaluation.InformationRetrievalEvaluator:MRR@10: 0.6375\n",
      "MRR@10: 0.6375\n",
      "INFO:sentence_transformers.evaluation.InformationRetrievalEvaluator:NDCG@10: 0.7002\n",
      "NDCG@10: 0.7002\n",
      "INFO:sentence_transformers.evaluation.InformationRetrievalEvaluator:MAP@100: 0.6425\n",
      "MAP@100: 0.6425\n",
      "INFO:sentence_transformers.evaluation.InformationRetrievalEvaluator:Score-Function: dot\n",
      "Score-Function: dot\n",
      "INFO:sentence_transformers.evaluation.InformationRetrievalEvaluator:Accuracy@1: 50.65%\n",
      "Accuracy@1: 50.65%\n",
      "INFO:sentence_transformers.evaluation.InformationRetrievalEvaluator:Accuracy@3: 73.38%\n",
      "Accuracy@3: 73.38%\n",
      "INFO:sentence_transformers.evaluation.InformationRetrievalEvaluator:Accuracy@5: 81.82%\n",
      "Accuracy@5: 81.82%\n",
      "INFO:sentence_transformers.evaluation.InformationRetrievalEvaluator:Accuracy@10: 89.61%\n",
      "Accuracy@10: 89.61%\n",
      "INFO:sentence_transformers.evaluation.InformationRetrievalEvaluator:Precision@1: 50.65%\n",
      "Precision@1: 50.65%\n",
      "INFO:sentence_transformers.evaluation.InformationRetrievalEvaluator:Precision@3: 24.46%\n",
      "Precision@3: 24.46%\n",
      "INFO:sentence_transformers.evaluation.InformationRetrievalEvaluator:Precision@5: 16.36%\n",
      "Precision@5: 16.36%\n",
      "INFO:sentence_transformers.evaluation.InformationRetrievalEvaluator:Precision@10: 8.96%\n",
      "Precision@10: 8.96%\n",
      "INFO:sentence_transformers.evaluation.InformationRetrievalEvaluator:Recall@1: 50.65%\n",
      "Recall@1: 50.65%\n",
      "INFO:sentence_transformers.evaluation.InformationRetrievalEvaluator:Recall@3: 73.38%\n",
      "Recall@3: 73.38%\n",
      "INFO:sentence_transformers.evaluation.InformationRetrievalEvaluator:Recall@5: 81.82%\n",
      "Recall@5: 81.82%\n",
      "INFO:sentence_transformers.evaluation.InformationRetrievalEvaluator:Recall@10: 89.61%\n",
      "Recall@10: 89.61%\n",
      "INFO:sentence_transformers.evaluation.InformationRetrievalEvaluator:MRR@10: 0.6375\n",
      "MRR@10: 0.6375\n",
      "INFO:sentence_transformers.evaluation.InformationRetrievalEvaluator:NDCG@10: 0.7002\n",
      "NDCG@10: 0.7002\n",
      "INFO:sentence_transformers.evaluation.InformationRetrievalEvaluator:MAP@100: 0.6425\n",
      "MAP@100: 0.6425\n"
     ]
    },
    {
     "name": "stderr",
     "output_type": "stream",
     "text": [
      "2024/11/10 21:52:01 ERROR mlflow.utils.async_logging.async_logging_queue: Run Id 6c2bb6a0921e476a96e7bce39ce659bc: Failed to log run data: Exception: Invalid value \"eval_cosine_accuracy@1\" for parameter 'metrics[1].name' supplied: Names may only contain alphanumerics, underscores (_), dashes (-), periods (.), spaces ( ), colon(:) and slashes (/).\n",
      "                                                 \n",
      " 39%|███▊      | 151/390 [00:16<00:32,  7.40it/s]"
     ]
    },
    {
     "name": "stdout",
     "output_type": "stream",
     "text": [
      "{'eval_loss': 3.011380672454834, 'eval_cosine_accuracy@1': 0.5064935064935064, 'eval_cosine_accuracy@3': 0.7337662337662337, 'eval_cosine_accuracy@5': 0.8181818181818182, 'eval_cosine_accuracy@10': 0.8961038961038961, 'eval_cosine_precision@1': 0.5064935064935064, 'eval_cosine_precision@3': 0.24458874458874458, 'eval_cosine_precision@5': 0.16363636363636364, 'eval_cosine_precision@10': 0.0896103896103896, 'eval_cosine_recall@1': 0.5064935064935064, 'eval_cosine_recall@3': 0.7337662337662337, 'eval_cosine_recall@5': 0.8181818181818182, 'eval_cosine_recall@10': 0.8961038961038961, 'eval_cosine_ndcg@10': 0.7002087134041545, 'eval_cosine_mrr@10': 0.6374871160585445, 'eval_cosine_map@100': 0.6425418654860043, 'eval_dot_accuracy@1': 0.5064935064935064, 'eval_dot_accuracy@3': 0.7337662337662337, 'eval_dot_accuracy@5': 0.8181818181818182, 'eval_dot_accuracy@10': 0.8961038961038961, 'eval_dot_precision@1': 0.5064935064935064, 'eval_dot_precision@3': 0.24458874458874458, 'eval_dot_precision@5': 0.16363636363636364, 'eval_dot_precision@10': 0.0896103896103896, 'eval_dot_recall@1': 0.5064935064935064, 'eval_dot_recall@3': 0.7337662337662337, 'eval_dot_recall@5': 0.8181818181818182, 'eval_dot_recall@10': 0.8961038961038961, 'eval_dot_ndcg@10': 0.7002087134041545, 'eval_dot_mrr@10': 0.6374871160585445, 'eval_dot_map@100': 0.6425418654860043, 'eval_runtime': 0.411, 'eval_samples_per_second': 374.714, 'eval_steps_per_second': 24.332, 'epoch': 3.77}\n"
     ]
    },
    {
     "name": "stderr",
     "output_type": "stream",
     "text": [
      " 41%|████      | 159/390 [00:16<00:17, 13.11it/s]"
     ]
    },
    {
     "name": "stdout",
     "output_type": "stream",
     "text": [
      "INFO:sentence_transformers.evaluation.InformationRetrievalEvaluator:Information Retrieval Evaluation of the model on the  dataset:\n",
      "Information Retrieval Evaluation of the model on the  dataset:\n",
      "INFO:sentence_transformers.evaluation.InformationRetrievalEvaluator:Queries: 154\n",
      "Queries: 154\n",
      "INFO:sentence_transformers.evaluation.InformationRetrievalEvaluator:Corpus: 77\n",
      "\n",
      "Corpus: 77\n",
      "\n",
      "INFO:sentence_transformers.evaluation.InformationRetrievalEvaluator:Score-Function: cosine\n",
      "Score-Function: cosine\n",
      "INFO:sentence_transformers.evaluation.InformationRetrievalEvaluator:Accuracy@1: 50.00%\n",
      "Accuracy@1: 50.00%\n",
      "INFO:sentence_transformers.evaluation.InformationRetrievalEvaluator:Accuracy@3: 73.38%\n",
      "Accuracy@3: 73.38%\n",
      "INFO:sentence_transformers.evaluation.InformationRetrievalEvaluator:Accuracy@5: 82.47%\n",
      "Accuracy@5: 82.47%\n",
      "INFO:sentence_transformers.evaluation.InformationRetrievalEvaluator:Accuracy@10: 89.61%\n",
      "Accuracy@10: 89.61%\n",
      "INFO:sentence_transformers.evaluation.InformationRetrievalEvaluator:Precision@1: 50.00%\n",
      "Precision@1: 50.00%\n",
      "INFO:sentence_transformers.evaluation.InformationRetrievalEvaluator:Precision@3: 24.46%\n",
      "Precision@3: 24.46%\n",
      "INFO:sentence_transformers.evaluation.InformationRetrievalEvaluator:Precision@5: 16.49%\n",
      "Precision@5: 16.49%\n",
      "INFO:sentence_transformers.evaluation.InformationRetrievalEvaluator:Precision@10: 8.96%\n",
      "Precision@10: 8.96%\n",
      "INFO:sentence_transformers.evaluation.InformationRetrievalEvaluator:Recall@1: 50.00%\n",
      "Recall@1: 50.00%\n",
      "INFO:sentence_transformers.evaluation.InformationRetrievalEvaluator:Recall@3: 73.38%\n",
      "Recall@3: 73.38%\n",
      "INFO:sentence_transformers.evaluation.InformationRetrievalEvaluator:Recall@5: 82.47%\n",
      "Recall@5: 82.47%\n",
      "INFO:sentence_transformers.evaluation.InformationRetrievalEvaluator:Recall@10: 89.61%\n",
      "Recall@10: 89.61%\n",
      "INFO:sentence_transformers.evaluation.InformationRetrievalEvaluator:MRR@10: 0.6350\n",
      "MRR@10: 0.6350\n",
      "INFO:sentence_transformers.evaluation.InformationRetrievalEvaluator:NDCG@10: 0.6985\n",
      "NDCG@10: 0.6985\n",
      "INFO:sentence_transformers.evaluation.InformationRetrievalEvaluator:MAP@100: 0.6402\n",
      "MAP@100: 0.6402\n",
      "INFO:sentence_transformers.evaluation.InformationRetrievalEvaluator:Score-Function: dot\n",
      "Score-Function: dot\n",
      "INFO:sentence_transformers.evaluation.InformationRetrievalEvaluator:Accuracy@1: 50.00%\n",
      "Accuracy@1: 50.00%\n",
      "INFO:sentence_transformers.evaluation.InformationRetrievalEvaluator:Accuracy@3: 73.38%\n",
      "Accuracy@3: 73.38%\n",
      "INFO:sentence_transformers.evaluation.InformationRetrievalEvaluator:Accuracy@5: 82.47%\n",
      "Accuracy@5: 82.47%\n",
      "INFO:sentence_transformers.evaluation.InformationRetrievalEvaluator:Accuracy@10: 89.61%\n",
      "Accuracy@10: 89.61%\n",
      "INFO:sentence_transformers.evaluation.InformationRetrievalEvaluator:Precision@1: 50.00%\n",
      "Precision@1: 50.00%\n",
      "INFO:sentence_transformers.evaluation.InformationRetrievalEvaluator:Precision@3: 24.46%\n",
      "Precision@3: 24.46%\n",
      "INFO:sentence_transformers.evaluation.InformationRetrievalEvaluator:Precision@5: 16.49%\n",
      "Precision@5: 16.49%\n",
      "INFO:sentence_transformers.evaluation.InformationRetrievalEvaluator:Precision@10: 8.96%\n",
      "Precision@10: 8.96%\n",
      "INFO:sentence_transformers.evaluation.InformationRetrievalEvaluator:Recall@1: 50.00%\n",
      "Recall@1: 50.00%\n",
      "INFO:sentence_transformers.evaluation.InformationRetrievalEvaluator:Recall@3: 73.38%\n",
      "Recall@3: 73.38%\n",
      "INFO:sentence_transformers.evaluation.InformationRetrievalEvaluator:Recall@5: 82.47%\n",
      "Recall@5: 82.47%\n",
      "INFO:sentence_transformers.evaluation.InformationRetrievalEvaluator:Recall@10: 89.61%\n",
      "Recall@10: 89.61%\n",
      "INFO:sentence_transformers.evaluation.InformationRetrievalEvaluator:MRR@10: 0.6350\n",
      "MRR@10: 0.6350\n",
      "INFO:sentence_transformers.evaluation.InformationRetrievalEvaluator:NDCG@10: 0.6985\n",
      "NDCG@10: 0.6985\n",
      "INFO:sentence_transformers.evaluation.InformationRetrievalEvaluator:MAP@100: 0.6402\n",
      "MAP@100: 0.6402\n"
     ]
    },
    {
     "name": "stderr",
     "output_type": "stream",
     "text": [
      "2024/11/10 21:52:02 ERROR mlflow.utils.async_logging.async_logging_queue: Run Id 6c2bb6a0921e476a96e7bce39ce659bc: Failed to log run data: Exception: Invalid value \"eval_cosine_accuracy@1\" for parameter 'metrics[1].name' supplied: Names may only contain alphanumerics, underscores (_), dashes (-), periods (.), spaces ( ), colon(:) and slashes (/).\n",
      "                                                 \n",
      " 41%|████      | 160/390 [00:17<00:17, 13.11it/s]"
     ]
    },
    {
     "name": "stdout",
     "output_type": "stream",
     "text": [
      "{'eval_loss': 2.983783483505249, 'eval_cosine_accuracy@1': 0.5, 'eval_cosine_accuracy@3': 0.7337662337662337, 'eval_cosine_accuracy@5': 0.8246753246753247, 'eval_cosine_accuracy@10': 0.8961038961038961, 'eval_cosine_precision@1': 0.5, 'eval_cosine_precision@3': 0.24458874458874458, 'eval_cosine_precision@5': 0.16493506493506493, 'eval_cosine_precision@10': 0.0896103896103896, 'eval_cosine_recall@1': 0.5, 'eval_cosine_recall@3': 0.7337662337662337, 'eval_cosine_recall@5': 0.8246753246753247, 'eval_cosine_recall@10': 0.8961038961038961, 'eval_cosine_ndcg@10': 0.6985054826392596, 'eval_cosine_mrr@10': 0.6349876314162026, 'eval_cosine_map@100': 0.6402338593597369, 'eval_dot_accuracy@1': 0.5, 'eval_dot_accuracy@3': 0.7337662337662337, 'eval_dot_accuracy@5': 0.8246753246753247, 'eval_dot_accuracy@10': 0.8961038961038961, 'eval_dot_precision@1': 0.5, 'eval_dot_precision@3': 0.24458874458874458, 'eval_dot_precision@5': 0.16493506493506493, 'eval_dot_precision@10': 0.0896103896103896, 'eval_dot_recall@1': 0.5, 'eval_dot_recall@3': 0.7337662337662337, 'eval_dot_recall@5': 0.8246753246753247, 'eval_dot_recall@10': 0.8961038961038961, 'eval_dot_ndcg@10': 0.6985054826392596, 'eval_dot_mrr@10': 0.6349876314162026, 'eval_dot_map@100': 0.6402338593597369, 'eval_runtime': 0.4023, 'eval_samples_per_second': 382.759, 'eval_steps_per_second': 24.855, 'epoch': 4.03}\n"
     ]
    },
    {
     "name": "stderr",
     "output_type": "stream",
     "text": [
      " 43%|████▎     | 169/390 [00:17<00:16, 13.01it/s]"
     ]
    },
    {
     "name": "stdout",
     "output_type": "stream",
     "text": [
      "INFO:sentence_transformers.evaluation.InformationRetrievalEvaluator:Information Retrieval Evaluation of the model on the  dataset:\n",
      "Information Retrieval Evaluation of the model on the  dataset:\n",
      "INFO:sentence_transformers.evaluation.InformationRetrievalEvaluator:Queries: 154\n",
      "Queries: 154\n",
      "INFO:sentence_transformers.evaluation.InformationRetrievalEvaluator:Corpus: 77\n",
      "\n",
      "Corpus: 77\n",
      "\n",
      "INFO:sentence_transformers.evaluation.InformationRetrievalEvaluator:Score-Function: cosine\n",
      "Score-Function: cosine\n",
      "INFO:sentence_transformers.evaluation.InformationRetrievalEvaluator:Accuracy@1: 50.00%\n",
      "Accuracy@1: 50.00%\n",
      "INFO:sentence_transformers.evaluation.InformationRetrievalEvaluator:Accuracy@3: 74.03%\n",
      "Accuracy@3: 74.03%\n",
      "INFO:sentence_transformers.evaluation.InformationRetrievalEvaluator:Accuracy@5: 83.12%\n",
      "Accuracy@5: 83.12%\n",
      "INFO:sentence_transformers.evaluation.InformationRetrievalEvaluator:Accuracy@10: 88.96%\n",
      "Accuracy@10: 88.96%\n",
      "INFO:sentence_transformers.evaluation.InformationRetrievalEvaluator:Precision@1: 50.00%\n",
      "Precision@1: 50.00%\n",
      "INFO:sentence_transformers.evaluation.InformationRetrievalEvaluator:Precision@3: 24.68%\n",
      "Precision@3: 24.68%\n",
      "INFO:sentence_transformers.evaluation.InformationRetrievalEvaluator:Precision@5: 16.62%\n",
      "Precision@5: 16.62%\n",
      "INFO:sentence_transformers.evaluation.InformationRetrievalEvaluator:Precision@10: 8.90%\n",
      "Precision@10: 8.90%\n",
      "INFO:sentence_transformers.evaluation.InformationRetrievalEvaluator:Recall@1: 50.00%\n",
      "Recall@1: 50.00%\n",
      "INFO:sentence_transformers.evaluation.InformationRetrievalEvaluator:Recall@3: 74.03%\n",
      "Recall@3: 74.03%\n",
      "INFO:sentence_transformers.evaluation.InformationRetrievalEvaluator:Recall@5: 83.12%\n",
      "Recall@5: 83.12%\n",
      "INFO:sentence_transformers.evaluation.InformationRetrievalEvaluator:Recall@10: 88.96%\n",
      "Recall@10: 88.96%\n",
      "INFO:sentence_transformers.evaluation.InformationRetrievalEvaluator:MRR@10: 0.6358\n",
      "MRR@10: 0.6358\n",
      "INFO:sentence_transformers.evaluation.InformationRetrievalEvaluator:NDCG@10: 0.6980\n",
      "NDCG@10: 0.6980\n",
      "INFO:sentence_transformers.evaluation.InformationRetrievalEvaluator:MAP@100: 0.6416\n",
      "MAP@100: 0.6416\n",
      "INFO:sentence_transformers.evaluation.InformationRetrievalEvaluator:Score-Function: dot\n",
      "Score-Function: dot\n",
      "INFO:sentence_transformers.evaluation.InformationRetrievalEvaluator:Accuracy@1: 50.00%\n",
      "Accuracy@1: 50.00%\n",
      "INFO:sentence_transformers.evaluation.InformationRetrievalEvaluator:Accuracy@3: 74.03%\n",
      "Accuracy@3: 74.03%\n",
      "INFO:sentence_transformers.evaluation.InformationRetrievalEvaluator:Accuracy@5: 83.12%\n",
      "Accuracy@5: 83.12%\n",
      "INFO:sentence_transformers.evaluation.InformationRetrievalEvaluator:Accuracy@10: 88.96%\n",
      "Accuracy@10: 88.96%\n",
      "INFO:sentence_transformers.evaluation.InformationRetrievalEvaluator:Precision@1: 50.00%\n",
      "Precision@1: 50.00%\n",
      "INFO:sentence_transformers.evaluation.InformationRetrievalEvaluator:Precision@3: 24.68%\n",
      "Precision@3: 24.68%\n",
      "INFO:sentence_transformers.evaluation.InformationRetrievalEvaluator:Precision@5: 16.62%\n",
      "Precision@5: 16.62%\n",
      "INFO:sentence_transformers.evaluation.InformationRetrievalEvaluator:Precision@10: 8.90%\n",
      "Precision@10: 8.90%\n",
      "INFO:sentence_transformers.evaluation.InformationRetrievalEvaluator:Recall@1: 50.00%\n",
      "Recall@1: 50.00%\n",
      "INFO:sentence_transformers.evaluation.InformationRetrievalEvaluator:Recall@3: 74.03%\n",
      "Recall@3: 74.03%\n",
      "INFO:sentence_transformers.evaluation.InformationRetrievalEvaluator:Recall@5: 83.12%\n",
      "Recall@5: 83.12%\n",
      "INFO:sentence_transformers.evaluation.InformationRetrievalEvaluator:Recall@10: 88.96%\n",
      "Recall@10: 88.96%\n",
      "INFO:sentence_transformers.evaluation.InformationRetrievalEvaluator:MRR@10: 0.6358\n",
      "MRR@10: 0.6358\n",
      "INFO:sentence_transformers.evaluation.InformationRetrievalEvaluator:NDCG@10: 0.6980\n",
      "NDCG@10: 0.6980\n",
      "INFO:sentence_transformers.evaluation.InformationRetrievalEvaluator:MAP@100: 0.6416\n",
      "MAP@100: 0.6416\n"
     ]
    },
    {
     "name": "stderr",
     "output_type": "stream",
     "text": [
      "2024/11/10 21:52:03 ERROR mlflow.utils.async_logging.async_logging_queue: Run Id 6c2bb6a0921e476a96e7bce39ce659bc: Failed to log run data: Exception: Invalid value \"eval_cosine_accuracy@1\" for parameter 'metrics[1].name' supplied: Names may only contain alphanumerics, underscores (_), dashes (-), periods (.), spaces ( ), colon(:) and slashes (/).\n",
      "                                                 \n",
      " 44%|████▍     | 171/390 [00:18<00:30,  7.14it/s]"
     ]
    },
    {
     "name": "stdout",
     "output_type": "stream",
     "text": [
      "{'eval_loss': 3.0664145946502686, 'eval_cosine_accuracy@1': 0.5, 'eval_cosine_accuracy@3': 0.7402597402597403, 'eval_cosine_accuracy@5': 0.8311688311688312, 'eval_cosine_accuracy@10': 0.8896103896103896, 'eval_cosine_precision@1': 0.5, 'eval_cosine_precision@3': 0.24675324675324675, 'eval_cosine_precision@5': 0.16623376623376623, 'eval_cosine_precision@10': 0.08896103896103896, 'eval_cosine_recall@1': 0.5, 'eval_cosine_recall@3': 0.7402597402597403, 'eval_cosine_recall@5': 0.8311688311688312, 'eval_cosine_recall@10': 0.8896103896103896, 'eval_cosine_ndcg@10': 0.6979752498514095, 'eval_cosine_mrr@10': 0.6358457019171304, 'eval_cosine_map@100': 0.6416118370177207, 'eval_dot_accuracy@1': 0.5, 'eval_dot_accuracy@3': 0.7402597402597403, 'eval_dot_accuracy@5': 0.8311688311688312, 'eval_dot_accuracy@10': 0.8896103896103896, 'eval_dot_precision@1': 0.5, 'eval_dot_precision@3': 0.24675324675324675, 'eval_dot_precision@5': 0.16623376623376623, 'eval_dot_precision@10': 0.08896103896103896, 'eval_dot_recall@1': 0.5, 'eval_dot_recall@3': 0.7402597402597403, 'eval_dot_recall@5': 0.8311688311688312, 'eval_dot_recall@10': 0.8896103896103896, 'eval_dot_ndcg@10': 0.6979752498514095, 'eval_dot_mrr@10': 0.6358457019171304, 'eval_dot_map@100': 0.6416118370177207, 'eval_runtime': 0.4453, 'eval_samples_per_second': 345.828, 'eval_steps_per_second': 22.456, 'epoch': 4.26}\n"
     ]
    },
    {
     "name": "stderr",
     "output_type": "stream",
     "text": [
      " 46%|████▌     | 179/390 [00:18<00:17, 12.16it/s]"
     ]
    },
    {
     "name": "stdout",
     "output_type": "stream",
     "text": [
      "INFO:sentence_transformers.evaluation.InformationRetrievalEvaluator:Information Retrieval Evaluation of the model on the  dataset:\n",
      "Information Retrieval Evaluation of the model on the  dataset:\n",
      "INFO:sentence_transformers.evaluation.InformationRetrievalEvaluator:Queries: 154\n",
      "Queries: 154\n",
      "INFO:sentence_transformers.evaluation.InformationRetrievalEvaluator:Corpus: 77\n",
      "\n",
      "Corpus: 77\n",
      "\n",
      "INFO:sentence_transformers.evaluation.InformationRetrievalEvaluator:Score-Function: cosine\n",
      "Score-Function: cosine\n",
      "INFO:sentence_transformers.evaluation.InformationRetrievalEvaluator:Accuracy@1: 50.65%\n",
      "Accuracy@1: 50.65%\n",
      "INFO:sentence_transformers.evaluation.InformationRetrievalEvaluator:Accuracy@3: 75.32%\n",
      "Accuracy@3: 75.32%\n",
      "INFO:sentence_transformers.evaluation.InformationRetrievalEvaluator:Accuracy@5: 83.12%\n",
      "Accuracy@5: 83.12%\n",
      "INFO:sentence_transformers.evaluation.InformationRetrievalEvaluator:Accuracy@10: 90.26%\n",
      "Accuracy@10: 90.26%\n",
      "INFO:sentence_transformers.evaluation.InformationRetrievalEvaluator:Precision@1: 50.65%\n",
      "Precision@1: 50.65%\n",
      "INFO:sentence_transformers.evaluation.InformationRetrievalEvaluator:Precision@3: 25.11%\n",
      "Precision@3: 25.11%\n",
      "INFO:sentence_transformers.evaluation.InformationRetrievalEvaluator:Precision@5: 16.62%\n",
      "Precision@5: 16.62%\n",
      "INFO:sentence_transformers.evaluation.InformationRetrievalEvaluator:Precision@10: 9.03%\n",
      "Precision@10: 9.03%\n",
      "INFO:sentence_transformers.evaluation.InformationRetrievalEvaluator:Recall@1: 50.65%\n",
      "Recall@1: 50.65%\n",
      "INFO:sentence_transformers.evaluation.InformationRetrievalEvaluator:Recall@3: 75.32%\n",
      "Recall@3: 75.32%\n",
      "INFO:sentence_transformers.evaluation.InformationRetrievalEvaluator:Recall@5: 83.12%\n",
      "Recall@5: 83.12%\n",
      "INFO:sentence_transformers.evaluation.InformationRetrievalEvaluator:Recall@10: 90.26%\n",
      "Recall@10: 90.26%\n",
      "INFO:sentence_transformers.evaluation.InformationRetrievalEvaluator:MRR@10: 0.6416\n",
      "MRR@10: 0.6416\n",
      "INFO:sentence_transformers.evaluation.InformationRetrievalEvaluator:NDCG@10: 0.7052\n",
      "NDCG@10: 0.7052\n",
      "INFO:sentence_transformers.evaluation.InformationRetrievalEvaluator:MAP@100: 0.6462\n",
      "MAP@100: 0.6462\n",
      "INFO:sentence_transformers.evaluation.InformationRetrievalEvaluator:Score-Function: dot\n",
      "Score-Function: dot\n",
      "INFO:sentence_transformers.evaluation.InformationRetrievalEvaluator:Accuracy@1: 50.65%\n",
      "Accuracy@1: 50.65%\n",
      "INFO:sentence_transformers.evaluation.InformationRetrievalEvaluator:Accuracy@3: 75.32%\n",
      "Accuracy@3: 75.32%\n",
      "INFO:sentence_transformers.evaluation.InformationRetrievalEvaluator:Accuracy@5: 83.12%\n",
      "Accuracy@5: 83.12%\n",
      "INFO:sentence_transformers.evaluation.InformationRetrievalEvaluator:Accuracy@10: 90.26%\n",
      "Accuracy@10: 90.26%\n",
      "INFO:sentence_transformers.evaluation.InformationRetrievalEvaluator:Precision@1: 50.65%\n",
      "Precision@1: 50.65%\n",
      "INFO:sentence_transformers.evaluation.InformationRetrievalEvaluator:Precision@3: 25.11%\n",
      "Precision@3: 25.11%\n",
      "INFO:sentence_transformers.evaluation.InformationRetrievalEvaluator:Precision@5: 16.62%\n",
      "Precision@5: 16.62%\n",
      "INFO:sentence_transformers.evaluation.InformationRetrievalEvaluator:Precision@10: 9.03%\n",
      "Precision@10: 9.03%\n",
      "INFO:sentence_transformers.evaluation.InformationRetrievalEvaluator:Recall@1: 50.65%\n",
      "Recall@1: 50.65%\n",
      "INFO:sentence_transformers.evaluation.InformationRetrievalEvaluator:Recall@3: 75.32%\n",
      "Recall@3: 75.32%\n",
      "INFO:sentence_transformers.evaluation.InformationRetrievalEvaluator:Recall@5: 83.12%\n",
      "Recall@5: 83.12%\n",
      "INFO:sentence_transformers.evaluation.InformationRetrievalEvaluator:Recall@10: 90.26%\n",
      "Recall@10: 90.26%\n",
      "INFO:sentence_transformers.evaluation.InformationRetrievalEvaluator:MRR@10: 0.6416\n",
      "MRR@10: 0.6416\n",
      "INFO:sentence_transformers.evaluation.InformationRetrievalEvaluator:NDCG@10: 0.7052\n",
      "NDCG@10: 0.7052\n",
      "INFO:sentence_transformers.evaluation.InformationRetrievalEvaluator:MAP@100: 0.6462\n",
      "MAP@100: 0.6462\n"
     ]
    },
    {
     "name": "stderr",
     "output_type": "stream",
     "text": [
      "2024/11/10 21:52:04 ERROR mlflow.utils.async_logging.async_logging_queue: Run Id 6c2bb6a0921e476a96e7bce39ce659bc: Failed to log run data: Exception: Invalid value \"eval_cosine_accuracy@1\" for parameter 'metrics[1].name' supplied: Names may only contain alphanumerics, underscores (_), dashes (-), periods (.), spaces ( ), colon(:) and slashes (/).\n",
      "                                                 \n",
      " 46%|████▋     | 181/390 [00:19<00:29,  7.02it/s]"
     ]
    },
    {
     "name": "stdout",
     "output_type": "stream",
     "text": [
      "{'eval_loss': 3.0845837593078613, 'eval_cosine_accuracy@1': 0.5064935064935064, 'eval_cosine_accuracy@3': 0.7532467532467533, 'eval_cosine_accuracy@5': 0.8311688311688312, 'eval_cosine_accuracy@10': 0.9025974025974026, 'eval_cosine_precision@1': 0.5064935064935064, 'eval_cosine_precision@3': 0.2510822510822511, 'eval_cosine_precision@5': 0.16623376623376623, 'eval_cosine_precision@10': 0.09025974025974025, 'eval_cosine_recall@1': 0.5064935064935064, 'eval_cosine_recall@3': 0.7532467532467533, 'eval_cosine_recall@5': 0.8311688311688312, 'eval_cosine_recall@10': 0.9025974025974026, 'eval_cosine_ndcg@10': 0.7051976318863794, 'eval_cosine_mrr@10': 0.6416357452071737, 'eval_cosine_map@100': 0.6461745992116763, 'eval_dot_accuracy@1': 0.5064935064935064, 'eval_dot_accuracy@3': 0.7532467532467533, 'eval_dot_accuracy@5': 0.8311688311688312, 'eval_dot_accuracy@10': 0.9025974025974026, 'eval_dot_precision@1': 0.5064935064935064, 'eval_dot_precision@3': 0.2510822510822511, 'eval_dot_precision@5': 0.16623376623376623, 'eval_dot_precision@10': 0.09025974025974025, 'eval_dot_recall@1': 0.5064935064935064, 'eval_dot_recall@3': 0.7532467532467533, 'eval_dot_recall@5': 0.8311688311688312, 'eval_dot_recall@10': 0.9025974025974026, 'eval_dot_ndcg@10': 0.7051976318863794, 'eval_dot_mrr@10': 0.6416357452071737, 'eval_dot_map@100': 0.6461745992116763, 'eval_runtime': 0.4192, 'eval_samples_per_second': 367.373, 'eval_steps_per_second': 23.855, 'epoch': 4.51}\n"
     ]
    },
    {
     "name": "stderr",
     "output_type": "stream",
     "text": [
      " 48%|████▊     | 189/390 [00:19<00:15, 12.73it/s]"
     ]
    },
    {
     "name": "stdout",
     "output_type": "stream",
     "text": [
      "INFO:sentence_transformers.evaluation.InformationRetrievalEvaluator:Information Retrieval Evaluation of the model on the  dataset:\n",
      "Information Retrieval Evaluation of the model on the  dataset:\n",
      "INFO:sentence_transformers.evaluation.InformationRetrievalEvaluator:Queries: 154\n",
      "Queries: 154\n",
      "INFO:sentence_transformers.evaluation.InformationRetrievalEvaluator:Corpus: 77\n",
      "\n",
      "Corpus: 77\n",
      "\n",
      "INFO:sentence_transformers.evaluation.InformationRetrievalEvaluator:Score-Function: cosine\n",
      "Score-Function: cosine\n",
      "INFO:sentence_transformers.evaluation.InformationRetrievalEvaluator:Accuracy@1: 49.35%\n",
      "Accuracy@1: 49.35%\n",
      "INFO:sentence_transformers.evaluation.InformationRetrievalEvaluator:Accuracy@3: 74.03%\n",
      "Accuracy@3: 74.03%\n",
      "INFO:sentence_transformers.evaluation.InformationRetrievalEvaluator:Accuracy@5: 83.77%\n",
      "Accuracy@5: 83.77%\n",
      "INFO:sentence_transformers.evaluation.InformationRetrievalEvaluator:Accuracy@10: 90.91%\n",
      "Accuracy@10: 90.91%\n",
      "INFO:sentence_transformers.evaluation.InformationRetrievalEvaluator:Precision@1: 49.35%\n",
      "Precision@1: 49.35%\n",
      "INFO:sentence_transformers.evaluation.InformationRetrievalEvaluator:Precision@3: 24.68%\n",
      "Precision@3: 24.68%\n",
      "INFO:sentence_transformers.evaluation.InformationRetrievalEvaluator:Precision@5: 16.75%\n",
      "Precision@5: 16.75%\n",
      "INFO:sentence_transformers.evaluation.InformationRetrievalEvaluator:Precision@10: 9.09%\n",
      "Precision@10: 9.09%\n",
      "INFO:sentence_transformers.evaluation.InformationRetrievalEvaluator:Recall@1: 49.35%\n",
      "Recall@1: 49.35%\n",
      "INFO:sentence_transformers.evaluation.InformationRetrievalEvaluator:Recall@3: 74.03%\n",
      "Recall@3: 74.03%\n",
      "INFO:sentence_transformers.evaluation.InformationRetrievalEvaluator:Recall@5: 83.77%\n",
      "Recall@5: 83.77%\n",
      "INFO:sentence_transformers.evaluation.InformationRetrievalEvaluator:Recall@10: 90.91%\n",
      "Recall@10: 90.91%\n",
      "INFO:sentence_transformers.evaluation.InformationRetrievalEvaluator:MRR@10: 0.6361\n",
      "MRR@10: 0.6361\n",
      "INFO:sentence_transformers.evaluation.InformationRetrievalEvaluator:NDCG@10: 0.7025\n",
      "NDCG@10: 0.7025\n",
      "INFO:sentence_transformers.evaluation.InformationRetrievalEvaluator:MAP@100: 0.6401\n",
      "MAP@100: 0.6401\n",
      "INFO:sentence_transformers.evaluation.InformationRetrievalEvaluator:Score-Function: dot\n",
      "Score-Function: dot\n",
      "INFO:sentence_transformers.evaluation.InformationRetrievalEvaluator:Accuracy@1: 49.35%\n",
      "Accuracy@1: 49.35%\n",
      "INFO:sentence_transformers.evaluation.InformationRetrievalEvaluator:Accuracy@3: 74.03%\n",
      "Accuracy@3: 74.03%\n",
      "INFO:sentence_transformers.evaluation.InformationRetrievalEvaluator:Accuracy@5: 83.77%\n",
      "Accuracy@5: 83.77%\n",
      "INFO:sentence_transformers.evaluation.InformationRetrievalEvaluator:Accuracy@10: 90.91%\n",
      "Accuracy@10: 90.91%\n",
      "INFO:sentence_transformers.evaluation.InformationRetrievalEvaluator:Precision@1: 49.35%\n",
      "Precision@1: 49.35%\n",
      "INFO:sentence_transformers.evaluation.InformationRetrievalEvaluator:Precision@3: 24.68%\n",
      "Precision@3: 24.68%\n",
      "INFO:sentence_transformers.evaluation.InformationRetrievalEvaluator:Precision@5: 16.75%\n",
      "Precision@5: 16.75%\n",
      "INFO:sentence_transformers.evaluation.InformationRetrievalEvaluator:Precision@10: 9.09%\n",
      "Precision@10: 9.09%\n",
      "INFO:sentence_transformers.evaluation.InformationRetrievalEvaluator:Recall@1: 49.35%\n",
      "Recall@1: 49.35%\n",
      "INFO:sentence_transformers.evaluation.InformationRetrievalEvaluator:Recall@3: 74.03%\n",
      "Recall@3: 74.03%\n",
      "INFO:sentence_transformers.evaluation.InformationRetrievalEvaluator:Recall@5: 83.77%\n",
      "Recall@5: 83.77%\n",
      "INFO:sentence_transformers.evaluation.InformationRetrievalEvaluator:Recall@10: 90.91%\n",
      "Recall@10: 90.91%\n",
      "INFO:sentence_transformers.evaluation.InformationRetrievalEvaluator:MRR@10: 0.6361\n",
      "MRR@10: 0.6361\n",
      "INFO:sentence_transformers.evaluation.InformationRetrievalEvaluator:NDCG@10: 0.7025\n",
      "NDCG@10: 0.7025\n",
      "INFO:sentence_transformers.evaluation.InformationRetrievalEvaluator:MAP@100: 0.6401\n",
      "MAP@100: 0.6401\n"
     ]
    },
    {
     "name": "stderr",
     "output_type": "stream",
     "text": [
      "2024/11/10 21:52:05 ERROR mlflow.utils.async_logging.async_logging_queue: Run Id 6c2bb6a0921e476a96e7bce39ce659bc: Failed to log run data: Exception: Invalid value \"eval_cosine_accuracy@1\" for parameter 'metrics[1].name' supplied: Names may only contain alphanumerics, underscores (_), dashes (-), periods (.), spaces ( ), colon(:) and slashes (/).\n",
      "                                                 \n",
      " 49%|████▉     | 191/390 [00:20<00:27,  7.36it/s]"
     ]
    },
    {
     "name": "stdout",
     "output_type": "stream",
     "text": [
      "{'eval_loss': 3.1353366374969482, 'eval_cosine_accuracy@1': 0.4935064935064935, 'eval_cosine_accuracy@3': 0.7402597402597403, 'eval_cosine_accuracy@5': 0.8376623376623377, 'eval_cosine_accuracy@10': 0.9090909090909091, 'eval_cosine_precision@1': 0.4935064935064935, 'eval_cosine_precision@3': 0.24675324675324675, 'eval_cosine_precision@5': 0.16753246753246753, 'eval_cosine_precision@10': 0.0909090909090909, 'eval_cosine_recall@1': 0.4935064935064935, 'eval_cosine_recall@3': 0.7402597402597403, 'eval_cosine_recall@5': 0.8376623376623377, 'eval_cosine_recall@10': 0.9090909090909091, 'eval_cosine_ndcg@10': 0.7025081383321694, 'eval_cosine_mrr@10': 0.6360801896516182, 'eval_cosine_map@100': 0.6400859478177428, 'eval_dot_accuracy@1': 0.4935064935064935, 'eval_dot_accuracy@3': 0.7402597402597403, 'eval_dot_accuracy@5': 0.8376623376623377, 'eval_dot_accuracy@10': 0.9090909090909091, 'eval_dot_precision@1': 0.4935064935064935, 'eval_dot_precision@3': 0.24675324675324675, 'eval_dot_precision@5': 0.16753246753246753, 'eval_dot_precision@10': 0.0909090909090909, 'eval_dot_recall@1': 0.4935064935064935, 'eval_dot_recall@3': 0.7402597402597403, 'eval_dot_recall@5': 0.8376623376623377, 'eval_dot_recall@10': 0.9090909090909091, 'eval_dot_ndcg@10': 0.7025081383321694, 'eval_dot_mrr@10': 0.6360801896516182, 'eval_dot_map@100': 0.6400859478177428, 'eval_runtime': 0.403, 'eval_samples_per_second': 382.115, 'eval_steps_per_second': 24.813, 'epoch': 4.77}\n"
     ]
    },
    {
     "name": "stderr",
     "output_type": "stream",
     "text": [
      " 51%|█████▏    | 200/390 [00:20<00:14, 12.86it/s]"
     ]
    },
    {
     "name": "stdout",
     "output_type": "stream",
     "text": [
      "{'loss': 1.7546, 'grad_norm': 1.5236313343048096, 'learning_rate': 1.0826210826210828e-05, 'epoch': 5.03}\n"
     ]
    },
    {
     "name": "stderr",
     "output_type": "stream",
     "text": []
    },
    {
     "name": "stdout",
     "output_type": "stream",
     "text": [
      "INFO:sentence_transformers.evaluation.InformationRetrievalEvaluator:Information Retrieval Evaluation of the model on the  dataset:\n",
      "Information Retrieval Evaluation of the model on the  dataset:\n",
      "INFO:sentence_transformers.evaluation.InformationRetrievalEvaluator:Queries: 154\n",
      "Queries: 154\n",
      "INFO:sentence_transformers.evaluation.InformationRetrievalEvaluator:Corpus: 77\n",
      "\n",
      "Corpus: 77\n",
      "\n",
      "INFO:sentence_transformers.evaluation.InformationRetrievalEvaluator:Score-Function: cosine\n",
      "Score-Function: cosine\n",
      "INFO:sentence_transformers.evaluation.InformationRetrievalEvaluator:Accuracy@1: 49.35%\n",
      "Accuracy@1: 49.35%\n",
      "INFO:sentence_transformers.evaluation.InformationRetrievalEvaluator:Accuracy@3: 74.03%\n",
      "Accuracy@3: 74.03%\n",
      "INFO:sentence_transformers.evaluation.InformationRetrievalEvaluator:Accuracy@5: 83.77%\n",
      "Accuracy@5: 83.77%\n",
      "INFO:sentence_transformers.evaluation.InformationRetrievalEvaluator:Accuracy@10: 90.91%\n",
      "Accuracy@10: 90.91%\n",
      "INFO:sentence_transformers.evaluation.InformationRetrievalEvaluator:Precision@1: 49.35%\n",
      "Precision@1: 49.35%\n",
      "INFO:sentence_transformers.evaluation.InformationRetrievalEvaluator:Precision@3: 24.68%\n",
      "Precision@3: 24.68%\n",
      "INFO:sentence_transformers.evaluation.InformationRetrievalEvaluator:Precision@5: 16.75%\n",
      "Precision@5: 16.75%\n",
      "INFO:sentence_transformers.evaluation.InformationRetrievalEvaluator:Precision@10: 9.09%\n",
      "Precision@10: 9.09%\n",
      "INFO:sentence_transformers.evaluation.InformationRetrievalEvaluator:Recall@1: 49.35%\n",
      "Recall@1: 49.35%\n",
      "INFO:sentence_transformers.evaluation.InformationRetrievalEvaluator:Recall@3: 74.03%\n",
      "Recall@3: 74.03%\n",
      "INFO:sentence_transformers.evaluation.InformationRetrievalEvaluator:Recall@5: 83.77%\n",
      "Recall@5: 83.77%\n",
      "INFO:sentence_transformers.evaluation.InformationRetrievalEvaluator:Recall@10: 90.91%\n",
      "Recall@10: 90.91%\n",
      "INFO:sentence_transformers.evaluation.InformationRetrievalEvaluator:MRR@10: 0.6360\n",
      "MRR@10: 0.6360\n",
      "INFO:sentence_transformers.evaluation.InformationRetrievalEvaluator:NDCG@10: 0.7025\n",
      "NDCG@10: 0.7025\n",
      "INFO:sentence_transformers.evaluation.InformationRetrievalEvaluator:MAP@100: 0.6401\n",
      "MAP@100: 0.6401\n",
      "INFO:sentence_transformers.evaluation.InformationRetrievalEvaluator:Score-Function: dot\n",
      "Score-Function: dot\n",
      "INFO:sentence_transformers.evaluation.InformationRetrievalEvaluator:Accuracy@1: 49.35%\n",
      "Accuracy@1: 49.35%\n",
      "INFO:sentence_transformers.evaluation.InformationRetrievalEvaluator:Accuracy@3: 74.03%\n",
      "Accuracy@3: 74.03%\n",
      "INFO:sentence_transformers.evaluation.InformationRetrievalEvaluator:Accuracy@5: 83.77%\n",
      "Accuracy@5: 83.77%\n",
      "INFO:sentence_transformers.evaluation.InformationRetrievalEvaluator:Accuracy@10: 90.91%\n",
      "Accuracy@10: 90.91%\n",
      "INFO:sentence_transformers.evaluation.InformationRetrievalEvaluator:Precision@1: 49.35%\n",
      "Precision@1: 49.35%\n",
      "INFO:sentence_transformers.evaluation.InformationRetrievalEvaluator:Precision@3: 24.68%\n",
      "Precision@3: 24.68%\n",
      "INFO:sentence_transformers.evaluation.InformationRetrievalEvaluator:Precision@5: 16.75%\n",
      "Precision@5: 16.75%\n",
      "INFO:sentence_transformers.evaluation.InformationRetrievalEvaluator:Precision@10: 9.09%\n",
      "Precision@10: 9.09%\n",
      "INFO:sentence_transformers.evaluation.InformationRetrievalEvaluator:Recall@1: 49.35%\n",
      "Recall@1: 49.35%\n",
      "INFO:sentence_transformers.evaluation.InformationRetrievalEvaluator:Recall@3: 74.03%\n",
      "Recall@3: 74.03%\n",
      "INFO:sentence_transformers.evaluation.InformationRetrievalEvaluator:Recall@5: 83.77%\n",
      "Recall@5: 83.77%\n",
      "INFO:sentence_transformers.evaluation.InformationRetrievalEvaluator:Recall@10: 90.91%\n",
      "Recall@10: 90.91%\n",
      "INFO:sentence_transformers.evaluation.InformationRetrievalEvaluator:MRR@10: 0.6360\n",
      "MRR@10: 0.6360\n",
      "INFO:sentence_transformers.evaluation.InformationRetrievalEvaluator:NDCG@10: 0.7025\n",
      "NDCG@10: 0.7025\n",
      "INFO:sentence_transformers.evaluation.InformationRetrievalEvaluator:MAP@100: 0.6401\n",
      "MAP@100: 0.6401\n"
     ]
    },
    {
     "name": "stderr",
     "output_type": "stream",
     "text": [
      "2024/11/10 21:52:06 ERROR mlflow.utils.async_logging.async_logging_queue: Run Id 6c2bb6a0921e476a96e7bce39ce659bc: Failed to log run data: Exception: Invalid value \"eval_cosine_accuracy@1\" for parameter 'metrics[1].name' supplied: Names may only contain alphanumerics, underscores (_), dashes (-), periods (.), spaces ( ), colon(:) and slashes (/).\n",
      "                                                 \n",
      " 51%|█████▏    | 200/390 [00:21<00:14, 12.86it/s]"
     ]
    },
    {
     "name": "stdout",
     "output_type": "stream",
     "text": [
      "{'eval_loss': 3.1670374870300293, 'eval_cosine_accuracy@1': 0.4935064935064935, 'eval_cosine_accuracy@3': 0.7402597402597403, 'eval_cosine_accuracy@5': 0.8376623376623377, 'eval_cosine_accuracy@10': 0.9090909090909091, 'eval_cosine_precision@1': 0.4935064935064935, 'eval_cosine_precision@3': 0.24675324675324675, 'eval_cosine_precision@5': 0.16753246753246753, 'eval_cosine_precision@10': 0.0909090909090909, 'eval_cosine_recall@1': 0.4935064935064935, 'eval_cosine_recall@3': 0.7402597402597403, 'eval_cosine_recall@5': 0.8376623376623377, 'eval_cosine_recall@10': 0.9090909090909091, 'eval_cosine_ndcg@10': 0.7024756357527727, 'eval_cosine_mrr@10': 0.6360415378272521, 'eval_cosine_map@100': 0.6400556742089551, 'eval_dot_accuracy@1': 0.4935064935064935, 'eval_dot_accuracy@3': 0.7402597402597403, 'eval_dot_accuracy@5': 0.8376623376623377, 'eval_dot_accuracy@10': 0.9090909090909091, 'eval_dot_precision@1': 0.4935064935064935, 'eval_dot_precision@3': 0.24675324675324675, 'eval_dot_precision@5': 0.16753246753246753, 'eval_dot_precision@10': 0.0909090909090909, 'eval_dot_recall@1': 0.4935064935064935, 'eval_dot_recall@3': 0.7402597402597403, 'eval_dot_recall@5': 0.8376623376623377, 'eval_dot_recall@10': 0.9090909090909091, 'eval_dot_ndcg@10': 0.7024756357527727, 'eval_dot_mrr@10': 0.6360415378272521, 'eval_dot_map@100': 0.6400556742089551, 'eval_runtime': 0.4179, 'eval_samples_per_second': 368.495, 'eval_steps_per_second': 23.928, 'epoch': 5.03}\n",
      "INFO:sentence_transformers.trainer:Saving model checkpoint to ../models/ft_mini_lm/checkpoint-200\n",
      "Saving model checkpoint to ../models/ft_mini_lm/checkpoint-200\n",
      "INFO:sentence_transformers.SentenceTransformer:Save model to ../models/ft_mini_lm/checkpoint-200\n",
      "Save model to ../models/ft_mini_lm/checkpoint-200\n"
     ]
    },
    {
     "name": "stderr",
     "output_type": "stream",
     "text": [
      " 54%|█████▎    | 209/390 [00:22<00:18,  9.59it/s]"
     ]
    },
    {
     "name": "stdout",
     "output_type": "stream",
     "text": [
      "INFO:sentence_transformers.evaluation.InformationRetrievalEvaluator:Information Retrieval Evaluation of the model on the  dataset:\n",
      "Information Retrieval Evaluation of the model on the  dataset:\n",
      "INFO:sentence_transformers.evaluation.InformationRetrievalEvaluator:Queries: 154\n",
      "Queries: 154\n",
      "INFO:sentence_transformers.evaluation.InformationRetrievalEvaluator:Corpus: 77\n",
      "\n",
      "Corpus: 77\n",
      "\n",
      "INFO:sentence_transformers.evaluation.InformationRetrievalEvaluator:Score-Function: cosine\n",
      "Score-Function: cosine\n",
      "INFO:sentence_transformers.evaluation.InformationRetrievalEvaluator:Accuracy@1: 50.00%\n",
      "Accuracy@1: 50.00%\n",
      "INFO:sentence_transformers.evaluation.InformationRetrievalEvaluator:Accuracy@3: 73.38%\n",
      "Accuracy@3: 73.38%\n",
      "INFO:sentence_transformers.evaluation.InformationRetrievalEvaluator:Accuracy@5: 83.77%\n",
      "Accuracy@5: 83.77%\n",
      "INFO:sentence_transformers.evaluation.InformationRetrievalEvaluator:Accuracy@10: 90.91%\n",
      "Accuracy@10: 90.91%\n",
      "INFO:sentence_transformers.evaluation.InformationRetrievalEvaluator:Precision@1: 50.00%\n",
      "Precision@1: 50.00%\n",
      "INFO:sentence_transformers.evaluation.InformationRetrievalEvaluator:Precision@3: 24.46%\n",
      "Precision@3: 24.46%\n",
      "INFO:sentence_transformers.evaluation.InformationRetrievalEvaluator:Precision@5: 16.75%\n",
      "Precision@5: 16.75%\n",
      "INFO:sentence_transformers.evaluation.InformationRetrievalEvaluator:Precision@10: 9.09%\n",
      "Precision@10: 9.09%\n",
      "INFO:sentence_transformers.evaluation.InformationRetrievalEvaluator:Recall@1: 50.00%\n",
      "Recall@1: 50.00%\n",
      "INFO:sentence_transformers.evaluation.InformationRetrievalEvaluator:Recall@3: 73.38%\n",
      "Recall@3: 73.38%\n",
      "INFO:sentence_transformers.evaluation.InformationRetrievalEvaluator:Recall@5: 83.77%\n",
      "Recall@5: 83.77%\n",
      "INFO:sentence_transformers.evaluation.InformationRetrievalEvaluator:Recall@10: 90.91%\n",
      "Recall@10: 90.91%\n",
      "INFO:sentence_transformers.evaluation.InformationRetrievalEvaluator:MRR@10: 0.6388\n",
      "MRR@10: 0.6388\n",
      "INFO:sentence_transformers.evaluation.InformationRetrievalEvaluator:NDCG@10: 0.7046\n",
      "NDCG@10: 0.7046\n",
      "INFO:sentence_transformers.evaluation.InformationRetrievalEvaluator:MAP@100: 0.6429\n",
      "MAP@100: 0.6429\n",
      "INFO:sentence_transformers.evaluation.InformationRetrievalEvaluator:Score-Function: dot\n",
      "Score-Function: dot\n",
      "INFO:sentence_transformers.evaluation.InformationRetrievalEvaluator:Accuracy@1: 50.00%\n",
      "Accuracy@1: 50.00%\n",
      "INFO:sentence_transformers.evaluation.InformationRetrievalEvaluator:Accuracy@3: 73.38%\n",
      "Accuracy@3: 73.38%\n",
      "INFO:sentence_transformers.evaluation.InformationRetrievalEvaluator:Accuracy@5: 83.77%\n",
      "Accuracy@5: 83.77%\n",
      "INFO:sentence_transformers.evaluation.InformationRetrievalEvaluator:Accuracy@10: 90.91%\n",
      "Accuracy@10: 90.91%\n",
      "INFO:sentence_transformers.evaluation.InformationRetrievalEvaluator:Precision@1: 50.00%\n",
      "Precision@1: 50.00%\n",
      "INFO:sentence_transformers.evaluation.InformationRetrievalEvaluator:Precision@3: 24.46%\n",
      "Precision@3: 24.46%\n",
      "INFO:sentence_transformers.evaluation.InformationRetrievalEvaluator:Precision@5: 16.75%\n",
      "Precision@5: 16.75%\n",
      "INFO:sentence_transformers.evaluation.InformationRetrievalEvaluator:Precision@10: 9.09%\n",
      "Precision@10: 9.09%\n",
      "INFO:sentence_transformers.evaluation.InformationRetrievalEvaluator:Recall@1: 50.00%\n",
      "Recall@1: 50.00%\n",
      "INFO:sentence_transformers.evaluation.InformationRetrievalEvaluator:Recall@3: 73.38%\n",
      "Recall@3: 73.38%\n",
      "INFO:sentence_transformers.evaluation.InformationRetrievalEvaluator:Recall@5: 83.77%\n",
      "Recall@5: 83.77%\n",
      "INFO:sentence_transformers.evaluation.InformationRetrievalEvaluator:Recall@10: 90.91%\n",
      "Recall@10: 90.91%\n",
      "INFO:sentence_transformers.evaluation.InformationRetrievalEvaluator:MRR@10: 0.6388\n",
      "MRR@10: 0.6388\n",
      "INFO:sentence_transformers.evaluation.InformationRetrievalEvaluator:NDCG@10: 0.7046\n",
      "NDCG@10: 0.7046\n",
      "INFO:sentence_transformers.evaluation.InformationRetrievalEvaluator:MAP@100: 0.6429\n",
      "MAP@100: 0.6429\n"
     ]
    },
    {
     "name": "stderr",
     "output_type": "stream",
     "text": [
      "2024/11/10 21:52:08 ERROR mlflow.utils.async_logging.async_logging_queue: Run Id 6c2bb6a0921e476a96e7bce39ce659bc: Failed to log run data: Exception: Invalid value \"eval_cosine_accuracy@1\" for parameter 'metrics[1].name' supplied: Names may only contain alphanumerics, underscores (_), dashes (-), periods (.), spaces ( ), colon(:) and slashes (/).\n",
      "                                                 \n",
      " 54%|█████▍    | 210/390 [00:22<00:18,  9.59it/s]"
     ]
    },
    {
     "name": "stdout",
     "output_type": "stream",
     "text": [
      "{'eval_loss': 3.1671078205108643, 'eval_cosine_accuracy@1': 0.5, 'eval_cosine_accuracy@3': 0.7337662337662337, 'eval_cosine_accuracy@5': 0.8376623376623377, 'eval_cosine_accuracy@10': 0.9090909090909091, 'eval_cosine_precision@1': 0.5, 'eval_cosine_precision@3': 0.24458874458874458, 'eval_cosine_precision@5': 0.16753246753246753, 'eval_cosine_precision@10': 0.0909090909090909, 'eval_cosine_recall@1': 0.5, 'eval_cosine_recall@3': 0.7337662337662337, 'eval_cosine_recall@5': 0.8376623376623377, 'eval_cosine_recall@10': 0.9090909090909091, 'eval_cosine_ndcg@10': 0.7045505657382277, 'eval_cosine_mrr@10': 0.6388476602762316, 'eval_cosine_map@100': 0.6429180894765311, 'eval_dot_accuracy@1': 0.5, 'eval_dot_accuracy@3': 0.7337662337662337, 'eval_dot_accuracy@5': 0.8376623376623377, 'eval_dot_accuracy@10': 0.9090909090909091, 'eval_dot_precision@1': 0.5, 'eval_dot_precision@3': 0.24458874458874458, 'eval_dot_precision@5': 0.16753246753246753, 'eval_dot_precision@10': 0.0909090909090909, 'eval_dot_recall@1': 0.5, 'eval_dot_recall@3': 0.7337662337662337, 'eval_dot_recall@5': 0.8376623376623377, 'eval_dot_recall@10': 0.9090909090909091, 'eval_dot_ndcg@10': 0.7045505657382277, 'eval_dot_mrr@10': 0.6388476602762316, 'eval_dot_map@100': 0.6429180894765311, 'eval_runtime': 0.3936, 'eval_samples_per_second': 391.254, 'eval_steps_per_second': 25.406, 'epoch': 5.26}\n"
     ]
    },
    {
     "name": "stderr",
     "output_type": "stream",
     "text": [
      " 56%|█████▌    | 219/390 [00:23<00:14, 12.13it/s]"
     ]
    },
    {
     "name": "stdout",
     "output_type": "stream",
     "text": [
      "INFO:sentence_transformers.evaluation.InformationRetrievalEvaluator:Information Retrieval Evaluation of the model on the  dataset:\n",
      "Information Retrieval Evaluation of the model on the  dataset:\n",
      "INFO:sentence_transformers.evaluation.InformationRetrievalEvaluator:Queries: 154\n",
      "Queries: 154\n",
      "INFO:sentence_transformers.evaluation.InformationRetrievalEvaluator:Corpus: 77\n",
      "\n",
      "Corpus: 77\n",
      "\n",
      "INFO:sentence_transformers.evaluation.InformationRetrievalEvaluator:Score-Function: cosine\n",
      "Score-Function: cosine\n",
      "INFO:sentence_transformers.evaluation.InformationRetrievalEvaluator:Accuracy@1: 49.35%\n",
      "Accuracy@1: 49.35%\n",
      "INFO:sentence_transformers.evaluation.InformationRetrievalEvaluator:Accuracy@3: 74.03%\n",
      "Accuracy@3: 74.03%\n",
      "INFO:sentence_transformers.evaluation.InformationRetrievalEvaluator:Accuracy@5: 83.12%\n",
      "Accuracy@5: 83.12%\n",
      "INFO:sentence_transformers.evaluation.InformationRetrievalEvaluator:Accuracy@10: 90.26%\n",
      "Accuracy@10: 90.26%\n",
      "INFO:sentence_transformers.evaluation.InformationRetrievalEvaluator:Precision@1: 49.35%\n",
      "Precision@1: 49.35%\n",
      "INFO:sentence_transformers.evaluation.InformationRetrievalEvaluator:Precision@3: 24.68%\n",
      "Precision@3: 24.68%\n",
      "INFO:sentence_transformers.evaluation.InformationRetrievalEvaluator:Precision@5: 16.62%\n",
      "Precision@5: 16.62%\n",
      "INFO:sentence_transformers.evaluation.InformationRetrievalEvaluator:Precision@10: 9.03%\n",
      "Precision@10: 9.03%\n",
      "INFO:sentence_transformers.evaluation.InformationRetrievalEvaluator:Recall@1: 49.35%\n",
      "Recall@1: 49.35%\n",
      "INFO:sentence_transformers.evaluation.InformationRetrievalEvaluator:Recall@3: 74.03%\n",
      "Recall@3: 74.03%\n",
      "INFO:sentence_transformers.evaluation.InformationRetrievalEvaluator:Recall@5: 83.12%\n",
      "Recall@5: 83.12%\n",
      "INFO:sentence_transformers.evaluation.InformationRetrievalEvaluator:Recall@10: 90.26%\n",
      "Recall@10: 90.26%\n",
      "INFO:sentence_transformers.evaluation.InformationRetrievalEvaluator:MRR@10: 0.6345\n",
      "MRR@10: 0.6345\n",
      "INFO:sentence_transformers.evaluation.InformationRetrievalEvaluator:NDCG@10: 0.6999\n",
      "NDCG@10: 0.6999\n",
      "INFO:sentence_transformers.evaluation.InformationRetrievalEvaluator:MAP@100: 0.6391\n",
      "MAP@100: 0.6391\n",
      "INFO:sentence_transformers.evaluation.InformationRetrievalEvaluator:Score-Function: dot\n",
      "Score-Function: dot\n",
      "INFO:sentence_transformers.evaluation.InformationRetrievalEvaluator:Accuracy@1: 49.35%\n",
      "Accuracy@1: 49.35%\n",
      "INFO:sentence_transformers.evaluation.InformationRetrievalEvaluator:Accuracy@3: 74.03%\n",
      "Accuracy@3: 74.03%\n",
      "INFO:sentence_transformers.evaluation.InformationRetrievalEvaluator:Accuracy@5: 83.12%\n",
      "Accuracy@5: 83.12%\n",
      "INFO:sentence_transformers.evaluation.InformationRetrievalEvaluator:Accuracy@10: 90.26%\n",
      "Accuracy@10: 90.26%\n",
      "INFO:sentence_transformers.evaluation.InformationRetrievalEvaluator:Precision@1: 49.35%\n",
      "Precision@1: 49.35%\n",
      "INFO:sentence_transformers.evaluation.InformationRetrievalEvaluator:Precision@3: 24.68%\n",
      "Precision@3: 24.68%\n",
      "INFO:sentence_transformers.evaluation.InformationRetrievalEvaluator:Precision@5: 16.62%\n",
      "Precision@5: 16.62%\n",
      "INFO:sentence_transformers.evaluation.InformationRetrievalEvaluator:Precision@10: 9.03%\n",
      "Precision@10: 9.03%\n",
      "INFO:sentence_transformers.evaluation.InformationRetrievalEvaluator:Recall@1: 49.35%\n",
      "Recall@1: 49.35%\n",
      "INFO:sentence_transformers.evaluation.InformationRetrievalEvaluator:Recall@3: 74.03%\n",
      "Recall@3: 74.03%\n",
      "INFO:sentence_transformers.evaluation.InformationRetrievalEvaluator:Recall@5: 83.12%\n",
      "Recall@5: 83.12%\n",
      "INFO:sentence_transformers.evaluation.InformationRetrievalEvaluator:Recall@10: 90.26%\n",
      "Recall@10: 90.26%\n",
      "INFO:sentence_transformers.evaluation.InformationRetrievalEvaluator:MRR@10: 0.6345\n",
      "MRR@10: 0.6345\n",
      "INFO:sentence_transformers.evaluation.InformationRetrievalEvaluator:NDCG@10: 0.6999\n",
      "NDCG@10: 0.6999\n",
      "INFO:sentence_transformers.evaluation.InformationRetrievalEvaluator:MAP@100: 0.6391\n",
      "MAP@100: 0.6391\n"
     ]
    },
    {
     "name": "stderr",
     "output_type": "stream",
     "text": [
      "2024/11/10 21:52:09 ERROR mlflow.utils.async_logging.async_logging_queue: Run Id 6c2bb6a0921e476a96e7bce39ce659bc: Failed to log run data: Exception: Invalid value \"eval_cosine_accuracy@1\" for parameter 'metrics[1].name' supplied: Names may only contain alphanumerics, underscores (_), dashes (-), periods (.), spaces ( ), colon(:) and slashes (/).\n",
      "                                                 \n",
      " 56%|█████▋    | 220/390 [00:23<00:14, 12.13it/s]"
     ]
    },
    {
     "name": "stdout",
     "output_type": "stream",
     "text": [
      "{'eval_loss': 3.1991546154022217, 'eval_cosine_accuracy@1': 0.4935064935064935, 'eval_cosine_accuracy@3': 0.7402597402597403, 'eval_cosine_accuracy@5': 0.8311688311688312, 'eval_cosine_accuracy@10': 0.9025974025974026, 'eval_cosine_precision@1': 0.4935064935064935, 'eval_cosine_precision@3': 0.24675324675324675, 'eval_cosine_precision@5': 0.16623376623376623, 'eval_cosine_precision@10': 0.09025974025974025, 'eval_cosine_recall@1': 0.4935064935064935, 'eval_cosine_recall@3': 0.7402597402597403, 'eval_cosine_recall@5': 0.8311688311688312, 'eval_cosine_recall@10': 0.9025974025974026, 'eval_cosine_ndcg@10': 0.6999424833083867, 'eval_cosine_mrr@10': 0.6344645433931148, 'eval_cosine_map@100': 0.639092857282772, 'eval_dot_accuracy@1': 0.4935064935064935, 'eval_dot_accuracy@3': 0.7402597402597403, 'eval_dot_accuracy@5': 0.8311688311688312, 'eval_dot_accuracy@10': 0.9025974025974026, 'eval_dot_precision@1': 0.4935064935064935, 'eval_dot_precision@3': 0.24675324675324675, 'eval_dot_precision@5': 0.16623376623376623, 'eval_dot_precision@10': 0.09025974025974025, 'eval_dot_recall@1': 0.4935064935064935, 'eval_dot_recall@3': 0.7402597402597403, 'eval_dot_recall@5': 0.8311688311688312, 'eval_dot_recall@10': 0.9025974025974026, 'eval_dot_ndcg@10': 0.6999424833083867, 'eval_dot_mrr@10': 0.6344645433931148, 'eval_dot_map@100': 0.639092857282772, 'eval_runtime': 0.3917, 'eval_samples_per_second': 393.172, 'eval_steps_per_second': 25.531, 'epoch': 5.51}\n"
     ]
    },
    {
     "name": "stderr",
     "output_type": "stream",
     "text": [
      " 59%|█████▊    | 229/390 [00:24<00:12, 12.86it/s]"
     ]
    },
    {
     "name": "stdout",
     "output_type": "stream",
     "text": [
      "INFO:sentence_transformers.evaluation.InformationRetrievalEvaluator:Information Retrieval Evaluation of the model on the  dataset:\n",
      "Information Retrieval Evaluation of the model on the  dataset:\n",
      "INFO:sentence_transformers.evaluation.InformationRetrievalEvaluator:Queries: 154\n",
      "Queries: 154\n",
      "INFO:sentence_transformers.evaluation.InformationRetrievalEvaluator:Corpus: 77\n",
      "\n",
      "Corpus: 77\n",
      "\n",
      "INFO:sentence_transformers.evaluation.InformationRetrievalEvaluator:Score-Function: cosine\n",
      "Score-Function: cosine\n",
      "INFO:sentence_transformers.evaluation.InformationRetrievalEvaluator:Accuracy@1: 49.35%\n",
      "Accuracy@1: 49.35%\n",
      "INFO:sentence_transformers.evaluation.InformationRetrievalEvaluator:Accuracy@3: 74.03%\n",
      "Accuracy@3: 74.03%\n",
      "INFO:sentence_transformers.evaluation.InformationRetrievalEvaluator:Accuracy@5: 84.42%\n",
      "Accuracy@5: 84.42%\n",
      "INFO:sentence_transformers.evaluation.InformationRetrievalEvaluator:Accuracy@10: 90.26%\n",
      "Accuracy@10: 90.26%\n",
      "INFO:sentence_transformers.evaluation.InformationRetrievalEvaluator:Precision@1: 49.35%\n",
      "Precision@1: 49.35%\n",
      "INFO:sentence_transformers.evaluation.InformationRetrievalEvaluator:Precision@3: 24.68%\n",
      "Precision@3: 24.68%\n",
      "INFO:sentence_transformers.evaluation.InformationRetrievalEvaluator:Precision@5: 16.88%\n",
      "Precision@5: 16.88%\n",
      "INFO:sentence_transformers.evaluation.InformationRetrievalEvaluator:Precision@10: 9.03%\n",
      "Precision@10: 9.03%\n",
      "INFO:sentence_transformers.evaluation.InformationRetrievalEvaluator:Recall@1: 49.35%\n",
      "Recall@1: 49.35%\n",
      "INFO:sentence_transformers.evaluation.InformationRetrievalEvaluator:Recall@3: 74.03%\n",
      "Recall@3: 74.03%\n",
      "INFO:sentence_transformers.evaluation.InformationRetrievalEvaluator:Recall@5: 84.42%\n",
      "Recall@5: 84.42%\n",
      "INFO:sentence_transformers.evaluation.InformationRetrievalEvaluator:Recall@10: 90.26%\n",
      "Recall@10: 90.26%\n",
      "INFO:sentence_transformers.evaluation.InformationRetrievalEvaluator:MRR@10: 0.6345\n",
      "MRR@10: 0.6345\n",
      "INFO:sentence_transformers.evaluation.InformationRetrievalEvaluator:NDCG@10: 0.6999\n",
      "NDCG@10: 0.6999\n",
      "INFO:sentence_transformers.evaluation.InformationRetrievalEvaluator:MAP@100: 0.6390\n",
      "MAP@100: 0.6390\n",
      "INFO:sentence_transformers.evaluation.InformationRetrievalEvaluator:Score-Function: dot\n",
      "Score-Function: dot\n",
      "INFO:sentence_transformers.evaluation.InformationRetrievalEvaluator:Accuracy@1: 49.35%\n",
      "Accuracy@1: 49.35%\n",
      "INFO:sentence_transformers.evaluation.InformationRetrievalEvaluator:Accuracy@3: 74.03%\n",
      "Accuracy@3: 74.03%\n",
      "INFO:sentence_transformers.evaluation.InformationRetrievalEvaluator:Accuracy@5: 84.42%\n",
      "Accuracy@5: 84.42%\n",
      "INFO:sentence_transformers.evaluation.InformationRetrievalEvaluator:Accuracy@10: 90.26%\n",
      "Accuracy@10: 90.26%\n",
      "INFO:sentence_transformers.evaluation.InformationRetrievalEvaluator:Precision@1: 49.35%\n",
      "Precision@1: 49.35%\n",
      "INFO:sentence_transformers.evaluation.InformationRetrievalEvaluator:Precision@3: 24.68%\n",
      "Precision@3: 24.68%\n",
      "INFO:sentence_transformers.evaluation.InformationRetrievalEvaluator:Precision@5: 16.88%\n",
      "Precision@5: 16.88%\n",
      "INFO:sentence_transformers.evaluation.InformationRetrievalEvaluator:Precision@10: 9.03%\n",
      "Precision@10: 9.03%\n",
      "INFO:sentence_transformers.evaluation.InformationRetrievalEvaluator:Recall@1: 49.35%\n",
      "Recall@1: 49.35%\n",
      "INFO:sentence_transformers.evaluation.InformationRetrievalEvaluator:Recall@3: 74.03%\n",
      "Recall@3: 74.03%\n",
      "INFO:sentence_transformers.evaluation.InformationRetrievalEvaluator:Recall@5: 84.42%\n",
      "Recall@5: 84.42%\n",
      "INFO:sentence_transformers.evaluation.InformationRetrievalEvaluator:Recall@10: 90.26%\n",
      "Recall@10: 90.26%\n",
      "INFO:sentence_transformers.evaluation.InformationRetrievalEvaluator:MRR@10: 0.6345\n",
      "MRR@10: 0.6345\n",
      "INFO:sentence_transformers.evaluation.InformationRetrievalEvaluator:NDCG@10: 0.6999\n",
      "NDCG@10: 0.6999\n",
      "INFO:sentence_transformers.evaluation.InformationRetrievalEvaluator:MAP@100: 0.6390\n",
      "MAP@100: 0.6390\n"
     ]
    },
    {
     "name": "stderr",
     "output_type": "stream",
     "text": [
      "2024/11/10 21:52:10 ERROR mlflow.utils.async_logging.async_logging_queue: Run Id 6c2bb6a0921e476a96e7bce39ce659bc: Failed to log run data: Exception: Invalid value \"eval_cosine_accuracy@1\" for parameter 'metrics[1].name' supplied: Names may only contain alphanumerics, underscores (_), dashes (-), periods (.), spaces ( ), colon(:) and slashes (/).\n",
      "                                                 \n",
      " 59%|█████▉    | 231/390 [00:25<00:21,  7.39it/s]"
     ]
    },
    {
     "name": "stdout",
     "output_type": "stream",
     "text": [
      "{'eval_loss': 3.2373125553131104, 'eval_cosine_accuracy@1': 0.4935064935064935, 'eval_cosine_accuracy@3': 0.7402597402597403, 'eval_cosine_accuracy@5': 0.8441558441558441, 'eval_cosine_accuracy@10': 0.9025974025974026, 'eval_cosine_precision@1': 0.4935064935064935, 'eval_cosine_precision@3': 0.24675324675324675, 'eval_cosine_precision@5': 0.16883116883116883, 'eval_cosine_precision@10': 0.09025974025974025, 'eval_cosine_recall@1': 0.4935064935064935, 'eval_cosine_recall@3': 0.7402597402597403, 'eval_cosine_recall@5': 0.8441558441558441, 'eval_cosine_recall@10': 0.9025974025974026, 'eval_cosine_ndcg@10': 0.6999398796257023, 'eval_cosine_mrr@10': 0.6344568130282415, 'eval_cosine_map@100': 0.6389746755130182, 'eval_dot_accuracy@1': 0.4935064935064935, 'eval_dot_accuracy@3': 0.7402597402597403, 'eval_dot_accuracy@5': 0.8441558441558441, 'eval_dot_accuracy@10': 0.9025974025974026, 'eval_dot_precision@1': 0.4935064935064935, 'eval_dot_precision@3': 0.24675324675324675, 'eval_dot_precision@5': 0.16883116883116883, 'eval_dot_precision@10': 0.09025974025974025, 'eval_dot_recall@1': 0.4935064935064935, 'eval_dot_recall@3': 0.7402597402597403, 'eval_dot_recall@5': 0.8441558441558441, 'eval_dot_recall@10': 0.9025974025974026, 'eval_dot_ndcg@10': 0.6999398796257023, 'eval_dot_mrr@10': 0.6344568130282415, 'eval_dot_map@100': 0.6389746755130182, 'eval_runtime': 0.4078, 'eval_samples_per_second': 377.599, 'eval_steps_per_second': 24.519, 'epoch': 5.77}\n"
     ]
    },
    {
     "name": "stderr",
     "output_type": "stream",
     "text": [
      " 61%|██████▏   | 239/390 [00:25<00:12, 12.51it/s]"
     ]
    },
    {
     "name": "stdout",
     "output_type": "stream",
     "text": [
      "INFO:sentence_transformers.evaluation.InformationRetrievalEvaluator:Information Retrieval Evaluation of the model on the  dataset:\n",
      "Information Retrieval Evaluation of the model on the  dataset:\n",
      "INFO:sentence_transformers.evaluation.InformationRetrievalEvaluator:Queries: 154\n",
      "Queries: 154\n",
      "INFO:sentence_transformers.evaluation.InformationRetrievalEvaluator:Corpus: 77\n",
      "\n",
      "Corpus: 77\n",
      "\n",
      "INFO:sentence_transformers.evaluation.InformationRetrievalEvaluator:Score-Function: cosine\n",
      "Score-Function: cosine\n",
      "INFO:sentence_transformers.evaluation.InformationRetrievalEvaluator:Accuracy@1: 50.00%\n",
      "Accuracy@1: 50.00%\n",
      "INFO:sentence_transformers.evaluation.InformationRetrievalEvaluator:Accuracy@3: 74.03%\n",
      "Accuracy@3: 74.03%\n",
      "INFO:sentence_transformers.evaluation.InformationRetrievalEvaluator:Accuracy@5: 85.06%\n",
      "Accuracy@5: 85.06%\n",
      "INFO:sentence_transformers.evaluation.InformationRetrievalEvaluator:Accuracy@10: 90.26%\n",
      "Accuracy@10: 90.26%\n",
      "INFO:sentence_transformers.evaluation.InformationRetrievalEvaluator:Precision@1: 50.00%\n",
      "Precision@1: 50.00%\n",
      "INFO:sentence_transformers.evaluation.InformationRetrievalEvaluator:Precision@3: 24.68%\n",
      "Precision@3: 24.68%\n",
      "INFO:sentence_transformers.evaluation.InformationRetrievalEvaluator:Precision@5: 17.01%\n",
      "Precision@5: 17.01%\n",
      "INFO:sentence_transformers.evaluation.InformationRetrievalEvaluator:Precision@10: 9.03%\n",
      "Precision@10: 9.03%\n",
      "INFO:sentence_transformers.evaluation.InformationRetrievalEvaluator:Recall@1: 50.00%\n",
      "Recall@1: 50.00%\n",
      "INFO:sentence_transformers.evaluation.InformationRetrievalEvaluator:Recall@3: 74.03%\n",
      "Recall@3: 74.03%\n",
      "INFO:sentence_transformers.evaluation.InformationRetrievalEvaluator:Recall@5: 85.06%\n",
      "Recall@5: 85.06%\n",
      "INFO:sentence_transformers.evaluation.InformationRetrievalEvaluator:Recall@10: 90.26%\n",
      "Recall@10: 90.26%\n",
      "INFO:sentence_transformers.evaluation.InformationRetrievalEvaluator:MRR@10: 0.6370\n",
      "MRR@10: 0.6370\n",
      "INFO:sentence_transformers.evaluation.InformationRetrievalEvaluator:NDCG@10: 0.7018\n",
      "NDCG@10: 0.7018\n",
      "INFO:sentence_transformers.evaluation.InformationRetrievalEvaluator:MAP@100: 0.6416\n",
      "MAP@100: 0.6416\n",
      "INFO:sentence_transformers.evaluation.InformationRetrievalEvaluator:Score-Function: dot\n",
      "Score-Function: dot\n",
      "INFO:sentence_transformers.evaluation.InformationRetrievalEvaluator:Accuracy@1: 50.00%\n",
      "Accuracy@1: 50.00%\n",
      "INFO:sentence_transformers.evaluation.InformationRetrievalEvaluator:Accuracy@3: 74.03%\n",
      "Accuracy@3: 74.03%\n",
      "INFO:sentence_transformers.evaluation.InformationRetrievalEvaluator:Accuracy@5: 85.06%\n",
      "Accuracy@5: 85.06%\n",
      "INFO:sentence_transformers.evaluation.InformationRetrievalEvaluator:Accuracy@10: 90.26%\n",
      "Accuracy@10: 90.26%\n",
      "INFO:sentence_transformers.evaluation.InformationRetrievalEvaluator:Precision@1: 50.00%\n",
      "Precision@1: 50.00%\n",
      "INFO:sentence_transformers.evaluation.InformationRetrievalEvaluator:Precision@3: 24.68%\n",
      "Precision@3: 24.68%\n",
      "INFO:sentence_transformers.evaluation.InformationRetrievalEvaluator:Precision@5: 17.01%\n",
      "Precision@5: 17.01%\n",
      "INFO:sentence_transformers.evaluation.InformationRetrievalEvaluator:Precision@10: 9.03%\n",
      "Precision@10: 9.03%\n",
      "INFO:sentence_transformers.evaluation.InformationRetrievalEvaluator:Recall@1: 50.00%\n",
      "Recall@1: 50.00%\n",
      "INFO:sentence_transformers.evaluation.InformationRetrievalEvaluator:Recall@3: 74.03%\n",
      "Recall@3: 74.03%\n",
      "INFO:sentence_transformers.evaluation.InformationRetrievalEvaluator:Recall@5: 85.06%\n",
      "Recall@5: 85.06%\n",
      "INFO:sentence_transformers.evaluation.InformationRetrievalEvaluator:Recall@10: 90.26%\n",
      "Recall@10: 90.26%\n",
      "INFO:sentence_transformers.evaluation.InformationRetrievalEvaluator:MRR@10: 0.6370\n",
      "MRR@10: 0.6370\n",
      "INFO:sentence_transformers.evaluation.InformationRetrievalEvaluator:NDCG@10: 0.7018\n",
      "NDCG@10: 0.7018\n",
      "INFO:sentence_transformers.evaluation.InformationRetrievalEvaluator:MAP@100: 0.6416\n",
      "MAP@100: 0.6416\n"
     ]
    },
    {
     "name": "stderr",
     "output_type": "stream",
     "text": [
      "2024/11/10 21:52:11 ERROR mlflow.utils.async_logging.async_logging_queue: Run Id 6c2bb6a0921e476a96e7bce39ce659bc: Failed to log run data: Exception: Invalid value \"eval_cosine_accuracy@1\" for parameter 'metrics[1].name' supplied: Names may only contain alphanumerics, underscores (_), dashes (-), periods (.), spaces ( ), colon(:) and slashes (/).\n",
      "                                                 \n",
      " 62%|██████▏   | 241/390 [00:26<00:20,  7.17it/s]"
     ]
    },
    {
     "name": "stdout",
     "output_type": "stream",
     "text": [
      "{'eval_loss': 3.2516162395477295, 'eval_cosine_accuracy@1': 0.5, 'eval_cosine_accuracy@3': 0.7402597402597403, 'eval_cosine_accuracy@5': 0.8506493506493507, 'eval_cosine_accuracy@10': 0.9025974025974026, 'eval_cosine_precision@1': 0.5, 'eval_cosine_precision@3': 0.24675324675324675, 'eval_cosine_precision@5': 0.17012987012987013, 'eval_cosine_precision@10': 0.09025974025974025, 'eval_cosine_recall@1': 0.5, 'eval_cosine_recall@3': 0.7402597402597403, 'eval_cosine_recall@5': 0.8506493506493507, 'eval_cosine_recall@10': 0.9025974025974026, 'eval_cosine_ndcg@10': 0.701833775513743, 'eval_cosine_mrr@10': 0.6369923727066582, 'eval_cosine_map@100': 0.641575487115026, 'eval_dot_accuracy@1': 0.5, 'eval_dot_accuracy@3': 0.7402597402597403, 'eval_dot_accuracy@5': 0.8506493506493507, 'eval_dot_accuracy@10': 0.9025974025974026, 'eval_dot_precision@1': 0.5, 'eval_dot_precision@3': 0.24675324675324675, 'eval_dot_precision@5': 0.17012987012987013, 'eval_dot_precision@10': 0.09025974025974025, 'eval_dot_recall@1': 0.5, 'eval_dot_recall@3': 0.7402597402597403, 'eval_dot_recall@5': 0.8506493506493507, 'eval_dot_recall@10': 0.9025974025974026, 'eval_dot_ndcg@10': 0.701833775513743, 'eval_dot_mrr@10': 0.6369923727066582, 'eval_dot_map@100': 0.641575487115026, 'eval_runtime': 0.42, 'eval_samples_per_second': 366.682, 'eval_steps_per_second': 23.81, 'epoch': 6.03}\n"
     ]
    },
    {
     "name": "stderr",
     "output_type": "stream",
     "text": [
      " 64%|██████▍   | 249/390 [00:26<00:11, 12.69it/s]"
     ]
    },
    {
     "name": "stdout",
     "output_type": "stream",
     "text": [
      "INFO:sentence_transformers.evaluation.InformationRetrievalEvaluator:Information Retrieval Evaluation of the model on the  dataset:\n",
      "Information Retrieval Evaluation of the model on the  dataset:\n",
      "INFO:sentence_transformers.evaluation.InformationRetrievalEvaluator:Queries: 154\n",
      "Queries: 154\n",
      "INFO:sentence_transformers.evaluation.InformationRetrievalEvaluator:Corpus: 77\n",
      "\n",
      "Corpus: 77\n",
      "\n",
      "INFO:sentence_transformers.evaluation.InformationRetrievalEvaluator:Score-Function: cosine\n",
      "Score-Function: cosine\n",
      "INFO:sentence_transformers.evaluation.InformationRetrievalEvaluator:Accuracy@1: 50.00%\n",
      "Accuracy@1: 50.00%\n",
      "INFO:sentence_transformers.evaluation.InformationRetrievalEvaluator:Accuracy@3: 74.03%\n",
      "Accuracy@3: 74.03%\n",
      "INFO:sentence_transformers.evaluation.InformationRetrievalEvaluator:Accuracy@5: 84.42%\n",
      "Accuracy@5: 84.42%\n",
      "INFO:sentence_transformers.evaluation.InformationRetrievalEvaluator:Accuracy@10: 90.26%\n",
      "Accuracy@10: 90.26%\n",
      "INFO:sentence_transformers.evaluation.InformationRetrievalEvaluator:Precision@1: 50.00%\n",
      "Precision@1: 50.00%\n",
      "INFO:sentence_transformers.evaluation.InformationRetrievalEvaluator:Precision@3: 24.68%\n",
      "Precision@3: 24.68%\n",
      "INFO:sentence_transformers.evaluation.InformationRetrievalEvaluator:Precision@5: 16.88%\n",
      "Precision@5: 16.88%\n",
      "INFO:sentence_transformers.evaluation.InformationRetrievalEvaluator:Precision@10: 9.03%\n",
      "Precision@10: 9.03%\n",
      "INFO:sentence_transformers.evaluation.InformationRetrievalEvaluator:Recall@1: 50.00%\n",
      "Recall@1: 50.00%\n",
      "INFO:sentence_transformers.evaluation.InformationRetrievalEvaluator:Recall@3: 74.03%\n",
      "Recall@3: 74.03%\n",
      "INFO:sentence_transformers.evaluation.InformationRetrievalEvaluator:Recall@5: 84.42%\n",
      "Recall@5: 84.42%\n",
      "INFO:sentence_transformers.evaluation.InformationRetrievalEvaluator:Recall@10: 90.26%\n",
      "Recall@10: 90.26%\n",
      "INFO:sentence_transformers.evaluation.InformationRetrievalEvaluator:MRR@10: 0.6392\n",
      "MRR@10: 0.6392\n",
      "INFO:sentence_transformers.evaluation.InformationRetrievalEvaluator:NDCG@10: 0.7036\n",
      "NDCG@10: 0.7036\n",
      "INFO:sentence_transformers.evaluation.InformationRetrievalEvaluator:MAP@100: 0.6437\n",
      "MAP@100: 0.6437\n",
      "INFO:sentence_transformers.evaluation.InformationRetrievalEvaluator:Score-Function: dot\n",
      "Score-Function: dot\n",
      "INFO:sentence_transformers.evaluation.InformationRetrievalEvaluator:Accuracy@1: 50.00%\n",
      "Accuracy@1: 50.00%\n",
      "INFO:sentence_transformers.evaluation.InformationRetrievalEvaluator:Accuracy@3: 74.03%\n",
      "Accuracy@3: 74.03%\n",
      "INFO:sentence_transformers.evaluation.InformationRetrievalEvaluator:Accuracy@5: 84.42%\n",
      "Accuracy@5: 84.42%\n",
      "INFO:sentence_transformers.evaluation.InformationRetrievalEvaluator:Accuracy@10: 90.26%\n",
      "Accuracy@10: 90.26%\n",
      "INFO:sentence_transformers.evaluation.InformationRetrievalEvaluator:Precision@1: 50.00%\n",
      "Precision@1: 50.00%\n",
      "INFO:sentence_transformers.evaluation.InformationRetrievalEvaluator:Precision@3: 24.68%\n",
      "Precision@3: 24.68%\n",
      "INFO:sentence_transformers.evaluation.InformationRetrievalEvaluator:Precision@5: 16.88%\n",
      "Precision@5: 16.88%\n",
      "INFO:sentence_transformers.evaluation.InformationRetrievalEvaluator:Precision@10: 9.03%\n",
      "Precision@10: 9.03%\n",
      "INFO:sentence_transformers.evaluation.InformationRetrievalEvaluator:Recall@1: 50.00%\n",
      "Recall@1: 50.00%\n",
      "INFO:sentence_transformers.evaluation.InformationRetrievalEvaluator:Recall@3: 74.03%\n",
      "Recall@3: 74.03%\n",
      "INFO:sentence_transformers.evaluation.InformationRetrievalEvaluator:Recall@5: 84.42%\n",
      "Recall@5: 84.42%\n",
      "INFO:sentence_transformers.evaluation.InformationRetrievalEvaluator:Recall@10: 90.26%\n",
      "Recall@10: 90.26%\n",
      "INFO:sentence_transformers.evaluation.InformationRetrievalEvaluator:MRR@10: 0.6392\n",
      "MRR@10: 0.6392\n",
      "INFO:sentence_transformers.evaluation.InformationRetrievalEvaluator:NDCG@10: 0.7036\n",
      "NDCG@10: 0.7036\n",
      "INFO:sentence_transformers.evaluation.InformationRetrievalEvaluator:MAP@100: 0.6437\n",
      "MAP@100: 0.6437\n"
     ]
    },
    {
     "name": "stderr",
     "output_type": "stream",
     "text": [
      "                                                 2024/11/10 21:52:12 ERROR mlflow.utils.async_logging.async_logging_queue: Run Id 6c2bb6a0921e476a96e7bce39ce659bc: Failed to log run data: Exception: Invalid value \"eval_cosine_accuracy@1\" for parameter 'metrics[1].name' supplied: Names may only contain alphanumerics, underscores (_), dashes (-), periods (.), spaces ( ), colon(:) and slashes (/).\n",
      "\n",
      " 64%|██████▍   | 250/390 [00:27<00:11, 12.69it/s]"
     ]
    },
    {
     "name": "stdout",
     "output_type": "stream",
     "text": [
      "{'eval_loss': 3.249448537826538, 'eval_cosine_accuracy@1': 0.5, 'eval_cosine_accuracy@3': 0.7402597402597403, 'eval_cosine_accuracy@5': 0.8441558441558441, 'eval_cosine_accuracy@10': 0.9025974025974026, 'eval_cosine_precision@1': 0.5, 'eval_cosine_precision@3': 0.24675324675324675, 'eval_cosine_precision@5': 0.16883116883116883, 'eval_cosine_precision@10': 0.09025974025974025, 'eval_cosine_recall@1': 0.5, 'eval_cosine_recall@3': 0.7402597402597403, 'eval_cosine_recall@5': 0.8441558441558441, 'eval_cosine_recall@10': 0.9025974025974026, 'eval_cosine_ndcg@10': 0.7035997248471112, 'eval_cosine_mrr@10': 0.6392109874252729, 'eval_cosine_map@100': 0.6437396013214738, 'eval_dot_accuracy@1': 0.5, 'eval_dot_accuracy@3': 0.7402597402597403, 'eval_dot_accuracy@5': 0.8441558441558441, 'eval_dot_accuracy@10': 0.9025974025974026, 'eval_dot_precision@1': 0.5, 'eval_dot_precision@3': 0.24675324675324675, 'eval_dot_precision@5': 0.16883116883116883, 'eval_dot_precision@10': 0.09025974025974025, 'eval_dot_recall@1': 0.5, 'eval_dot_recall@3': 0.7402597402597403, 'eval_dot_recall@5': 0.8441558441558441, 'eval_dot_recall@10': 0.9025974025974026, 'eval_dot_ndcg@10': 0.7035997248471112, 'eval_dot_mrr@10': 0.6392109874252729, 'eval_dot_map@100': 0.6437396013214738, 'eval_runtime': 0.4057, 'eval_samples_per_second': 379.576, 'eval_steps_per_second': 24.648, 'epoch': 6.26}\n"
     ]
    },
    {
     "name": "stderr",
     "output_type": "stream",
     "text": [
      " 66%|██████▋   | 259/390 [00:27<00:10, 12.87it/s]"
     ]
    },
    {
     "name": "stdout",
     "output_type": "stream",
     "text": [
      "INFO:sentence_transformers.evaluation.InformationRetrievalEvaluator:Information Retrieval Evaluation of the model on the  dataset:\n",
      "Information Retrieval Evaluation of the model on the  dataset:\n",
      "INFO:sentence_transformers.evaluation.InformationRetrievalEvaluator:Queries: 154\n",
      "Queries: 154\n",
      "INFO:sentence_transformers.evaluation.InformationRetrievalEvaluator:Corpus: 77\n",
      "\n",
      "Corpus: 77\n",
      "\n",
      "INFO:sentence_transformers.evaluation.InformationRetrievalEvaluator:Score-Function: cosine\n",
      "Score-Function: cosine\n",
      "INFO:sentence_transformers.evaluation.InformationRetrievalEvaluator:Accuracy@1: 49.35%\n",
      "Accuracy@1: 49.35%\n",
      "INFO:sentence_transformers.evaluation.InformationRetrievalEvaluator:Accuracy@3: 74.03%\n",
      "Accuracy@3: 74.03%\n",
      "INFO:sentence_transformers.evaluation.InformationRetrievalEvaluator:Accuracy@5: 83.77%\n",
      "Accuracy@5: 83.77%\n",
      "INFO:sentence_transformers.evaluation.InformationRetrievalEvaluator:Accuracy@10: 90.26%\n",
      "Accuracy@10: 90.26%\n",
      "INFO:sentence_transformers.evaluation.InformationRetrievalEvaluator:Precision@1: 49.35%\n",
      "Precision@1: 49.35%\n",
      "INFO:sentence_transformers.evaluation.InformationRetrievalEvaluator:Precision@3: 24.68%\n",
      "Precision@3: 24.68%\n",
      "INFO:sentence_transformers.evaluation.InformationRetrievalEvaluator:Precision@5: 16.75%\n",
      "Precision@5: 16.75%\n",
      "INFO:sentence_transformers.evaluation.InformationRetrievalEvaluator:Precision@10: 9.03%\n",
      "Precision@10: 9.03%\n",
      "INFO:sentence_transformers.evaluation.InformationRetrievalEvaluator:Recall@1: 49.35%\n",
      "Recall@1: 49.35%\n",
      "INFO:sentence_transformers.evaluation.InformationRetrievalEvaluator:Recall@3: 74.03%\n",
      "Recall@3: 74.03%\n",
      "INFO:sentence_transformers.evaluation.InformationRetrievalEvaluator:Recall@5: 83.77%\n",
      "Recall@5: 83.77%\n",
      "INFO:sentence_transformers.evaluation.InformationRetrievalEvaluator:Recall@10: 90.26%\n",
      "Recall@10: 90.26%\n",
      "INFO:sentence_transformers.evaluation.InformationRetrievalEvaluator:MRR@10: 0.6353\n",
      "MRR@10: 0.6353\n",
      "INFO:sentence_transformers.evaluation.InformationRetrievalEvaluator:NDCG@10: 0.7006\n",
      "NDCG@10: 0.7006\n",
      "INFO:sentence_transformers.evaluation.InformationRetrievalEvaluator:MAP@100: 0.6398\n",
      "MAP@100: 0.6398\n",
      "INFO:sentence_transformers.evaluation.InformationRetrievalEvaluator:Score-Function: dot\n",
      "Score-Function: dot\n",
      "INFO:sentence_transformers.evaluation.InformationRetrievalEvaluator:Accuracy@1: 49.35%\n",
      "Accuracy@1: 49.35%\n",
      "INFO:sentence_transformers.evaluation.InformationRetrievalEvaluator:Accuracy@3: 74.03%\n",
      "Accuracy@3: 74.03%\n",
      "INFO:sentence_transformers.evaluation.InformationRetrievalEvaluator:Accuracy@5: 83.77%\n",
      "Accuracy@5: 83.77%\n",
      "INFO:sentence_transformers.evaluation.InformationRetrievalEvaluator:Accuracy@10: 90.26%\n",
      "Accuracy@10: 90.26%\n",
      "INFO:sentence_transformers.evaluation.InformationRetrievalEvaluator:Precision@1: 49.35%\n",
      "Precision@1: 49.35%\n",
      "INFO:sentence_transformers.evaluation.InformationRetrievalEvaluator:Precision@3: 24.68%\n",
      "Precision@3: 24.68%\n",
      "INFO:sentence_transformers.evaluation.InformationRetrievalEvaluator:Precision@5: 16.75%\n",
      "Precision@5: 16.75%\n",
      "INFO:sentence_transformers.evaluation.InformationRetrievalEvaluator:Precision@10: 9.03%\n",
      "Precision@10: 9.03%\n",
      "INFO:sentence_transformers.evaluation.InformationRetrievalEvaluator:Recall@1: 49.35%\n",
      "Recall@1: 49.35%\n",
      "INFO:sentence_transformers.evaluation.InformationRetrievalEvaluator:Recall@3: 74.03%\n",
      "Recall@3: 74.03%\n",
      "INFO:sentence_transformers.evaluation.InformationRetrievalEvaluator:Recall@5: 83.77%\n",
      "Recall@5: 83.77%\n",
      "INFO:sentence_transformers.evaluation.InformationRetrievalEvaluator:Recall@10: 90.26%\n",
      "Recall@10: 90.26%\n",
      "INFO:sentence_transformers.evaluation.InformationRetrievalEvaluator:MRR@10: 0.6353\n",
      "MRR@10: 0.6353\n",
      "INFO:sentence_transformers.evaluation.InformationRetrievalEvaluator:NDCG@10: 0.7006\n",
      "NDCG@10: 0.7006\n",
      "INFO:sentence_transformers.evaluation.InformationRetrievalEvaluator:MAP@100: 0.6398\n",
      "MAP@100: 0.6398\n"
     ]
    },
    {
     "name": "stderr",
     "output_type": "stream",
     "text": [
      "2024/11/10 21:52:13 ERROR mlflow.utils.async_logging.async_logging_queue: Run Id 6c2bb6a0921e476a96e7bce39ce659bc: Failed to log run data: Exception: Invalid value \"eval_cosine_accuracy@1\" for parameter 'metrics[1].name' supplied: Names may only contain alphanumerics, underscores (_), dashes (-), periods (.), spaces ( ), colon(:) and slashes (/).\n",
      "                                                 \n",
      " 67%|██████▋   | 260/390 [00:28<00:10, 12.87it/s]\n",
      "100%|██████████| 10/10 [00:00<00:00, 57.69it/s]"
     ]
    },
    {
     "name": "stdout",
     "output_type": "stream",
     "text": [
      "{'eval_loss': 3.276350259780884, 'eval_cosine_accuracy@1': 0.4935064935064935, 'eval_cosine_accuracy@3': 0.7402597402597403, 'eval_cosine_accuracy@5': 0.8376623376623377, 'eval_cosine_accuracy@10': 0.9025974025974026, 'eval_cosine_precision@1': 0.4935064935064935, 'eval_cosine_precision@3': 0.24675324675324675, 'eval_cosine_precision@5': 0.1675324675324675, 'eval_cosine_precision@10': 0.09025974025974025, 'eval_cosine_recall@1': 0.4935064935064935, 'eval_cosine_recall@3': 0.7402597402597403, 'eval_cosine_recall@5': 0.8376623376623377, 'eval_cosine_recall@10': 0.9025974025974026, 'eval_cosine_ndcg@10': 0.700571065943419, 'eval_cosine_mrr@10': 0.6352685013399297, 'eval_cosine_map@100': 0.6397514039028805, 'eval_dot_accuracy@1': 0.4935064935064935, 'eval_dot_accuracy@3': 0.7402597402597403, 'eval_dot_accuracy@5': 0.8376623376623377, 'eval_dot_accuracy@10': 0.9025974025974026, 'eval_dot_precision@1': 0.4935064935064935, 'eval_dot_precision@3': 0.24675324675324675, 'eval_dot_precision@5': 0.1675324675324675, 'eval_dot_precision@10': 0.09025974025974025, 'eval_dot_recall@1': 0.4935064935064935, 'eval_dot_recall@3': 0.7402597402597403, 'eval_dot_recall@5': 0.8376623376623377, 'eval_dot_recall@10': 0.9025974025974026, 'eval_dot_ndcg@10': 0.700571065943419, 'eval_dot_mrr@10': 0.6352685013399297, 'eval_dot_map@100': 0.6397514039028805, 'eval_runtime': 0.4037, 'eval_samples_per_second': 381.471, 'eval_steps_per_second': 24.771, 'epoch': 6.51}\n"
     ]
    },
    {
     "name": "stderr",
     "output_type": "stream",
     "text": [
      " 69%|██████▉   | 269/390 [00:28<00:09, 12.71it/s]"
     ]
    },
    {
     "name": "stdout",
     "output_type": "stream",
     "text": [
      "INFO:sentence_transformers.evaluation.InformationRetrievalEvaluator:Information Retrieval Evaluation of the model on the  dataset:\n",
      "Information Retrieval Evaluation of the model on the  dataset:\n",
      "INFO:sentence_transformers.evaluation.InformationRetrievalEvaluator:Queries: 154\n",
      "Queries: 154\n",
      "INFO:sentence_transformers.evaluation.InformationRetrievalEvaluator:Corpus: 77\n",
      "\n",
      "Corpus: 77\n",
      "\n",
      "INFO:sentence_transformers.evaluation.InformationRetrievalEvaluator:Score-Function: cosine\n",
      "Score-Function: cosine\n",
      "INFO:sentence_transformers.evaluation.InformationRetrievalEvaluator:Accuracy@1: 49.35%\n",
      "Accuracy@1: 49.35%\n",
      "INFO:sentence_transformers.evaluation.InformationRetrievalEvaluator:Accuracy@3: 74.68%\n",
      "Accuracy@3: 74.68%\n",
      "INFO:sentence_transformers.evaluation.InformationRetrievalEvaluator:Accuracy@5: 83.77%\n",
      "Accuracy@5: 83.77%\n",
      "INFO:sentence_transformers.evaluation.InformationRetrievalEvaluator:Accuracy@10: 90.26%\n",
      "Accuracy@10: 90.26%\n",
      "INFO:sentence_transformers.evaluation.InformationRetrievalEvaluator:Precision@1: 49.35%\n",
      "Precision@1: 49.35%\n",
      "INFO:sentence_transformers.evaluation.InformationRetrievalEvaluator:Precision@3: 24.89%\n",
      "Precision@3: 24.89%\n",
      "INFO:sentence_transformers.evaluation.InformationRetrievalEvaluator:Precision@5: 16.75%\n",
      "Precision@5: 16.75%\n",
      "INFO:sentence_transformers.evaluation.InformationRetrievalEvaluator:Precision@10: 9.03%\n",
      "Precision@10: 9.03%\n",
      "INFO:sentence_transformers.evaluation.InformationRetrievalEvaluator:Recall@1: 49.35%\n",
      "Recall@1: 49.35%\n",
      "INFO:sentence_transformers.evaluation.InformationRetrievalEvaluator:Recall@3: 74.68%\n",
      "Recall@3: 74.68%\n",
      "INFO:sentence_transformers.evaluation.InformationRetrievalEvaluator:Recall@5: 83.77%\n",
      "Recall@5: 83.77%\n",
      "INFO:sentence_transformers.evaluation.InformationRetrievalEvaluator:Recall@10: 90.26%\n",
      "Recall@10: 90.26%\n",
      "INFO:sentence_transformers.evaluation.InformationRetrievalEvaluator:MRR@10: 0.6357\n",
      "MRR@10: 0.6357\n",
      "INFO:sentence_transformers.evaluation.InformationRetrievalEvaluator:NDCG@10: 0.7009\n",
      "NDCG@10: 0.7009\n",
      "INFO:sentence_transformers.evaluation.InformationRetrievalEvaluator:MAP@100: 0.6402\n",
      "MAP@100: 0.6402\n",
      "INFO:sentence_transformers.evaluation.InformationRetrievalEvaluator:Score-Function: dot\n",
      "Score-Function: dot\n",
      "INFO:sentence_transformers.evaluation.InformationRetrievalEvaluator:Accuracy@1: 49.35%\n",
      "Accuracy@1: 49.35%\n",
      "INFO:sentence_transformers.evaluation.InformationRetrievalEvaluator:Accuracy@3: 74.68%\n",
      "Accuracy@3: 74.68%\n",
      "INFO:sentence_transformers.evaluation.InformationRetrievalEvaluator:Accuracy@5: 83.77%\n",
      "Accuracy@5: 83.77%\n",
      "INFO:sentence_transformers.evaluation.InformationRetrievalEvaluator:Accuracy@10: 90.26%\n",
      "Accuracy@10: 90.26%\n",
      "INFO:sentence_transformers.evaluation.InformationRetrievalEvaluator:Precision@1: 49.35%\n",
      "Precision@1: 49.35%\n",
      "INFO:sentence_transformers.evaluation.InformationRetrievalEvaluator:Precision@3: 24.89%\n",
      "Precision@3: 24.89%\n",
      "INFO:sentence_transformers.evaluation.InformationRetrievalEvaluator:Precision@5: 16.75%\n",
      "Precision@5: 16.75%\n",
      "INFO:sentence_transformers.evaluation.InformationRetrievalEvaluator:Precision@10: 9.03%\n",
      "Precision@10: 9.03%\n",
      "INFO:sentence_transformers.evaluation.InformationRetrievalEvaluator:Recall@1: 49.35%\n",
      "Recall@1: 49.35%\n",
      "INFO:sentence_transformers.evaluation.InformationRetrievalEvaluator:Recall@3: 74.68%\n",
      "Recall@3: 74.68%\n",
      "INFO:sentence_transformers.evaluation.InformationRetrievalEvaluator:Recall@5: 83.77%\n",
      "Recall@5: 83.77%\n",
      "INFO:sentence_transformers.evaluation.InformationRetrievalEvaluator:Recall@10: 90.26%\n",
      "Recall@10: 90.26%\n",
      "INFO:sentence_transformers.evaluation.InformationRetrievalEvaluator:MRR@10: 0.6357\n",
      "MRR@10: 0.6357\n",
      "INFO:sentence_transformers.evaluation.InformationRetrievalEvaluator:NDCG@10: 0.7009\n",
      "NDCG@10: 0.7009\n",
      "INFO:sentence_transformers.evaluation.InformationRetrievalEvaluator:MAP@100: 0.6402\n",
      "MAP@100: 0.6402\n"
     ]
    },
    {
     "name": "stderr",
     "output_type": "stream",
     "text": [
      "2024/11/10 21:52:14 ERROR mlflow.utils.async_logging.async_logging_queue: Run Id 6c2bb6a0921e476a96e7bce39ce659bc: Failed to log run data: Exception: Invalid value \"eval_cosine_accuracy@1\" for parameter 'metrics[1].name' supplied: Names may only contain alphanumerics, underscores (_), dashes (-), periods (.), spaces ( ), colon(:) and slashes (/).\n",
      "                                                 \n",
      " 69%|██████▉   | 270/390 [00:29<00:09, 12.71it/s]"
     ]
    },
    {
     "name": "stdout",
     "output_type": "stream",
     "text": [
      "{'eval_loss': 3.2755210399627686, 'eval_cosine_accuracy@1': 0.4935064935064935, 'eval_cosine_accuracy@3': 0.7467532467532467, 'eval_cosine_accuracy@5': 0.8376623376623377, 'eval_cosine_accuracy@10': 0.9025974025974026, 'eval_cosine_precision@1': 0.4935064935064935, 'eval_cosine_precision@3': 0.2489177489177489, 'eval_cosine_precision@5': 0.1675324675324675, 'eval_cosine_precision@10': 0.09025974025974025, 'eval_cosine_recall@1': 0.4935064935064935, 'eval_cosine_recall@3': 0.7467532467532467, 'eval_cosine_recall@5': 0.8376623376623377, 'eval_cosine_recall@10': 0.9025974025974026, 'eval_cosine_ndcg@10': 0.7008926959997078, 'eval_cosine_mrr@10': 0.6357091321377034, 'eval_cosine_map@100': 0.6401694376485013, 'eval_dot_accuracy@1': 0.4935064935064935, 'eval_dot_accuracy@3': 0.7467532467532467, 'eval_dot_accuracy@5': 0.8376623376623377, 'eval_dot_accuracy@10': 0.9025974025974026, 'eval_dot_precision@1': 0.4935064935064935, 'eval_dot_precision@3': 0.2489177489177489, 'eval_dot_precision@5': 0.1675324675324675, 'eval_dot_precision@10': 0.09025974025974025, 'eval_dot_recall@1': 0.4935064935064935, 'eval_dot_recall@3': 0.7467532467532467, 'eval_dot_recall@5': 0.8376623376623377, 'eval_dot_recall@10': 0.9025974025974026, 'eval_dot_ndcg@10': 0.7008926959997078, 'eval_dot_mrr@10': 0.6357091321377034, 'eval_dot_map@100': 0.6401694376485013, 'eval_runtime': 0.3955, 'eval_samples_per_second': 389.404, 'eval_steps_per_second': 25.286, 'epoch': 6.77}\n"
     ]
    },
    {
     "name": "stderr",
     "output_type": "stream",
     "text": [
      " 72%|███████▏  | 279/390 [00:29<00:08, 13.06it/s]"
     ]
    },
    {
     "name": "stdout",
     "output_type": "stream",
     "text": [
      "INFO:sentence_transformers.evaluation.InformationRetrievalEvaluator:Information Retrieval Evaluation of the model on the  dataset:\n",
      "Information Retrieval Evaluation of the model on the  dataset:\n",
      "INFO:sentence_transformers.evaluation.InformationRetrievalEvaluator:Queries: 154\n",
      "Queries: 154\n",
      "INFO:sentence_transformers.evaluation.InformationRetrievalEvaluator:Corpus: 77\n",
      "\n",
      "Corpus: 77\n",
      "\n",
      "INFO:sentence_transformers.evaluation.InformationRetrievalEvaluator:Score-Function: cosine\n",
      "Score-Function: cosine\n",
      "INFO:sentence_transformers.evaluation.InformationRetrievalEvaluator:Accuracy@1: 49.35%\n",
      "Accuracy@1: 49.35%\n",
      "INFO:sentence_transformers.evaluation.InformationRetrievalEvaluator:Accuracy@3: 74.68%\n",
      "Accuracy@3: 74.68%\n",
      "INFO:sentence_transformers.evaluation.InformationRetrievalEvaluator:Accuracy@5: 84.42%\n",
      "Accuracy@5: 84.42%\n",
      "INFO:sentence_transformers.evaluation.InformationRetrievalEvaluator:Accuracy@10: 90.91%\n",
      "Accuracy@10: 90.91%\n",
      "INFO:sentence_transformers.evaluation.InformationRetrievalEvaluator:Precision@1: 49.35%\n",
      "Precision@1: 49.35%\n",
      "INFO:sentence_transformers.evaluation.InformationRetrievalEvaluator:Precision@3: 24.89%\n",
      "Precision@3: 24.89%\n",
      "INFO:sentence_transformers.evaluation.InformationRetrievalEvaluator:Precision@5: 16.88%\n",
      "Precision@5: 16.88%\n",
      "INFO:sentence_transformers.evaluation.InformationRetrievalEvaluator:Precision@10: 9.09%\n",
      "Precision@10: 9.09%\n",
      "INFO:sentence_transformers.evaluation.InformationRetrievalEvaluator:Recall@1: 49.35%\n",
      "Recall@1: 49.35%\n",
      "INFO:sentence_transformers.evaluation.InformationRetrievalEvaluator:Recall@3: 74.68%\n",
      "Recall@3: 74.68%\n",
      "INFO:sentence_transformers.evaluation.InformationRetrievalEvaluator:Recall@5: 84.42%\n",
      "Recall@5: 84.42%\n",
      "INFO:sentence_transformers.evaluation.InformationRetrievalEvaluator:Recall@10: 90.91%\n",
      "Recall@10: 90.91%\n",
      "INFO:sentence_transformers.evaluation.InformationRetrievalEvaluator:MRR@10: 0.6361\n",
      "MRR@10: 0.6361\n",
      "INFO:sentence_transformers.evaluation.InformationRetrievalEvaluator:NDCG@10: 0.7027\n",
      "NDCG@10: 0.7027\n",
      "INFO:sentence_transformers.evaluation.InformationRetrievalEvaluator:MAP@100: 0.6401\n",
      "MAP@100: 0.6401\n",
      "INFO:sentence_transformers.evaluation.InformationRetrievalEvaluator:Score-Function: dot\n",
      "Score-Function: dot\n",
      "INFO:sentence_transformers.evaluation.InformationRetrievalEvaluator:Accuracy@1: 49.35%\n",
      "Accuracy@1: 49.35%\n",
      "INFO:sentence_transformers.evaluation.InformationRetrievalEvaluator:Accuracy@3: 74.68%\n",
      "Accuracy@3: 74.68%\n",
      "INFO:sentence_transformers.evaluation.InformationRetrievalEvaluator:Accuracy@5: 84.42%\n",
      "Accuracy@5: 84.42%\n",
      "INFO:sentence_transformers.evaluation.InformationRetrievalEvaluator:Accuracy@10: 90.91%\n",
      "Accuracy@10: 90.91%\n",
      "INFO:sentence_transformers.evaluation.InformationRetrievalEvaluator:Precision@1: 49.35%\n",
      "Precision@1: 49.35%\n",
      "INFO:sentence_transformers.evaluation.InformationRetrievalEvaluator:Precision@3: 24.89%\n",
      "Precision@3: 24.89%\n",
      "INFO:sentence_transformers.evaluation.InformationRetrievalEvaluator:Precision@5: 16.88%\n",
      "Precision@5: 16.88%\n",
      "INFO:sentence_transformers.evaluation.InformationRetrievalEvaluator:Precision@10: 9.09%\n",
      "Precision@10: 9.09%\n",
      "INFO:sentence_transformers.evaluation.InformationRetrievalEvaluator:Recall@1: 49.35%\n",
      "Recall@1: 49.35%\n",
      "INFO:sentence_transformers.evaluation.InformationRetrievalEvaluator:Recall@3: 74.68%\n",
      "Recall@3: 74.68%\n",
      "INFO:sentence_transformers.evaluation.InformationRetrievalEvaluator:Recall@5: 84.42%\n",
      "Recall@5: 84.42%\n",
      "INFO:sentence_transformers.evaluation.InformationRetrievalEvaluator:Recall@10: 90.91%\n",
      "Recall@10: 90.91%\n",
      "INFO:sentence_transformers.evaluation.InformationRetrievalEvaluator:MRR@10: 0.6361\n",
      "MRR@10: 0.6361\n",
      "INFO:sentence_transformers.evaluation.InformationRetrievalEvaluator:NDCG@10: 0.7027\n",
      "NDCG@10: 0.7027\n",
      "INFO:sentence_transformers.evaluation.InformationRetrievalEvaluator:MAP@100: 0.6401\n",
      "MAP@100: 0.6401\n"
     ]
    },
    {
     "name": "stderr",
     "output_type": "stream",
     "text": [
      "2024/11/10 21:52:15 ERROR mlflow.utils.async_logging.async_logging_queue: Run Id 6c2bb6a0921e476a96e7bce39ce659bc: Failed to log run data: Exception: Invalid value \"eval_cosine_accuracy@1\" for parameter 'metrics[1].name' supplied: Names may only contain alphanumerics, underscores (_), dashes (-), periods (.), spaces ( ), colon(:) and slashes (/).\n",
      "                                                 \n",
      " 72%|███████▏  | 280/390 [00:30<00:08, 13.06it/s]"
     ]
    },
    {
     "name": "stdout",
     "output_type": "stream",
     "text": [
      "{'eval_loss': 3.273815631866455, 'eval_cosine_accuracy@1': 0.4935064935064935, 'eval_cosine_accuracy@3': 0.7467532467532467, 'eval_cosine_accuracy@5': 0.8441558441558441, 'eval_cosine_accuracy@10': 0.9090909090909091, 'eval_cosine_precision@1': 0.4935064935064935, 'eval_cosine_precision@3': 0.2489177489177489, 'eval_cosine_precision@5': 0.16883116883116883, 'eval_cosine_precision@10': 0.0909090909090909, 'eval_cosine_recall@1': 0.4935064935064935, 'eval_cosine_recall@3': 0.7467532467532467, 'eval_cosine_recall@5': 0.8441558441558441, 'eval_cosine_recall@10': 0.9090909090909091, 'eval_cosine_ndcg@10': 0.7026801681474002, 'eval_cosine_mrr@10': 0.6360724592867449, 'eval_cosine_map@100': 0.6401120099533653, 'eval_dot_accuracy@1': 0.4935064935064935, 'eval_dot_accuracy@3': 0.7467532467532467, 'eval_dot_accuracy@5': 0.8441558441558441, 'eval_dot_accuracy@10': 0.9090909090909091, 'eval_dot_precision@1': 0.4935064935064935, 'eval_dot_precision@3': 0.2489177489177489, 'eval_dot_precision@5': 0.16883116883116883, 'eval_dot_precision@10': 0.0909090909090909, 'eval_dot_recall@1': 0.4935064935064935, 'eval_dot_recall@3': 0.7467532467532467, 'eval_dot_recall@5': 0.8441558441558441, 'eval_dot_recall@10': 0.9090909090909091, 'eval_dot_ndcg@10': 0.7026801681474002, 'eval_dot_mrr@10': 0.6360724592867449, 'eval_dot_map@100': 0.6401120099533653, 'eval_runtime': 0.3996, 'eval_samples_per_second': 385.424, 'eval_steps_per_second': 25.028, 'epoch': 7.03}\n"
     ]
    },
    {
     "name": "stderr",
     "output_type": "stream",
     "text": [
      " 74%|███████▍  | 289/390 [00:30<00:07, 13.07it/s]"
     ]
    },
    {
     "name": "stdout",
     "output_type": "stream",
     "text": [
      "INFO:sentence_transformers.evaluation.InformationRetrievalEvaluator:Information Retrieval Evaluation of the model on the  dataset:\n",
      "Information Retrieval Evaluation of the model on the  dataset:\n",
      "INFO:sentence_transformers.evaluation.InformationRetrievalEvaluator:Queries: 154\n",
      "Queries: 154\n",
      "INFO:sentence_transformers.evaluation.InformationRetrievalEvaluator:Corpus: 77\n",
      "\n",
      "Corpus: 77\n",
      "\n",
      "INFO:sentence_transformers.evaluation.InformationRetrievalEvaluator:Score-Function: cosine\n",
      "Score-Function: cosine\n",
      "INFO:sentence_transformers.evaluation.InformationRetrievalEvaluator:Accuracy@1: 49.35%\n",
      "Accuracy@1: 49.35%\n",
      "INFO:sentence_transformers.evaluation.InformationRetrievalEvaluator:Accuracy@3: 74.68%\n",
      "Accuracy@3: 74.68%\n",
      "INFO:sentence_transformers.evaluation.InformationRetrievalEvaluator:Accuracy@5: 83.12%\n",
      "Accuracy@5: 83.12%\n",
      "INFO:sentence_transformers.evaluation.InformationRetrievalEvaluator:Accuracy@10: 90.26%\n",
      "Accuracy@10: 90.26%\n",
      "INFO:sentence_transformers.evaluation.InformationRetrievalEvaluator:Precision@1: 49.35%\n",
      "Precision@1: 49.35%\n",
      "INFO:sentence_transformers.evaluation.InformationRetrievalEvaluator:Precision@3: 24.89%\n",
      "Precision@3: 24.89%\n",
      "INFO:sentence_transformers.evaluation.InformationRetrievalEvaluator:Precision@5: 16.62%\n",
      "Precision@5: 16.62%\n",
      "INFO:sentence_transformers.evaluation.InformationRetrievalEvaluator:Precision@10: 9.03%\n",
      "Precision@10: 9.03%\n",
      "INFO:sentence_transformers.evaluation.InformationRetrievalEvaluator:Recall@1: 49.35%\n",
      "Recall@1: 49.35%\n",
      "INFO:sentence_transformers.evaluation.InformationRetrievalEvaluator:Recall@3: 74.68%\n",
      "Recall@3: 74.68%\n",
      "INFO:sentence_transformers.evaluation.InformationRetrievalEvaluator:Recall@5: 83.12%\n",
      "Recall@5: 83.12%\n",
      "INFO:sentence_transformers.evaluation.InformationRetrievalEvaluator:Recall@10: 90.26%\n",
      "Recall@10: 90.26%\n",
      "INFO:sentence_transformers.evaluation.InformationRetrievalEvaluator:MRR@10: 0.6351\n",
      "MRR@10: 0.6351\n",
      "INFO:sentence_transformers.evaluation.InformationRetrievalEvaluator:NDCG@10: 0.7005\n",
      "NDCG@10: 0.7005\n",
      "INFO:sentence_transformers.evaluation.InformationRetrievalEvaluator:MAP@100: 0.6397\n",
      "MAP@100: 0.6397\n",
      "INFO:sentence_transformers.evaluation.InformationRetrievalEvaluator:Score-Function: dot\n",
      "Score-Function: dot\n",
      "INFO:sentence_transformers.evaluation.InformationRetrievalEvaluator:Accuracy@1: 49.35%\n",
      "Accuracy@1: 49.35%\n",
      "INFO:sentence_transformers.evaluation.InformationRetrievalEvaluator:Accuracy@3: 74.68%\n",
      "Accuracy@3: 74.68%\n",
      "INFO:sentence_transformers.evaluation.InformationRetrievalEvaluator:Accuracy@5: 83.12%\n",
      "Accuracy@5: 83.12%\n",
      "INFO:sentence_transformers.evaluation.InformationRetrievalEvaluator:Accuracy@10: 90.26%\n",
      "Accuracy@10: 90.26%\n",
      "INFO:sentence_transformers.evaluation.InformationRetrievalEvaluator:Precision@1: 49.35%\n",
      "Precision@1: 49.35%\n",
      "INFO:sentence_transformers.evaluation.InformationRetrievalEvaluator:Precision@3: 24.89%\n",
      "Precision@3: 24.89%\n",
      "INFO:sentence_transformers.evaluation.InformationRetrievalEvaluator:Precision@5: 16.62%\n",
      "Precision@5: 16.62%\n",
      "INFO:sentence_transformers.evaluation.InformationRetrievalEvaluator:Precision@10: 9.03%\n",
      "Precision@10: 9.03%\n",
      "INFO:sentence_transformers.evaluation.InformationRetrievalEvaluator:Recall@1: 49.35%\n",
      "Recall@1: 49.35%\n",
      "INFO:sentence_transformers.evaluation.InformationRetrievalEvaluator:Recall@3: 74.68%\n",
      "Recall@3: 74.68%\n",
      "INFO:sentence_transformers.evaluation.InformationRetrievalEvaluator:Recall@5: 83.12%\n",
      "Recall@5: 83.12%\n",
      "INFO:sentence_transformers.evaluation.InformationRetrievalEvaluator:Recall@10: 90.26%\n",
      "Recall@10: 90.26%\n",
      "INFO:sentence_transformers.evaluation.InformationRetrievalEvaluator:MRR@10: 0.6351\n",
      "MRR@10: 0.6351\n",
      "INFO:sentence_transformers.evaluation.InformationRetrievalEvaluator:NDCG@10: 0.7005\n",
      "NDCG@10: 0.7005\n",
      "INFO:sentence_transformers.evaluation.InformationRetrievalEvaluator:MAP@100: 0.6397\n",
      "MAP@100: 0.6397\n"
     ]
    },
    {
     "name": "stderr",
     "output_type": "stream",
     "text": [
      "2024/11/10 21:52:16 ERROR mlflow.utils.async_logging.async_logging_queue: Run Id 6c2bb6a0921e476a96e7bce39ce659bc: Failed to log run data: Exception: Invalid value \"eval_cosine_accuracy@1\" for parameter 'metrics[1].name' supplied: Names may only contain alphanumerics, underscores (_), dashes (-), periods (.), spaces ( ), colon(:) and slashes (/).\n",
      "                                                 \n",
      " 74%|███████▍  | 290/390 [00:31<00:07, 13.07it/s]\n",
      "                                               "
     ]
    },
    {
     "name": "stdout",
     "output_type": "stream",
     "text": [
      "{'eval_loss': 3.2877042293548584, 'eval_cosine_accuracy@1': 0.4935064935064935, 'eval_cosine_accuracy@3': 0.7467532467532467, 'eval_cosine_accuracy@5': 0.8311688311688312, 'eval_cosine_accuracy@10': 0.9025974025974026, 'eval_cosine_precision@1': 0.4935064935064935, 'eval_cosine_precision@3': 0.2489177489177489, 'eval_cosine_precision@5': 0.16623376623376623, 'eval_cosine_precision@10': 0.09025974025974025, 'eval_cosine_recall@1': 0.4935064935064935, 'eval_cosine_recall@3': 0.7467532467532467, 'eval_cosine_recall@5': 0.8311688311688312, 'eval_cosine_recall@10': 0.9025974025974026, 'eval_cosine_ndcg@10': 0.7004988617483794, 'eval_cosine_mrr@10': 0.6350803957946813, 'eval_cosine_map@100': 0.6396640256808966, 'eval_dot_accuracy@1': 0.4935064935064935, 'eval_dot_accuracy@3': 0.7467532467532467, 'eval_dot_accuracy@5': 0.8311688311688312, 'eval_dot_accuracy@10': 0.9025974025974026, 'eval_dot_precision@1': 0.4935064935064935, 'eval_dot_precision@3': 0.2489177489177489, 'eval_dot_precision@5': 0.16623376623376623, 'eval_dot_precision@10': 0.09025974025974025, 'eval_dot_recall@1': 0.4935064935064935, 'eval_dot_recall@3': 0.7467532467532467, 'eval_dot_recall@5': 0.8311688311688312, 'eval_dot_recall@10': 0.9025974025974026, 'eval_dot_ndcg@10': 0.7004988617483794, 'eval_dot_mrr@10': 0.6350803957946813, 'eval_dot_map@100': 0.6396640256808966, 'eval_runtime': 0.4189, 'eval_samples_per_second': 367.599, 'eval_steps_per_second': 23.87, 'epoch': 7.26}\n"
     ]
    },
    {
     "name": "stderr",
     "output_type": "stream",
     "text": [
      " 77%|███████▋  | 300/390 [00:31<00:07, 12.82it/s]"
     ]
    },
    {
     "name": "stdout",
     "output_type": "stream",
     "text": [
      "{'loss': 1.0974, 'grad_norm': 24.689970016479492, 'learning_rate': 5.128205128205128e-06, 'epoch': 7.51}\n"
     ]
    },
    {
     "name": "stderr",
     "output_type": "stream",
     "text": []
    },
    {
     "name": "stdout",
     "output_type": "stream",
     "text": [
      "INFO:sentence_transformers.evaluation.InformationRetrievalEvaluator:Information Retrieval Evaluation of the model on the  dataset:\n",
      "Information Retrieval Evaluation of the model on the  dataset:\n",
      "INFO:sentence_transformers.evaluation.InformationRetrievalEvaluator:Queries: 154\n",
      "Queries: 154\n",
      "INFO:sentence_transformers.evaluation.InformationRetrievalEvaluator:Corpus: 77\n",
      "\n",
      "Corpus: 77\n",
      "\n",
      "INFO:sentence_transformers.evaluation.InformationRetrievalEvaluator:Score-Function: cosine\n",
      "Score-Function: cosine\n",
      "INFO:sentence_transformers.evaluation.InformationRetrievalEvaluator:Accuracy@1: 49.35%\n",
      "Accuracy@1: 49.35%\n",
      "INFO:sentence_transformers.evaluation.InformationRetrievalEvaluator:Accuracy@3: 74.68%\n",
      "Accuracy@3: 74.68%\n",
      "INFO:sentence_transformers.evaluation.InformationRetrievalEvaluator:Accuracy@5: 83.77%\n",
      "Accuracy@5: 83.77%\n",
      "INFO:sentence_transformers.evaluation.InformationRetrievalEvaluator:Accuracy@10: 90.26%\n",
      "Accuracy@10: 90.26%\n",
      "INFO:sentence_transformers.evaluation.InformationRetrievalEvaluator:Precision@1: 49.35%\n",
      "Precision@1: 49.35%\n",
      "INFO:sentence_transformers.evaluation.InformationRetrievalEvaluator:Precision@3: 24.89%\n",
      "Precision@3: 24.89%\n",
      "INFO:sentence_transformers.evaluation.InformationRetrievalEvaluator:Precision@5: 16.75%\n",
      "Precision@5: 16.75%\n",
      "INFO:sentence_transformers.evaluation.InformationRetrievalEvaluator:Precision@10: 9.03%\n",
      "Precision@10: 9.03%\n",
      "INFO:sentence_transformers.evaluation.InformationRetrievalEvaluator:Recall@1: 49.35%\n",
      "Recall@1: 49.35%\n",
      "INFO:sentence_transformers.evaluation.InformationRetrievalEvaluator:Recall@3: 74.68%\n",
      "Recall@3: 74.68%\n",
      "INFO:sentence_transformers.evaluation.InformationRetrievalEvaluator:Recall@5: 83.77%\n",
      "Recall@5: 83.77%\n",
      "INFO:sentence_transformers.evaluation.InformationRetrievalEvaluator:Recall@10: 90.26%\n",
      "Recall@10: 90.26%\n",
      "INFO:sentence_transformers.evaluation.InformationRetrievalEvaluator:MRR@10: 0.6353\n",
      "MRR@10: 0.6353\n",
      "INFO:sentence_transformers.evaluation.InformationRetrievalEvaluator:NDCG@10: 0.7007\n",
      "NDCG@10: 0.7007\n",
      "INFO:sentence_transformers.evaluation.InformationRetrievalEvaluator:MAP@100: 0.6398\n",
      "MAP@100: 0.6398\n",
      "INFO:sentence_transformers.evaluation.InformationRetrievalEvaluator:Score-Function: dot\n",
      "Score-Function: dot\n",
      "INFO:sentence_transformers.evaluation.InformationRetrievalEvaluator:Accuracy@1: 49.35%\n",
      "Accuracy@1: 49.35%\n",
      "INFO:sentence_transformers.evaluation.InformationRetrievalEvaluator:Accuracy@3: 74.68%\n",
      "Accuracy@3: 74.68%\n",
      "INFO:sentence_transformers.evaluation.InformationRetrievalEvaluator:Accuracy@5: 83.77%\n",
      "Accuracy@5: 83.77%\n",
      "INFO:sentence_transformers.evaluation.InformationRetrievalEvaluator:Accuracy@10: 90.26%\n",
      "Accuracy@10: 90.26%\n",
      "INFO:sentence_transformers.evaluation.InformationRetrievalEvaluator:Precision@1: 49.35%\n",
      "Precision@1: 49.35%\n",
      "INFO:sentence_transformers.evaluation.InformationRetrievalEvaluator:Precision@3: 24.89%\n",
      "Precision@3: 24.89%\n",
      "INFO:sentence_transformers.evaluation.InformationRetrievalEvaluator:Precision@5: 16.75%\n",
      "Precision@5: 16.75%\n",
      "INFO:sentence_transformers.evaluation.InformationRetrievalEvaluator:Precision@10: 9.03%\n",
      "Precision@10: 9.03%\n",
      "INFO:sentence_transformers.evaluation.InformationRetrievalEvaluator:Recall@1: 49.35%\n",
      "Recall@1: 49.35%\n",
      "INFO:sentence_transformers.evaluation.InformationRetrievalEvaluator:Recall@3: 74.68%\n",
      "Recall@3: 74.68%\n",
      "INFO:sentence_transformers.evaluation.InformationRetrievalEvaluator:Recall@5: 83.77%\n",
      "Recall@5: 83.77%\n",
      "INFO:sentence_transformers.evaluation.InformationRetrievalEvaluator:Recall@10: 90.26%\n",
      "Recall@10: 90.26%\n",
      "INFO:sentence_transformers.evaluation.InformationRetrievalEvaluator:MRR@10: 0.6353\n",
      "MRR@10: 0.6353\n",
      "INFO:sentence_transformers.evaluation.InformationRetrievalEvaluator:NDCG@10: 0.7007\n",
      "NDCG@10: 0.7007\n",
      "INFO:sentence_transformers.evaluation.InformationRetrievalEvaluator:MAP@100: 0.6398\n",
      "MAP@100: 0.6398\n"
     ]
    },
    {
     "name": "stderr",
     "output_type": "stream",
     "text": [
      "2024/11/10 21:52:17 ERROR mlflow.utils.async_logging.async_logging_queue: Run Id 6c2bb6a0921e476a96e7bce39ce659bc: Failed to log run data: Exception: Invalid value \"eval_cosine_accuracy@1\" for parameter 'metrics[1].name' supplied: Names may only contain alphanumerics, underscores (_), dashes (-), periods (.), spaces ( ), colon(:) and slashes (/).\n",
      "                                                 \n",
      " 77%|███████▋  | 300/390 [00:32<00:07, 12.82it/s]"
     ]
    },
    {
     "name": "stdout",
     "output_type": "stream",
     "text": [
      "{'eval_loss': 3.302889823913574, 'eval_cosine_accuracy@1': 0.4935064935064935, 'eval_cosine_accuracy@3': 0.7467532467532467, 'eval_cosine_accuracy@5': 0.8376623376623377, 'eval_cosine_accuracy@10': 0.9025974025974026, 'eval_cosine_precision@1': 0.4935064935064935, 'eval_cosine_precision@3': 0.2489177489177489, 'eval_cosine_precision@5': 0.1675324675324675, 'eval_cosine_precision@10': 0.09025974025974025, 'eval_cosine_recall@1': 0.4935064935064935, 'eval_cosine_recall@3': 0.7467532467532467, 'eval_cosine_recall@5': 0.8376623376623377, 'eval_cosine_recall@10': 0.9025974025974026, 'eval_cosine_ndcg@10': 0.7006978592816686, 'eval_cosine_mrr@10': 0.6352968460111316, 'eval_cosine_map@100': 0.6398446516502927, 'eval_dot_accuracy@1': 0.4935064935064935, 'eval_dot_accuracy@3': 0.7467532467532467, 'eval_dot_accuracy@5': 0.8376623376623377, 'eval_dot_accuracy@10': 0.9025974025974026, 'eval_dot_precision@1': 0.4935064935064935, 'eval_dot_precision@3': 0.2489177489177489, 'eval_dot_precision@5': 0.1675324675324675, 'eval_dot_precision@10': 0.09025974025974025, 'eval_dot_recall@1': 0.4935064935064935, 'eval_dot_recall@3': 0.7467532467532467, 'eval_dot_recall@5': 0.8376623376623377, 'eval_dot_recall@10': 0.9025974025974026, 'eval_dot_ndcg@10': 0.7006978592816686, 'eval_dot_mrr@10': 0.6352968460111316, 'eval_dot_map@100': 0.6398446516502927, 'eval_runtime': 0.3952, 'eval_samples_per_second': 389.66, 'eval_steps_per_second': 25.303, 'epoch': 7.51}\n",
      "INFO:sentence_transformers.trainer:Saving model checkpoint to ../models/ft_mini_lm/checkpoint-300\n",
      "Saving model checkpoint to ../models/ft_mini_lm/checkpoint-300\n",
      "INFO:sentence_transformers.SentenceTransformer:Save model to ../models/ft_mini_lm/checkpoint-300\n",
      "Save model to ../models/ft_mini_lm/checkpoint-300\n"
     ]
    },
    {
     "name": "stderr",
     "output_type": "stream",
     "text": [
      " 79%|███████▉  | 309/390 [00:33<00:08,  9.70it/s]"
     ]
    },
    {
     "name": "stdout",
     "output_type": "stream",
     "text": [
      "INFO:sentence_transformers.evaluation.InformationRetrievalEvaluator:Information Retrieval Evaluation of the model on the  dataset:\n",
      "Information Retrieval Evaluation of the model on the  dataset:\n",
      "INFO:sentence_transformers.evaluation.InformationRetrievalEvaluator:Queries: 154\n",
      "Queries: 154\n",
      "INFO:sentence_transformers.evaluation.InformationRetrievalEvaluator:Corpus: 77\n",
      "\n",
      "Corpus: 77\n",
      "\n",
      "INFO:sentence_transformers.evaluation.InformationRetrievalEvaluator:Score-Function: cosine\n",
      "Score-Function: cosine\n",
      "INFO:sentence_transformers.evaluation.InformationRetrievalEvaluator:Accuracy@1: 48.70%\n",
      "Accuracy@1: 48.70%\n",
      "INFO:sentence_transformers.evaluation.InformationRetrievalEvaluator:Accuracy@3: 75.32%\n",
      "Accuracy@3: 75.32%\n",
      "INFO:sentence_transformers.evaluation.InformationRetrievalEvaluator:Accuracy@5: 83.77%\n",
      "Accuracy@5: 83.77%\n",
      "INFO:sentence_transformers.evaluation.InformationRetrievalEvaluator:Accuracy@10: 90.26%\n",
      "Accuracy@10: 90.26%\n",
      "INFO:sentence_transformers.evaluation.InformationRetrievalEvaluator:Precision@1: 48.70%\n",
      "Precision@1: 48.70%\n",
      "INFO:sentence_transformers.evaluation.InformationRetrievalEvaluator:Precision@3: 25.11%\n",
      "Precision@3: 25.11%\n",
      "INFO:sentence_transformers.evaluation.InformationRetrievalEvaluator:Precision@5: 16.75%\n",
      "Precision@5: 16.75%\n",
      "INFO:sentence_transformers.evaluation.InformationRetrievalEvaluator:Precision@10: 9.03%\n",
      "Precision@10: 9.03%\n",
      "INFO:sentence_transformers.evaluation.InformationRetrievalEvaluator:Recall@1: 48.70%\n",
      "Recall@1: 48.70%\n",
      "INFO:sentence_transformers.evaluation.InformationRetrievalEvaluator:Recall@3: 75.32%\n",
      "Recall@3: 75.32%\n",
      "INFO:sentence_transformers.evaluation.InformationRetrievalEvaluator:Recall@5: 83.77%\n",
      "Recall@5: 83.77%\n",
      "INFO:sentence_transformers.evaluation.InformationRetrievalEvaluator:Recall@10: 90.26%\n",
      "Recall@10: 90.26%\n",
      "INFO:sentence_transformers.evaluation.InformationRetrievalEvaluator:MRR@10: 0.6323\n",
      "MRR@10: 0.6323\n",
      "INFO:sentence_transformers.evaluation.InformationRetrievalEvaluator:NDCG@10: 0.6985\n",
      "NDCG@10: 0.6985\n",
      "INFO:sentence_transformers.evaluation.InformationRetrievalEvaluator:MAP@100: 0.6369\n",
      "MAP@100: 0.6369\n",
      "INFO:sentence_transformers.evaluation.InformationRetrievalEvaluator:Score-Function: dot\n",
      "Score-Function: dot\n",
      "INFO:sentence_transformers.evaluation.InformationRetrievalEvaluator:Accuracy@1: 48.70%\n",
      "Accuracy@1: 48.70%\n",
      "INFO:sentence_transformers.evaluation.InformationRetrievalEvaluator:Accuracy@3: 75.32%\n",
      "Accuracy@3: 75.32%\n",
      "INFO:sentence_transformers.evaluation.InformationRetrievalEvaluator:Accuracy@5: 83.77%\n",
      "Accuracy@5: 83.77%\n",
      "INFO:sentence_transformers.evaluation.InformationRetrievalEvaluator:Accuracy@10: 90.26%\n",
      "Accuracy@10: 90.26%\n",
      "INFO:sentence_transformers.evaluation.InformationRetrievalEvaluator:Precision@1: 48.70%\n",
      "Precision@1: 48.70%\n",
      "INFO:sentence_transformers.evaluation.InformationRetrievalEvaluator:Precision@3: 25.11%\n",
      "Precision@3: 25.11%\n",
      "INFO:sentence_transformers.evaluation.InformationRetrievalEvaluator:Precision@5: 16.75%\n",
      "Precision@5: 16.75%\n",
      "INFO:sentence_transformers.evaluation.InformationRetrievalEvaluator:Precision@10: 9.03%\n",
      "Precision@10: 9.03%\n",
      "INFO:sentence_transformers.evaluation.InformationRetrievalEvaluator:Recall@1: 48.70%\n",
      "Recall@1: 48.70%\n",
      "INFO:sentence_transformers.evaluation.InformationRetrievalEvaluator:Recall@3: 75.32%\n",
      "Recall@3: 75.32%\n",
      "INFO:sentence_transformers.evaluation.InformationRetrievalEvaluator:Recall@5: 83.77%\n",
      "Recall@5: 83.77%\n",
      "INFO:sentence_transformers.evaluation.InformationRetrievalEvaluator:Recall@10: 90.26%\n",
      "Recall@10: 90.26%\n",
      "INFO:sentence_transformers.evaluation.InformationRetrievalEvaluator:MRR@10: 0.6323\n",
      "MRR@10: 0.6323\n",
      "INFO:sentence_transformers.evaluation.InformationRetrievalEvaluator:NDCG@10: 0.6985\n",
      "NDCG@10: 0.6985\n",
      "INFO:sentence_transformers.evaluation.InformationRetrievalEvaluator:MAP@100: 0.6369\n",
      "MAP@100: 0.6369\n"
     ]
    },
    {
     "name": "stderr",
     "output_type": "stream",
     "text": [
      "2024/11/10 21:52:19 ERROR mlflow.utils.async_logging.async_logging_queue: Run Id 6c2bb6a0921e476a96e7bce39ce659bc: Failed to log run data: Exception: Invalid value \"eval_cosine_accuracy@1\" for parameter 'metrics[1].name' supplied: Names may only contain alphanumerics, underscores (_), dashes (-), periods (.), spaces ( ), colon(:) and slashes (/).\n",
      "                                                 \n",
      " 79%|███████▉  | 310/390 [00:33<00:08,  9.70it/s]"
     ]
    },
    {
     "name": "stdout",
     "output_type": "stream",
     "text": [
      "{'eval_loss': 3.3224308490753174, 'eval_cosine_accuracy@1': 0.487012987012987, 'eval_cosine_accuracy@3': 0.7532467532467533, 'eval_cosine_accuracy@5': 0.8376623376623377, 'eval_cosine_accuracy@10': 0.9025974025974026, 'eval_cosine_precision@1': 0.487012987012987, 'eval_cosine_precision@3': 0.2510822510822511, 'eval_cosine_precision@5': 0.1675324675324675, 'eval_cosine_precision@10': 0.09025974025974025, 'eval_cosine_recall@1': 0.487012987012987, 'eval_cosine_recall@3': 0.7532467532467533, 'eval_cosine_recall@5': 0.8376623376623377, 'eval_cosine_recall@10': 0.9025974025974026, 'eval_cosine_ndcg@10': 0.6984543884241925, 'eval_cosine_mrr@10': 0.632282003710575, 'eval_cosine_map@100': 0.636881228579372, 'eval_dot_accuracy@1': 0.487012987012987, 'eval_dot_accuracy@3': 0.7532467532467533, 'eval_dot_accuracy@5': 0.8376623376623377, 'eval_dot_accuracy@10': 0.9025974025974026, 'eval_dot_precision@1': 0.487012987012987, 'eval_dot_precision@3': 0.2510822510822511, 'eval_dot_precision@5': 0.1675324675324675, 'eval_dot_precision@10': 0.09025974025974025, 'eval_dot_recall@1': 0.487012987012987, 'eval_dot_recall@3': 0.7532467532467533, 'eval_dot_recall@5': 0.8376623376623377, 'eval_dot_recall@10': 0.9025974025974026, 'eval_dot_ndcg@10': 0.6984543884241925, 'eval_dot_mrr@10': 0.632282003710575, 'eval_dot_map@100': 0.636881228579372, 'eval_runtime': 0.3967, 'eval_samples_per_second': 388.158, 'eval_steps_per_second': 25.205, 'epoch': 7.77}\n"
     ]
    },
    {
     "name": "stderr",
     "output_type": "stream",
     "text": [
      " 82%|████████▏ | 319/390 [00:34<00:05, 12.69it/s]"
     ]
    },
    {
     "name": "stdout",
     "output_type": "stream",
     "text": [
      "INFO:sentence_transformers.evaluation.InformationRetrievalEvaluator:Information Retrieval Evaluation of the model on the  dataset:\n",
      "Information Retrieval Evaluation of the model on the  dataset:\n",
      "INFO:sentence_transformers.evaluation.InformationRetrievalEvaluator:Queries: 154\n",
      "Queries: 154\n",
      "INFO:sentence_transformers.evaluation.InformationRetrievalEvaluator:Corpus: 77\n",
      "\n",
      "Corpus: 77\n",
      "\n",
      "INFO:sentence_transformers.evaluation.InformationRetrievalEvaluator:Score-Function: cosine\n",
      "Score-Function: cosine\n",
      "INFO:sentence_transformers.evaluation.InformationRetrievalEvaluator:Accuracy@1: 49.35%\n",
      "Accuracy@1: 49.35%\n",
      "INFO:sentence_transformers.evaluation.InformationRetrievalEvaluator:Accuracy@3: 75.32%\n",
      "Accuracy@3: 75.32%\n",
      "INFO:sentence_transformers.evaluation.InformationRetrievalEvaluator:Accuracy@5: 83.77%\n",
      "Accuracy@5: 83.77%\n",
      "INFO:sentence_transformers.evaluation.InformationRetrievalEvaluator:Accuracy@10: 90.91%\n",
      "Accuracy@10: 90.91%\n",
      "INFO:sentence_transformers.evaluation.InformationRetrievalEvaluator:Precision@1: 49.35%\n",
      "Precision@1: 49.35%\n",
      "INFO:sentence_transformers.evaluation.InformationRetrievalEvaluator:Precision@3: 25.11%\n",
      "Precision@3: 25.11%\n",
      "INFO:sentence_transformers.evaluation.InformationRetrievalEvaluator:Precision@5: 16.75%\n",
      "Precision@5: 16.75%\n",
      "INFO:sentence_transformers.evaluation.InformationRetrievalEvaluator:Precision@10: 9.09%\n",
      "Precision@10: 9.09%\n",
      "INFO:sentence_transformers.evaluation.InformationRetrievalEvaluator:Recall@1: 49.35%\n",
      "Recall@1: 49.35%\n",
      "INFO:sentence_transformers.evaluation.InformationRetrievalEvaluator:Recall@3: 75.32%\n",
      "Recall@3: 75.32%\n",
      "INFO:sentence_transformers.evaluation.InformationRetrievalEvaluator:Recall@5: 83.77%\n",
      "Recall@5: 83.77%\n",
      "INFO:sentence_transformers.evaluation.InformationRetrievalEvaluator:Recall@10: 90.91%\n",
      "Recall@10: 90.91%\n",
      "INFO:sentence_transformers.evaluation.InformationRetrievalEvaluator:MRR@10: 0.6375\n",
      "MRR@10: 0.6375\n",
      "INFO:sentence_transformers.evaluation.InformationRetrievalEvaluator:NDCG@10: 0.7038\n",
      "NDCG@10: 0.7038\n",
      "INFO:sentence_transformers.evaluation.InformationRetrievalEvaluator:MAP@100: 0.6415\n",
      "MAP@100: 0.6415\n",
      "INFO:sentence_transformers.evaluation.InformationRetrievalEvaluator:Score-Function: dot\n",
      "Score-Function: dot\n",
      "INFO:sentence_transformers.evaluation.InformationRetrievalEvaluator:Accuracy@1: 49.35%\n",
      "Accuracy@1: 49.35%\n",
      "INFO:sentence_transformers.evaluation.InformationRetrievalEvaluator:Accuracy@3: 75.32%\n",
      "Accuracy@3: 75.32%\n",
      "INFO:sentence_transformers.evaluation.InformationRetrievalEvaluator:Accuracy@5: 83.77%\n",
      "Accuracy@5: 83.77%\n",
      "INFO:sentence_transformers.evaluation.InformationRetrievalEvaluator:Accuracy@10: 90.91%\n",
      "Accuracy@10: 90.91%\n",
      "INFO:sentence_transformers.evaluation.InformationRetrievalEvaluator:Precision@1: 49.35%\n",
      "Precision@1: 49.35%\n",
      "INFO:sentence_transformers.evaluation.InformationRetrievalEvaluator:Precision@3: 25.11%\n",
      "Precision@3: 25.11%\n",
      "INFO:sentence_transformers.evaluation.InformationRetrievalEvaluator:Precision@5: 16.75%\n",
      "Precision@5: 16.75%\n",
      "INFO:sentence_transformers.evaluation.InformationRetrievalEvaluator:Precision@10: 9.09%\n",
      "Precision@10: 9.09%\n",
      "INFO:sentence_transformers.evaluation.InformationRetrievalEvaluator:Recall@1: 49.35%\n",
      "Recall@1: 49.35%\n",
      "INFO:sentence_transformers.evaluation.InformationRetrievalEvaluator:Recall@3: 75.32%\n",
      "Recall@3: 75.32%\n",
      "INFO:sentence_transformers.evaluation.InformationRetrievalEvaluator:Recall@5: 83.77%\n",
      "Recall@5: 83.77%\n",
      "INFO:sentence_transformers.evaluation.InformationRetrievalEvaluator:Recall@10: 90.91%\n",
      "Recall@10: 90.91%\n",
      "INFO:sentence_transformers.evaluation.InformationRetrievalEvaluator:MRR@10: 0.6375\n",
      "MRR@10: 0.6375\n",
      "INFO:sentence_transformers.evaluation.InformationRetrievalEvaluator:NDCG@10: 0.7038\n",
      "NDCG@10: 0.7038\n",
      "INFO:sentence_transformers.evaluation.InformationRetrievalEvaluator:MAP@100: 0.6415\n",
      "MAP@100: 0.6415\n"
     ]
    },
    {
     "name": "stderr",
     "output_type": "stream",
     "text": [
      "2024/11/10 21:52:20 ERROR mlflow.utils.async_logging.async_logging_queue: Run Id 6c2bb6a0921e476a96e7bce39ce659bc: Failed to log run data: Exception: Invalid value \"eval_cosine_accuracy@1\" for parameter 'metrics[1].name' supplied: Names may only contain alphanumerics, underscores (_), dashes (-), periods (.), spaces ( ), colon(:) and slashes (/).\n",
      "\n",
      " 82%|████████▏ | 320/390 [00:34<00:05, 12.69it/s]"
     ]
    },
    {
     "name": "stdout",
     "output_type": "stream",
     "text": [
      "{'eval_loss': 3.3229005336761475, 'eval_cosine_accuracy@1': 0.4935064935064935, 'eval_cosine_accuracy@3': 0.7532467532467533, 'eval_cosine_accuracy@5': 0.8376623376623377, 'eval_cosine_accuracy@10': 0.9090909090909091, 'eval_cosine_precision@1': 0.4935064935064935, 'eval_cosine_precision@3': 0.2510822510822511, 'eval_cosine_precision@5': 0.1675324675324675, 'eval_cosine_precision@10': 0.0909090909090909, 'eval_cosine_recall@1': 0.4935064935064935, 'eval_cosine_recall@3': 0.7532467532467533, 'eval_cosine_recall@5': 0.8376623376623377, 'eval_cosine_recall@10': 0.9090909090909091, 'eval_cosine_ndcg@10': 0.7037815160394232, 'eval_cosine_mrr@10': 0.6374793856936715, 'eval_cosine_map@100': 0.6415067082478235, 'eval_dot_accuracy@1': 0.4935064935064935, 'eval_dot_accuracy@3': 0.7532467532467533, 'eval_dot_accuracy@5': 0.8376623376623377, 'eval_dot_accuracy@10': 0.9090909090909091, 'eval_dot_precision@1': 0.4935064935064935, 'eval_dot_precision@3': 0.2510822510822511, 'eval_dot_precision@5': 0.1675324675324675, 'eval_dot_precision@10': 0.0909090909090909, 'eval_dot_recall@1': 0.4935064935064935, 'eval_dot_recall@3': 0.7532467532467533, 'eval_dot_recall@5': 0.8376623376623377, 'eval_dot_recall@10': 0.9090909090909091, 'eval_dot_ndcg@10': 0.7037815160394232, 'eval_dot_mrr@10': 0.6374793856936715, 'eval_dot_map@100': 0.6415067082478235, 'eval_runtime': 0.3995, 'eval_samples_per_second': 385.475, 'eval_steps_per_second': 25.031, 'epoch': 8.03}\n"
     ]
    },
    {
     "name": "stderr",
     "output_type": "stream",
     "text": [
      " 84%|████████▍ | 329/390 [00:35<00:04, 12.84it/s]"
     ]
    },
    {
     "name": "stdout",
     "output_type": "stream",
     "text": [
      "INFO:sentence_transformers.evaluation.InformationRetrievalEvaluator:Information Retrieval Evaluation of the model on the  dataset:\n",
      "Information Retrieval Evaluation of the model on the  dataset:\n",
      "INFO:sentence_transformers.evaluation.InformationRetrievalEvaluator:Queries: 154\n",
      "Queries: 154\n",
      "INFO:sentence_transformers.evaluation.InformationRetrievalEvaluator:Corpus: 77\n",
      "\n",
      "Corpus: 77\n",
      "\n",
      "INFO:sentence_transformers.evaluation.InformationRetrievalEvaluator:Score-Function: cosine\n",
      "Score-Function: cosine\n",
      "INFO:sentence_transformers.evaluation.InformationRetrievalEvaluator:Accuracy@1: 49.35%\n",
      "Accuracy@1: 49.35%\n",
      "INFO:sentence_transformers.evaluation.InformationRetrievalEvaluator:Accuracy@3: 75.32%\n",
      "Accuracy@3: 75.32%\n",
      "INFO:sentence_transformers.evaluation.InformationRetrievalEvaluator:Accuracy@5: 84.42%\n",
      "Accuracy@5: 84.42%\n",
      "INFO:sentence_transformers.evaluation.InformationRetrievalEvaluator:Accuracy@10: 90.91%\n",
      "Accuracy@10: 90.91%\n",
      "INFO:sentence_transformers.evaluation.InformationRetrievalEvaluator:Precision@1: 49.35%\n",
      "Precision@1: 49.35%\n",
      "INFO:sentence_transformers.evaluation.InformationRetrievalEvaluator:Precision@3: 25.11%\n",
      "Precision@3: 25.11%\n",
      "INFO:sentence_transformers.evaluation.InformationRetrievalEvaluator:Precision@5: 16.88%\n",
      "Precision@5: 16.88%\n",
      "INFO:sentence_transformers.evaluation.InformationRetrievalEvaluator:Precision@10: 9.09%\n",
      "Precision@10: 9.09%\n",
      "INFO:sentence_transformers.evaluation.InformationRetrievalEvaluator:Recall@1: 49.35%\n",
      "Recall@1: 49.35%\n",
      "INFO:sentence_transformers.evaluation.InformationRetrievalEvaluator:Recall@3: 75.32%\n",
      "Recall@3: 75.32%\n",
      "INFO:sentence_transformers.evaluation.InformationRetrievalEvaluator:Recall@5: 84.42%\n",
      "Recall@5: 84.42%\n",
      "INFO:sentence_transformers.evaluation.InformationRetrievalEvaluator:Recall@10: 90.91%\n",
      "Recall@10: 90.91%\n",
      "INFO:sentence_transformers.evaluation.InformationRetrievalEvaluator:MRR@10: 0.6376\n",
      "MRR@10: 0.6376\n",
      "INFO:sentence_transformers.evaluation.InformationRetrievalEvaluator:NDCG@10: 0.7039\n",
      "NDCG@10: 0.7039\n",
      "INFO:sentence_transformers.evaluation.InformationRetrievalEvaluator:MAP@100: 0.6416\n",
      "MAP@100: 0.6416\n",
      "INFO:sentence_transformers.evaluation.InformationRetrievalEvaluator:Score-Function: dot\n",
      "Score-Function: dot\n",
      "INFO:sentence_transformers.evaluation.InformationRetrievalEvaluator:Accuracy@1: 49.35%\n",
      "Accuracy@1: 49.35%\n",
      "INFO:sentence_transformers.evaluation.InformationRetrievalEvaluator:Accuracy@3: 75.32%\n",
      "Accuracy@3: 75.32%\n",
      "INFO:sentence_transformers.evaluation.InformationRetrievalEvaluator:Accuracy@5: 84.42%\n",
      "Accuracy@5: 84.42%\n",
      "INFO:sentence_transformers.evaluation.InformationRetrievalEvaluator:Accuracy@10: 90.91%\n",
      "Accuracy@10: 90.91%\n",
      "INFO:sentence_transformers.evaluation.InformationRetrievalEvaluator:Precision@1: 49.35%\n",
      "Precision@1: 49.35%\n",
      "INFO:sentence_transformers.evaluation.InformationRetrievalEvaluator:Precision@3: 25.11%\n",
      "Precision@3: 25.11%\n",
      "INFO:sentence_transformers.evaluation.InformationRetrievalEvaluator:Precision@5: 16.88%\n",
      "Precision@5: 16.88%\n",
      "INFO:sentence_transformers.evaluation.InformationRetrievalEvaluator:Precision@10: 9.09%\n",
      "Precision@10: 9.09%\n",
      "INFO:sentence_transformers.evaluation.InformationRetrievalEvaluator:Recall@1: 49.35%\n",
      "Recall@1: 49.35%\n",
      "INFO:sentence_transformers.evaluation.InformationRetrievalEvaluator:Recall@3: 75.32%\n",
      "Recall@3: 75.32%\n",
      "INFO:sentence_transformers.evaluation.InformationRetrievalEvaluator:Recall@5: 84.42%\n",
      "Recall@5: 84.42%\n",
      "INFO:sentence_transformers.evaluation.InformationRetrievalEvaluator:Recall@10: 90.91%\n",
      "Recall@10: 90.91%\n",
      "INFO:sentence_transformers.evaluation.InformationRetrievalEvaluator:MRR@10: 0.6376\n",
      "MRR@10: 0.6376\n",
      "INFO:sentence_transformers.evaluation.InformationRetrievalEvaluator:NDCG@10: 0.7039\n",
      "NDCG@10: 0.7039\n",
      "INFO:sentence_transformers.evaluation.InformationRetrievalEvaluator:MAP@100: 0.6416\n",
      "MAP@100: 0.6416\n"
     ]
    },
    {
     "name": "stderr",
     "output_type": "stream",
     "text": [
      "2024/11/10 21:52:21 ERROR mlflow.utils.async_logging.async_logging_queue: Run Id 6c2bb6a0921e476a96e7bce39ce659bc: Failed to log run data: Exception: Invalid value \"eval_cosine_accuracy@1\" for parameter 'metrics[1].name' supplied: Names may only contain alphanumerics, underscores (_), dashes (-), periods (.), spaces ( ), colon(:) and slashes (/).\n",
      "                                                 \n",
      " 85%|████████▍ | 330/390 [00:35<00:04, 12.84it/s]"
     ]
    },
    {
     "name": "stdout",
     "output_type": "stream",
     "text": [
      "{'eval_loss': 3.3289835453033447, 'eval_cosine_accuracy@1': 0.4935064935064935, 'eval_cosine_accuracy@3': 0.7532467532467533, 'eval_cosine_accuracy@5': 0.8441558441558441, 'eval_cosine_accuracy@10': 0.9090909090909091, 'eval_cosine_precision@1': 0.4935064935064935, 'eval_cosine_precision@3': 0.2510822510822511, 'eval_cosine_precision@5': 0.16883116883116883, 'eval_cosine_precision@10': 0.0909090909090909, 'eval_cosine_recall@1': 0.4935064935064935, 'eval_cosine_recall@3': 0.7532467532467533, 'eval_cosine_recall@5': 0.8441558441558441, 'eval_cosine_recall@10': 0.9090909090909091, 'eval_cosine_ndcg@10': 0.7038644846340913, 'eval_cosine_mrr@10': 0.6375798804370232, 'eval_cosine_map@100': 0.641568479826027, 'eval_dot_accuracy@1': 0.4935064935064935, 'eval_dot_accuracy@3': 0.7532467532467533, 'eval_dot_accuracy@5': 0.8441558441558441, 'eval_dot_accuracy@10': 0.9090909090909091, 'eval_dot_precision@1': 0.4935064935064935, 'eval_dot_precision@3': 0.2510822510822511, 'eval_dot_precision@5': 0.16883116883116883, 'eval_dot_precision@10': 0.0909090909090909, 'eval_dot_recall@1': 0.4935064935064935, 'eval_dot_recall@3': 0.7532467532467533, 'eval_dot_recall@5': 0.8441558441558441, 'eval_dot_recall@10': 0.9090909090909091, 'eval_dot_ndcg@10': 0.7038644846340913, 'eval_dot_mrr@10': 0.6375798804370232, 'eval_dot_map@100': 0.641568479826027, 'eval_runtime': 0.3851, 'eval_samples_per_second': 399.914, 'eval_steps_per_second': 25.968, 'epoch': 8.26}\n"
     ]
    },
    {
     "name": "stderr",
     "output_type": "stream",
     "text": [
      " 87%|████████▋ | 339/390 [00:36<00:03, 13.31it/s]"
     ]
    },
    {
     "name": "stdout",
     "output_type": "stream",
     "text": [
      "INFO:sentence_transformers.evaluation.InformationRetrievalEvaluator:Information Retrieval Evaluation of the model on the  dataset:\n",
      "Information Retrieval Evaluation of the model on the  dataset:\n",
      "INFO:sentence_transformers.evaluation.InformationRetrievalEvaluator:Queries: 154\n",
      "Queries: 154\n",
      "INFO:sentence_transformers.evaluation.InformationRetrievalEvaluator:Corpus: 77\n",
      "\n",
      "Corpus: 77\n",
      "\n",
      "INFO:sentence_transformers.evaluation.InformationRetrievalEvaluator:Score-Function: cosine\n",
      "Score-Function: cosine\n",
      "INFO:sentence_transformers.evaluation.InformationRetrievalEvaluator:Accuracy@1: 49.35%\n",
      "Accuracy@1: 49.35%\n",
      "INFO:sentence_transformers.evaluation.InformationRetrievalEvaluator:Accuracy@3: 74.68%\n",
      "Accuracy@3: 74.68%\n",
      "INFO:sentence_transformers.evaluation.InformationRetrievalEvaluator:Accuracy@5: 84.42%\n",
      "Accuracy@5: 84.42%\n",
      "INFO:sentence_transformers.evaluation.InformationRetrievalEvaluator:Accuracy@10: 90.26%\n",
      "Accuracy@10: 90.26%\n",
      "INFO:sentence_transformers.evaluation.InformationRetrievalEvaluator:Precision@1: 49.35%\n",
      "Precision@1: 49.35%\n",
      "INFO:sentence_transformers.evaluation.InformationRetrievalEvaluator:Precision@3: 24.89%\n",
      "Precision@3: 24.89%\n",
      "INFO:sentence_transformers.evaluation.InformationRetrievalEvaluator:Precision@5: 16.88%\n",
      "Precision@5: 16.88%\n",
      "INFO:sentence_transformers.evaluation.InformationRetrievalEvaluator:Precision@10: 9.03%\n",
      "Precision@10: 9.03%\n",
      "INFO:sentence_transformers.evaluation.InformationRetrievalEvaluator:Recall@1: 49.35%\n",
      "Recall@1: 49.35%\n",
      "INFO:sentence_transformers.evaluation.InformationRetrievalEvaluator:Recall@3: 74.68%\n",
      "Recall@3: 74.68%\n",
      "INFO:sentence_transformers.evaluation.InformationRetrievalEvaluator:Recall@5: 84.42%\n",
      "Recall@5: 84.42%\n",
      "INFO:sentence_transformers.evaluation.InformationRetrievalEvaluator:Recall@10: 90.26%\n",
      "Recall@10: 90.26%\n",
      "INFO:sentence_transformers.evaluation.InformationRetrievalEvaluator:MRR@10: 0.6362\n",
      "MRR@10: 0.6362\n",
      "INFO:sentence_transformers.evaluation.InformationRetrievalEvaluator:NDCG@10: 0.7014\n",
      "NDCG@10: 0.7014\n",
      "INFO:sentence_transformers.evaluation.InformationRetrievalEvaluator:MAP@100: 0.6408\n",
      "MAP@100: 0.6408\n",
      "INFO:sentence_transformers.evaluation.InformationRetrievalEvaluator:Score-Function: dot\n",
      "Score-Function: dot\n",
      "INFO:sentence_transformers.evaluation.InformationRetrievalEvaluator:Accuracy@1: 49.35%\n",
      "Accuracy@1: 49.35%\n",
      "INFO:sentence_transformers.evaluation.InformationRetrievalEvaluator:Accuracy@3: 74.68%\n",
      "Accuracy@3: 74.68%\n",
      "INFO:sentence_transformers.evaluation.InformationRetrievalEvaluator:Accuracy@5: 84.42%\n",
      "Accuracy@5: 84.42%\n",
      "INFO:sentence_transformers.evaluation.InformationRetrievalEvaluator:Accuracy@10: 90.26%\n",
      "Accuracy@10: 90.26%\n",
      "INFO:sentence_transformers.evaluation.InformationRetrievalEvaluator:Precision@1: 49.35%\n",
      "Precision@1: 49.35%\n",
      "INFO:sentence_transformers.evaluation.InformationRetrievalEvaluator:Precision@3: 24.89%\n",
      "Precision@3: 24.89%\n",
      "INFO:sentence_transformers.evaluation.InformationRetrievalEvaluator:Precision@5: 16.88%\n",
      "Precision@5: 16.88%\n",
      "INFO:sentence_transformers.evaluation.InformationRetrievalEvaluator:Precision@10: 9.03%\n",
      "Precision@10: 9.03%\n",
      "INFO:sentence_transformers.evaluation.InformationRetrievalEvaluator:Recall@1: 49.35%\n",
      "Recall@1: 49.35%\n",
      "INFO:sentence_transformers.evaluation.InformationRetrievalEvaluator:Recall@3: 74.68%\n",
      "Recall@3: 74.68%\n",
      "INFO:sentence_transformers.evaluation.InformationRetrievalEvaluator:Recall@5: 84.42%\n",
      "Recall@5: 84.42%\n",
      "INFO:sentence_transformers.evaluation.InformationRetrievalEvaluator:Recall@10: 90.26%\n",
      "Recall@10: 90.26%\n",
      "INFO:sentence_transformers.evaluation.InformationRetrievalEvaluator:MRR@10: 0.6362\n",
      "MRR@10: 0.6362\n",
      "INFO:sentence_transformers.evaluation.InformationRetrievalEvaluator:NDCG@10: 0.7014\n",
      "NDCG@10: 0.7014\n",
      "INFO:sentence_transformers.evaluation.InformationRetrievalEvaluator:MAP@100: 0.6408\n",
      "MAP@100: 0.6408\n"
     ]
    },
    {
     "name": "stderr",
     "output_type": "stream",
     "text": [
      "2024/11/10 21:52:22 ERROR mlflow.utils.async_logging.async_logging_queue: Run Id 6c2bb6a0921e476a96e7bce39ce659bc: Failed to log run data: Exception: Invalid value \"eval_cosine_accuracy@1\" for parameter 'metrics[1].name' supplied: Names may only contain alphanumerics, underscores (_), dashes (-), periods (.), spaces ( ), colon(:) and slashes (/).\n",
      "                                                 \n",
      " 87%|████████▋ | 340/390 [00:36<00:03, 13.31it/s]\n"
     ]
    },
    {
     "name": "stdout",
     "output_type": "stream",
     "text": [
      "{'eval_loss': 3.3345277309417725, 'eval_cosine_accuracy@1': 0.4935064935064935, 'eval_cosine_accuracy@3': 0.7467532467532467, 'eval_cosine_accuracy@5': 0.8441558441558441, 'eval_cosine_accuracy@10': 0.9025974025974026, 'eval_cosine_precision@1': 0.4935064935064935, 'eval_cosine_precision@3': 0.2489177489177489, 'eval_cosine_precision@5': 0.16883116883116883, 'eval_cosine_precision@10': 0.09025974025974025, 'eval_cosine_recall@1': 0.4935064935064935, 'eval_cosine_recall@3': 0.7467532467532467, 'eval_cosine_recall@5': 0.8441558441558441, 'eval_cosine_recall@10': 0.9025974025974026, 'eval_cosine_ndcg@10': 0.7013887565690319, 'eval_cosine_mrr@10': 0.6362347969490826, 'eval_cosine_map@100': 0.6407780365031162, 'eval_dot_accuracy@1': 0.4935064935064935, 'eval_dot_accuracy@3': 0.7467532467532467, 'eval_dot_accuracy@5': 0.8441558441558441, 'eval_dot_accuracy@10': 0.9025974025974026, 'eval_dot_precision@1': 0.4935064935064935, 'eval_dot_precision@3': 0.2489177489177489, 'eval_dot_precision@5': 0.16883116883116883, 'eval_dot_precision@10': 0.09025974025974025, 'eval_dot_recall@1': 0.4935064935064935, 'eval_dot_recall@3': 0.7467532467532467, 'eval_dot_recall@5': 0.8441558441558441, 'eval_dot_recall@10': 0.9025974025974026, 'eval_dot_ndcg@10': 0.7013887565690319, 'eval_dot_mrr@10': 0.6362347969490826, 'eval_dot_map@100': 0.6407780365031162, 'eval_runtime': 0.3941, 'eval_samples_per_second': 390.737, 'eval_steps_per_second': 25.373, 'epoch': 8.51}\n"
     ]
    },
    {
     "name": "stderr",
     "output_type": "stream",
     "text": [
      " 89%|████████▉ | 349/390 [00:37<00:03, 13.12it/s]A"
     ]
    },
    {
     "name": "stdout",
     "output_type": "stream",
     "text": [
      "INFO:sentence_transformers.evaluation.InformationRetrievalEvaluator:Information Retrieval Evaluation of the model on the  dataset:\n",
      "Information Retrieval Evaluation of the model on the  dataset:\n",
      "INFO:sentence_transformers.evaluation.InformationRetrievalEvaluator:Queries: 154\n",
      "Queries: 154\n",
      "INFO:sentence_transformers.evaluation.InformationRetrievalEvaluator:Corpus: 77\n",
      "\n",
      "Corpus: 77\n",
      "\n",
      "INFO:sentence_transformers.evaluation.InformationRetrievalEvaluator:Score-Function: cosine\n",
      "Score-Function: cosine\n",
      "INFO:sentence_transformers.evaluation.InformationRetrievalEvaluator:Accuracy@1: 49.35%\n",
      "Accuracy@1: 49.35%\n",
      "INFO:sentence_transformers.evaluation.InformationRetrievalEvaluator:Accuracy@3: 74.68%\n",
      "Accuracy@3: 74.68%\n",
      "INFO:sentence_transformers.evaluation.InformationRetrievalEvaluator:Accuracy@5: 84.42%\n",
      "Accuracy@5: 84.42%\n",
      "INFO:sentence_transformers.evaluation.InformationRetrievalEvaluator:Accuracy@10: 90.26%\n",
      "Accuracy@10: 90.26%\n",
      "INFO:sentence_transformers.evaluation.InformationRetrievalEvaluator:Precision@1: 49.35%\n",
      "Precision@1: 49.35%\n",
      "INFO:sentence_transformers.evaluation.InformationRetrievalEvaluator:Precision@3: 24.89%\n",
      "Precision@3: 24.89%\n",
      "INFO:sentence_transformers.evaluation.InformationRetrievalEvaluator:Precision@5: 16.88%\n",
      "Precision@5: 16.88%\n",
      "INFO:sentence_transformers.evaluation.InformationRetrievalEvaluator:Precision@10: 9.03%\n",
      "Precision@10: 9.03%\n",
      "INFO:sentence_transformers.evaluation.InformationRetrievalEvaluator:Recall@1: 49.35%\n",
      "Recall@1: 49.35%\n",
      "INFO:sentence_transformers.evaluation.InformationRetrievalEvaluator:Recall@3: 74.68%\n",
      "Recall@3: 74.68%\n",
      "INFO:sentence_transformers.evaluation.InformationRetrievalEvaluator:Recall@5: 84.42%\n",
      "Recall@5: 84.42%\n",
      "INFO:sentence_transformers.evaluation.InformationRetrievalEvaluator:Recall@10: 90.26%\n",
      "Recall@10: 90.26%\n",
      "INFO:sentence_transformers.evaluation.InformationRetrievalEvaluator:MRR@10: 0.6348\n",
      "MRR@10: 0.6348\n",
      "INFO:sentence_transformers.evaluation.InformationRetrievalEvaluator:NDCG@10: 0.7003\n",
      "NDCG@10: 0.7003\n",
      "INFO:sentence_transformers.evaluation.InformationRetrievalEvaluator:MAP@100: 0.6394\n",
      "MAP@100: 0.6394\n",
      "INFO:sentence_transformers.evaluation.InformationRetrievalEvaluator:Score-Function: dot\n",
      "Score-Function: dot\n",
      "INFO:sentence_transformers.evaluation.InformationRetrievalEvaluator:Accuracy@1: 49.35%\n",
      "Accuracy@1: 49.35%\n",
      "INFO:sentence_transformers.evaluation.InformationRetrievalEvaluator:Accuracy@3: 74.68%\n",
      "Accuracy@3: 74.68%\n",
      "INFO:sentence_transformers.evaluation.InformationRetrievalEvaluator:Accuracy@5: 84.42%\n",
      "Accuracy@5: 84.42%\n",
      "INFO:sentence_transformers.evaluation.InformationRetrievalEvaluator:Accuracy@10: 90.26%\n",
      "Accuracy@10: 90.26%\n",
      "INFO:sentence_transformers.evaluation.InformationRetrievalEvaluator:Precision@1: 49.35%\n",
      "Precision@1: 49.35%\n",
      "INFO:sentence_transformers.evaluation.InformationRetrievalEvaluator:Precision@3: 24.89%\n",
      "Precision@3: 24.89%\n",
      "INFO:sentence_transformers.evaluation.InformationRetrievalEvaluator:Precision@5: 16.88%\n",
      "Precision@5: 16.88%\n",
      "INFO:sentence_transformers.evaluation.InformationRetrievalEvaluator:Precision@10: 9.03%\n",
      "Precision@10: 9.03%\n",
      "INFO:sentence_transformers.evaluation.InformationRetrievalEvaluator:Recall@1: 49.35%\n",
      "Recall@1: 49.35%\n",
      "INFO:sentence_transformers.evaluation.InformationRetrievalEvaluator:Recall@3: 74.68%\n",
      "Recall@3: 74.68%\n",
      "INFO:sentence_transformers.evaluation.InformationRetrievalEvaluator:Recall@5: 84.42%\n",
      "Recall@5: 84.42%\n",
      "INFO:sentence_transformers.evaluation.InformationRetrievalEvaluator:Recall@10: 90.26%\n",
      "Recall@10: 90.26%\n",
      "INFO:sentence_transformers.evaluation.InformationRetrievalEvaluator:MRR@10: 0.6348\n",
      "MRR@10: 0.6348\n",
      "INFO:sentence_transformers.evaluation.InformationRetrievalEvaluator:NDCG@10: 0.7003\n",
      "NDCG@10: 0.7003\n",
      "INFO:sentence_transformers.evaluation.InformationRetrievalEvaluator:MAP@100: 0.6394\n",
      "MAP@100: 0.6394\n"
     ]
    },
    {
     "name": "stderr",
     "output_type": "stream",
     "text": [
      "2024/11/10 21:52:23 ERROR mlflow.utils.async_logging.async_logging_queue: Run Id 6c2bb6a0921e476a96e7bce39ce659bc: Failed to log run data: Exception: Invalid value \"eval_cosine_accuracy@1\" for parameter 'metrics[1].name' supplied: Names may only contain alphanumerics, underscores (_), dashes (-), periods (.), spaces ( ), colon(:) and slashes (/).\n",
      "                                                 \n",
      " 90%|████████▉ | 350/390 [00:37<00:03, 13.12it/s]"
     ]
    },
    {
     "name": "stdout",
     "output_type": "stream",
     "text": [
      "{'eval_loss': 3.3469254970550537, 'eval_cosine_accuracy@1': 0.4935064935064935, 'eval_cosine_accuracy@3': 0.7467532467532467, 'eval_cosine_accuracy@5': 0.8441558441558441, 'eval_cosine_accuracy@10': 0.9025974025974026, 'eval_cosine_precision@1': 0.4935064935064935, 'eval_cosine_precision@3': 0.2489177489177489, 'eval_cosine_precision@5': 0.16883116883116883, 'eval_cosine_precision@10': 0.09025974025974025, 'eval_cosine_recall@1': 0.4935064935064935, 'eval_cosine_recall@3': 0.7467532467532467, 'eval_cosine_recall@5': 0.8441558441558441, 'eval_cosine_recall@10': 0.9025974025974026, 'eval_cosine_ndcg@10': 0.7002539935533805, 'eval_cosine_mrr@10': 0.6348278705421562, 'eval_cosine_map@100': 0.6394379764676545, 'eval_dot_accuracy@1': 0.4935064935064935, 'eval_dot_accuracy@3': 0.7467532467532467, 'eval_dot_accuracy@5': 0.8441558441558441, 'eval_dot_accuracy@10': 0.9025974025974026, 'eval_dot_precision@1': 0.4935064935064935, 'eval_dot_precision@3': 0.2489177489177489, 'eval_dot_precision@5': 0.16883116883116883, 'eval_dot_precision@10': 0.09025974025974025, 'eval_dot_recall@1': 0.4935064935064935, 'eval_dot_recall@3': 0.7467532467532467, 'eval_dot_recall@5': 0.8441558441558441, 'eval_dot_recall@10': 0.9025974025974026, 'eval_dot_ndcg@10': 0.7002539935533805, 'eval_dot_mrr@10': 0.6348278705421562, 'eval_dot_map@100': 0.6394379764676545, 'eval_runtime': 0.4098, 'eval_samples_per_second': 375.816, 'eval_steps_per_second': 24.404, 'epoch': 8.77}\n"
     ]
    },
    {
     "name": "stderr",
     "output_type": "stream",
     "text": [
      " 92%|█████████▏| 359/390 [00:38<00:02, 13.08it/s]"
     ]
    },
    {
     "name": "stdout",
     "output_type": "stream",
     "text": [
      "INFO:sentence_transformers.evaluation.InformationRetrievalEvaluator:Information Retrieval Evaluation of the model on the  dataset:\n",
      "Information Retrieval Evaluation of the model on the  dataset:\n",
      "INFO:sentence_transformers.evaluation.InformationRetrievalEvaluator:Queries: 154\n",
      "Queries: 154\n",
      "INFO:sentence_transformers.evaluation.InformationRetrievalEvaluator:Corpus: 77\n",
      "\n",
      "Corpus: 77\n",
      "\n",
      "INFO:sentence_transformers.evaluation.InformationRetrievalEvaluator:Score-Function: cosine\n",
      "Score-Function: cosine\n",
      "INFO:sentence_transformers.evaluation.InformationRetrievalEvaluator:Accuracy@1: 49.35%\n",
      "Accuracy@1: 49.35%\n",
      "INFO:sentence_transformers.evaluation.InformationRetrievalEvaluator:Accuracy@3: 74.68%\n",
      "Accuracy@3: 74.68%\n",
      "INFO:sentence_transformers.evaluation.InformationRetrievalEvaluator:Accuracy@5: 84.42%\n",
      "Accuracy@5: 84.42%\n",
      "INFO:sentence_transformers.evaluation.InformationRetrievalEvaluator:Accuracy@10: 90.91%\n",
      "Accuracy@10: 90.91%\n",
      "INFO:sentence_transformers.evaluation.InformationRetrievalEvaluator:Precision@1: 49.35%\n",
      "Precision@1: 49.35%\n",
      "INFO:sentence_transformers.evaluation.InformationRetrievalEvaluator:Precision@3: 24.89%\n",
      "Precision@3: 24.89%\n",
      "INFO:sentence_transformers.evaluation.InformationRetrievalEvaluator:Precision@5: 16.88%\n",
      "Precision@5: 16.88%\n",
      "INFO:sentence_transformers.evaluation.InformationRetrievalEvaluator:Precision@10: 9.09%\n",
      "Precision@10: 9.09%\n",
      "INFO:sentence_transformers.evaluation.InformationRetrievalEvaluator:Recall@1: 49.35%\n",
      "Recall@1: 49.35%\n",
      "INFO:sentence_transformers.evaluation.InformationRetrievalEvaluator:Recall@3: 74.68%\n",
      "Recall@3: 74.68%\n",
      "INFO:sentence_transformers.evaluation.InformationRetrievalEvaluator:Recall@5: 84.42%\n",
      "Recall@5: 84.42%\n",
      "INFO:sentence_transformers.evaluation.InformationRetrievalEvaluator:Recall@10: 90.91%\n",
      "Recall@10: 90.91%\n",
      "INFO:sentence_transformers.evaluation.InformationRetrievalEvaluator:MRR@10: 0.6356\n",
      "MRR@10: 0.6356\n",
      "INFO:sentence_transformers.evaluation.InformationRetrievalEvaluator:NDCG@10: 0.7023\n",
      "NDCG@10: 0.7023\n",
      "INFO:sentence_transformers.evaluation.InformationRetrievalEvaluator:MAP@100: 0.6397\n",
      "MAP@100: 0.6397\n",
      "INFO:sentence_transformers.evaluation.InformationRetrievalEvaluator:Score-Function: dot\n",
      "Score-Function: dot\n",
      "INFO:sentence_transformers.evaluation.InformationRetrievalEvaluator:Accuracy@1: 49.35%\n",
      "Accuracy@1: 49.35%\n",
      "INFO:sentence_transformers.evaluation.InformationRetrievalEvaluator:Accuracy@3: 74.68%\n",
      "Accuracy@3: 74.68%\n",
      "INFO:sentence_transformers.evaluation.InformationRetrievalEvaluator:Accuracy@5: 84.42%\n",
      "Accuracy@5: 84.42%\n",
      "INFO:sentence_transformers.evaluation.InformationRetrievalEvaluator:Accuracy@10: 90.91%\n",
      "Accuracy@10: 90.91%\n",
      "INFO:sentence_transformers.evaluation.InformationRetrievalEvaluator:Precision@1: 49.35%\n",
      "Precision@1: 49.35%\n",
      "INFO:sentence_transformers.evaluation.InformationRetrievalEvaluator:Precision@3: 24.89%\n",
      "Precision@3: 24.89%\n",
      "INFO:sentence_transformers.evaluation.InformationRetrievalEvaluator:Precision@5: 16.88%\n",
      "Precision@5: 16.88%\n",
      "INFO:sentence_transformers.evaluation.InformationRetrievalEvaluator:Precision@10: 9.09%\n",
      "Precision@10: 9.09%\n",
      "INFO:sentence_transformers.evaluation.InformationRetrievalEvaluator:Recall@1: 49.35%\n",
      "Recall@1: 49.35%\n",
      "INFO:sentence_transformers.evaluation.InformationRetrievalEvaluator:Recall@3: 74.68%\n",
      "Recall@3: 74.68%\n",
      "INFO:sentence_transformers.evaluation.InformationRetrievalEvaluator:Recall@5: 84.42%\n",
      "Recall@5: 84.42%\n",
      "INFO:sentence_transformers.evaluation.InformationRetrievalEvaluator:Recall@10: 90.91%\n",
      "Recall@10: 90.91%\n",
      "INFO:sentence_transformers.evaluation.InformationRetrievalEvaluator:MRR@10: 0.6356\n",
      "MRR@10: 0.6356\n",
      "INFO:sentence_transformers.evaluation.InformationRetrievalEvaluator:NDCG@10: 0.7023\n",
      "NDCG@10: 0.7023\n",
      "INFO:sentence_transformers.evaluation.InformationRetrievalEvaluator:MAP@100: 0.6397\n",
      "MAP@100: 0.6397\n"
     ]
    },
    {
     "name": "stderr",
     "output_type": "stream",
     "text": [
      "2024/11/10 21:52:24 ERROR mlflow.utils.async_logging.async_logging_queue: Run Id 6c2bb6a0921e476a96e7bce39ce659bc: Failed to log run data: Exception: Invalid value \"eval_cosine_accuracy@1\" for parameter 'metrics[1].name' supplied: Names may only contain alphanumerics, underscores (_), dashes (-), periods (.), spaces ( ), colon(:) and slashes (/).\n",
      "                                                 \n",
      " 93%|█████████▎| 361/390 [00:38<00:03,  7.40it/s]"
     ]
    },
    {
     "name": "stdout",
     "output_type": "stream",
     "text": [
      "{'eval_loss': 3.35406494140625, 'eval_cosine_accuracy@1': 0.4935064935064935, 'eval_cosine_accuracy@3': 0.7467532467532467, 'eval_cosine_accuracy@5': 0.8441558441558441, 'eval_cosine_accuracy@10': 0.9090909090909091, 'eval_cosine_precision@1': 0.4935064935064935, 'eval_cosine_precision@3': 0.2489177489177489, 'eval_cosine_precision@5': 0.16883116883116883, 'eval_cosine_precision@10': 0.0909090909090909, 'eval_cosine_recall@1': 0.4935064935064935, 'eval_cosine_recall@3': 0.7467532467532467, 'eval_cosine_recall@5': 0.8441558441558441, 'eval_cosine_recall@10': 0.9090909090909091, 'eval_cosine_ndcg@10': 0.7022864296898095, 'eval_cosine_mrr@10': 0.635621521335807, 'eval_cosine_map@100': 0.6396723555126966, 'eval_dot_accuracy@1': 0.4935064935064935, 'eval_dot_accuracy@3': 0.7467532467532467, 'eval_dot_accuracy@5': 0.8441558441558441, 'eval_dot_accuracy@10': 0.9090909090909091, 'eval_dot_precision@1': 0.4935064935064935, 'eval_dot_precision@3': 0.2489177489177489, 'eval_dot_precision@5': 0.16883116883116883, 'eval_dot_precision@10': 0.0909090909090909, 'eval_dot_recall@1': 0.4935064935064935, 'eval_dot_recall@3': 0.7467532467532467, 'eval_dot_recall@5': 0.8441558441558441, 'eval_dot_recall@10': 0.9090909090909091, 'eval_dot_ndcg@10': 0.7022864296898095, 'eval_dot_mrr@10': 0.635621521335807, 'eval_dot_map@100': 0.6396723555126966, 'eval_runtime': 0.4084, 'eval_samples_per_second': 377.036, 'eval_steps_per_second': 24.483, 'epoch': 9.03}\n"
     ]
    },
    {
     "name": "stderr",
     "output_type": "stream",
     "text": [
      " 95%|█████████▍| 369/390 [00:39<00:01, 12.83it/s]"
     ]
    },
    {
     "name": "stdout",
     "output_type": "stream",
     "text": [
      "INFO:sentence_transformers.evaluation.InformationRetrievalEvaluator:Information Retrieval Evaluation of the model on the  dataset:\n",
      "Information Retrieval Evaluation of the model on the  dataset:\n",
      "INFO:sentence_transformers.evaluation.InformationRetrievalEvaluator:Queries: 154\n",
      "Queries: 154\n",
      "INFO:sentence_transformers.evaluation.InformationRetrievalEvaluator:Corpus: 77\n",
      "\n",
      "Corpus: 77\n",
      "\n",
      "INFO:sentence_transformers.evaluation.InformationRetrievalEvaluator:Score-Function: cosine\n",
      "Score-Function: cosine\n",
      "INFO:sentence_transformers.evaluation.InformationRetrievalEvaluator:Accuracy@1: 49.35%\n",
      "Accuracy@1: 49.35%\n",
      "INFO:sentence_transformers.evaluation.InformationRetrievalEvaluator:Accuracy@3: 74.68%\n",
      "Accuracy@3: 74.68%\n",
      "INFO:sentence_transformers.evaluation.InformationRetrievalEvaluator:Accuracy@5: 84.42%\n",
      "Accuracy@5: 84.42%\n",
      "INFO:sentence_transformers.evaluation.InformationRetrievalEvaluator:Accuracy@10: 90.91%\n",
      "Accuracy@10: 90.91%\n",
      "INFO:sentence_transformers.evaluation.InformationRetrievalEvaluator:Precision@1: 49.35%\n",
      "Precision@1: 49.35%\n",
      "INFO:sentence_transformers.evaluation.InformationRetrievalEvaluator:Precision@3: 24.89%\n",
      "Precision@3: 24.89%\n",
      "INFO:sentence_transformers.evaluation.InformationRetrievalEvaluator:Precision@5: 16.88%\n",
      "Precision@5: 16.88%\n",
      "INFO:sentence_transformers.evaluation.InformationRetrievalEvaluator:Precision@10: 9.09%\n",
      "Precision@10: 9.09%\n",
      "INFO:sentence_transformers.evaluation.InformationRetrievalEvaluator:Recall@1: 49.35%\n",
      "Recall@1: 49.35%\n",
      "INFO:sentence_transformers.evaluation.InformationRetrievalEvaluator:Recall@3: 74.68%\n",
      "Recall@3: 74.68%\n",
      "INFO:sentence_transformers.evaluation.InformationRetrievalEvaluator:Recall@5: 84.42%\n",
      "Recall@5: 84.42%\n",
      "INFO:sentence_transformers.evaluation.InformationRetrievalEvaluator:Recall@10: 90.91%\n",
      "Recall@10: 90.91%\n",
      "INFO:sentence_transformers.evaluation.InformationRetrievalEvaluator:MRR@10: 0.6356\n",
      "MRR@10: 0.6356\n",
      "INFO:sentence_transformers.evaluation.InformationRetrievalEvaluator:NDCG@10: 0.7023\n",
      "NDCG@10: 0.7023\n",
      "INFO:sentence_transformers.evaluation.InformationRetrievalEvaluator:MAP@100: 0.6396\n",
      "MAP@100: 0.6396\n",
      "INFO:sentence_transformers.evaluation.InformationRetrievalEvaluator:Score-Function: dot\n",
      "Score-Function: dot\n",
      "INFO:sentence_transformers.evaluation.InformationRetrievalEvaluator:Accuracy@1: 49.35%\n",
      "Accuracy@1: 49.35%\n",
      "INFO:sentence_transformers.evaluation.InformationRetrievalEvaluator:Accuracy@3: 74.68%\n",
      "Accuracy@3: 74.68%\n",
      "INFO:sentence_transformers.evaluation.InformationRetrievalEvaluator:Accuracy@5: 84.42%\n",
      "Accuracy@5: 84.42%\n",
      "INFO:sentence_transformers.evaluation.InformationRetrievalEvaluator:Accuracy@10: 90.91%\n",
      "Accuracy@10: 90.91%\n",
      "INFO:sentence_transformers.evaluation.InformationRetrievalEvaluator:Precision@1: 49.35%\n",
      "Precision@1: 49.35%\n",
      "INFO:sentence_transformers.evaluation.InformationRetrievalEvaluator:Precision@3: 24.89%\n",
      "Precision@3: 24.89%\n",
      "INFO:sentence_transformers.evaluation.InformationRetrievalEvaluator:Precision@5: 16.88%\n",
      "Precision@5: 16.88%\n",
      "INFO:sentence_transformers.evaluation.InformationRetrievalEvaluator:Precision@10: 9.09%\n",
      "Precision@10: 9.09%\n",
      "INFO:sentence_transformers.evaluation.InformationRetrievalEvaluator:Recall@1: 49.35%\n",
      "Recall@1: 49.35%\n",
      "INFO:sentence_transformers.evaluation.InformationRetrievalEvaluator:Recall@3: 74.68%\n",
      "Recall@3: 74.68%\n",
      "INFO:sentence_transformers.evaluation.InformationRetrievalEvaluator:Recall@5: 84.42%\n",
      "Recall@5: 84.42%\n",
      "INFO:sentence_transformers.evaluation.InformationRetrievalEvaluator:Recall@10: 90.91%\n",
      "Recall@10: 90.91%\n",
      "INFO:sentence_transformers.evaluation.InformationRetrievalEvaluator:MRR@10: 0.6356\n",
      "MRR@10: 0.6356\n",
      "INFO:sentence_transformers.evaluation.InformationRetrievalEvaluator:NDCG@10: 0.7023\n",
      "NDCG@10: 0.7023\n",
      "INFO:sentence_transformers.evaluation.InformationRetrievalEvaluator:MAP@100: 0.6396\n",
      "MAP@100: 0.6396\n"
     ]
    },
    {
     "name": "stderr",
     "output_type": "stream",
     "text": [
      "2024/11/10 21:52:25 ERROR mlflow.utils.async_logging.async_logging_queue: Run Id 6c2bb6a0921e476a96e7bce39ce659bc: Failed to log run data: Exception: Invalid value \"eval_cosine_accuracy@1\" for parameter 'metrics[1].name' supplied: Names may only contain alphanumerics, underscores (_), dashes (-), periods (.), spaces ( ), colon(:) and slashes (/).\n",
      "                                                 \n",
      " 95%|█████████▍| 370/390 [00:39<00:01, 12.83it/s]"
     ]
    },
    {
     "name": "stdout",
     "output_type": "stream",
     "text": [
      "{'eval_loss': 3.3589484691619873, 'eval_cosine_accuracy@1': 0.4935064935064935, 'eval_cosine_accuracy@3': 0.7467532467532467, 'eval_cosine_accuracy@5': 0.8441558441558441, 'eval_cosine_accuracy@10': 0.9090909090909091, 'eval_cosine_precision@1': 0.4935064935064935, 'eval_cosine_precision@3': 0.2489177489177489, 'eval_cosine_precision@5': 0.16883116883116883, 'eval_cosine_precision@10': 0.0909090909090909, 'eval_cosine_recall@1': 0.4935064935064935, 'eval_cosine_recall@3': 0.7467532467532467, 'eval_cosine_recall@5': 0.8441558441558441, 'eval_cosine_recall@10': 0.9090909090909091, 'eval_cosine_ndcg@10': 0.7022864296898095, 'eval_cosine_mrr@10': 0.635621521335807, 'eval_cosine_map@100': 0.6396307304710717, 'eval_dot_accuracy@1': 0.4935064935064935, 'eval_dot_accuracy@3': 0.7467532467532467, 'eval_dot_accuracy@5': 0.8441558441558441, 'eval_dot_accuracy@10': 0.9090909090909091, 'eval_dot_precision@1': 0.4935064935064935, 'eval_dot_precision@3': 0.2489177489177489, 'eval_dot_precision@5': 0.16883116883116883, 'eval_dot_precision@10': 0.0909090909090909, 'eval_dot_recall@1': 0.4935064935064935, 'eval_dot_recall@3': 0.7467532467532467, 'eval_dot_recall@5': 0.8441558441558441, 'eval_dot_recall@10': 0.9090909090909091, 'eval_dot_ndcg@10': 0.7022864296898095, 'eval_dot_mrr@10': 0.635621521335807, 'eval_dot_map@100': 0.6396307304710717, 'eval_runtime': 0.3978, 'eval_samples_per_second': 387.161, 'eval_steps_per_second': 25.14, 'epoch': 9.26}\n"
     ]
    },
    {
     "name": "stderr",
     "output_type": "stream",
     "text": [
      " 97%|█████████▋| 379/390 [00:40<00:00, 12.76it/s]"
     ]
    },
    {
     "name": "stdout",
     "output_type": "stream",
     "text": [
      "INFO:sentence_transformers.evaluation.InformationRetrievalEvaluator:Information Retrieval Evaluation of the model on the  dataset:\n",
      "Information Retrieval Evaluation of the model on the  dataset:\n",
      "INFO:sentence_transformers.evaluation.InformationRetrievalEvaluator:Queries: 154\n",
      "Queries: 154\n",
      "INFO:sentence_transformers.evaluation.InformationRetrievalEvaluator:Corpus: 77\n",
      "\n",
      "Corpus: 77\n",
      "\n",
      "INFO:sentence_transformers.evaluation.InformationRetrievalEvaluator:Score-Function: cosine\n",
      "Score-Function: cosine\n",
      "INFO:sentence_transformers.evaluation.InformationRetrievalEvaluator:Accuracy@1: 49.35%\n",
      "Accuracy@1: 49.35%\n",
      "INFO:sentence_transformers.evaluation.InformationRetrievalEvaluator:Accuracy@3: 74.68%\n",
      "Accuracy@3: 74.68%\n",
      "INFO:sentence_transformers.evaluation.InformationRetrievalEvaluator:Accuracy@5: 84.42%\n",
      "Accuracy@5: 84.42%\n",
      "INFO:sentence_transformers.evaluation.InformationRetrievalEvaluator:Accuracy@10: 90.91%\n",
      "Accuracy@10: 90.91%\n",
      "INFO:sentence_transformers.evaluation.InformationRetrievalEvaluator:Precision@1: 49.35%\n",
      "Precision@1: 49.35%\n",
      "INFO:sentence_transformers.evaluation.InformationRetrievalEvaluator:Precision@3: 24.89%\n",
      "Precision@3: 24.89%\n",
      "INFO:sentence_transformers.evaluation.InformationRetrievalEvaluator:Precision@5: 16.88%\n",
      "Precision@5: 16.88%\n",
      "INFO:sentence_transformers.evaluation.InformationRetrievalEvaluator:Precision@10: 9.09%\n",
      "Precision@10: 9.09%\n",
      "INFO:sentence_transformers.evaluation.InformationRetrievalEvaluator:Recall@1: 49.35%\n",
      "Recall@1: 49.35%\n",
      "INFO:sentence_transformers.evaluation.InformationRetrievalEvaluator:Recall@3: 74.68%\n",
      "Recall@3: 74.68%\n",
      "INFO:sentence_transformers.evaluation.InformationRetrievalEvaluator:Recall@5: 84.42%\n",
      "Recall@5: 84.42%\n",
      "INFO:sentence_transformers.evaluation.InformationRetrievalEvaluator:Recall@10: 90.91%\n",
      "Recall@10: 90.91%\n",
      "INFO:sentence_transformers.evaluation.InformationRetrievalEvaluator:MRR@10: 0.6361\n",
      "MRR@10: 0.6361\n",
      "INFO:sentence_transformers.evaluation.InformationRetrievalEvaluator:NDCG@10: 0.7027\n",
      "NDCG@10: 0.7027\n",
      "INFO:sentence_transformers.evaluation.InformationRetrievalEvaluator:MAP@100: 0.6401\n",
      "MAP@100: 0.6401\n",
      "INFO:sentence_transformers.evaluation.InformationRetrievalEvaluator:Score-Function: dot\n",
      "Score-Function: dot\n",
      "INFO:sentence_transformers.evaluation.InformationRetrievalEvaluator:Accuracy@1: 49.35%\n",
      "Accuracy@1: 49.35%\n",
      "INFO:sentence_transformers.evaluation.InformationRetrievalEvaluator:Accuracy@3: 74.68%\n",
      "Accuracy@3: 74.68%\n",
      "INFO:sentence_transformers.evaluation.InformationRetrievalEvaluator:Accuracy@5: 84.42%\n",
      "Accuracy@5: 84.42%\n",
      "INFO:sentence_transformers.evaluation.InformationRetrievalEvaluator:Accuracy@10: 90.91%\n",
      "Accuracy@10: 90.91%\n",
      "INFO:sentence_transformers.evaluation.InformationRetrievalEvaluator:Precision@1: 49.35%\n",
      "Precision@1: 49.35%\n",
      "INFO:sentence_transformers.evaluation.InformationRetrievalEvaluator:Precision@3: 24.89%\n",
      "Precision@3: 24.89%\n",
      "INFO:sentence_transformers.evaluation.InformationRetrievalEvaluator:Precision@5: 16.88%\n",
      "Precision@5: 16.88%\n",
      "INFO:sentence_transformers.evaluation.InformationRetrievalEvaluator:Precision@10: 9.09%\n",
      "Precision@10: 9.09%\n",
      "INFO:sentence_transformers.evaluation.InformationRetrievalEvaluator:Recall@1: 49.35%\n",
      "Recall@1: 49.35%\n",
      "INFO:sentence_transformers.evaluation.InformationRetrievalEvaluator:Recall@3: 74.68%\n",
      "Recall@3: 74.68%\n",
      "INFO:sentence_transformers.evaluation.InformationRetrievalEvaluator:Recall@5: 84.42%\n",
      "Recall@5: 84.42%\n",
      "INFO:sentence_transformers.evaluation.InformationRetrievalEvaluator:Recall@10: 90.91%\n",
      "Recall@10: 90.91%\n",
      "INFO:sentence_transformers.evaluation.InformationRetrievalEvaluator:MRR@10: 0.6361\n",
      "MRR@10: 0.6361\n",
      "INFO:sentence_transformers.evaluation.InformationRetrievalEvaluator:NDCG@10: 0.7027\n",
      "NDCG@10: 0.7027\n",
      "INFO:sentence_transformers.evaluation.InformationRetrievalEvaluator:MAP@100: 0.6401\n",
      "MAP@100: 0.6401\n"
     ]
    },
    {
     "name": "stderr",
     "output_type": "stream",
     "text": [
      "2024/11/10 21:52:26 ERROR mlflow.utils.async_logging.async_logging_queue: Run Id 6c2bb6a0921e476a96e7bce39ce659bc: Failed to log run data: Exception: Invalid value \"eval_cosine_accuracy@1\" for parameter 'metrics[1].name' supplied: Names may only contain alphanumerics, underscores (_), dashes (-), periods (.), spaces ( ), colon(:) and slashes (/).\n",
      "                                                 \n",
      " 97%|█████████▋| 380/390 [00:40<00:00, 12.76it/s]\n",
      "100%|██████████| 10/10 [00:00<00:00, 59.83it/s]"
     ]
    },
    {
     "name": "stdout",
     "output_type": "stream",
     "text": [
      "{'eval_loss': 3.3618862628936768, 'eval_cosine_accuracy@1': 0.4935064935064935, 'eval_cosine_accuracy@3': 0.7467532467532467, 'eval_cosine_accuracy@5': 0.8441558441558441, 'eval_cosine_accuracy@10': 0.9090909090909091, 'eval_cosine_precision@1': 0.4935064935064935, 'eval_cosine_precision@3': 0.2489177489177489, 'eval_cosine_precision@5': 0.16883116883116883, 'eval_cosine_precision@10': 0.0909090909090909, 'eval_cosine_recall@1': 0.4935064935064935, 'eval_cosine_recall@3': 0.7467532467532467, 'eval_cosine_recall@5': 0.8441558441558441, 'eval_cosine_recall@10': 0.9090909090909091, 'eval_cosine_ndcg@10': 0.7027195310184688, 'eval_cosine_mrr@10': 0.6361008039579468, 'eval_cosine_map@100': 0.640082956816155, 'eval_dot_accuracy@1': 0.4935064935064935, 'eval_dot_accuracy@3': 0.7467532467532467, 'eval_dot_accuracy@5': 0.8441558441558441, 'eval_dot_accuracy@10': 0.9090909090909091, 'eval_dot_precision@1': 0.4935064935064935, 'eval_dot_precision@3': 0.2489177489177489, 'eval_dot_precision@5': 0.16883116883116883, 'eval_dot_precision@10': 0.0909090909090909, 'eval_dot_recall@1': 0.4935064935064935, 'eval_dot_recall@3': 0.7467532467532467, 'eval_dot_recall@5': 0.8441558441558441, 'eval_dot_recall@10': 0.9090909090909091, 'eval_dot_ndcg@10': 0.7027195310184688, 'eval_dot_mrr@10': 0.6361008039579468, 'eval_dot_map@100': 0.640082956816155, 'eval_runtime': 0.4005, 'eval_samples_per_second': 384.501, 'eval_steps_per_second': 24.968, 'epoch': 9.51}\n"
     ]
    },
    {
     "name": "stderr",
     "output_type": "stream",
     "text": [
      "100%|█████████▉| 389/390 [00:41<00:00, 12.85it/s]"
     ]
    },
    {
     "name": "stdout",
     "output_type": "stream",
     "text": [
      "INFO:sentence_transformers.evaluation.InformationRetrievalEvaluator:Information Retrieval Evaluation of the model on the  dataset:\n",
      "Information Retrieval Evaluation of the model on the  dataset:\n",
      "INFO:sentence_transformers.evaluation.InformationRetrievalEvaluator:Queries: 154\n",
      "Queries: 154\n",
      "INFO:sentence_transformers.evaluation.InformationRetrievalEvaluator:Corpus: 77\n",
      "\n",
      "Corpus: 77\n",
      "\n",
      "INFO:sentence_transformers.evaluation.InformationRetrievalEvaluator:Score-Function: cosine\n",
      "Score-Function: cosine\n",
      "INFO:sentence_transformers.evaluation.InformationRetrievalEvaluator:Accuracy@1: 49.35%\n",
      "Accuracy@1: 49.35%\n",
      "INFO:sentence_transformers.evaluation.InformationRetrievalEvaluator:Accuracy@3: 74.68%\n",
      "Accuracy@3: 74.68%\n",
      "INFO:sentence_transformers.evaluation.InformationRetrievalEvaluator:Accuracy@5: 84.42%\n",
      "Accuracy@5: 84.42%\n",
      "INFO:sentence_transformers.evaluation.InformationRetrievalEvaluator:Accuracy@10: 90.91%\n",
      "Accuracy@10: 90.91%\n",
      "INFO:sentence_transformers.evaluation.InformationRetrievalEvaluator:Precision@1: 49.35%\n",
      "Precision@1: 49.35%\n",
      "INFO:sentence_transformers.evaluation.InformationRetrievalEvaluator:Precision@3: 24.89%\n",
      "Precision@3: 24.89%\n",
      "INFO:sentence_transformers.evaluation.InformationRetrievalEvaluator:Precision@5: 16.88%\n",
      "Precision@5: 16.88%\n",
      "INFO:sentence_transformers.evaluation.InformationRetrievalEvaluator:Precision@10: 9.09%\n",
      "Precision@10: 9.09%\n",
      "INFO:sentence_transformers.evaluation.InformationRetrievalEvaluator:Recall@1: 49.35%\n",
      "Recall@1: 49.35%\n",
      "INFO:sentence_transformers.evaluation.InformationRetrievalEvaluator:Recall@3: 74.68%\n",
      "Recall@3: 74.68%\n",
      "INFO:sentence_transformers.evaluation.InformationRetrievalEvaluator:Recall@5: 84.42%\n",
      "Recall@5: 84.42%\n",
      "INFO:sentence_transformers.evaluation.InformationRetrievalEvaluator:Recall@10: 90.91%\n",
      "Recall@10: 90.91%\n",
      "INFO:sentence_transformers.evaluation.InformationRetrievalEvaluator:MRR@10: 0.6357\n",
      "MRR@10: 0.6357\n",
      "INFO:sentence_transformers.evaluation.InformationRetrievalEvaluator:NDCG@10: 0.7024\n",
      "NDCG@10: 0.7024\n",
      "INFO:sentence_transformers.evaluation.InformationRetrievalEvaluator:MAP@100: 0.6397\n",
      "MAP@100: 0.6397\n",
      "INFO:sentence_transformers.evaluation.InformationRetrievalEvaluator:Score-Function: dot\n",
      "Score-Function: dot\n",
      "INFO:sentence_transformers.evaluation.InformationRetrievalEvaluator:Accuracy@1: 49.35%\n",
      "Accuracy@1: 49.35%\n",
      "INFO:sentence_transformers.evaluation.InformationRetrievalEvaluator:Accuracy@3: 74.68%\n",
      "Accuracy@3: 74.68%\n",
      "INFO:sentence_transformers.evaluation.InformationRetrievalEvaluator:Accuracy@5: 84.42%\n",
      "Accuracy@5: 84.42%\n",
      "INFO:sentence_transformers.evaluation.InformationRetrievalEvaluator:Accuracy@10: 90.91%\n",
      "Accuracy@10: 90.91%\n",
      "INFO:sentence_transformers.evaluation.InformationRetrievalEvaluator:Precision@1: 49.35%\n",
      "Precision@1: 49.35%\n",
      "INFO:sentence_transformers.evaluation.InformationRetrievalEvaluator:Precision@3: 24.89%\n",
      "Precision@3: 24.89%\n",
      "INFO:sentence_transformers.evaluation.InformationRetrievalEvaluator:Precision@5: 16.88%\n",
      "Precision@5: 16.88%\n",
      "INFO:sentence_transformers.evaluation.InformationRetrievalEvaluator:Precision@10: 9.09%\n",
      "Precision@10: 9.09%\n",
      "INFO:sentence_transformers.evaluation.InformationRetrievalEvaluator:Recall@1: 49.35%\n",
      "Recall@1: 49.35%\n",
      "INFO:sentence_transformers.evaluation.InformationRetrievalEvaluator:Recall@3: 74.68%\n",
      "Recall@3: 74.68%\n",
      "INFO:sentence_transformers.evaluation.InformationRetrievalEvaluator:Recall@5: 84.42%\n",
      "Recall@5: 84.42%\n",
      "INFO:sentence_transformers.evaluation.InformationRetrievalEvaluator:Recall@10: 90.91%\n",
      "Recall@10: 90.91%\n",
      "INFO:sentence_transformers.evaluation.InformationRetrievalEvaluator:MRR@10: 0.6357\n",
      "MRR@10: 0.6357\n",
      "INFO:sentence_transformers.evaluation.InformationRetrievalEvaluator:NDCG@10: 0.7024\n",
      "NDCG@10: 0.7024\n",
      "INFO:sentence_transformers.evaluation.InformationRetrievalEvaluator:MAP@100: 0.6397\n",
      "MAP@100: 0.6397\n"
     ]
    },
    {
     "name": "stderr",
     "output_type": "stream",
     "text": [
      "2024/11/10 21:52:27 ERROR mlflow.utils.async_logging.async_logging_queue: Run Id 6c2bb6a0921e476a96e7bce39ce659bc: Failed to log run data: Exception: Invalid value \"eval_cosine_accuracy@1\" for parameter 'metrics[1].name' supplied: Names may only contain alphanumerics, underscores (_), dashes (-), periods (.), spaces ( ), colon(:) and slashes (/).\n",
      "                                                 \n",
      "100%|██████████| 390/390 [00:41<00:00, 12.85it/s]"
     ]
    },
    {
     "name": "stdout",
     "output_type": "stream",
     "text": [
      "{'eval_loss': 3.3631532192230225, 'eval_cosine_accuracy@1': 0.4935064935064935, 'eval_cosine_accuracy@3': 0.7467532467532467, 'eval_cosine_accuracy@5': 0.8441558441558441, 'eval_cosine_accuracy@10': 0.9090909090909091, 'eval_cosine_precision@1': 0.4935064935064935, 'eval_cosine_precision@3': 0.2489177489177489, 'eval_cosine_precision@5': 0.16883116883116883, 'eval_cosine_precision@10': 0.0909090909090909, 'eval_cosine_recall@1': 0.4935064935064935, 'eval_cosine_recall@3': 0.7467532467532467, 'eval_cosine_recall@5': 0.8441558441558441, 'eval_cosine_recall@10': 0.9090909090909091, 'eval_cosine_ndcg@10': 0.7023572653029823, 'eval_cosine_mrr@10': 0.6357039785611213, 'eval_cosine_map@100': 0.6396861314193297, 'eval_dot_accuracy@1': 0.4935064935064935, 'eval_dot_accuracy@3': 0.7467532467532467, 'eval_dot_accuracy@5': 0.8441558441558441, 'eval_dot_accuracy@10': 0.9090909090909091, 'eval_dot_precision@1': 0.4935064935064935, 'eval_dot_precision@3': 0.2489177489177489, 'eval_dot_precision@5': 0.16883116883116883, 'eval_dot_precision@10': 0.0909090909090909, 'eval_dot_recall@1': 0.4935064935064935, 'eval_dot_recall@3': 0.7467532467532467, 'eval_dot_recall@5': 0.8441558441558441, 'eval_dot_recall@10': 0.9090909090909091, 'eval_dot_ndcg@10': 0.7023572653029823, 'eval_dot_mrr@10': 0.6357039785611213, 'eval_dot_map@100': 0.6396861314193297, 'eval_runtime': 0.3931, 'eval_samples_per_second': 391.734, 'eval_steps_per_second': 25.437, 'epoch': 9.77}\n"
     ]
    },
    {
     "name": "stderr",
     "output_type": "stream",
     "text": []
    },
    {
     "name": "stdout",
     "output_type": "stream",
     "text": [
      "INFO:sentence_transformers.trainer:Saving model checkpoint to ../models/ft_mini_lm/checkpoint-390\n",
      "Saving model checkpoint to ../models/ft_mini_lm/checkpoint-390\n",
      "INFO:sentence_transformers.SentenceTransformer:Save model to ../models/ft_mini_lm/checkpoint-390\n",
      "Save model to ../models/ft_mini_lm/checkpoint-390\n"
     ]
    },
    {
     "name": "stderr",
     "output_type": "stream",
     "text": [
      "100%|██████████| 390/390 [00:42<00:00, 12.85it/s]"
     ]
    },
    {
     "name": "stdout",
     "output_type": "stream",
     "text": [
      "{'train_runtime': 42.7982, 'train_samples_per_second': 143.464, 'train_steps_per_second': 9.113, 'train_loss': 1.5817055335411658, 'epoch': 9.77}\n"
     ]
    },
    {
     "name": "stderr",
     "output_type": "stream",
     "text": [
      "100%|██████████| 390/390 [00:43<00:00,  8.91it/s]\n"
     ]
    },
    {
     "data": {
      "text/plain": [
       "TrainOutput(global_step=390, training_loss=1.5817055335411658, metrics={'train_runtime': 42.7982, 'train_samples_per_second': 143.464, 'train_steps_per_second': 9.113, 'total_flos': 0.0, 'train_loss': 1.5817055335411658, 'epoch': 9.76923076923077})"
      ]
     },
     "execution_count": 16,
     "metadata": {},
     "output_type": "execute_result"
    }
   ],
   "source": [
    "trainer = SentenceTransformerTrainer(\n",
    "    model=ft_model,\n",
    "    args=args,\n",
    "    train_dataset=train_ds,\n",
    "    eval_dataset=test_ds,\n",
    "    loss=loss,\n",
    "    evaluator=evaluator,\n",
    ")\n",
    "trainer.train()"
   ]
  },
  {
   "cell_type": "code",
   "execution_count": null,
   "metadata": {},
   "outputs": [
    {
     "name": "stdout",
     "output_type": "stream",
     "text": [
      "INFO:sentence_transformers.SentenceTransformer:Save model to ../models/ft_mini_lm/final\n",
      "Save model to ../models/ft_mini_lm/final\n"
     ]
    }
   ],
   "source": [
    "ft_model.save_pretrained(\"../models/ft_mini_lm/final\")"
   ]
  },
  {
   "cell_type": "code",
   "execution_count": 21,
   "metadata": {},
   "outputs": [
    {
     "name": "stdout",
     "output_type": "stream",
     "text": [
      "INFO:sentence_transformers.SentenceTransformer:Load pretrained SentenceTransformer: ../models/ft_mini_lm/final\n",
      "Load pretrained SentenceTransformer: ../models/ft_mini_lm/final\n",
      "INFO:sentence_transformers.SentenceTransformer:2 prompts are loaded, with the keys: ['query', 'text']\n",
      "2 prompts are loaded, with the keys: ['query', 'text']\n"
     ]
    }
   ],
   "source": [
    "loaded_ft_model = HuggingFaceEmbedding(\"../models/ft_mini_lm/final\")"
   ]
  },
  {
   "cell_type": "code",
   "execution_count": 22,
   "metadata": {},
   "outputs": [
    {
     "name": "stderr",
     "output_type": "stream",
     "text": [
      "Batches: 100%|██████████| 1/1 [00:00<00:00, 30.32it/s]\n",
      "Batches: 100%|██████████| 1/1 [00:00<00:00, 56.34it/s]\n",
      "Batches: 100%|██████████| 1/1 [00:00<00:00, 58.56it/s]\n",
      "Batches: 100%|██████████| 1/1 [00:00<00:00, 54.23it/s]\n",
      "Batches: 100%|██████████| 1/1 [00:00<00:00, 62.73it/s]\n",
      "Batches: 100%|██████████| 1/1 [00:00<00:00, 61.37it/s]\n",
      "Batches: 100%|██████████| 1/1 [00:00<00:00, 58.27it/s]\n",
      "Batches: 100%|██████████| 1/1 [00:00<00:00, 60.58it/s]\n",
      "Batches: 100%|██████████| 1/1 [00:00<00:00, 62.98it/s]\n",
      "Batches: 100%|██████████| 1/1 [00:00<00:00, 63.00it/s]\n",
      "Batches: 100%|██████████| 1/1 [00:00<00:00, 66.06it/s]\n",
      "Batches: 100%|██████████| 1/1 [00:00<00:00, 60.57it/s]\n",
      "Batches: 100%|██████████| 1/1 [00:00<00:00, 62.83it/s]\n",
      "Batches: 100%|██████████| 1/1 [00:00<00:00, 66.96it/s]\n",
      "Batches: 100%|██████████| 1/1 [00:00<00:00, 56.90it/s]\n",
      "Batches: 100%|██████████| 1/1 [00:00<00:00, 129.04it/s]\n",
      "Batches: 100%|██████████| 1/1 [00:00<00:00, 102.28it/s]\n",
      "Batches: 100%|██████████| 1/1 [00:00<00:00, 144.68it/s]\n",
      "Batches: 100%|██████████| 1/1 [00:00<00:00, 147.58it/s]\n",
      "Batches: 100%|██████████| 1/1 [00:00<00:00, 156.60it/s]\n",
      "Batches: 100%|██████████| 1/1 [00:00<00:00, 142.65it/s]\n",
      "Batches: 100%|██████████| 1/1 [00:00<00:00, 132.07it/s]\n",
      "Batches: 100%|██████████| 1/1 [00:00<00:00, 157.59it/s]\n",
      "Batches: 100%|██████████| 1/1 [00:00<00:00, 156.73it/s]\n",
      "Batches: 100%|██████████| 1/1 [00:00<00:00, 134.42it/s]\n",
      "Batches: 100%|██████████| 1/1 [00:00<00:00, 154.67it/s]\n",
      "Batches: 100%|██████████| 1/1 [00:00<00:00, 151.38it/s]\n",
      "Batches: 100%|██████████| 1/1 [00:00<00:00, 140.12it/s]\n",
      "Batches: 100%|██████████| 1/1 [00:00<00:00, 149.42it/s]\n",
      "Batches: 100%|██████████| 1/1 [00:00<00:00, 154.00it/s]\n",
      "Batches: 100%|██████████| 1/1 [00:00<00:00, 125.59it/s]\n",
      "Batches: 100%|██████████| 1/1 [00:00<00:00, 142.45it/s]\n",
      "Batches: 100%|██████████| 1/1 [00:00<00:00, 149.95it/s]\n",
      "Batches: 100%|██████████| 1/1 [00:00<00:00, 147.39it/s]\n",
      "Batches: 100%|██████████| 1/1 [00:00<00:00, 143.05it/s]\n",
      "Batches: 100%|██████████| 1/1 [00:00<00:00, 152.04it/s]\n",
      "Batches: 100%|██████████| 1/1 [00:00<00:00, 142.53it/s]\n",
      "Batches: 100%|██████████| 1/1 [00:00<00:00, 130.57it/s]\n",
      "Batches: 100%|██████████| 1/1 [00:00<00:00, 151.60it/s]\n",
      "Batches: 100%|██████████| 1/1 [00:00<00:00, 132.48it/s]\n",
      "Batches: 100%|██████████| 1/1 [00:00<00:00, 155.78it/s]\n",
      "Batches: 100%|██████████| 1/1 [00:00<00:00, 131.15it/s]\n",
      "Batches: 100%|██████████| 1/1 [00:00<00:00, 146.42it/s]\n",
      "Batches: 100%|██████████| 1/1 [00:00<00:00, 138.00it/s]\n",
      "Batches: 100%|██████████| 1/1 [00:00<00:00, 151.13it/s]\n",
      "Batches: 100%|██████████| 1/1 [00:00<00:00, 140.94it/s]\n",
      "Batches: 100%|██████████| 1/1 [00:00<00:00, 157.18it/s]\n",
      "Batches: 100%|██████████| 1/1 [00:00<00:00, 140.62it/s]\n",
      "Batches: 100%|██████████| 1/1 [00:00<00:00, 139.50it/s]\n",
      "Batches: 100%|██████████| 1/1 [00:00<00:00, 154.75it/s]\n",
      "Batches: 100%|██████████| 1/1 [00:00<00:00, 146.44it/s]\n",
      "Batches: 100%|██████████| 1/1 [00:00<00:00, 145.76it/s]\n",
      "Batches: 100%|██████████| 1/1 [00:00<00:00, 136.45it/s]\n",
      "Batches: 100%|██████████| 1/1 [00:00<00:00, 150.10it/s]\n",
      "Batches: 100%|██████████| 1/1 [00:00<00:00, 141.02it/s]\n",
      "Batches: 100%|██████████| 1/1 [00:00<00:00, 150.32it/s]\n",
      "Batches: 100%|██████████| 1/1 [00:00<00:00, 140.50it/s]\n",
      "Batches: 100%|██████████| 1/1 [00:00<00:00, 153.82it/s]\n",
      "Batches: 100%|██████████| 1/1 [00:00<00:00, 138.38it/s]\n",
      "Batches: 100%|██████████| 1/1 [00:00<00:00, 123.44it/s]\n",
      "Batches: 100%|██████████| 1/1 [00:00<00:00, 153.45it/s]\n",
      "Batches: 100%|██████████| 1/1 [00:00<00:00, 147.55it/s]\n",
      "Batches: 100%|██████████| 1/1 [00:00<00:00, 154.39it/s]\n",
      "Batches: 100%|██████████| 1/1 [00:00<00:00, 148.91it/s]\n",
      "Batches: 100%|██████████| 1/1 [00:00<00:00, 118.64it/s]\n",
      "Batches: 100%|██████████| 1/1 [00:00<00:00, 131.35it/s]\n",
      "Batches: 100%|██████████| 1/1 [00:00<00:00, 134.64it/s]\n",
      "Batches: 100%|██████████| 1/1 [00:00<00:00, 152.83it/s]\n",
      "Batches: 100%|██████████| 1/1 [00:00<00:00, 157.04it/s]\n",
      "Batches: 100%|██████████| 1/1 [00:00<00:00, 153.00it/s]\n",
      "Batches: 100%|██████████| 1/1 [00:00<00:00, 100.37it/s]\n",
      "Batches: 100%|██████████| 1/1 [00:00<00:00, 148.62it/s]\n",
      "Batches: 100%|██████████| 1/1 [00:00<00:00, 145.31it/s]\n",
      "Batches: 100%|██████████| 1/1 [00:00<00:00, 142.99it/s]\n",
      "Batches: 100%|██████████| 1/1 [00:00<00:00, 123.74it/s]\n",
      "Batches: 100%|██████████| 1/1 [00:00<00:00, 136.68it/s]\n",
      "Batches: 100%|██████████| 1/1 [00:00<00:00, 147.91it/s]\n",
      "Batches: 100%|██████████| 1/1 [00:00<00:00, 156.05it/s]\n",
      "Batches: 100%|██████████| 1/1 [00:00<00:00, 146.69it/s]\n",
      "Batches: 100%|██████████| 1/1 [00:00<00:00, 154.20it/s]\n",
      "Batches: 100%|██████████| 1/1 [00:00<00:00, 156.83it/s]\n",
      "Batches: 100%|██████████| 1/1 [00:00<00:00, 148.79it/s]\n",
      "Batches: 100%|██████████| 1/1 [00:00<00:00, 156.28it/s]\n",
      "Batches: 100%|██████████| 1/1 [00:00<00:00, 156.12it/s]\n",
      "Batches: 100%|██████████| 1/1 [00:00<00:00, 142.30it/s]\n",
      "Batches: 100%|██████████| 1/1 [00:00<00:00, 160.87it/s]\n",
      "Batches: 100%|██████████| 1/1 [00:00<00:00, 158.86it/s]\n",
      "Batches: 100%|██████████| 1/1 [00:00<00:00, 142.30it/s]\n",
      "Batches: 100%|██████████| 1/1 [00:00<00:00, 152.83it/s]\n",
      "Batches: 100%|██████████| 1/1 [00:00<00:00, 159.30it/s]\n",
      "Batches: 100%|██████████| 1/1 [00:00<00:00, 158.78it/s]\n",
      "Batches: 100%|██████████| 1/1 [00:00<00:00, 159.25it/s]\n",
      "Batches: 100%|██████████| 1/1 [00:00<00:00, 149.38it/s]\n",
      "Batches: 100%|██████████| 1/1 [00:00<00:00, 160.73it/s]\n",
      "Batches: 100%|██████████| 1/1 [00:00<00:00, 161.44it/s]\n",
      "Batches: 100%|██████████| 1/1 [00:00<00:00, 139.34it/s]\n",
      "Batches: 100%|██████████| 1/1 [00:00<00:00, 144.75it/s]\n",
      "Batches: 100%|██████████| 1/1 [00:00<00:00, 154.57it/s]\n",
      "Batches: 100%|██████████| 1/1 [00:00<00:00, 132.74it/s]\n",
      "Batches: 100%|██████████| 1/1 [00:00<00:00, 137.28it/s]\n",
      "Batches: 100%|██████████| 1/1 [00:00<00:00, 153.66it/s]\n",
      "Batches: 100%|██████████| 1/1 [00:00<00:00, 149.13it/s]\n",
      "Batches: 100%|██████████| 1/1 [00:00<00:00, 145.86it/s]\n",
      "Batches: 100%|██████████| 1/1 [00:00<00:00, 139.15it/s]\n",
      "Batches: 100%|██████████| 1/1 [00:00<00:00, 141.19it/s]\n",
      "Batches: 100%|██████████| 1/1 [00:00<00:00, 152.74it/s]\n",
      "Batches: 100%|██████████| 1/1 [00:00<00:00, 149.82it/s]\n",
      "Batches: 100%|██████████| 1/1 [00:00<00:00, 150.92it/s]\n",
      "Batches: 100%|██████████| 1/1 [00:00<00:00, 118.87it/s]\n",
      "Batches: 100%|██████████| 1/1 [00:00<00:00, 157.81it/s]\n",
      "Batches: 100%|██████████| 1/1 [00:00<00:00, 128.75it/s]\n",
      "Batches: 100%|██████████| 1/1 [00:00<00:00, 152.61it/s]\n",
      "Batches: 100%|██████████| 1/1 [00:00<00:00, 160.81it/s]\n",
      "Batches: 100%|██████████| 1/1 [00:00<00:00, 164.21it/s]\n",
      "Batches: 100%|██████████| 1/1 [00:00<00:00, 146.55it/s]\n",
      "Batches: 100%|██████████| 1/1 [00:00<00:00, 99.83it/s]\n",
      "Batches: 100%|██████████| 1/1 [00:00<00:00, 160.20it/s]\n",
      "Batches: 100%|██████████| 1/1 [00:00<00:00, 157.01it/s]\n",
      "Batches: 100%|██████████| 1/1 [00:00<00:00, 158.17it/s]\n",
      "Batches: 100%|██████████| 1/1 [00:00<00:00, 122.24it/s]\n",
      "Batches: 100%|██████████| 1/1 [00:00<00:00, 158.15it/s]\n",
      "Batches: 100%|██████████| 1/1 [00:00<00:00, 135.97it/s]\n",
      "Batches: 100%|██████████| 1/1 [00:00<00:00, 137.53it/s]\n",
      "Batches: 100%|██████████| 1/1 [00:00<00:00, 141.95it/s]\n",
      "Batches: 100%|██████████| 1/1 [00:00<00:00, 147.45it/s]\n",
      "Batches: 100%|██████████| 1/1 [00:00<00:00, 146.66it/s]\n",
      "Batches: 100%|██████████| 1/1 [00:00<00:00, 150.61it/s]\n",
      "Batches: 100%|██████████| 1/1 [00:00<00:00, 151.92it/s]\n",
      "Batches: 100%|██████████| 1/1 [00:00<00:00, 145.85it/s]\n",
      "Batches: 100%|██████████| 1/1 [00:00<00:00, 148.68it/s]\n",
      "Batches: 100%|██████████| 1/1 [00:00<00:00, 144.51it/s]\n",
      "Batches: 100%|██████████| 1/1 [00:00<00:00, 149.41it/s]\n",
      "Batches: 100%|██████████| 1/1 [00:00<00:00, 140.71it/s]\n",
      "Batches: 100%|██████████| 1/1 [00:00<00:00, 158.68it/s]\n",
      "Batches: 100%|██████████| 1/1 [00:00<00:00, 129.33it/s]\n",
      "Batches: 100%|██████████| 1/1 [00:00<00:00, 140.84it/s]\n",
      "Batches: 100%|██████████| 1/1 [00:00<00:00, 139.87it/s]\n",
      "Batches: 100%|██████████| 1/1 [00:00<00:00, 132.57it/s]\n",
      "Batches: 100%|██████████| 1/1 [00:00<00:00, 134.79it/s]\n",
      "Batches: 100%|██████████| 1/1 [00:00<00:00, 148.72it/s]\n",
      "Batches: 100%|██████████| 1/1 [00:00<00:00, 155.30it/s]\n",
      "Batches: 100%|██████████| 1/1 [00:00<00:00, 128.18it/s]\n",
      "Batches: 100%|██████████| 1/1 [00:00<00:00, 150.81it/s]\n",
      "Batches: 100%|██████████| 1/1 [00:00<00:00, 153.28it/s]\n",
      "Batches: 100%|██████████| 1/1 [00:00<00:00, 144.19it/s]\n",
      "Batches: 100%|██████████| 1/1 [00:00<00:00, 148.96it/s]\n",
      "Batches: 100%|██████████| 1/1 [00:00<00:00, 145.40it/s]\n",
      "Batches: 100%|██████████| 1/1 [00:00<00:00, 156.70it/s]\n",
      "Batches: 100%|██████████| 1/1 [00:00<00:00, 151.97it/s]\n",
      "Batches: 100%|██████████| 1/1 [00:00<00:00, 144.14it/s]\n",
      "Batches: 100%|██████████| 1/1 [00:00<00:00, 151.53it/s]\n",
      "Batches: 100%|██████████| 1/1 [00:00<00:00, 139.71it/s]\n",
      "Batches: 100%|██████████| 1/1 [00:00<00:00, 149.31it/s]\n",
      "Batches: 100%|██████████| 1/1 [00:00<00:00, 145.36it/s]\n",
      "Batches: 100%|██████████| 1/1 [00:00<00:00, 155.59it/s]\n",
      "Batches: 100%|██████████| 1/1 [00:00<00:00, 127.96it/s]\n",
      "Batches: 100%|██████████| 1/1 [00:00<00:00, 151.90it/s]\n",
      "Batches: 100%|██████████| 1/1 [00:00<00:00, 149.08it/s]\n",
      "Batches: 100%|██████████| 1/1 [00:00<00:00, 149.04it/s]\n",
      "Batches: 100%|██████████| 1/1 [00:00<00:00, 148.55it/s]\n",
      "Batches: 100%|██████████| 1/1 [00:00<00:00, 151.56it/s]\n",
      "Batches: 100%|██████████| 1/1 [00:00<00:00, 147.46it/s]\n",
      "Batches: 100%|██████████| 1/1 [00:00<00:00, 158.67it/s]\n",
      "Batches: 100%|██████████| 1/1 [00:00<00:00, 101.95it/s]\n",
      "Batches: 100%|██████████| 1/1 [00:00<00:00, 148.89it/s]\n",
      "Batches: 100%|██████████| 1/1 [00:00<00:00, 122.73it/s]\n",
      "Batches: 100%|██████████| 1/1 [00:00<00:00, 155.12it/s]\n",
      "Batches: 100%|██████████| 1/1 [00:00<00:00, 155.95it/s]\n",
      "Batches: 100%|██████████| 1/1 [00:00<00:00, 140.06it/s]\n",
      "Batches: 100%|██████████| 1/1 [00:00<00:00, 151.45it/s]\n",
      "Batches: 100%|██████████| 1/1 [00:00<00:00, 147.71it/s]\n",
      "Batches: 100%|██████████| 1/1 [00:00<00:00, 121.85it/s]\n",
      "Batches: 100%|██████████| 1/1 [00:00<00:00, 154.35it/s]\n",
      "Batches: 100%|██████████| 1/1 [00:00<00:00, 127.64it/s]\n",
      "Batches: 100%|██████████| 1/1 [00:00<00:00, 156.89it/s]\n",
      "Batches: 100%|██████████| 1/1 [00:00<00:00, 142.97it/s]\n",
      "Batches: 100%|██████████| 1/1 [00:00<00:00, 147.30it/s]\n",
      "Batches: 100%|██████████| 1/1 [00:00<00:00, 147.22it/s]\n",
      "Batches: 100%|██████████| 1/1 [00:00<00:00, 130.07it/s]\n",
      "Batches: 100%|██████████| 1/1 [00:00<00:00, 144.25it/s]\n",
      "Batches: 100%|██████████| 1/1 [00:00<00:00, 126.61it/s]\n",
      "Batches: 100%|██████████| 1/1 [00:00<00:00, 145.47it/s]\n",
      "Batches: 100%|██████████| 1/1 [00:00<00:00, 144.35it/s]\n",
      "Batches: 100%|██████████| 1/1 [00:00<00:00, 132.24it/s]\n",
      "Batches: 100%|██████████| 1/1 [00:00<00:00, 145.71it/s]\n",
      "Batches: 100%|██████████| 1/1 [00:00<00:00, 128.42it/s]\n",
      "Batches: 100%|██████████| 1/1 [00:00<00:00, 140.03it/s]\n",
      "Batches: 100%|██████████| 1/1 [00:00<00:00, 133.70it/s]\n",
      "Batches: 100%|██████████| 1/1 [00:00<00:00, 136.59it/s]\n",
      "Batches: 100%|██████████| 1/1 [00:00<00:00, 152.43it/s]\n",
      "Batches: 100%|██████████| 1/1 [00:00<00:00, 151.52it/s]\n",
      "Batches: 100%|██████████| 1/1 [00:00<00:00, 148.85it/s]\n",
      "Batches: 100%|██████████| 1/1 [00:00<00:00, 149.85it/s]\n",
      "Batches: 100%|██████████| 1/1 [00:00<00:00, 121.10it/s]\n",
      "Batches: 100%|██████████| 1/1 [00:00<00:00, 153.99it/s]\n",
      "Batches: 100%|██████████| 1/1 [00:00<00:00, 149.57it/s]\n",
      "Batches: 100%|██████████| 1/1 [00:00<00:00, 151.16it/s]\n",
      "Batches: 100%|██████████| 1/1 [00:00<00:00, 98.17it/s]\n",
      "Batches: 100%|██████████| 1/1 [00:00<00:00, 142.55it/s]\n",
      "Batches: 100%|██████████| 1/1 [00:00<00:00, 154.74it/s]\n",
      "Batches: 100%|██████████| 1/1 [00:00<00:00, 137.66it/s]\n",
      "Batches: 100%|██████████| 1/1 [00:00<00:00, 158.73it/s]\n",
      "Batches: 100%|██████████| 1/1 [00:00<00:00, 151.23it/s]\n",
      "Batches: 100%|██████████| 1/1 [00:00<00:00, 113.19it/s]\n",
      "Batches: 100%|██████████| 1/1 [00:00<00:00, 154.41it/s]\n",
      "Batches: 100%|██████████| 1/1 [00:00<00:00, 119.44it/s]\n",
      "Batches: 100%|██████████| 1/1 [00:00<00:00, 152.78it/s]\n",
      "Batches: 100%|██████████| 1/1 [00:00<00:00, 157.14it/s]\n",
      "Batches: 100%|██████████| 1/1 [00:00<00:00, 153.38it/s]\n",
      "Batches: 100%|██████████| 1/1 [00:00<00:00, 152.14it/s]\n",
      "Batches: 100%|██████████| 1/1 [00:00<00:00, 155.81it/s]\n",
      "Batches: 100%|██████████| 1/1 [00:00<00:00, 149.98it/s]\n",
      "Batches: 100%|██████████| 1/1 [00:00<00:00, 148.44it/s]\n",
      "Batches: 100%|██████████| 1/1 [00:00<00:00, 150.46it/s]\n",
      "Batches: 100%|██████████| 1/1 [00:00<00:00, 104.00it/s]\n",
      "Batches: 100%|██████████| 1/1 [00:00<00:00, 153.65it/s]\n",
      "Batches: 100%|██████████| 1/1 [00:00<00:00, 100.16it/s]\n",
      "Batches: 100%|██████████| 1/1 [00:00<00:00, 146.93it/s]\n",
      "Batches: 100%|██████████| 1/1 [00:00<00:00, 145.10it/s]\n",
      "Batches: 100%|██████████| 1/1 [00:00<00:00, 144.79it/s]\n",
      "Batches: 100%|██████████| 1/1 [00:00<00:00, 148.31it/s]\n",
      "Batches: 100%|██████████| 1/1 [00:00<00:00, 150.08it/s]\n",
      "Batches: 100%|██████████| 1/1 [00:00<00:00, 154.66it/s]\n",
      "Batches: 100%|██████████| 1/1 [00:00<00:00, 144.49it/s]\n",
      "Batches: 100%|██████████| 1/1 [00:00<00:00, 141.89it/s]\n",
      "Batches: 100%|██████████| 1/1 [00:00<00:00, 101.10it/s]\n",
      "Batches: 100%|██████████| 1/1 [00:00<00:00, 154.33it/s]\n",
      "Batches: 100%|██████████| 1/1 [00:00<00:00, 151.64it/s]\n",
      "Batches: 100%|██████████| 1/1 [00:00<00:00, 154.28it/s]\n",
      "Batches: 100%|██████████| 1/1 [00:00<00:00, 156.94it/s]\n",
      "Batches: 100%|██████████| 1/1 [00:00<00:00, 150.62it/s]\n",
      "Batches: 100%|██████████| 1/1 [00:00<00:00, 158.18it/s]\n",
      "Batches: 100%|██████████| 1/1 [00:00<00:00, 97.48it/s]\n",
      "Batches: 100%|██████████| 1/1 [00:00<00:00, 144.57it/s]\n",
      "Batches: 100%|██████████| 1/1 [00:00<00:00, 156.01it/s]\n",
      "Batches: 100%|██████████| 1/1 [00:00<00:00, 144.88it/s]\n",
      "Batches: 100%|██████████| 1/1 [00:00<00:00, 157.78it/s]\n",
      "Batches: 100%|██████████| 1/1 [00:00<00:00, 130.81it/s]\n",
      "Batches: 100%|██████████| 1/1 [00:00<00:00, 139.20it/s]\n",
      "Batches: 100%|██████████| 1/1 [00:00<00:00, 157.53it/s]\n",
      "Batches: 100%|██████████| 1/1 [00:00<00:00, 134.91it/s]\n",
      "Batches: 100%|██████████| 1/1 [00:00<00:00, 154.18it/s]\n",
      "Batches: 100%|██████████| 1/1 [00:00<00:00, 148.05it/s]\n",
      "Batches: 100%|██████████| 1/1 [00:00<00:00, 148.61it/s]\n",
      "Batches: 100%|██████████| 1/1 [00:00<00:00, 149.35it/s]\n",
      "Batches: 100%|██████████| 1/1 [00:00<00:00, 153.29it/s]\n",
      "Batches: 100%|██████████| 1/1 [00:00<00:00, 152.33it/s]\n",
      "Batches: 100%|██████████| 1/1 [00:00<00:00, 155.22it/s]\n",
      "Batches: 100%|██████████| 1/1 [00:00<00:00, 154.74it/s]\n",
      "Batches: 100%|██████████| 1/1 [00:00<00:00, 153.69it/s]\n",
      "Batches: 100%|██████████| 1/1 [00:00<00:00, 154.73it/s]\n",
      "Batches: 100%|██████████| 1/1 [00:00<00:00, 121.46it/s]\n",
      "Batches: 100%|██████████| 1/1 [00:00<00:00, 157.13it/s]\n",
      "Batches: 100%|██████████| 1/1 [00:00<00:00, 154.11it/s]\n",
      "Batches: 100%|██████████| 1/1 [00:00<00:00, 157.61it/s]\n",
      "Batches: 100%|██████████| 1/1 [00:00<00:00, 148.13it/s]\n",
      "Batches: 100%|██████████| 1/1 [00:00<00:00, 150.39it/s]\n",
      "Batches: 100%|██████████| 1/1 [00:00<00:00, 147.59it/s]\n",
      "Batches: 100%|██████████| 1/1 [00:00<00:00, 87.90it/s]\n",
      "Batches: 100%|██████████| 1/1 [00:00<00:00, 127.22it/s]\n",
      "Batches: 100%|██████████| 1/1 [00:00<00:00, 144.70it/s]\n",
      "Batches: 100%|██████████| 1/1 [00:00<00:00, 126.94it/s]\n",
      "Batches: 100%|██████████| 1/1 [00:00<00:00, 134.16it/s]\n",
      "Batches: 100%|██████████| 1/1 [00:00<00:00, 115.22it/s]\n",
      "Batches: 100%|██████████| 1/1 [00:00<00:00, 138.53it/s]\n",
      "Batches: 100%|██████████| 1/1 [00:00<00:00, 156.26it/s]\n",
      "Batches: 100%|██████████| 1/1 [00:00<00:00, 149.25it/s]\n",
      "Batches: 100%|██████████| 1/1 [00:00<00:00, 138.63it/s]\n",
      "Batches: 100%|██████████| 1/1 [00:00<00:00, 144.34it/s]\n",
      "Batches: 100%|██████████| 1/1 [00:00<00:00, 137.71it/s]\n",
      "Batches: 100%|██████████| 1/1 [00:00<00:00, 147.66it/s]\n",
      "Batches: 100%|██████████| 1/1 [00:00<00:00, 157.21it/s]\n",
      "Batches: 100%|██████████| 1/1 [00:00<00:00, 134.51it/s]\n",
      "Batches: 100%|██████████| 1/1 [00:00<00:00, 139.45it/s]\n",
      "Batches: 100%|██████████| 1/1 [00:00<00:00, 154.89it/s]\n",
      "Batches: 100%|██████████| 1/1 [00:00<00:00, 150.73it/s]\n",
      "Batches: 100%|██████████| 1/1 [00:00<00:00, 147.42it/s]\n",
      "Batches: 100%|██████████| 1/1 [00:00<00:00, 139.58it/s]\n",
      "Batches: 100%|██████████| 1/1 [00:00<00:00, 111.56it/s]\n",
      "Batches: 100%|██████████| 1/1 [00:00<00:00, 148.20it/s]\n",
      "Batches: 100%|██████████| 1/1 [00:00<00:00, 144.73it/s]\n",
      "Batches: 100%|██████████| 1/1 [00:00<00:00, 149.17it/s]\n",
      "Batches: 100%|██████████| 1/1 [00:00<00:00, 152.60it/s]\n",
      "Batches: 100%|██████████| 1/1 [00:00<00:00, 117.30it/s]\n",
      "Batches: 100%|██████████| 1/1 [00:00<00:00, 149.78it/s]\n",
      "Batches: 100%|██████████| 1/1 [00:00<00:00, 137.19it/s]\n",
      "Batches: 100%|██████████| 1/1 [00:00<00:00, 100.62it/s]\n",
      "Batches: 100%|██████████| 1/1 [00:00<00:00, 147.62it/s]\n",
      "Batches: 100%|██████████| 1/1 [00:00<00:00, 135.24it/s]\n",
      "Batches: 100%|██████████| 1/1 [00:00<00:00, 139.16it/s]\n",
      "Batches: 100%|██████████| 1/1 [00:00<00:00, 150.18it/s]\n",
      "Batches: 100%|██████████| 1/1 [00:00<00:00, 152.91it/s]\n",
      "Batches: 100%|██████████| 1/1 [00:00<00:00, 146.57it/s]\n",
      "Batches: 100%|██████████| 1/1 [00:00<00:00, 147.53it/s]\n",
      "Batches: 100%|██████████| 1/1 [00:00<00:00, 158.17it/s]\n",
      "Batches: 100%|██████████| 1/1 [00:00<00:00, 103.50it/s]\n",
      "Batches: 100%|██████████| 1/1 [00:00<00:00, 138.70it/s]\n",
      "Batches: 100%|██████████| 1/1 [00:00<00:00, 136.13it/s]\n",
      "Batches: 100%|██████████| 1/1 [00:00<00:00, 139.86it/s]\n",
      "Batches: 100%|██████████| 1/1 [00:00<00:00, 144.34it/s]\n",
      "Batches: 100%|██████████| 1/1 [00:00<00:00, 146.37it/s]\n",
      "Batches: 100%|██████████| 1/1 [00:00<00:00, 118.10it/s]\n",
      "Batches: 100%|██████████| 1/1 [00:00<00:00, 158.95it/s]\n",
      "Batches: 100%|██████████| 1/1 [00:00<00:00, 151.39it/s]\n",
      "Batches: 100%|██████████| 1/1 [00:00<00:00, 133.38it/s]\n",
      "Batches: 100%|██████████| 1/1 [00:00<00:00, 128.42it/s]\n",
      "Batches: 100%|██████████| 1/1 [00:00<00:00, 155.70it/s]\n",
      "Batches: 100%|██████████| 1/1 [00:00<00:00, 151.64it/s]\n",
      "Batches: 100%|██████████| 1/1 [00:00<00:00, 99.30it/s]\n",
      "Batches: 100%|██████████| 1/1 [00:00<00:00, 151.05it/s]\n",
      "Batches: 100%|██████████| 1/1 [00:00<00:00, 121.99it/s]\n",
      "Batches: 100%|██████████| 1/1 [00:00<00:00, 146.39it/s]\n",
      "Batches: 100%|██████████| 1/1 [00:00<00:00, 90.08it/s]\n",
      "Batches: 100%|██████████| 1/1 [00:00<00:00, 136.21it/s]\n",
      "Batches: 100%|██████████| 1/1 [00:00<00:00, 144.84it/s]\n"
     ]
    },
    {
     "data": {
      "text/html": [
       "<div>\n",
       "<style scoped>\n",
       "    .dataframe tbody tr th:only-of-type {\n",
       "        vertical-align: middle;\n",
       "    }\n",
       "\n",
       "    .dataframe tbody tr th {\n",
       "        vertical-align: top;\n",
       "    }\n",
       "\n",
       "    .dataframe thead th {\n",
       "        text-align: right;\n",
       "    }\n",
       "</style>\n",
       "<table border=\"1\" class=\"dataframe\">\n",
       "  <thead>\n",
       "    <tr style=\"text-align: right;\">\n",
       "      <th></th>\n",
       "      <th>retrievers</th>\n",
       "      <th>hit_rate</th>\n",
       "      <th>mrr</th>\n",
       "      <th>precision</th>\n",
       "      <th>recall</th>\n",
       "      <th>ap</th>\n",
       "      <th>ndcg</th>\n",
       "    </tr>\n",
       "  </thead>\n",
       "  <tbody>\n",
       "    <tr>\n",
       "      <th>0</th>\n",
       "      <td>baseline top-2 eval</td>\n",
       "      <td>0.563333</td>\n",
       "      <td>0.503333</td>\n",
       "      <td>0.281667</td>\n",
       "      <td>0.563333</td>\n",
       "      <td>0.503333</td>\n",
       "      <td>0.318251</td>\n",
       "    </tr>\n",
       "  </tbody>\n",
       "</table>\n",
       "</div>"
      ],
      "text/plain": [
       "            retrievers  hit_rate       mrr  precision    recall        ap  \\\n",
       "0  baseline top-2 eval  0.563333  0.503333   0.281667  0.563333  0.503333   \n",
       "\n",
       "       ndcg  \n",
       "0  0.318251  "
      ]
     },
     "execution_count": 22,
     "metadata": {},
     "output_type": "execute_result"
    }
   ],
   "source": [
    "ft_mini_lm_results = await evaluate_embed_model(qa_dataset, embed_model=loaded_ft_model, retriever_name=\"ft miniLM top-2 eval\", top_k=2)\n",
    "ft_mini_lm_results"
   ]
  }
 ],
 "metadata": {
  "kernelspec": {
   "display_name": "rust-rag-l9LsLaFj-py3.11",
   "language": "python",
   "name": "python3"
  },
  "language_info": {
   "codemirror_mode": {
    "name": "ipython",
    "version": 3
   },
   "file_extension": ".py",
   "mimetype": "text/x-python",
   "name": "python",
   "nbconvert_exporter": "python",
   "pygments_lexer": "ipython3",
   "version": "3.11.10"
  }
 },
 "nbformat": 4,
 "nbformat_minor": 2
}
